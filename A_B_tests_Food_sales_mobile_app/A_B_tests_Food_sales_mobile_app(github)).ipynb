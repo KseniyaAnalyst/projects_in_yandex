{
 "cells": [
  {
   "cell_type": "markdown",
   "metadata": {},
   "source": [
    "# Описание данных"
   ]
  },
  {
   "cell_type": "markdown",
   "metadata": {},
   "source": [
    "Каждая запись в логе — это действие пользователя, или событие\n",
    " - EventName — название события;\n",
    " - DeviceIDHash — уникальный идентификатор пользователя;\n",
    " - EventTimestamp — время события;\n",
    " - ExpId — номер эксперимента: 246 и 247 — контрольные группы, а 248 — экспериментальная."
   ]
  },
  {
   "cell_type": "markdown",
   "metadata": {},
   "source": [
    "# Обзор и предобработка данных"
   ]
  },
  {
   "cell_type": "code",
   "execution_count": 2,
   "metadata": {},
   "outputs": [],
   "source": [
    "import pandas as pd\n",
    "import numpy as np\n",
    "import matplotlib.pyplot as plt\n",
    "%matplotlib inline\n",
    "import seaborn as sns\n",
    "import datetime as dt\n",
    "import os\n",
    "import plotly\n",
    "import plotly.graph_objs as go\n",
    "from scipy import stats as st\n",
    "import math as mth"
   ]
  },
  {
   "cell_type": "code",
   "execution_count": 3,
   "metadata": {},
   "outputs": [],
   "source": [
    "try:\n",
    "    logs = pd.read_csv('/datasets/data.csv', sep='\\t')\n",
    "except:\n",
    "    logs = pd.read_csv('https://code.s3.yandex.net/datasets/data.csv', sep='\\t')"
   ]
  },
  {
   "cell_type": "code",
   "execution_count": 3,
   "metadata": {},
   "outputs": [],
   "source": [
    "# функция для обзора данных\n",
    "\n",
    "def observe_data(data):\n",
    "    print(\"\\033[1m\\033[34m {}\".format('Первые 10 строк датасета:'))\n",
    "    display(data.head(10))\n",
    "    print(\"\\033[1m\\033[34m {}\".format('Числовое описание данных:'))\n",
    "    display(data.describe())\n",
    "    print(\"\\033[1m\\033[34m {}\".format('Общая информация о датасете:'))\n",
    "    print(\"\\033[0m {}\".format(''))\n",
    "    data.info()\n",
    "    print()\n",
    "    print(\"\\033[1m\\033[34m {}\".format('Пропуски в данных:'))\n",
    "    display(data.isna().sum())\n",
    "    print(\"\\033[1m\\033[34m {}\".format('Дубликаты:'))\n",
    "    display(data.duplicated().sum())"
   ]
  },
  {
   "cell_type": "code",
   "execution_count": 4,
   "metadata": {},
   "outputs": [
    {
     "name": "stdout",
     "output_type": "stream",
     "text": [
      "\u001b[1m\u001b[34m Первые 10 строк датасета:\n"
     ]
    },
    {
     "data": {
      "text/html": [
       "<div>\n",
       "<style scoped>\n",
       "    .dataframe tbody tr th:only-of-type {\n",
       "        vertical-align: middle;\n",
       "    }\n",
       "\n",
       "    .dataframe tbody tr th {\n",
       "        vertical-align: top;\n",
       "    }\n",
       "\n",
       "    .dataframe thead th {\n",
       "        text-align: right;\n",
       "    }\n",
       "</style>\n",
       "<table border=\"1\" class=\"dataframe\">\n",
       "  <thead>\n",
       "    <tr style=\"text-align: right;\">\n",
       "      <th></th>\n",
       "      <th>EventName</th>\n",
       "      <th>DeviceIDHash</th>\n",
       "      <th>EventTimestamp</th>\n",
       "      <th>ExpId</th>\n",
       "    </tr>\n",
       "  </thead>\n",
       "  <tbody>\n",
       "    <tr>\n",
       "      <th>0</th>\n",
       "      <td>MainScreenAppear</td>\n",
       "      <td>4575588528974610257</td>\n",
       "      <td>1564029816</td>\n",
       "      <td>246</td>\n",
       "    </tr>\n",
       "    <tr>\n",
       "      <th>1</th>\n",
       "      <td>MainScreenAppear</td>\n",
       "      <td>7416695313311560658</td>\n",
       "      <td>1564053102</td>\n",
       "      <td>246</td>\n",
       "    </tr>\n",
       "    <tr>\n",
       "      <th>2</th>\n",
       "      <td>PaymentScreenSuccessful</td>\n",
       "      <td>3518123091307005509</td>\n",
       "      <td>1564054127</td>\n",
       "      <td>248</td>\n",
       "    </tr>\n",
       "    <tr>\n",
       "      <th>3</th>\n",
       "      <td>CartScreenAppear</td>\n",
       "      <td>3518123091307005509</td>\n",
       "      <td>1564054127</td>\n",
       "      <td>248</td>\n",
       "    </tr>\n",
       "    <tr>\n",
       "      <th>4</th>\n",
       "      <td>PaymentScreenSuccessful</td>\n",
       "      <td>6217807653094995999</td>\n",
       "      <td>1564055322</td>\n",
       "      <td>248</td>\n",
       "    </tr>\n",
       "    <tr>\n",
       "      <th>5</th>\n",
       "      <td>CartScreenAppear</td>\n",
       "      <td>6217807653094995999</td>\n",
       "      <td>1564055323</td>\n",
       "      <td>248</td>\n",
       "    </tr>\n",
       "    <tr>\n",
       "      <th>6</th>\n",
       "      <td>OffersScreenAppear</td>\n",
       "      <td>8351860793733343758</td>\n",
       "      <td>1564066242</td>\n",
       "      <td>246</td>\n",
       "    </tr>\n",
       "    <tr>\n",
       "      <th>7</th>\n",
       "      <td>MainScreenAppear</td>\n",
       "      <td>5682100281902512875</td>\n",
       "      <td>1564085677</td>\n",
       "      <td>246</td>\n",
       "    </tr>\n",
       "    <tr>\n",
       "      <th>8</th>\n",
       "      <td>MainScreenAppear</td>\n",
       "      <td>1850981295691852772</td>\n",
       "      <td>1564086702</td>\n",
       "      <td>247</td>\n",
       "    </tr>\n",
       "    <tr>\n",
       "      <th>9</th>\n",
       "      <td>MainScreenAppear</td>\n",
       "      <td>5407636962369102641</td>\n",
       "      <td>1564112112</td>\n",
       "      <td>246</td>\n",
       "    </tr>\n",
       "  </tbody>\n",
       "</table>\n",
       "</div>"
      ],
      "text/plain": [
       "                 EventName         DeviceIDHash  EventTimestamp  ExpId\n",
       "0         MainScreenAppear  4575588528974610257      1564029816    246\n",
       "1         MainScreenAppear  7416695313311560658      1564053102    246\n",
       "2  PaymentScreenSuccessful  3518123091307005509      1564054127    248\n",
       "3         CartScreenAppear  3518123091307005509      1564054127    248\n",
       "4  PaymentScreenSuccessful  6217807653094995999      1564055322    248\n",
       "5         CartScreenAppear  6217807653094995999      1564055323    248\n",
       "6       OffersScreenAppear  8351860793733343758      1564066242    246\n",
       "7         MainScreenAppear  5682100281902512875      1564085677    246\n",
       "8         MainScreenAppear  1850981295691852772      1564086702    247\n",
       "9         MainScreenAppear  5407636962369102641      1564112112    246"
      ]
     },
     "metadata": {},
     "output_type": "display_data"
    },
    {
     "name": "stdout",
     "output_type": "stream",
     "text": [
      "\u001b[1m\u001b[34m Числовое описание данных:\n"
     ]
    },
    {
     "data": {
      "text/html": [
       "<div>\n",
       "<style scoped>\n",
       "    .dataframe tbody tr th:only-of-type {\n",
       "        vertical-align: middle;\n",
       "    }\n",
       "\n",
       "    .dataframe tbody tr th {\n",
       "        vertical-align: top;\n",
       "    }\n",
       "\n",
       "    .dataframe thead th {\n",
       "        text-align: right;\n",
       "    }\n",
       "</style>\n",
       "<table border=\"1\" class=\"dataframe\">\n",
       "  <thead>\n",
       "    <tr style=\"text-align: right;\">\n",
       "      <th></th>\n",
       "      <th>DeviceIDHash</th>\n",
       "      <th>EventTimestamp</th>\n",
       "      <th>ExpId</th>\n",
       "    </tr>\n",
       "  </thead>\n",
       "  <tbody>\n",
       "    <tr>\n",
       "      <th>count</th>\n",
       "      <td>2.441260e+05</td>\n",
       "      <td>2.441260e+05</td>\n",
       "      <td>244126.000000</td>\n",
       "    </tr>\n",
       "    <tr>\n",
       "      <th>mean</th>\n",
       "      <td>4.627568e+18</td>\n",
       "      <td>1.564914e+09</td>\n",
       "      <td>247.022296</td>\n",
       "    </tr>\n",
       "    <tr>\n",
       "      <th>std</th>\n",
       "      <td>2.642425e+18</td>\n",
       "      <td>1.771343e+05</td>\n",
       "      <td>0.824434</td>\n",
       "    </tr>\n",
       "    <tr>\n",
       "      <th>min</th>\n",
       "      <td>6.888747e+15</td>\n",
       "      <td>1.564030e+09</td>\n",
       "      <td>246.000000</td>\n",
       "    </tr>\n",
       "    <tr>\n",
       "      <th>25%</th>\n",
       "      <td>2.372212e+18</td>\n",
       "      <td>1.564757e+09</td>\n",
       "      <td>246.000000</td>\n",
       "    </tr>\n",
       "    <tr>\n",
       "      <th>50%</th>\n",
       "      <td>4.623192e+18</td>\n",
       "      <td>1.564919e+09</td>\n",
       "      <td>247.000000</td>\n",
       "    </tr>\n",
       "    <tr>\n",
       "      <th>75%</th>\n",
       "      <td>6.932517e+18</td>\n",
       "      <td>1.565075e+09</td>\n",
       "      <td>248.000000</td>\n",
       "    </tr>\n",
       "    <tr>\n",
       "      <th>max</th>\n",
       "      <td>9.222603e+18</td>\n",
       "      <td>1.565213e+09</td>\n",
       "      <td>248.000000</td>\n",
       "    </tr>\n",
       "  </tbody>\n",
       "</table>\n",
       "</div>"
      ],
      "text/plain": [
       "       DeviceIDHash  EventTimestamp          ExpId\n",
       "count  2.441260e+05    2.441260e+05  244126.000000\n",
       "mean   4.627568e+18    1.564914e+09     247.022296\n",
       "std    2.642425e+18    1.771343e+05       0.824434\n",
       "min    6.888747e+15    1.564030e+09     246.000000\n",
       "25%    2.372212e+18    1.564757e+09     246.000000\n",
       "50%    4.623192e+18    1.564919e+09     247.000000\n",
       "75%    6.932517e+18    1.565075e+09     248.000000\n",
       "max    9.222603e+18    1.565213e+09     248.000000"
      ]
     },
     "metadata": {},
     "output_type": "display_data"
    },
    {
     "name": "stdout",
     "output_type": "stream",
     "text": [
      "\u001b[1m\u001b[34m Общая информация о датасете:\n",
      "\u001b[0m \n",
      "<class 'pandas.core.frame.DataFrame'>\n",
      "RangeIndex: 244126 entries, 0 to 244125\n",
      "Data columns (total 4 columns):\n",
      " #   Column          Non-Null Count   Dtype \n",
      "---  ------          --------------   ----- \n",
      " 0   EventName       244126 non-null  object\n",
      " 1   DeviceIDHash    244126 non-null  int64 \n",
      " 2   EventTimestamp  244126 non-null  int64 \n",
      " 3   ExpId           244126 non-null  int64 \n",
      "dtypes: int64(3), object(1)\n",
      "memory usage: 7.5+ MB\n",
      "\n",
      "\u001b[1m\u001b[34m Пропуски в данных:\n"
     ]
    },
    {
     "data": {
      "text/plain": [
       "EventName         0\n",
       "DeviceIDHash      0\n",
       "EventTimestamp    0\n",
       "ExpId             0\n",
       "dtype: int64"
      ]
     },
     "metadata": {},
     "output_type": "display_data"
    },
    {
     "name": "stdout",
     "output_type": "stream",
     "text": [
      "\u001b[1m\u001b[34m Дубликаты:\n"
     ]
    },
    {
     "data": {
      "text/plain": [
       "413"
      ]
     },
     "metadata": {},
     "output_type": "display_data"
    }
   ],
   "source": [
    "observe_data(logs)"
   ]
  },
  {
   "cell_type": "code",
   "execution_count": 5,
   "metadata": {},
   "outputs": [
    {
     "data": {
      "text/plain": [
       "0"
      ]
     },
     "execution_count": 5,
     "metadata": {},
     "output_type": "execute_result"
    }
   ],
   "source": [
    "# удаляем дубликаты\n",
    "\n",
    "logs = logs.drop_duplicates().reset_index(drop=True)\n",
    "logs.duplicated().sum()"
   ]
  },
  {
   "cell_type": "code",
   "execution_count": 6,
   "metadata": {
    "scrolled": true
   },
   "outputs": [
    {
     "data": {
      "text/html": [
       "<div>\n",
       "<style scoped>\n",
       "    .dataframe tbody tr th:only-of-type {\n",
       "        vertical-align: middle;\n",
       "    }\n",
       "\n",
       "    .dataframe tbody tr th {\n",
       "        vertical-align: top;\n",
       "    }\n",
       "\n",
       "    .dataframe thead th {\n",
       "        text-align: right;\n",
       "    }\n",
       "</style>\n",
       "<table border=\"1\" class=\"dataframe\">\n",
       "  <thead>\n",
       "    <tr style=\"text-align: right;\">\n",
       "      <th></th>\n",
       "      <th>event_name</th>\n",
       "      <th>user_id</th>\n",
       "      <th>event_ts</th>\n",
       "      <th>exp_id</th>\n",
       "      <th>date</th>\n",
       "    </tr>\n",
       "  </thead>\n",
       "  <tbody>\n",
       "    <tr>\n",
       "      <th>0</th>\n",
       "      <td>MainScreenAppear</td>\n",
       "      <td>4575588528974610257</td>\n",
       "      <td>2019-07-25 04:43:36</td>\n",
       "      <td>246</td>\n",
       "      <td>2019-07-25</td>\n",
       "    </tr>\n",
       "    <tr>\n",
       "      <th>1</th>\n",
       "      <td>MainScreenAppear</td>\n",
       "      <td>7416695313311560658</td>\n",
       "      <td>2019-07-25 11:11:42</td>\n",
       "      <td>246</td>\n",
       "      <td>2019-07-25</td>\n",
       "    </tr>\n",
       "    <tr>\n",
       "      <th>2</th>\n",
       "      <td>PaymentScreenSuccessful</td>\n",
       "      <td>3518123091307005509</td>\n",
       "      <td>2019-07-25 11:28:47</td>\n",
       "      <td>248</td>\n",
       "      <td>2019-07-25</td>\n",
       "    </tr>\n",
       "    <tr>\n",
       "      <th>3</th>\n",
       "      <td>CartScreenAppear</td>\n",
       "      <td>3518123091307005509</td>\n",
       "      <td>2019-07-25 11:28:47</td>\n",
       "      <td>248</td>\n",
       "      <td>2019-07-25</td>\n",
       "    </tr>\n",
       "    <tr>\n",
       "      <th>4</th>\n",
       "      <td>PaymentScreenSuccessful</td>\n",
       "      <td>6217807653094995999</td>\n",
       "      <td>2019-07-25 11:48:42</td>\n",
       "      <td>248</td>\n",
       "      <td>2019-07-25</td>\n",
       "    </tr>\n",
       "  </tbody>\n",
       "</table>\n",
       "</div>"
      ],
      "text/plain": [
       "                event_name              user_id            event_ts  exp_id  \\\n",
       "0         MainScreenAppear  4575588528974610257 2019-07-25 04:43:36     246   \n",
       "1         MainScreenAppear  7416695313311560658 2019-07-25 11:11:42     246   \n",
       "2  PaymentScreenSuccessful  3518123091307005509 2019-07-25 11:28:47     248   \n",
       "3         CartScreenAppear  3518123091307005509 2019-07-25 11:28:47     248   \n",
       "4  PaymentScreenSuccessful  6217807653094995999 2019-07-25 11:48:42     248   \n",
       "\n",
       "        date  \n",
       "0 2019-07-25  \n",
       "1 2019-07-25  \n",
       "2 2019-07-25  \n",
       "3 2019-07-25  \n",
       "4 2019-07-25  "
      ]
     },
     "execution_count": 6,
     "metadata": {},
     "output_type": "execute_result"
    }
   ],
   "source": [
    "# меняем названия столбцов на более удобные\n",
    "logs.columns = ['event_name', 'user_id', 'event_ts', 'exp_id']\n",
    "\n",
    "# добавляем столбец с датой\n",
    "logs['event_ts'] = pd.to_datetime(logs['event_ts'], unit='s') \n",
    "logs['date'] = logs['event_ts'].astype('datetime64[D]')\n",
    "logs['date'] = logs['date'].dt.floor('1D')\n",
    "\n",
    "logs.head()"
   ]
  },
  {
   "cell_type": "markdown",
   "metadata": {},
   "source": [
    "**Вывод:**\n",
    " - Пропусков в данных нет\n",
    " - Удалили 413 дубликатов\n",
    " - Поменяли названия столбцов на более удобные в snake_case\n",
    " - Изменили тип столбца с датой на datetime\n",
    " - Добавили новый столбец только с датой date"
   ]
  },
  {
   "cell_type": "markdown",
   "metadata": {},
   "source": [
    "# Исследовательский анализ данных"
   ]
  },
  {
   "cell_type": "markdown",
   "metadata": {},
   "source": [
    "## Сколько всего событий в логе?"
   ]
  },
  {
   "cell_type": "code",
   "execution_count": 7,
   "metadata": {},
   "outputs": [
    {
     "data": {
      "text/plain": [
       "243713"
      ]
     },
     "execution_count": 7,
     "metadata": {},
     "output_type": "execute_result"
    }
   ],
   "source": [
    "logs['event_name'].count()"
   ]
  },
  {
   "cell_type": "code",
   "execution_count": 8,
   "metadata": {},
   "outputs": [
    {
     "name": "stdout",
     "output_type": "stream",
     "text": [
      "MainScreenAppear           119101\n",
      "OffersScreenAppear          46808\n",
      "CartScreenAppear            42668\n",
      "PaymentScreenSuccessful     34118\n",
      "Tutorial                     1018\n",
      "Name: event_name, dtype: int64\n",
      "\n",
      "MainScreenAppear = 48.87 %\n"
     ]
    }
   ],
   "source": [
    "print(logs['event_name'].value_counts())\n",
    "print()\n",
    "print(\n",
    "    'MainScreenAppear =',\n",
    "    round(logs[logs['event_name'] == 'MainScreenAppear']['event_name'].count()/logs['event_name'].count()*100, 2),\n",
    "    '%')"
   ]
  },
  {
   "cell_type": "markdown",
   "metadata": {},
   "source": [
    " - Всего событий в логе - 243713\n",
    " - Уникальных событий - 5:\n",
    "   - (увидел) главный экран\n",
    "   - (увидел) предложения\n",
    "   - (увидел) корзина\n",
    "   - успешная оплата (успешно оплатил)\n",
    "   - (увидел) руководство\n",
    " - Самое большое количество событий приходится на \"главный экран\" - 119101, это 48.8% от всех событий"
   ]
  },
  {
   "cell_type": "markdown",
   "metadata": {},
   "source": [
    "## Сколько всего пользователей в логе?"
   ]
  },
  {
   "cell_type": "code",
   "execution_count": 9,
   "metadata": {},
   "outputs": [
    {
     "data": {
      "text/plain": [
       "7551"
      ]
     },
     "execution_count": 9,
     "metadata": {},
     "output_type": "execute_result"
    }
   ],
   "source": [
    "logs['user_id'].nunique()"
   ]
  },
  {
   "cell_type": "markdown",
   "metadata": {},
   "source": [
    " - Число уникальных пользователей - 7551"
   ]
  },
  {
   "cell_type": "markdown",
   "metadata": {},
   "source": [
    "## Сколько в среднем событий приходится на пользователя?"
   ]
  },
  {
   "cell_type": "code",
   "execution_count": 10,
   "metadata": {},
   "outputs": [
    {
     "data": {
      "text/plain": [
       "32.28"
      ]
     },
     "execution_count": 10,
     "metadata": {},
     "output_type": "execute_result"
    }
   ],
   "source": [
    "round(logs['event_name'].count()/logs['user_id'].nunique(), 2)"
   ]
  },
  {
   "cell_type": "markdown",
   "metadata": {},
   "source": [
    " - В среднем на одного пользователя приходится 32 события"
   ]
  },
  {
   "cell_type": "markdown",
   "metadata": {},
   "source": [
    "## Распределение данных по времени"
   ]
  },
  {
   "cell_type": "code",
   "execution_count": 11,
   "metadata": {},
   "outputs": [
    {
     "name": "stdout",
     "output_type": "stream",
     "text": [
      "2019-07-25 04:43:36\n",
      "2019-08-07 21:15:17\n"
     ]
    },
    {
     "data": {
      "text/plain": [
       "Timedelta('13 days 16:31:41')"
      ]
     },
     "execution_count": 11,
     "metadata": {},
     "output_type": "execute_result"
    }
   ],
   "source": [
    "# минимальная и максимальная дата в логах\n",
    "\n",
    "print(logs['event_ts'].min())\n",
    "print(logs['event_ts'].max())\n",
    "logs['event_ts'].max() - logs['event_ts'].min()"
   ]
  },
  {
   "cell_type": "markdown",
   "metadata": {},
   "source": [
    " - Мы располагаем данными с 25 июля 2019 года по 7 августа 2019 года\n",
    " - Получается 13 дней и 16 часов (почти две недели)"
   ]
  },
  {
   "cell_type": "code",
   "execution_count": 12,
   "metadata": {},
   "outputs": [
    {
     "data": {
      "text/html": [
       "<div>\n",
       "<style scoped>\n",
       "    .dataframe tbody tr th:only-of-type {\n",
       "        vertical-align: middle;\n",
       "    }\n",
       "\n",
       "    .dataframe tbody tr th {\n",
       "        vertical-align: top;\n",
       "    }\n",
       "\n",
       "    .dataframe thead th {\n",
       "        text-align: right;\n",
       "    }\n",
       "</style>\n",
       "<table border=\"1\" class=\"dataframe\">\n",
       "  <thead>\n",
       "    <tr style=\"text-align: right;\">\n",
       "      <th>exp_id</th>\n",
       "      <th>246</th>\n",
       "      <th>247</th>\n",
       "      <th>248</th>\n",
       "    </tr>\n",
       "    <tr>\n",
       "      <th>date</th>\n",
       "      <th></th>\n",
       "      <th></th>\n",
       "      <th></th>\n",
       "    </tr>\n",
       "  </thead>\n",
       "  <tbody>\n",
       "    <tr>\n",
       "      <th>2019-07-25</th>\n",
       "      <td>4</td>\n",
       "      <td>1</td>\n",
       "      <td>4</td>\n",
       "    </tr>\n",
       "    <tr>\n",
       "      <th>2019-07-26</th>\n",
       "      <td>14</td>\n",
       "      <td>8</td>\n",
       "      <td>9</td>\n",
       "    </tr>\n",
       "    <tr>\n",
       "      <th>2019-07-27</th>\n",
       "      <td>24</td>\n",
       "      <td>23</td>\n",
       "      <td>8</td>\n",
       "    </tr>\n",
       "    <tr>\n",
       "      <th>2019-07-28</th>\n",
       "      <td>33</td>\n",
       "      <td>36</td>\n",
       "      <td>36</td>\n",
       "    </tr>\n",
       "    <tr>\n",
       "      <th>2019-07-29</th>\n",
       "      <td>55</td>\n",
       "      <td>58</td>\n",
       "      <td>71</td>\n",
       "    </tr>\n",
       "    <tr>\n",
       "      <th>2019-07-30</th>\n",
       "      <td>129</td>\n",
       "      <td>138</td>\n",
       "      <td>145</td>\n",
       "    </tr>\n",
       "    <tr>\n",
       "      <th>2019-07-31</th>\n",
       "      <td>620</td>\n",
       "      <td>664</td>\n",
       "      <td>746</td>\n",
       "    </tr>\n",
       "    <tr>\n",
       "      <th>2019-08-01</th>\n",
       "      <td>11561</td>\n",
       "      <td>12306</td>\n",
       "      <td>12274</td>\n",
       "    </tr>\n",
       "    <tr>\n",
       "      <th>2019-08-02</th>\n",
       "      <td>10946</td>\n",
       "      <td>10990</td>\n",
       "      <td>13618</td>\n",
       "    </tr>\n",
       "    <tr>\n",
       "      <th>2019-08-03</th>\n",
       "      <td>10575</td>\n",
       "      <td>11024</td>\n",
       "      <td>11683</td>\n",
       "    </tr>\n",
       "    <tr>\n",
       "      <th>2019-08-04</th>\n",
       "      <td>11514</td>\n",
       "      <td>9942</td>\n",
       "      <td>11512</td>\n",
       "    </tr>\n",
       "    <tr>\n",
       "      <th>2019-08-05</th>\n",
       "      <td>12368</td>\n",
       "      <td>10949</td>\n",
       "      <td>12741</td>\n",
       "    </tr>\n",
       "    <tr>\n",
       "      <th>2019-08-06</th>\n",
       "      <td>11726</td>\n",
       "      <td>11720</td>\n",
       "      <td>12342</td>\n",
       "    </tr>\n",
       "    <tr>\n",
       "      <th>2019-08-07</th>\n",
       "      <td>10612</td>\n",
       "      <td>10091</td>\n",
       "      <td>10393</td>\n",
       "    </tr>\n",
       "  </tbody>\n",
       "</table>\n",
       "</div>"
      ],
      "text/plain": [
       "exp_id        246    247    248\n",
       "date                           \n",
       "2019-07-25      4      1      4\n",
       "2019-07-26     14      8      9\n",
       "2019-07-27     24     23      8\n",
       "2019-07-28     33     36     36\n",
       "2019-07-29     55     58     71\n",
       "2019-07-30    129    138    145\n",
       "2019-07-31    620    664    746\n",
       "2019-08-01  11561  12306  12274\n",
       "2019-08-02  10946  10990  13618\n",
       "2019-08-03  10575  11024  11683\n",
       "2019-08-04  11514   9942  11512\n",
       "2019-08-05  12368  10949  12741\n",
       "2019-08-06  11726  11720  12342\n",
       "2019-08-07  10612  10091  10393"
      ]
     },
     "execution_count": 12,
     "metadata": {},
     "output_type": "execute_result"
    }
   ],
   "source": [
    "# считаем, сколько событий было каждый день в разрезе по группам\n",
    "\n",
    "event_d = logs.pivot_table(index='date', values='event_name', columns='exp_id', aggfunc='count')\n",
    "event_d"
   ]
  },
  {
   "cell_type": "code",
   "execution_count": 13,
   "metadata": {},
   "outputs": [
    {
     "data": {
      "image/png": "[encoded data removed]",
      "text/plain": [
       "<Figure size 864x432 with 1 Axes>"
      ]
     },
     "metadata": {
      "needs_background": "light"
     },
     "output_type": "display_data"
    }
   ],
   "source": [
    "# строим график распределения событий по времени в разрезе групп\n",
    "\n",
    "fix, ax = plt.subplots(figsize=(12,6))\n",
    "fig = event_d.plot(kind='bar', grid=True, edgecolor='black', color={'#9D0019', '#009E8E', '#852178'}, ax=ax)\n",
    "ax.set_xticklabels(labels=pd.Series(event_d.index).dt.strftime(\"%Y-%m-%d\").sort_values())\n",
    "plt.title('Распределение событий по времени')\n",
    "plt.xlabel('Значение')\n",
    "plt.xlabel('Дата')\n",
    "plt.ylabel('Количество событий')\n",
    "plt.xticks(rotation=30)\n",
    "plt.grid(True)"
   ]
  },
  {
   "cell_type": "markdown",
   "metadata": {},
   "source": [
    " - На графике видно, что на рубеже первой и второй недели количество событий резко выросло\n",
    " - Либо до 1 августа не было такой активности, либо данные за этот период неполные\n",
    " - Отфильтруем полные данные и отбросим старые"
   ]
  },
  {
   "cell_type": "code",
   "execution_count": 14,
   "metadata": {},
   "outputs": [
    {
     "data": {
      "text/html": [
       "<div>\n",
       "<style scoped>\n",
       "    .dataframe tbody tr th:only-of-type {\n",
       "        vertical-align: middle;\n",
       "    }\n",
       "\n",
       "    .dataframe tbody tr th {\n",
       "        vertical-align: top;\n",
       "    }\n",
       "\n",
       "    .dataframe thead th {\n",
       "        text-align: right;\n",
       "    }\n",
       "</style>\n",
       "<table border=\"1\" class=\"dataframe\">\n",
       "  <thead>\n",
       "    <tr style=\"text-align: right;\">\n",
       "      <th></th>\n",
       "      <th>event_name</th>\n",
       "      <th>user_id</th>\n",
       "      <th>event_ts</th>\n",
       "      <th>exp_id</th>\n",
       "      <th>date</th>\n",
       "    </tr>\n",
       "  </thead>\n",
       "  <tbody>\n",
       "    <tr>\n",
       "      <th>2826</th>\n",
       "      <td>Tutorial</td>\n",
       "      <td>3737462046622621720</td>\n",
       "      <td>2019-08-01 00:07:28</td>\n",
       "      <td>246</td>\n",
       "      <td>2019-08-01</td>\n",
       "    </tr>\n",
       "    <tr>\n",
       "      <th>2827</th>\n",
       "      <td>MainScreenAppear</td>\n",
       "      <td>3737462046622621720</td>\n",
       "      <td>2019-08-01 00:08:00</td>\n",
       "      <td>246</td>\n",
       "      <td>2019-08-01</td>\n",
       "    </tr>\n",
       "    <tr>\n",
       "      <th>2828</th>\n",
       "      <td>MainScreenAppear</td>\n",
       "      <td>3737462046622621720</td>\n",
       "      <td>2019-08-01 00:08:55</td>\n",
       "      <td>246</td>\n",
       "      <td>2019-08-01</td>\n",
       "    </tr>\n",
       "    <tr>\n",
       "      <th>2829</th>\n",
       "      <td>OffersScreenAppear</td>\n",
       "      <td>3737462046622621720</td>\n",
       "      <td>2019-08-01 00:08:58</td>\n",
       "      <td>246</td>\n",
       "      <td>2019-08-01</td>\n",
       "    </tr>\n",
       "    <tr>\n",
       "      <th>2830</th>\n",
       "      <td>MainScreenAppear</td>\n",
       "      <td>1433840883824088890</td>\n",
       "      <td>2019-08-01 00:08:59</td>\n",
       "      <td>247</td>\n",
       "      <td>2019-08-01</td>\n",
       "    </tr>\n",
       "  </tbody>\n",
       "</table>\n",
       "</div>"
      ],
      "text/plain": [
       "              event_name              user_id            event_ts  exp_id  \\\n",
       "2826            Tutorial  3737462046622621720 2019-08-01 00:07:28     246   \n",
       "2827    MainScreenAppear  3737462046622621720 2019-08-01 00:08:00     246   \n",
       "2828    MainScreenAppear  3737462046622621720 2019-08-01 00:08:55     246   \n",
       "2829  OffersScreenAppear  3737462046622621720 2019-08-01 00:08:58     246   \n",
       "2830    MainScreenAppear  1433840883824088890 2019-08-01 00:08:59     247   \n",
       "\n",
       "           date  \n",
       "2826 2019-08-01  \n",
       "2827 2019-08-01  \n",
       "2828 2019-08-01  \n",
       "2829 2019-08-01  \n",
       "2830 2019-08-01  "
      ]
     },
     "execution_count": 14,
     "metadata": {},
     "output_type": "execute_result"
    }
   ],
   "source": [
    "new_logs = logs.loc[logs['date'] > '2019-07-31']\n",
    "new_logs.head()"
   ]
  },
  {
   "cell_type": "code",
   "execution_count": 15,
   "metadata": {},
   "outputs": [
    {
     "name": "stdout",
     "output_type": "stream",
     "text": [
      "Количество потерянных пользователей: 17\n",
      "Процент потерянных пользователей: 0.23\n",
      "Количество потерянных событий: 2826\n",
      "Процент потерянных событий: 1.16\n"
     ]
    }
   ],
   "source": [
    "# проверим количество событий и пользователей после фильтрации\n",
    "\n",
    "print('Количество потерянных пользователей:', logs['user_id'].nunique()-new_logs['user_id'].nunique())\n",
    "print('Процент потерянных пользователей:', round(100-new_logs['user_id'].nunique()/logs['user_id'].nunique()*100, 2))\n",
    "print('Количество потерянных событий:', logs['event_name'].count()-new_logs['event_name'].count())\n",
    "print('Процент потерянных событий:', round(100-new_logs['event_name'].count()/logs['event_name'].count()*100, 2))"
   ]
  },
  {
   "cell_type": "markdown",
   "metadata": {},
   "source": [
    " - Итого потерянных пользователей менее 1%\n",
    " - Потерянных событий чуть более 1%\n",
    " - Это незначительные показатели, такие потери критично на результаты исследования не повлияют"
   ]
  },
  {
   "cell_type": "code",
   "execution_count": 16,
   "metadata": {},
   "outputs": [
    {
     "data": {
      "text/plain": [
       "exp_id\n",
       "246    2484\n",
       "247    2513\n",
       "248    2537\n",
       "Name: user_id, dtype: int64"
      ]
     },
     "metadata": {},
     "output_type": "display_data"
    },
    {
     "data": {
      "text/plain": [
       "exp_id\n",
       "246    79302\n",
       "247    77022\n",
       "248    84563\n",
       "Name: event_name, dtype: int64"
      ]
     },
     "execution_count": 16,
     "metadata": {},
     "output_type": "execute_result"
    }
   ],
   "source": [
    "# проверим экспериментальные группы\n",
    "\n",
    "display(new_logs.groupby('exp_id')['user_id'].nunique())\n",
    "new_logs.groupby('exp_id')['event_name'].count()"
   ]
  },
  {
   "cell_type": "markdown",
   "metadata": {},
   "source": [
    "## Вывод"
   ]
  },
  {
   "cell_type": "markdown",
   "metadata": {},
   "source": [
    " - Всего событий в логе - 243713\n",
    " - Уникальных событий - 5:\n",
    "   - (увидел) главный экран\n",
    "   - (увидел) предложения\n",
    "   - (увидел) корзина\n",
    "   - успешная оплата (успешно оплатил)\n",
    "   - (увидел) руководство\n",
    " - Самое большое количество событий приходится на \"главный экран\" - 48.8% от всех событий\n",
    " - Число уникальных пользователей - 7551\n",
    " - В среднем на одного пользователя приходится 32 события\n",
    " - После фильтрации мы располагаем данными с 1 по 7 августа 2019 года\n",
    " - Имеется 3 экспериментальные группы примерно с одинаковым количеством пользователей и событий в каждой"
   ]
  },
  {
   "cell_type": "markdown",
   "metadata": {},
   "source": [
    "# Воронка событий"
   ]
  },
  {
   "cell_type": "code",
   "execution_count": 17,
   "metadata": {},
   "outputs": [
    {
     "data": {
      "text/html": [
       "<div>\n",
       "<style scoped>\n",
       "    .dataframe tbody tr th:only-of-type {\n",
       "        vertical-align: middle;\n",
       "    }\n",
       "\n",
       "    .dataframe tbody tr th {\n",
       "        vertical-align: top;\n",
       "    }\n",
       "\n",
       "    .dataframe thead th {\n",
       "        text-align: right;\n",
       "    }\n",
       "</style>\n",
       "<table border=\"1\" class=\"dataframe\">\n",
       "  <thead>\n",
       "    <tr style=\"text-align: right;\">\n",
       "      <th></th>\n",
       "      <th>index</th>\n",
       "      <th>event_name</th>\n",
       "    </tr>\n",
       "  </thead>\n",
       "  <tbody>\n",
       "    <tr>\n",
       "      <th>0</th>\n",
       "      <td>MainScreenAppear</td>\n",
       "      <td>117328</td>\n",
       "    </tr>\n",
       "    <tr>\n",
       "      <th>1</th>\n",
       "      <td>OffersScreenAppear</td>\n",
       "      <td>46333</td>\n",
       "    </tr>\n",
       "    <tr>\n",
       "      <th>2</th>\n",
       "      <td>CartScreenAppear</td>\n",
       "      <td>42303</td>\n",
       "    </tr>\n",
       "    <tr>\n",
       "      <th>3</th>\n",
       "      <td>PaymentScreenSuccessful</td>\n",
       "      <td>33918</td>\n",
       "    </tr>\n",
       "    <tr>\n",
       "      <th>4</th>\n",
       "      <td>Tutorial</td>\n",
       "      <td>1005</td>\n",
       "    </tr>\n",
       "  </tbody>\n",
       "</table>\n",
       "</div>"
      ],
      "text/plain": [
       "                     index  event_name\n",
       "0         MainScreenAppear      117328\n",
       "1       OffersScreenAppear       46333\n",
       "2         CartScreenAppear       42303\n",
       "3  PaymentScreenSuccessful       33918\n",
       "4                 Tutorial        1005"
      ]
     },
     "execution_count": 17,
     "metadata": {},
     "output_type": "execute_result"
    }
   ],
   "source": [
    "# события и их количество\n",
    "new_logs['event_name'].value_counts().reset_index()"
   ]
  },
  {
   "cell_type": "code",
   "execution_count": 18,
   "metadata": {},
   "outputs": [
    {
     "data": {
      "text/html": [
       "<div>\n",
       "<style scoped>\n",
       "    .dataframe tbody tr th:only-of-type {\n",
       "        vertical-align: middle;\n",
       "    }\n",
       "\n",
       "    .dataframe tbody tr th {\n",
       "        vertical-align: top;\n",
       "    }\n",
       "\n",
       "    .dataframe thead th {\n",
       "        text-align: right;\n",
       "    }\n",
       "</style>\n",
       "<table border=\"1\" class=\"dataframe\">\n",
       "  <thead>\n",
       "    <tr style=\"text-align: right;\">\n",
       "      <th></th>\n",
       "      <th>event_name</th>\n",
       "      <th>user_id</th>\n",
       "    </tr>\n",
       "  </thead>\n",
       "  <tbody>\n",
       "    <tr>\n",
       "      <th>0</th>\n",
       "      <td>MainScreenAppear</td>\n",
       "      <td>7419</td>\n",
       "    </tr>\n",
       "    <tr>\n",
       "      <th>1</th>\n",
       "      <td>OffersScreenAppear</td>\n",
       "      <td>4593</td>\n",
       "    </tr>\n",
       "    <tr>\n",
       "      <th>2</th>\n",
       "      <td>CartScreenAppear</td>\n",
       "      <td>3734</td>\n",
       "    </tr>\n",
       "    <tr>\n",
       "      <th>3</th>\n",
       "      <td>PaymentScreenSuccessful</td>\n",
       "      <td>3539</td>\n",
       "    </tr>\n",
       "    <tr>\n",
       "      <th>4</th>\n",
       "      <td>Tutorial</td>\n",
       "      <td>840</td>\n",
       "    </tr>\n",
       "  </tbody>\n",
       "</table>\n",
       "</div>"
      ],
      "text/plain": [
       "                event_name  user_id\n",
       "0         MainScreenAppear     7419\n",
       "1       OffersScreenAppear     4593\n",
       "2         CartScreenAppear     3734\n",
       "3  PaymentScreenSuccessful     3539\n",
       "4                 Tutorial      840"
      ]
     },
     "execution_count": 18,
     "metadata": {},
     "output_type": "execute_result"
    }
   ],
   "source": [
    "# уникальные пользователи на каждое событие\n",
    "\n",
    "event_users = new_logs.groupby('event_name')['user_id'].nunique().sort_values(ascending=False).reset_index()\n",
    "event_users"
   ]
  },
  {
   "cell_type": "code",
   "execution_count": 19,
   "metadata": {},
   "outputs": [
    {
     "data": {
      "text/html": [
       "<div>\n",
       "<style scoped>\n",
       "    .dataframe tbody tr th:only-of-type {\n",
       "        vertical-align: middle;\n",
       "    }\n",
       "\n",
       "    .dataframe tbody tr th {\n",
       "        vertical-align: top;\n",
       "    }\n",
       "\n",
       "    .dataframe thead th {\n",
       "        text-align: right;\n",
       "    }\n",
       "</style>\n",
       "<table border=\"1\" class=\"dataframe\">\n",
       "  <thead>\n",
       "    <tr style=\"text-align: right;\">\n",
       "      <th></th>\n",
       "      <th>event_name</th>\n",
       "      <th>user_id</th>\n",
       "      <th>percent</th>\n",
       "    </tr>\n",
       "  </thead>\n",
       "  <tbody>\n",
       "    <tr>\n",
       "      <th>0</th>\n",
       "      <td>MainScreenAppear</td>\n",
       "      <td>7419</td>\n",
       "      <td>98.47</td>\n",
       "    </tr>\n",
       "    <tr>\n",
       "      <th>1</th>\n",
       "      <td>OffersScreenAppear</td>\n",
       "      <td>4593</td>\n",
       "      <td>60.96</td>\n",
       "    </tr>\n",
       "    <tr>\n",
       "      <th>2</th>\n",
       "      <td>CartScreenAppear</td>\n",
       "      <td>3734</td>\n",
       "      <td>49.56</td>\n",
       "    </tr>\n",
       "    <tr>\n",
       "      <th>3</th>\n",
       "      <td>PaymentScreenSuccessful</td>\n",
       "      <td>3539</td>\n",
       "      <td>46.97</td>\n",
       "    </tr>\n",
       "    <tr>\n",
       "      <th>4</th>\n",
       "      <td>Tutorial</td>\n",
       "      <td>840</td>\n",
       "      <td>11.15</td>\n",
       "    </tr>\n",
       "  </tbody>\n",
       "</table>\n",
       "</div>"
      ],
      "text/plain": [
       "                event_name  user_id  percent\n",
       "0         MainScreenAppear     7419    98.47\n",
       "1       OffersScreenAppear     4593    60.96\n",
       "2         CartScreenAppear     3734    49.56\n",
       "3  PaymentScreenSuccessful     3539    46.97\n",
       "4                 Tutorial      840    11.15"
      ]
     },
     "execution_count": 19,
     "metadata": {},
     "output_type": "execute_result"
    }
   ],
   "source": [
    "# процент пользователей от общего числа пользователей по каждому событию\n",
    "\n",
    "event_users['percent'] = (event_users['user_id']/new_logs['user_id'].nunique()*100).round(2)\n",
    "event_users"
   ]
  },
  {
   "cell_type": "markdown",
   "metadata": {},
   "source": [
    "Предположительно воронка событий выглядит так:\n",
    " - главный экран\n",
    "   - предложения\n",
    "      - корзина\n",
    "        - успешная оплата (успешно оплатил)\n",
    "\n",
    "Пункт \"руководство\" не входит в эту воронку, поскольку необязателен для покупки товара"
   ]
  },
  {
   "cell_type": "code",
   "execution_count": 20,
   "metadata": {},
   "outputs": [
    {
     "data": {
      "text/html": [
       "<div>\n",
       "<style scoped>\n",
       "    .dataframe tbody tr th:only-of-type {\n",
       "        vertical-align: middle;\n",
       "    }\n",
       "\n",
       "    .dataframe tbody tr th {\n",
       "        vertical-align: top;\n",
       "    }\n",
       "\n",
       "    .dataframe thead th {\n",
       "        text-align: right;\n",
       "    }\n",
       "</style>\n",
       "<table border=\"1\" class=\"dataframe\">\n",
       "  <thead>\n",
       "    <tr style=\"text-align: right;\">\n",
       "      <th></th>\n",
       "      <th>event_name</th>\n",
       "      <th>user_id</th>\n",
       "      <th>percent</th>\n",
       "    </tr>\n",
       "  </thead>\n",
       "  <tbody>\n",
       "    <tr>\n",
       "      <th>0</th>\n",
       "      <td>MainScreenAppear</td>\n",
       "      <td>7419</td>\n",
       "      <td>98.47</td>\n",
       "    </tr>\n",
       "    <tr>\n",
       "      <th>1</th>\n",
       "      <td>OffersScreenAppear</td>\n",
       "      <td>4593</td>\n",
       "      <td>60.96</td>\n",
       "    </tr>\n",
       "    <tr>\n",
       "      <th>2</th>\n",
       "      <td>CartScreenAppear</td>\n",
       "      <td>3734</td>\n",
       "      <td>49.56</td>\n",
       "    </tr>\n",
       "    <tr>\n",
       "      <th>3</th>\n",
       "      <td>PaymentScreenSuccessful</td>\n",
       "      <td>3539</td>\n",
       "      <td>46.97</td>\n",
       "    </tr>\n",
       "  </tbody>\n",
       "</table>\n",
       "</div>"
      ],
      "text/plain": [
       "                event_name  user_id  percent\n",
       "0         MainScreenAppear     7419    98.47\n",
       "1       OffersScreenAppear     4593    60.96\n",
       "2         CartScreenAppear     3734    49.56\n",
       "3  PaymentScreenSuccessful     3539    46.97"
      ]
     },
     "execution_count": 20,
     "metadata": {},
     "output_type": "execute_result"
    }
   ],
   "source": [
    "# уберем пункт \"tutorial\", т.к. он не входит в воронку событий\n",
    "\n",
    "event_users = event_users.drop([4], axis=0)\n",
    "event_users"
   ]
  },
  {
   "cell_type": "code",
   "execution_count": 21,
   "metadata": {},
   "outputs": [
    {
     "data": {
      "text/html": [
       "<div>\n",
       "<style scoped>\n",
       "    .dataframe tbody tr th:only-of-type {\n",
       "        vertical-align: middle;\n",
       "    }\n",
       "\n",
       "    .dataframe tbody tr th {\n",
       "        vertical-align: top;\n",
       "    }\n",
       "\n",
       "    .dataframe thead th {\n",
       "        text-align: right;\n",
       "    }\n",
       "</style>\n",
       "<table border=\"1\" class=\"dataframe\">\n",
       "  <thead>\n",
       "    <tr style=\"text-align: right;\">\n",
       "      <th></th>\n",
       "      <th>event_name</th>\n",
       "      <th>user_id</th>\n",
       "      <th>percent</th>\n",
       "      <th>conversion_%</th>\n",
       "    </tr>\n",
       "  </thead>\n",
       "  <tbody>\n",
       "    <tr>\n",
       "      <th>0</th>\n",
       "      <td>MainScreenAppear</td>\n",
       "      <td>7419</td>\n",
       "      <td>98.47</td>\n",
       "      <td>100.00</td>\n",
       "    </tr>\n",
       "    <tr>\n",
       "      <th>1</th>\n",
       "      <td>OffersScreenAppear</td>\n",
       "      <td>4593</td>\n",
       "      <td>60.96</td>\n",
       "      <td>61.91</td>\n",
       "    </tr>\n",
       "    <tr>\n",
       "      <th>2</th>\n",
       "      <td>CartScreenAppear</td>\n",
       "      <td>3734</td>\n",
       "      <td>49.56</td>\n",
       "      <td>81.30</td>\n",
       "    </tr>\n",
       "    <tr>\n",
       "      <th>3</th>\n",
       "      <td>PaymentScreenSuccessful</td>\n",
       "      <td>3539</td>\n",
       "      <td>46.97</td>\n",
       "      <td>94.78</td>\n",
       "    </tr>\n",
       "  </tbody>\n",
       "</table>\n",
       "</div>"
      ],
      "text/plain": [
       "                event_name  user_id  percent  conversion_%\n",
       "0         MainScreenAppear     7419    98.47        100.00\n",
       "1       OffersScreenAppear     4593    60.96         61.91\n",
       "2         CartScreenAppear     3734    49.56         81.30\n",
       "3  PaymentScreenSuccessful     3539    46.97         94.78"
      ]
     },
     "execution_count": 21,
     "metadata": {},
     "output_type": "execute_result"
    }
   ],
   "source": [
    "# посчитаем конверсию пользователей на следующий шаг\n",
    "\n",
    "event_users['conversion_%'] = 100\n",
    "for i in range(1, 4):\n",
    "    event_users.loc[i, 'conversion_%'] = ((event_users.loc[i, 'user_id'] / (event_users.loc[i-1, 'user_id']))*100).round(2)\n",
    "\n",
    "event_users"
   ]
  },
  {
   "cell_type": "code",
   "execution_count": 22,
   "metadata": {},
   "outputs": [
    {
     "data": {
      "image/png": "[encoded data removed]",
      "text/plain": [
       "<Figure size 720x432 with 1 Axes>"
      ]
     },
     "metadata": {
      "needs_background": "light"
     },
     "output_type": "display_data"
    }
   ],
   "source": [
    "# представим воронку визуально\n",
    "\n",
    "plt.figure(figsize=(10, 6))\n",
    "sns.barplot(data=event_users, x='event_name', y='user_id', palette='rocket')\n",
    "sns.set_theme(style='darkgrid')\n",
    "plt.title('Воронка событий')\n",
    "plt.xlabel('События')\n",
    "plt.ylabel('Количество пользователей')\n",
    "plt.show();"
   ]
  },
  {
   "cell_type": "code",
   "execution_count": 23,
   "metadata": {},
   "outputs": [
    {
     "data": {
      "text/plain": [
       "47.70184661005526"
      ]
     },
     "execution_count": 23,
     "metadata": {},
     "output_type": "execute_result"
    }
   ],
   "source": [
    "# доля покупателей от всех пользователей\n",
    "\n",
    "(event_users.loc[3, 'user_id']/event_users.loc[0, 'user_id'])*100"
   ]
  },
  {
   "cell_type": "markdown",
   "metadata": {},
   "source": [
    "**Вывод:**\n",
    "\n",
    "Воронка событий:\n",
    "   - главный экран\n",
    "      - предложения (конв. 61.91%)\n",
    "         - корзина (конв. 81.30%)\n",
    "            - успешная оплата (успешно оплатил) (конв. 94.78%)\n",
    "\n",
    "Посчитана конверсия каждого события в следующее событие:\n",
    "  - больше всего пользователей теряются на втором шаге \"предложения\"/\"OffersScreenAppear\" - почти 40%\n",
    "  - далее при переходе в \"корзину\" теряется около 20% пользователей\n",
    "  - далее - почти 15% пользователей при переходе к оплате\n",
    "\n",
    "Таким образом, с первого события \"MainScreenAppear\"/\"главный экран\" до покупки товара доходит чуть более 47% пользователей "
   ]
  },
  {
   "cell_type": "markdown",
   "metadata": {},
   "source": [
    "# Анализ А/А/В-теста"
   ]
  },
  {
   "cell_type": "code",
   "execution_count": 24,
   "metadata": {},
   "outputs": [
    {
     "data": {
      "text/plain": [
       "exp_id\n",
       "246    2484\n",
       "247    2513\n",
       "248    2537\n",
       "Name: user_id, dtype: int64"
      ]
     },
     "metadata": {},
     "output_type": "display_data"
    },
    {
     "data": {
      "text/plain": [
       "0"
      ]
     },
     "execution_count": 24,
     "metadata": {},
     "output_type": "execute_result"
    }
   ],
   "source": [
    "# количество пользователей в экспериментальных группах\n",
    "display(new_logs.groupby('exp_id')['user_id'].nunique())\n",
    "\n",
    "# проверим, все ли пользователи уникальны в каждой из групп\n",
    "len(new_logs.groupby('user_id')['exp_id'].nunique().reset_index().query('exp_id > 1'))"
   ]
  },
  {
   "cell_type": "markdown",
   "metadata": {},
   "source": [
    " - В группах А получается по 2484 и 2513 пользователей\n",
    " - В группе В - 2537 пользователей\n",
    " - Среди пользователей нет тех, кто попал в несколько групп"
   ]
  },
  {
   "cell_type": "code",
   "execution_count": 25,
   "metadata": {},
   "outputs": [
    {
     "data": {
      "text/html": [
       "<div>\n",
       "<style scoped>\n",
       "    .dataframe tbody tr th:only-of-type {\n",
       "        vertical-align: middle;\n",
       "    }\n",
       "\n",
       "    .dataframe tbody tr th {\n",
       "        vertical-align: top;\n",
       "    }\n",
       "\n",
       "    .dataframe thead th {\n",
       "        text-align: right;\n",
       "    }\n",
       "</style>\n",
       "<table border=\"1\" class=\"dataframe\">\n",
       "  <thead>\n",
       "    <tr style=\"text-align: right;\">\n",
       "      <th>exp_id</th>\n",
       "      <th>event_name</th>\n",
       "      <th>246</th>\n",
       "      <th>247</th>\n",
       "      <th>248</th>\n",
       "      <th>All</th>\n",
       "    </tr>\n",
       "  </thead>\n",
       "  <tbody>\n",
       "    <tr>\n",
       "      <th>0</th>\n",
       "      <td>MainScreenAppear</td>\n",
       "      <td>2450</td>\n",
       "      <td>2476</td>\n",
       "      <td>2493</td>\n",
       "      <td>7419</td>\n",
       "    </tr>\n",
       "    <tr>\n",
       "      <th>1</th>\n",
       "      <td>OffersScreenAppear</td>\n",
       "      <td>1542</td>\n",
       "      <td>1520</td>\n",
       "      <td>1531</td>\n",
       "      <td>4593</td>\n",
       "    </tr>\n",
       "    <tr>\n",
       "      <th>2</th>\n",
       "      <td>CartScreenAppear</td>\n",
       "      <td>1266</td>\n",
       "      <td>1238</td>\n",
       "      <td>1230</td>\n",
       "      <td>3734</td>\n",
       "    </tr>\n",
       "    <tr>\n",
       "      <th>3</th>\n",
       "      <td>PaymentScreenSuccessful</td>\n",
       "      <td>1200</td>\n",
       "      <td>1158</td>\n",
       "      <td>1181</td>\n",
       "      <td>3539</td>\n",
       "    </tr>\n",
       "    <tr>\n",
       "      <th>4</th>\n",
       "      <td>Tutorial</td>\n",
       "      <td>278</td>\n",
       "      <td>283</td>\n",
       "      <td>279</td>\n",
       "      <td>840</td>\n",
       "    </tr>\n",
       "    <tr>\n",
       "      <th>5</th>\n",
       "      <td>All</td>\n",
       "      <td>2484</td>\n",
       "      <td>2513</td>\n",
       "      <td>2537</td>\n",
       "      <td>7534</td>\n",
       "    </tr>\n",
       "  </tbody>\n",
       "</table>\n",
       "</div>"
      ],
      "text/plain": [
       "exp_id               event_name   246   247   248   All\n",
       "0              MainScreenAppear  2450  2476  2493  7419\n",
       "1            OffersScreenAppear  1542  1520  1531  4593\n",
       "2              CartScreenAppear  1266  1238  1230  3734\n",
       "3       PaymentScreenSuccessful  1200  1158  1181  3539\n",
       "4                      Tutorial   278   283   279   840\n",
       "5                           All  2484  2513  2537  7534"
      ]
     },
     "execution_count": 25,
     "metadata": {},
     "output_type": "execute_result"
    }
   ],
   "source": [
    "# сделаем сводную таблицу с количеством пользователей по событиям\n",
    "\n",
    "event_group = new_logs.pivot_table(index='event_name',\n",
    "                                   columns='exp_id',\n",
    "                                   values='user_id',\n",
    "                                   aggfunc='nunique',\n",
    "                                   margins=True).reset_index().sort_values('All',\n",
    "                                                                           ascending=False).reset_index(drop=True)\n",
    "event_group = event_group.reindex([1, 2, 3, 4, 5, 0]).reset_index(drop=True)\n",
    "event_group"
   ]
  },
  {
   "cell_type": "code",
   "execution_count": 26,
   "metadata": {},
   "outputs": [
    {
     "name": "stdout",
     "output_type": "stream",
     "text": [
      "Количество пользователей в группах различается на 1.15 %\n"
     ]
    }
   ],
   "source": [
    "print('Количество пользователей в группах различается на',\n",
    "      round(100 - (event_group.loc[5,246] / event_group.loc[5,247] * 100), 2),\n",
    "      '%')"
   ]
  },
  {
   "cell_type": "markdown",
   "metadata": {},
   "source": [
    " - Количество пользователей в группах А (246 и 247) различается на 1.15%, это почти норма, немного больше, чем 1%\n",
    " - Посчитаем эту разницу приемлемой"
   ]
  },
  {
   "cell_type": "markdown",
   "metadata": {},
   "source": [
    "Сформулируем гипотезы для проверки статистических показателей:\n",
    " - Н0: между количеством пользователей при этом событии нет статистически значимой разницы \n",
    " - Н1: между количеством пользователей при этом событии есть статистически значимая разница"
   ]
  },
  {
   "cell_type": "code",
   "execution_count": 27,
   "metadata": {},
   "outputs": [],
   "source": [
    "# функция для проверки различий\n",
    "\n",
    "def check_difference(successes1, successes2, trials1, trials2):\n",
    "    # пропорция успехов в первой группе:\n",
    "    p1 = successes1/trials1\n",
    "    # пропорция успехов во второй группе:\n",
    "    p2 = successes2/trials2\n",
    "    # пропорция успехов в комбинированном датасете:\n",
    "    p_combined = (successes1 + successes2) / (trials1 + trials2)\n",
    "    # разница пропорций в датасетах\n",
    "    difference = p1 - p2 \n",
    "    # считаем статистику в ст.отклонениях стандартного нормального распределения\n",
    "    z_value = difference / (p_combined * (1 - p_combined) * (1/trials1 + 1/trials2)) ** 0.5\n",
    "    # задаем стандартное нормальное распределение (среднее 0, ст.отклонение 1)\n",
    "    distr = st.norm(0, 1)\n",
    "    alpha = 0.003125\n",
    "    p_value = (1 - distr.cdf(abs(z_value))) * 2\n",
    "    print('p-значение: ', p_value)\n",
    "    if p_value < alpha:\n",
    "        print('Отвергаем нулевую гипотезу: между долями есть значимая разница')\n",
    "    else:\n",
    "        print(\n",
    "        'Не получилось отвергнуть нулевую гипотезу, нет оснований считать доли разными') "
   ]
  },
  {
   "cell_type": "markdown",
   "metadata": {},
   "source": [
    "**Проверим гипотезу на группах 246 (А) и 247 (А) на каждом шаге:**"
   ]
  },
  {
   "cell_type": "code",
   "execution_count": 28,
   "metadata": {},
   "outputs": [
    {
     "name": "stdout",
     "output_type": "stream",
     "text": [
      "p-значение:  0.2622344959255778\n",
      "Не получилось отвергнуть нулевую гипотезу, нет оснований считать доли разными\n"
     ]
    }
   ],
   "source": [
    "check_difference(event_group.loc[1, 246], event_group.loc[1, 247], event_group.loc[0, 246], event_group.loc[0, 247])"
   ]
  },
  {
   "cell_type": "code",
   "execution_count": 29,
   "metadata": {},
   "outputs": [
    {
     "name": "stdout",
     "output_type": "stream",
     "text": [
      "p-значение:  0.6393754713145263\n",
      "Не получилось отвергнуть нулевую гипотезу, нет оснований считать доли разными\n"
     ]
    }
   ],
   "source": [
    "check_difference(event_group.loc[2, 246], event_group.loc[2, 247], event_group.loc[1, 246], event_group.loc[1, 247])"
   ]
  },
  {
   "cell_type": "code",
   "execution_count": 30,
   "metadata": {},
   "outputs": [
    {
     "name": "stdout",
     "output_type": "stream",
     "text": [
      "p-значение:  0.18243439408067652\n",
      "Не получилось отвергнуть нулевую гипотезу, нет оснований считать доли разными\n"
     ]
    }
   ],
   "source": [
    "check_difference(event_group.loc[3, 246], event_group.loc[3, 247], event_group.loc[2, 246], event_group.loc[2, 247])"
   ]
  },
  {
   "cell_type": "code",
   "execution_count": 31,
   "metadata": {},
   "outputs": [
    {
     "name": "stdout",
     "output_type": "stream",
     "text": [
      "p-значение:  0.11456679313141849\n",
      "Не получилось отвергнуть нулевую гипотезу, нет оснований считать доли разными\n"
     ]
    }
   ],
   "source": [
    "check_difference(event_group.loc[3, 246], event_group.loc[3, 247], event_group.loc[5, 246], event_group.loc[5, 247])"
   ]
  },
  {
   "cell_type": "markdown",
   "metadata": {},
   "source": [
    " - Нет оснований отвергать нулевую гипотезу, значит между группами 246 (А) и 247 (А) нет статистически значимых различий"
   ]
  },
  {
   "cell_type": "markdown",
   "metadata": {},
   "source": [
    "**Проверим гипотезу на группах 246 (А) и 248 (В):**"
   ]
  },
  {
   "cell_type": "code",
   "execution_count": 32,
   "metadata": {},
   "outputs": [
    {
     "name": "stdout",
     "output_type": "stream",
     "text": [
      "p-значение:  0.2684281587249231\n",
      "Не получилось отвергнуть нулевую гипотезу, нет оснований считать доли разными\n"
     ]
    }
   ],
   "source": [
    "check_difference(event_group.loc[1, 246], event_group.loc[1, 248], event_group.loc[0, 246], event_group.loc[0, 248])"
   ]
  },
  {
   "cell_type": "code",
   "execution_count": 33,
   "metadata": {},
   "outputs": [
    {
     "name": "stdout",
     "output_type": "stream",
     "text": [
      "p-значение:  0.2112170818054686\n",
      "Не получилось отвергнуть нулевую гипотезу, нет оснований считать доли разными\n"
     ]
    }
   ],
   "source": [
    "check_difference(event_group.loc[2, 246], event_group.loc[2, 248], event_group.loc[1, 246], event_group.loc[1, 248])"
   ]
  },
  {
   "cell_type": "code",
   "execution_count": 34,
   "metadata": {},
   "outputs": [
    {
     "name": "stdout",
     "output_type": "stream",
     "text": [
      "p-значение:  0.14295341270419004\n",
      "Не получилось отвергнуть нулевую гипотезу, нет оснований считать доли разными\n"
     ]
    }
   ],
   "source": [
    "check_difference(event_group.loc[3, 246], event_group.loc[3, 248], event_group.loc[2, 246], event_group.loc[2, 248])"
   ]
  },
  {
   "cell_type": "code",
   "execution_count": 35,
   "metadata": {},
   "outputs": [
    {
     "name": "stdout",
     "output_type": "stream",
     "text": [
      "p-значение:  0.2122553275697796\n",
      "Не получилось отвергнуть нулевую гипотезу, нет оснований считать доли разными\n"
     ]
    }
   ],
   "source": [
    "check_difference(event_group.loc[3, 246], event_group.loc[3, 248], event_group.loc[5, 246], event_group.loc[5, 248])"
   ]
  },
  {
   "cell_type": "markdown",
   "metadata": {},
   "source": [
    " - Нет оснований отвергать нулевую гипотезу, значит между группами 246 (А) и 248 (В) нет статистически значимых различий"
   ]
  },
  {
   "cell_type": "markdown",
   "metadata": {},
   "source": [
    "**Проверим гипотезу на группах 247 (А) и 248 (В):**"
   ]
  },
  {
   "cell_type": "code",
   "execution_count": 36,
   "metadata": {},
   "outputs": [
    {
     "name": "stdout",
     "output_type": "stream",
     "text": [
      "p-значение:  0.9869365252844515\n",
      "Не получилось отвергнуть нулевую гипотезу, нет оснований считать доли разными\n"
     ]
    }
   ],
   "source": [
    "check_difference(event_group.loc[1, 247], event_group.loc[1, 248], event_group.loc[0, 247], event_group.loc[0, 248])"
   ]
  },
  {
   "cell_type": "code",
   "execution_count": 37,
   "metadata": {},
   "outputs": [
    {
     "name": "stdout",
     "output_type": "stream",
     "text": [
      "p-значение:  0.4364903513062255\n",
      "Не получилось отвергнуть нулевую гипотезу, нет оснований считать доли разными\n"
     ]
    }
   ],
   "source": [
    "check_difference(event_group.loc[2, 247], event_group.loc[2, 248], event_group.loc[1, 247], event_group.loc[1, 248])"
   ]
  },
  {
   "cell_type": "code",
   "execution_count": 38,
   "metadata": {},
   "outputs": [
    {
     "name": "stdout",
     "output_type": "stream",
     "text": [
      "p-значение:  0.005677465395736325\n",
      "Не получилось отвергнуть нулевую гипотезу, нет оснований считать доли разными\n"
     ]
    }
   ],
   "source": [
    "check_difference(event_group.loc[3, 247], event_group.loc[3, 248], event_group.loc[2, 247], event_group.loc[2, 248])"
   ]
  },
  {
   "cell_type": "code",
   "execution_count": 39,
   "metadata": {},
   "outputs": [
    {
     "name": "stdout",
     "output_type": "stream",
     "text": [
      "p-значение:  0.7373415053803964\n",
      "Не получилось отвергнуть нулевую гипотезу, нет оснований считать доли разными\n"
     ]
    }
   ],
   "source": [
    "check_difference(event_group.loc[3, 247], event_group.loc[3, 248], event_group.loc[5, 247], event_group.loc[5, 248])"
   ]
  },
  {
   "cell_type": "markdown",
   "metadata": {},
   "source": [
    " - Нет оснований отвергать нулевую гипотезу, значит между группами 247 (А) и 248 (В) нет статистически значимых различи на всех шагах, кроме последнего. Без поправки Бонферрони при переходе к шагу \"PaymentScreenSuccessful\" из шага \"CartScreenAppear\" в группах 247 и 248 есть статистически значимая разница. Но нет оснований отвергать нулевую гипотезу при сравнении количества пользователей между первым шагом и последним"
   ]
  },
  {
   "cell_type": "markdown",
   "metadata": {},
   "source": [
    "**Проверим гипотезу на объединенных 246 (А) и 247 (А) группах и 248 (В):**"
   ]
  },
  {
   "cell_type": "code",
   "execution_count": 40,
   "metadata": {},
   "outputs": [],
   "source": [
    "# объединим группы А (246 и 247)\n",
    "event_group['246_n_247'] = event_group[246] + event_group[247]"
   ]
  },
  {
   "cell_type": "code",
   "execution_count": 41,
   "metadata": {},
   "outputs": [
    {
     "name": "stdout",
     "output_type": "stream",
     "text": [
      "p-значение:  0.5308589432077624\n",
      "Не получилось отвергнуть нулевую гипотезу, нет оснований считать доли разными\n"
     ]
    }
   ],
   "source": [
    "check_difference(event_group.loc[1, '246_n_247'], event_group.loc[1, 248],\n",
    "                 event_group.loc[0, '246_n_247'], event_group.loc[0, 248])"
   ]
  },
  {
   "cell_type": "code",
   "execution_count": 42,
   "metadata": {},
   "outputs": [
    {
     "name": "stdout",
     "output_type": "stream",
     "text": [
      "p-значение:  0.23905954279947372\n",
      "Не получилось отвергнуть нулевую гипотезу, нет оснований считать доли разными\n"
     ]
    }
   ],
   "source": [
    "check_difference(event_group.loc[2, '246_n_247'], event_group.loc[2, 248],\n",
    "                 event_group.loc[1, '246_n_247'], event_group.loc[1, 248])"
   ]
  },
  {
   "cell_type": "code",
   "execution_count": 43,
   "metadata": {},
   "outputs": [
    {
     "name": "stdout",
     "output_type": "stream",
     "text": [
      "p-значение:  0.017114434319547067\n",
      "Не получилось отвергнуть нулевую гипотезу, нет оснований считать доли разными\n"
     ]
    }
   ],
   "source": [
    "check_difference(event_group.loc[3, '246_n_247'], event_group.loc[3, 248],\n",
    "                 event_group.loc[2, '246_n_247'], event_group.loc[2, 248])"
   ]
  },
  {
   "cell_type": "code",
   "execution_count": 44,
   "metadata": {},
   "outputs": [
    {
     "name": "stdout",
     "output_type": "stream",
     "text": [
      "p-значение:  0.6004294282308704\n",
      "Не получилось отвергнуть нулевую гипотезу, нет оснований считать доли разными\n"
     ]
    }
   ],
   "source": [
    "check_difference(event_group.loc[3, '246_n_247'], event_group.loc[3, 248],\n",
    "                 event_group.loc[5, '246_n_247'], event_group.loc[5, 248])"
   ]
  },
  {
   "cell_type": "markdown",
   "metadata": {},
   "source": [
    " - Нет оснований отвергать нулевую гипотезу, значит между объединенными 246 (А) и 247 (А) группами и 248 (В) нет статистически значимых различий"
   ]
  },
  {
   "cell_type": "markdown",
   "metadata": {},
   "source": [
    "**Вывод:**\n",
    " - При выборе в качестве статистической значимости alpha=0.01, можем сделать вывод, что отвергнуть нулевую гипотезу не получилось\n",
    " - Значит статистически значимых различий между группами А нет\n",
    " - Статистически значимых различий между группами 246 и 248 также нету\n",
    " - Статистически значимых различий между группами 247 и 248 нету, кроме одного шага\n",
    " - Также нет различий между объединенными 246-247 группами и группой 248\n",
    " - Если взять уровень статистической значимости alpha=0.05, то также не получится отвергнуть нулевую гипотезу\n",
    " - Однако при переходе к шагу оплаты статистически значимая разница есть, а по общему количеству пользователей с первого до последнего шага статистически значимой разницы нет\n",
    " - **Если вносить поправку Бонферрони (разделим alpha=0.05 на 16), то alpha=0.003125, и тогда при проверке гипотез статистически значимой разницы между группами нет нигде**\n",
    " "
   ]
  },
  {
   "cell_type": "markdown",
   "metadata": {},
   "source": [
    "# Вывод"
   ]
  },
  {
   "cell_type": "markdown",
   "metadata": {},
   "source": [
    "1. **В ходе исследования были проанализированы данные мобильного приложения по продаже продуктов питания**\n",
    "\n",
    "\n",
    "2. **Определена воронка событий:**\n",
    " - главный экран\n",
    "   - предложения (конв. 61.91%)\n",
    "     - корзина (конв. 81.30%)\n",
    "       - успешная оплата (успешно оплатил) (конв. 94.78%)\n",
    "\n",
    "\n",
    "3. **Посчитана конверсия каждого события в следующее событие:**\n",
    " - больше всего пользователей теряются на втором шаге \"предложения\"/\"OffersScreenAppear\" - почти 40%\n",
    " - далее при переходе в \"корзину\" теряется около 20% пользователей\n",
    " - далее - почти 15% пользователей при переходе к оплате\n",
    " - Таким образом, с первого события \"MainScreenAppear\"/\"главный экран\" до покупки товара доходит чуть более 47% пользователей\n",
    "\n",
    "\n",
    "4. **Проведен анализ А/А/В-теста:**\n",
    " - статистически значимых различий между контрольными группами пользователей нет\n",
    "\n",
    "\n",
    "5. Результат эксперимента: **между старым и новым шрифтом разницы нет**\n",
    "\n",
    "\n",
    "6. **Рекомендуется проверить, почему после первого события в воронке - \"MainScreenAppear\"(просмотр главного экрана) - теряется 40% пользователей (больше всего по сравнению с другими шагами воронки)**"
   ]
  }
 ],
 "metadata": {
  "ExecuteTimeLog": [
   {
    "duration": 1304,
    "start_time": "2023-09-05T11:14:33.625Z"
   },
   {
    "duration": 641,
    "start_time": "2023-09-05T11:14:34.931Z"
   },
   {
    "duration": 87,
    "start_time": "2023-09-05T11:14:49.744Z"
   },
   {
    "duration": 8,
    "start_time": "2023-09-05T11:14:56.015Z"
   },
   {
    "duration": 423,
    "start_time": "2023-09-05T11:14:57.474Z"
   },
   {
    "duration": 188,
    "start_time": "2023-09-05T11:18:03.126Z"
   },
   {
    "duration": 4,
    "start_time": "2023-09-05T11:18:04.376Z"
   },
   {
    "duration": 125,
    "start_time": "2023-09-05T11:18:07.853Z"
   },
   {
    "duration": 116,
    "start_time": "2023-09-05T11:18:18.145Z"
   },
   {
    "duration": 111,
    "start_time": "2023-09-05T11:18:23.274Z"
   },
   {
    "duration": 112,
    "start_time": "2023-09-05T11:18:25.274Z"
   },
   {
    "duration": 3,
    "start_time": "2023-09-05T11:44:22.277Z"
   },
   {
    "duration": 4,
    "start_time": "2023-09-05T11:44:30.702Z"
   },
   {
    "duration": 19,
    "start_time": "2023-09-05T11:44:40.569Z"
   },
   {
    "duration": 52,
    "start_time": "2023-09-05T11:44:55.908Z"
   },
   {
    "duration": 3,
    "start_time": "2023-09-05T11:45:01.826Z"
   },
   {
    "duration": 12,
    "start_time": "2023-09-05T11:47:08.510Z"
   },
   {
    "duration": 10,
    "start_time": "2023-09-05T11:47:20.338Z"
   },
   {
    "duration": 431,
    "start_time": "2023-09-05T11:48:19.204Z"
   },
   {
    "duration": 42,
    "start_time": "2023-09-05T11:48:26.728Z"
   },
   {
    "duration": 28,
    "start_time": "2023-09-05T11:48:36.822Z"
   },
   {
    "duration": 117,
    "start_time": "2023-09-05T11:49:27.538Z"
   },
   {
    "duration": 379,
    "start_time": "2023-09-05T11:49:34.411Z"
   },
   {
    "duration": 1393,
    "start_time": "2023-09-05T11:49:57.329Z"
   },
   {
    "duration": 406,
    "start_time": "2023-09-05T11:50:16.501Z"
   },
   {
    "duration": 343,
    "start_time": "2023-09-05T11:53:21.319Z"
   },
   {
    "duration": 367,
    "start_time": "2023-09-05T11:53:33.229Z"
   },
   {
    "duration": 55,
    "start_time": "2023-09-05T11:57:30.615Z"
   },
   {
    "duration": 355,
    "start_time": "2023-09-05T12:02:18.707Z"
   },
   {
    "duration": 422,
    "start_time": "2023-09-05T12:02:26.166Z"
   },
   {
    "duration": 462,
    "start_time": "2023-09-05T12:02:34.569Z"
   },
   {
    "duration": 366,
    "start_time": "2023-09-05T12:02:43.601Z"
   },
   {
    "duration": 1114,
    "start_time": "2023-09-05T12:02:50.520Z"
   },
   {
    "duration": 167,
    "start_time": "2023-09-05T12:02:51.635Z"
   },
   {
    "duration": 4,
    "start_time": "2023-09-05T12:02:51.804Z"
   },
   {
    "duration": 165,
    "start_time": "2023-09-05T12:02:51.809Z"
   },
   {
    "duration": 77,
    "start_time": "2023-09-05T12:02:51.976Z"
   },
   {
    "duration": 92,
    "start_time": "2023-09-05T12:19:15.403Z"
   },
   {
    "duration": 24,
    "start_time": "2023-09-05T12:19:23.930Z"
   },
   {
    "duration": 34,
    "start_time": "2023-09-05T12:22:13.446Z"
   },
   {
    "duration": 104,
    "start_time": "2023-09-05T12:23:52.149Z"
   },
   {
    "duration": 853,
    "start_time": "2023-09-05T12:24:02.429Z"
   },
   {
    "duration": 458,
    "start_time": "2023-09-05T12:24:21.900Z"
   },
   {
    "duration": 447,
    "start_time": "2023-09-05T12:26:02.000Z"
   },
   {
    "duration": 367,
    "start_time": "2023-09-05T12:26:04.611Z"
   },
   {
    "duration": 307,
    "start_time": "2023-09-05T12:26:34.569Z"
   },
   {
    "duration": 204,
    "start_time": "2023-09-05T12:26:57.769Z"
   },
   {
    "duration": 358,
    "start_time": "2023-09-05T12:27:03.829Z"
   },
   {
    "duration": 515,
    "start_time": "2023-09-05T12:27:54.149Z"
   },
   {
    "duration": 425,
    "start_time": "2023-09-05T12:27:57.148Z"
   },
   {
    "duration": 350,
    "start_time": "2023-09-05T12:28:01.190Z"
   },
   {
    "duration": 448,
    "start_time": "2023-09-05T12:32:24.383Z"
   },
   {
    "duration": 396,
    "start_time": "2023-09-05T12:33:06.561Z"
   },
   {
    "duration": 393,
    "start_time": "2023-09-05T12:33:11.801Z"
   },
   {
    "duration": 420,
    "start_time": "2023-09-05T12:33:15.266Z"
   },
   {
    "duration": 536,
    "start_time": "2023-09-05T12:33:17.748Z"
   },
   {
    "duration": 364,
    "start_time": "2023-09-05T12:33:29.209Z"
   },
   {
    "duration": 612,
    "start_time": "2023-09-05T12:33:32.863Z"
   },
   {
    "duration": 576,
    "start_time": "2023-09-05T12:33:34.898Z"
   },
   {
    "duration": 346,
    "start_time": "2023-09-05T12:33:37.346Z"
   },
   {
    "duration": 409,
    "start_time": "2023-09-05T12:33:59.731Z"
   },
   {
    "duration": 481,
    "start_time": "2023-09-05T12:34:14.462Z"
   },
   {
    "duration": 535,
    "start_time": "2023-09-05T12:34:40.450Z"
   },
   {
    "duration": 496,
    "start_time": "2023-09-05T12:34:43.623Z"
   },
   {
    "duration": 376,
    "start_time": "2023-09-05T12:37:03.654Z"
   },
   {
    "duration": 415,
    "start_time": "2023-09-05T12:37:18.192Z"
   },
   {
    "duration": 555,
    "start_time": "2023-09-05T12:37:23.093Z"
   },
   {
    "duration": 317,
    "start_time": "2023-09-05T12:37:28.260Z"
   },
   {
    "duration": 572,
    "start_time": "2023-09-05T12:39:55.568Z"
   },
   {
    "duration": 688,
    "start_time": "2023-09-05T12:40:02.081Z"
   },
   {
    "duration": 519,
    "start_time": "2023-09-05T12:42:37.005Z"
   },
   {
    "duration": 342,
    "start_time": "2023-09-05T12:42:40.249Z"
   },
   {
    "duration": 346,
    "start_time": "2023-09-05T12:49:50.689Z"
   },
   {
    "duration": 385,
    "start_time": "2023-09-05T12:49:54.722Z"
   },
   {
    "duration": 332,
    "start_time": "2023-09-05T12:49:56.410Z"
   },
   {
    "duration": 1113,
    "start_time": "2023-09-05T12:50:03.248Z"
   },
   {
    "duration": 180,
    "start_time": "2023-09-05T12:50:04.363Z"
   },
   {
    "duration": 4,
    "start_time": "2023-09-05T12:50:04.545Z"
   },
   {
    "duration": 194,
    "start_time": "2023-09-05T12:50:04.551Z"
   },
   {
    "duration": 34,
    "start_time": "2023-09-05T12:50:04.747Z"
   },
   {
    "duration": 471,
    "start_time": "2023-09-05T12:50:13.437Z"
   },
   {
    "duration": 353,
    "start_time": "2023-09-05T12:50:17.988Z"
   },
   {
    "duration": 1095,
    "start_time": "2023-09-05T12:50:26.251Z"
   },
   {
    "duration": 171,
    "start_time": "2023-09-05T12:50:27.349Z"
   },
   {
    "duration": 4,
    "start_time": "2023-09-05T12:50:27.522Z"
   },
   {
    "duration": 257,
    "start_time": "2023-09-05T12:50:27.533Z"
   },
   {
    "duration": 42,
    "start_time": "2023-09-05T12:50:27.793Z"
   },
   {
    "duration": 499,
    "start_time": "2023-09-05T12:55:43.685Z"
   },
   {
    "duration": 1180,
    "start_time": "2023-09-05T12:55:56.750Z"
   },
   {
    "duration": 171,
    "start_time": "2023-09-05T12:55:57.931Z"
   },
   {
    "duration": 5,
    "start_time": "2023-09-05T12:55:58.104Z"
   },
   {
    "duration": 171,
    "start_time": "2023-09-05T12:55:58.110Z"
   },
   {
    "duration": 30,
    "start_time": "2023-09-05T12:55:58.283Z"
   },
   {
    "duration": 100,
    "start_time": "2023-09-06T08:43:20.935Z"
   },
   {
    "duration": 1634,
    "start_time": "2023-09-06T08:43:29.179Z"
   },
   {
    "duration": 913,
    "start_time": "2023-09-06T08:43:30.815Z"
   },
   {
    "duration": 6,
    "start_time": "2023-09-06T08:43:31.731Z"
   },
   {
    "duration": 340,
    "start_time": "2023-09-06T08:43:31.740Z"
   },
   {
    "duration": 55,
    "start_time": "2023-09-06T08:43:32.083Z"
   },
   {
    "duration": 1128,
    "start_time": "2023-09-06T08:43:43.470Z"
   },
   {
    "duration": 513,
    "start_time": "2023-09-06T08:44:00.359Z"
   },
   {
    "duration": 1657,
    "start_time": "2023-09-06T08:46:18.358Z"
   },
   {
    "duration": 308,
    "start_time": "2023-09-06T08:46:20.017Z"
   },
   {
    "duration": 7,
    "start_time": "2023-09-06T08:46:20.333Z"
   },
   {
    "duration": 300,
    "start_time": "2023-09-06T08:46:20.343Z"
   },
   {
    "duration": 44,
    "start_time": "2023-09-06T08:46:20.646Z"
   },
   {
    "duration": 1056,
    "start_time": "2023-09-06T08:46:32.307Z"
   },
   {
    "duration": 1819,
    "start_time": "2023-09-06T08:46:40.057Z"
   },
   {
    "duration": 262,
    "start_time": "2023-09-06T08:46:41.878Z"
   },
   {
    "duration": 5,
    "start_time": "2023-09-06T08:46:42.143Z"
   },
   {
    "duration": 260,
    "start_time": "2023-09-06T08:46:42.150Z"
   },
   {
    "duration": 52,
    "start_time": "2023-09-06T08:46:42.412Z"
   },
   {
    "duration": 153,
    "start_time": "2023-09-06T08:48:32.676Z"
   },
   {
    "duration": 180,
    "start_time": "2023-09-06T08:49:04.364Z"
   },
   {
    "duration": 1483,
    "start_time": "2023-09-06T08:49:45.156Z"
   },
   {
    "duration": 262,
    "start_time": "2023-09-06T08:49:46.643Z"
   },
   {
    "duration": 8,
    "start_time": "2023-09-06T08:49:46.913Z"
   },
   {
    "duration": 253,
    "start_time": "2023-09-06T08:49:46.924Z"
   },
   {
    "duration": 205,
    "start_time": "2023-09-06T08:49:47.180Z"
   },
   {
    "duration": 57,
    "start_time": "2023-09-06T08:49:47.387Z"
   },
   {
    "duration": 209,
    "start_time": "2023-09-06T08:51:14.459Z"
   },
   {
    "duration": 183,
    "start_time": "2023-09-06T08:51:31.002Z"
   },
   {
    "duration": 173,
    "start_time": "2023-09-06T08:52:00.173Z"
   },
   {
    "duration": 183,
    "start_time": "2023-09-06T08:55:33.848Z"
   },
   {
    "duration": 577,
    "start_time": "2023-09-06T08:55:58.058Z"
   },
   {
    "duration": 1592,
    "start_time": "2023-09-06T08:56:07.768Z"
   },
   {
    "duration": 253,
    "start_time": "2023-09-06T08:56:09.364Z"
   },
   {
    "duration": 6,
    "start_time": "2023-09-06T08:56:09.619Z"
   },
   {
    "duration": 253,
    "start_time": "2023-09-06T08:56:09.631Z"
   },
   {
    "duration": 178,
    "start_time": "2023-09-06T08:56:09.886Z"
   },
   {
    "duration": 65,
    "start_time": "2023-09-06T08:56:10.066Z"
   },
   {
    "duration": 2185,
    "start_time": "2023-09-06T09:01:28.599Z"
   },
   {
    "duration": 1529,
    "start_time": "2023-09-06T09:02:34.213Z"
   },
   {
    "duration": 294,
    "start_time": "2023-09-06T09:02:35.746Z"
   },
   {
    "duration": 8,
    "start_time": "2023-09-06T09:02:36.044Z"
   },
   {
    "duration": 216,
    "start_time": "2023-09-06T09:02:36.054Z"
   },
   {
    "duration": 173,
    "start_time": "2023-09-06T09:02:36.273Z"
   },
   {
    "duration": 41,
    "start_time": "2023-09-06T09:02:36.448Z"
   },
   {
    "duration": 33,
    "start_time": "2023-09-06T09:12:24.888Z"
   },
   {
    "duration": 201,
    "start_time": "2023-09-06T09:18:23.932Z"
   },
   {
    "duration": 53,
    "start_time": "2023-09-06T09:18:35.107Z"
   },
   {
    "duration": 112,
    "start_time": "2023-09-06T09:20:00.695Z"
   },
   {
    "duration": 12,
    "start_time": "2023-09-06T09:28:03.133Z"
   },
   {
    "duration": 37,
    "start_time": "2023-09-06T09:32:56.034Z"
   },
   {
    "duration": 29,
    "start_time": "2023-09-06T09:33:08.733Z"
   },
   {
    "duration": 12,
    "start_time": "2023-09-06T09:44:54.777Z"
   },
   {
    "duration": 11,
    "start_time": "2023-09-06T09:46:13.326Z"
   },
   {
    "duration": 10,
    "start_time": "2023-09-06T09:46:27.177Z"
   },
   {
    "duration": 10,
    "start_time": "2023-09-06T10:03:28.961Z"
   },
   {
    "duration": 35,
    "start_time": "2023-09-06T10:03:40.169Z"
   },
   {
    "duration": 37,
    "start_time": "2023-09-06T10:03:46.632Z"
   },
   {
    "duration": 235,
    "start_time": "2023-09-06T10:04:58.457Z"
   },
   {
    "duration": 270,
    "start_time": "2023-09-06T10:06:29.492Z"
   },
   {
    "duration": 479,
    "start_time": "2023-09-06T10:06:49.394Z"
   },
   {
    "duration": 231,
    "start_time": "2023-09-06T10:07:43.838Z"
   },
   {
    "duration": 33,
    "start_time": "2023-09-06T10:07:52.272Z"
   },
   {
    "duration": 29,
    "start_time": "2023-09-06T10:08:01.984Z"
   },
   {
    "duration": 343,
    "start_time": "2023-09-06T10:09:46.275Z"
   },
   {
    "duration": 24,
    "start_time": "2023-09-06T10:10:04.924Z"
   },
   {
    "duration": 34,
    "start_time": "2023-09-06T10:10:29.491Z"
   },
   {
    "duration": 315,
    "start_time": "2023-09-06T10:10:45.985Z"
   },
   {
    "duration": 274,
    "start_time": "2023-09-06T10:12:12.414Z"
   },
   {
    "duration": 508,
    "start_time": "2023-09-06T10:12:39.035Z"
   },
   {
    "duration": 303,
    "start_time": "2023-09-06T10:12:58.159Z"
   },
   {
    "duration": 33,
    "start_time": "2023-09-06T10:13:12.199Z"
   },
   {
    "duration": 195,
    "start_time": "2023-09-06T10:13:16.661Z"
   },
   {
    "duration": 265,
    "start_time": "2023-09-06T10:14:21.527Z"
   },
   {
    "duration": 231,
    "start_time": "2023-09-06T10:16:35.580Z"
   },
   {
    "duration": 253,
    "start_time": "2023-09-06T10:16:53.236Z"
   },
   {
    "duration": 240,
    "start_time": "2023-09-06T10:17:10.749Z"
   },
   {
    "duration": 239,
    "start_time": "2023-09-06T10:17:51.645Z"
   },
   {
    "duration": 343,
    "start_time": "2023-09-06T10:18:19.799Z"
   },
   {
    "duration": 51,
    "start_time": "2023-09-06T10:21:14.449Z"
   },
   {
    "duration": 315,
    "start_time": "2023-09-06T10:21:59.944Z"
   },
   {
    "duration": 237,
    "start_time": "2023-09-06T10:22:16.162Z"
   },
   {
    "duration": 343,
    "start_time": "2023-09-06T10:23:54.354Z"
   },
   {
    "duration": 171,
    "start_time": "2023-09-06T10:27:27.787Z"
   },
   {
    "duration": 342,
    "start_time": "2023-09-06T10:30:47.143Z"
   },
   {
    "duration": 353,
    "start_time": "2023-09-06T10:30:57.921Z"
   },
   {
    "duration": 361,
    "start_time": "2023-09-06T10:31:08.022Z"
   },
   {
    "duration": 547,
    "start_time": "2023-09-06T10:31:22.192Z"
   },
   {
    "duration": 367,
    "start_time": "2023-09-06T10:31:35.698Z"
   },
   {
    "duration": 360,
    "start_time": "2023-09-06T10:31:48.675Z"
   },
   {
    "duration": 419,
    "start_time": "2023-09-06T10:32:25.206Z"
   },
   {
    "duration": 403,
    "start_time": "2023-09-06T10:33:01.198Z"
   },
   {
    "duration": 387,
    "start_time": "2023-09-06T10:33:46.426Z"
   },
   {
    "duration": 11,
    "start_time": "2023-09-06T10:35:09.561Z"
   },
   {
    "duration": 16,
    "start_time": "2023-09-06T10:35:21.239Z"
   },
   {
    "duration": 1300,
    "start_time": "2023-09-06T10:35:33.385Z"
   },
   {
    "duration": 72,
    "start_time": "2023-09-06T10:35:48.889Z"
   },
   {
    "duration": 601,
    "start_time": "2023-09-06T10:35:58.292Z"
   },
   {
    "duration": 376,
    "start_time": "2023-09-06T10:39:20.862Z"
   },
   {
    "duration": 16,
    "start_time": "2023-09-06T10:39:45.063Z"
   },
   {
    "duration": 17,
    "start_time": "2023-09-06T10:39:56.279Z"
   },
   {
    "duration": 358,
    "start_time": "2023-09-06T10:40:10.139Z"
   },
   {
    "duration": 366,
    "start_time": "2023-09-06T10:40:18.357Z"
   },
   {
    "duration": 369,
    "start_time": "2023-09-06T10:41:48.803Z"
   },
   {
    "duration": 402,
    "start_time": "2023-09-06T10:42:01.743Z"
   },
   {
    "duration": 19,
    "start_time": "2023-09-06T10:42:25.366Z"
   },
   {
    "duration": 15,
    "start_time": "2023-09-06T10:42:38.657Z"
   },
   {
    "duration": 351,
    "start_time": "2023-09-06T10:43:03.799Z"
   },
   {
    "duration": 334,
    "start_time": "2023-09-06T10:44:08.647Z"
   },
   {
    "duration": 53,
    "start_time": "2023-09-06T10:44:30.950Z"
   },
   {
    "duration": 1629,
    "start_time": "2023-09-06T10:44:39.141Z"
   },
   {
    "duration": 472,
    "start_time": "2023-09-06T10:44:45.849Z"
   },
   {
    "duration": 331,
    "start_time": "2023-09-06T10:45:18.155Z"
   },
   {
    "duration": 347,
    "start_time": "2023-09-06T10:45:22.917Z"
   },
   {
    "duration": 352,
    "start_time": "2023-09-06T10:45:29.623Z"
   },
   {
    "duration": 339,
    "start_time": "2023-09-06T10:45:53.410Z"
   },
   {
    "duration": 412,
    "start_time": "2023-09-06T10:46:12.381Z"
   },
   {
    "duration": 398,
    "start_time": "2023-09-06T10:46:52.550Z"
   },
   {
    "duration": 346,
    "start_time": "2023-09-06T10:47:01.807Z"
   },
   {
    "duration": 479,
    "start_time": "2023-09-06T10:47:37.772Z"
   },
   {
    "duration": 348,
    "start_time": "2023-09-06T10:48:02.883Z"
   },
   {
    "duration": 349,
    "start_time": "2023-09-06T10:48:35.503Z"
   },
   {
    "duration": 363,
    "start_time": "2023-09-06T10:48:45.188Z"
   },
   {
    "duration": 113,
    "start_time": "2023-09-06T10:48:54.707Z"
   },
   {
    "duration": 340,
    "start_time": "2023-09-06T10:49:40.383Z"
   },
   {
    "duration": 427,
    "start_time": "2023-09-06T10:49:52.418Z"
   },
   {
    "duration": 380,
    "start_time": "2023-09-06T10:51:01.214Z"
   },
   {
    "duration": 337,
    "start_time": "2023-09-06T10:52:13.042Z"
   },
   {
    "duration": 559,
    "start_time": "2023-09-06T10:52:29.497Z"
   },
   {
    "duration": 142,
    "start_time": "2023-09-06T10:53:28.258Z"
   },
   {
    "duration": 358,
    "start_time": "2023-09-06T10:54:19.291Z"
   },
   {
    "duration": 155,
    "start_time": "2023-09-06T10:56:11.773Z"
   },
   {
    "duration": 184,
    "start_time": "2023-09-06T10:56:29.612Z"
   },
   {
    "duration": 343,
    "start_time": "2023-09-06T10:57:07.793Z"
   },
   {
    "duration": 343,
    "start_time": "2023-09-06T10:57:44.911Z"
   },
   {
    "duration": 343,
    "start_time": "2023-09-06T10:58:56.655Z"
   },
   {
    "duration": 329,
    "start_time": "2023-09-06T10:59:37.786Z"
   },
   {
    "duration": 327,
    "start_time": "2023-09-06T11:00:11.565Z"
   },
   {
    "duration": 308,
    "start_time": "2023-09-06T11:00:22.169Z"
   },
   {
    "duration": 196,
    "start_time": "2023-09-06T11:00:45.195Z"
   },
   {
    "duration": 349,
    "start_time": "2023-09-06T11:01:20.420Z"
   },
   {
    "duration": 389,
    "start_time": "2023-09-06T11:01:46.486Z"
   },
   {
    "duration": 371,
    "start_time": "2023-09-06T11:02:09.653Z"
   },
   {
    "duration": 52,
    "start_time": "2023-09-06T11:05:37.354Z"
   },
   {
    "duration": 365,
    "start_time": "2023-09-06T11:05:59.755Z"
   },
   {
    "duration": 377,
    "start_time": "2023-09-06T11:06:15.873Z"
   },
   {
    "duration": 411,
    "start_time": "2023-09-06T11:06:43.123Z"
   },
   {
    "duration": 804,
    "start_time": "2023-09-06T11:06:59.364Z"
   },
   {
    "duration": 503,
    "start_time": "2023-09-06T11:07:33.255Z"
   },
   {
    "duration": 462,
    "start_time": "2023-09-06T11:07:46.322Z"
   },
   {
    "duration": 358,
    "start_time": "2023-09-06T11:08:01.379Z"
   },
   {
    "duration": 51,
    "start_time": "2023-09-06T11:08:13.183Z"
   },
   {
    "duration": 348,
    "start_time": "2023-09-06T11:08:16.118Z"
   },
   {
    "duration": 422,
    "start_time": "2023-09-06T11:08:25.763Z"
   },
   {
    "duration": 330,
    "start_time": "2023-09-06T11:08:43.489Z"
   },
   {
    "duration": 5,
    "start_time": "2023-09-06T11:10:17.267Z"
   },
   {
    "duration": 487,
    "start_time": "2023-09-06T11:10:23.331Z"
   },
   {
    "duration": 344,
    "start_time": "2023-09-06T11:10:58.497Z"
   },
   {
    "duration": 342,
    "start_time": "2023-09-06T11:11:23.614Z"
   },
   {
    "duration": 353,
    "start_time": "2023-09-06T11:16:01.787Z"
   },
   {
    "duration": 148,
    "start_time": "2023-09-06T11:34:06.912Z"
   },
   {
    "duration": 325,
    "start_time": "2023-09-06T11:34:21.076Z"
   },
   {
    "duration": 332,
    "start_time": "2023-09-06T11:34:37.397Z"
   },
   {
    "duration": 346,
    "start_time": "2023-09-06T11:34:52.687Z"
   },
   {
    "duration": 519,
    "start_time": "2023-09-06T11:35:05.110Z"
   },
   {
    "duration": 12,
    "start_time": "2023-09-06T11:38:16.754Z"
   },
   {
    "duration": 32,
    "start_time": "2023-09-06T11:38:20.542Z"
   },
   {
    "duration": 21,
    "start_time": "2023-09-06T11:39:23.107Z"
   },
   {
    "duration": 24,
    "start_time": "2023-09-06T11:41:26.451Z"
   },
   {
    "duration": 14,
    "start_time": "2023-09-06T11:44:07.464Z"
   },
   {
    "duration": 19,
    "start_time": "2023-09-06T11:45:08.928Z"
   },
   {
    "duration": 20,
    "start_time": "2023-09-06T11:45:27.154Z"
   },
   {
    "duration": 19,
    "start_time": "2023-09-06T11:45:30.471Z"
   },
   {
    "duration": 20,
    "start_time": "2023-09-06T11:45:33.983Z"
   },
   {
    "duration": 22,
    "start_time": "2023-09-06T11:45:35.370Z"
   },
   {
    "duration": 71,
    "start_time": "2023-09-06T11:47:18.228Z"
   },
   {
    "duration": 51,
    "start_time": "2023-09-06T11:47:38.275Z"
   },
   {
    "duration": 80,
    "start_time": "2023-09-06T11:48:45.590Z"
   },
   {
    "duration": 66,
    "start_time": "2023-09-06T11:49:48.657Z"
   },
   {
    "duration": 63,
    "start_time": "2023-09-06T11:50:17.682Z"
   },
   {
    "duration": 75,
    "start_time": "2023-09-06T11:51:18.030Z"
   },
   {
    "duration": 75,
    "start_time": "2023-09-06T11:51:57.971Z"
   },
   {
    "duration": 16,
    "start_time": "2023-09-06T11:56:43.378Z"
   },
   {
    "duration": 20,
    "start_time": "2023-09-06T11:57:17.537Z"
   },
   {
    "duration": 64,
    "start_time": "2023-09-06T11:57:19.566Z"
   },
   {
    "duration": 13,
    "start_time": "2023-09-06T11:57:21.930Z"
   },
   {
    "duration": 21,
    "start_time": "2023-09-06T11:57:36.042Z"
   },
   {
    "duration": 16,
    "start_time": "2023-09-06T11:57:54.092Z"
   },
   {
    "duration": 38,
    "start_time": "2023-09-06T12:00:14.911Z"
   },
   {
    "duration": 42,
    "start_time": "2023-09-06T12:01:54.606Z"
   },
   {
    "duration": 51,
    "start_time": "2023-09-06T12:02:12.297Z"
   },
   {
    "duration": 51,
    "start_time": "2023-09-06T12:02:21.442Z"
   },
   {
    "duration": 52,
    "start_time": "2023-09-06T12:02:31.575Z"
   },
   {
    "duration": 28,
    "start_time": "2023-09-06T12:10:33.608Z"
   },
   {
    "duration": 2302,
    "start_time": "2023-09-06T12:15:56.570Z"
   },
   {
    "duration": 2242,
    "start_time": "2023-09-06T12:16:15.365Z"
   },
   {
    "duration": 1434,
    "start_time": "2023-09-06T12:16:47.135Z"
   },
   {
    "duration": 1505,
    "start_time": "2023-09-06T12:17:26.451Z"
   },
   {
    "duration": 41,
    "start_time": "2023-09-06T12:18:19.010Z"
   },
   {
    "duration": 70,
    "start_time": "2023-09-06T12:20:04.402Z"
   },
   {
    "duration": 67,
    "start_time": "2023-09-06T12:20:57.081Z"
   },
   {
    "duration": 60,
    "start_time": "2023-09-06T12:22:17.107Z"
   },
   {
    "duration": 76,
    "start_time": "2023-09-06T12:23:15.335Z"
   },
   {
    "duration": 65,
    "start_time": "2023-09-06T12:23:28.620Z"
   },
   {
    "duration": 65,
    "start_time": "2023-09-06T12:23:43.108Z"
   },
   {
    "duration": 69,
    "start_time": "2023-09-06T12:23:57.969Z"
   },
   {
    "duration": 84,
    "start_time": "2023-09-07T11:23:59.431Z"
   },
   {
    "duration": 1467,
    "start_time": "2023-09-07T11:24:08.023Z"
   },
   {
    "duration": 533,
    "start_time": "2023-09-07T11:24:09.493Z"
   },
   {
    "duration": 5,
    "start_time": "2023-09-07T11:24:10.027Z"
   },
   {
    "duration": 182,
    "start_time": "2023-09-07T11:24:10.034Z"
   },
   {
    "duration": 151,
    "start_time": "2023-09-07T11:24:10.218Z"
   },
   {
    "duration": 35,
    "start_time": "2023-09-07T11:24:10.371Z"
   },
   {
    "duration": 15,
    "start_time": "2023-09-07T11:24:10.408Z"
   },
   {
    "duration": 112,
    "start_time": "2023-09-07T11:24:10.424Z"
   },
   {
    "duration": 8,
    "start_time": "2023-09-07T11:24:10.537Z"
   },
   {
    "duration": 38,
    "start_time": "2023-09-07T11:24:10.547Z"
   },
   {
    "duration": 21,
    "start_time": "2023-09-07T11:24:10.586Z"
   },
   {
    "duration": 66,
    "start_time": "2023-09-07T11:24:10.609Z"
   },
   {
    "duration": 369,
    "start_time": "2023-09-07T11:24:10.676Z"
   },
   {
    "duration": 21,
    "start_time": "2023-09-07T11:24:11.047Z"
   },
   {
    "duration": 84,
    "start_time": "2023-09-07T11:24:11.071Z"
   },
   {
    "duration": 53,
    "start_time": "2023-09-07T11:24:11.157Z"
   },
   {
    "duration": 612,
    "start_time": "2023-09-07T11:24:25.863Z"
   },
   {
    "duration": 1301,
    "start_time": "2023-09-07T11:24:41.877Z"
   },
   {
    "duration": 187,
    "start_time": "2023-09-07T11:24:43.181Z"
   },
   {
    "duration": 4,
    "start_time": "2023-09-07T11:24:43.370Z"
   },
   {
    "duration": 190,
    "start_time": "2023-09-07T11:24:43.376Z"
   },
   {
    "duration": 149,
    "start_time": "2023-09-07T11:24:43.568Z"
   },
   {
    "duration": 41,
    "start_time": "2023-09-07T11:24:43.719Z"
   },
   {
    "duration": 18,
    "start_time": "2023-09-07T11:24:43.762Z"
   },
   {
    "duration": 85,
    "start_time": "2023-09-07T11:24:43.783Z"
   },
   {
    "duration": 9,
    "start_time": "2023-09-07T11:24:43.870Z"
   },
   {
    "duration": 38,
    "start_time": "2023-09-07T11:24:43.881Z"
   },
   {
    "duration": 22,
    "start_time": "2023-09-07T11:24:43.921Z"
   },
   {
    "duration": 56,
    "start_time": "2023-09-07T11:24:43.944Z"
   },
   {
    "duration": 361,
    "start_time": "2023-09-07T11:24:44.002Z"
   },
   {
    "duration": 21,
    "start_time": "2023-09-07T11:24:44.365Z"
   },
   {
    "duration": 81,
    "start_time": "2023-09-07T11:24:44.387Z"
   },
   {
    "duration": 50,
    "start_time": "2023-09-07T11:24:44.470Z"
   },
   {
    "duration": 625,
    "start_time": "2023-09-07T11:28:49.665Z"
   },
   {
    "duration": 456,
    "start_time": "2023-09-07T11:28:53.399Z"
   },
   {
    "duration": 1304,
    "start_time": "2023-09-07T11:29:04.006Z"
   },
   {
    "duration": 199,
    "start_time": "2023-09-07T11:29:05.313Z"
   },
   {
    "duration": 5,
    "start_time": "2023-09-07T11:29:05.514Z"
   },
   {
    "duration": 181,
    "start_time": "2023-09-07T11:29:05.521Z"
   },
   {
    "duration": 148,
    "start_time": "2023-09-07T11:29:05.704Z"
   },
   {
    "duration": 37,
    "start_time": "2023-09-07T11:29:05.853Z"
   },
   {
    "duration": 16,
    "start_time": "2023-09-07T11:29:05.892Z"
   },
   {
    "duration": 94,
    "start_time": "2023-09-07T11:29:05.910Z"
   },
   {
    "duration": 8,
    "start_time": "2023-09-07T11:29:06.006Z"
   },
   {
    "duration": 41,
    "start_time": "2023-09-07T11:29:06.016Z"
   },
   {
    "duration": 8,
    "start_time": "2023-09-07T11:29:06.059Z"
   },
   {
    "duration": 54,
    "start_time": "2023-09-07T11:29:06.069Z"
   },
   {
    "duration": 377,
    "start_time": "2023-09-07T11:29:06.125Z"
   },
   {
    "duration": 21,
    "start_time": "2023-09-07T11:29:06.503Z"
   },
   {
    "duration": 81,
    "start_time": "2023-09-07T11:29:06.526Z"
   },
   {
    "duration": 62,
    "start_time": "2023-09-07T11:29:06.608Z"
   },
   {
    "duration": 315,
    "start_time": "2023-09-07T11:33:03.767Z"
   },
   {
    "duration": 332,
    "start_time": "2023-09-07T11:33:23.934Z"
   },
   {
    "duration": 134,
    "start_time": "2023-09-07T11:46:02.941Z"
   },
   {
    "duration": 42,
    "start_time": "2023-09-07T11:46:12.958Z"
   },
   {
    "duration": 32,
    "start_time": "2023-09-07T11:46:59.368Z"
   },
   {
    "duration": 31,
    "start_time": "2023-09-07T11:47:27.799Z"
   },
   {
    "duration": 61,
    "start_time": "2023-09-07T12:00:51.866Z"
   },
   {
    "duration": 59,
    "start_time": "2023-09-07T12:01:13.769Z"
   },
   {
    "duration": 60,
    "start_time": "2023-09-07T12:01:22.049Z"
   },
   {
    "duration": 59,
    "start_time": "2023-09-07T12:01:28.069Z"
   },
   {
    "duration": 57,
    "start_time": "2023-09-07T12:01:52.188Z"
   },
   {
    "duration": 54,
    "start_time": "2023-09-07T12:02:38.477Z"
   },
   {
    "duration": 63,
    "start_time": "2023-09-07T12:02:45.239Z"
   },
   {
    "duration": 56,
    "start_time": "2023-09-07T12:02:58.920Z"
   },
   {
    "duration": 57,
    "start_time": "2023-09-07T12:03:09.207Z"
   },
   {
    "duration": 71,
    "start_time": "2023-09-07T12:03:46.303Z"
   },
   {
    "duration": 72,
    "start_time": "2023-09-07T12:03:50.074Z"
   },
   {
    "duration": 59,
    "start_time": "2023-09-07T12:03:51.953Z"
   },
   {
    "duration": 59,
    "start_time": "2023-09-07T12:03:54.102Z"
   },
   {
    "duration": 59,
    "start_time": "2023-09-07T12:03:57.343Z"
   },
   {
    "duration": 57,
    "start_time": "2023-09-07T12:03:59.290Z"
   },
   {
    "duration": 58,
    "start_time": "2023-09-07T12:06:57.839Z"
   },
   {
    "duration": 56,
    "start_time": "2023-09-07T12:07:01.892Z"
   },
   {
    "duration": 8,
    "start_time": "2023-09-07T12:11:20.768Z"
   },
   {
    "duration": 13,
    "start_time": "2023-09-07T12:11:36.671Z"
   },
   {
    "duration": 13,
    "start_time": "2023-09-07T12:11:59.368Z"
   },
   {
    "duration": 9,
    "start_time": "2023-09-07T12:30:05.390Z"
   },
   {
    "duration": 10,
    "start_time": "2023-09-07T12:30:08.114Z"
   },
   {
    "duration": 4,
    "start_time": "2023-09-07T12:30:17.330Z"
   },
   {
    "duration": 20,
    "start_time": "2023-09-07T12:30:20.112Z"
   },
   {
    "duration": 13,
    "start_time": "2023-09-07T12:30:38.288Z"
   },
   {
    "duration": 13,
    "start_time": "2023-09-07T12:30:40.434Z"
   },
   {
    "duration": 1241,
    "start_time": "2023-09-07T12:30:47.859Z"
   },
   {
    "duration": 192,
    "start_time": "2023-09-07T12:30:49.102Z"
   },
   {
    "duration": 5,
    "start_time": "2023-09-07T12:30:49.296Z"
   },
   {
    "duration": 194,
    "start_time": "2023-09-07T12:30:49.302Z"
   },
   {
    "duration": 148,
    "start_time": "2023-09-07T12:30:49.499Z"
   },
   {
    "duration": 37,
    "start_time": "2023-09-07T12:30:49.650Z"
   },
   {
    "duration": 15,
    "start_time": "2023-09-07T12:30:49.689Z"
   },
   {
    "duration": 92,
    "start_time": "2023-09-07T12:30:49.706Z"
   },
   {
    "duration": 9,
    "start_time": "2023-09-07T12:30:49.799Z"
   },
   {
    "duration": 39,
    "start_time": "2023-09-07T12:30:49.809Z"
   },
   {
    "duration": 9,
    "start_time": "2023-09-07T12:30:49.849Z"
   },
   {
    "duration": 53,
    "start_time": "2023-09-07T12:30:49.859Z"
   },
   {
    "duration": 379,
    "start_time": "2023-09-07T12:30:49.914Z"
   },
   {
    "duration": 23,
    "start_time": "2023-09-07T12:30:50.296Z"
   },
   {
    "duration": 86,
    "start_time": "2023-09-07T12:30:50.321Z"
   },
   {
    "duration": 60,
    "start_time": "2023-09-07T12:30:50.409Z"
   },
   {
    "duration": 35,
    "start_time": "2023-09-07T12:30:50.470Z"
   },
   {
    "duration": 81,
    "start_time": "2023-09-07T12:30:50.507Z"
   },
   {
    "duration": 12,
    "start_time": "2023-09-07T12:30:50.590Z"
   },
   {
    "duration": 31,
    "start_time": "2023-09-07T12:30:50.604Z"
   },
   {
    "duration": 13,
    "start_time": "2023-09-07T12:40:33.831Z"
   },
   {
    "duration": 13,
    "start_time": "2023-09-07T12:40:42.596Z"
   },
   {
    "duration": 11,
    "start_time": "2023-09-07T12:40:46.693Z"
   },
   {
    "duration": 18,
    "start_time": "2023-09-07T13:16:32.108Z"
   },
   {
    "duration": 12,
    "start_time": "2023-09-07T13:16:36.262Z"
   },
   {
    "duration": 22,
    "start_time": "2023-09-07T13:16:38.441Z"
   },
   {
    "duration": 12,
    "start_time": "2023-09-07T13:17:03.490Z"
   },
   {
    "duration": 90,
    "start_time": "2023-09-07T13:17:27.309Z"
   },
   {
    "duration": 12,
    "start_time": "2023-09-07T13:17:32.475Z"
   },
   {
    "duration": 13,
    "start_time": "2023-09-07T13:18:02.581Z"
   },
   {
    "duration": 16,
    "start_time": "2023-09-07T13:18:05.612Z"
   },
   {
    "duration": 18,
    "start_time": "2023-09-07T13:18:28.998Z"
   },
   {
    "duration": 15,
    "start_time": "2023-09-07T13:20:01.811Z"
   },
   {
    "duration": 18,
    "start_time": "2023-09-07T13:20:04.540Z"
   },
   {
    "duration": 14,
    "start_time": "2023-09-07T13:20:07.238Z"
   },
   {
    "duration": 5,
    "start_time": "2023-09-07T13:20:39.696Z"
   },
   {
    "duration": 124,
    "start_time": "2023-09-07T13:20:52.471Z"
   },
   {
    "duration": 1569,
    "start_time": "2023-09-07T13:21:05.340Z"
   },
   {
    "duration": 210,
    "start_time": "2023-09-07T13:21:06.911Z"
   },
   {
    "duration": 5,
    "start_time": "2023-09-07T13:21:07.123Z"
   },
   {
    "duration": 211,
    "start_time": "2023-09-07T13:21:07.130Z"
   },
   {
    "duration": 152,
    "start_time": "2023-09-07T13:21:07.342Z"
   },
   {
    "duration": 38,
    "start_time": "2023-09-07T13:21:07.495Z"
   },
   {
    "duration": 39,
    "start_time": "2023-09-07T13:21:07.535Z"
   },
   {
    "duration": 92,
    "start_time": "2023-09-07T13:21:07.576Z"
   },
   {
    "duration": 8,
    "start_time": "2023-09-07T13:21:07.670Z"
   },
   {
    "duration": 31,
    "start_time": "2023-09-07T13:21:07.680Z"
   },
   {
    "duration": 8,
    "start_time": "2023-09-07T13:21:07.713Z"
   },
   {
    "duration": 66,
    "start_time": "2023-09-07T13:21:07.723Z"
   },
   {
    "duration": 381,
    "start_time": "2023-09-07T13:21:07.790Z"
   },
   {
    "duration": 22,
    "start_time": "2023-09-07T13:21:08.173Z"
   },
   {
    "duration": 95,
    "start_time": "2023-09-07T13:21:08.197Z"
   },
   {
    "duration": 67,
    "start_time": "2023-09-07T13:21:08.294Z"
   },
   {
    "duration": 30,
    "start_time": "2023-09-07T13:21:08.365Z"
   },
   {
    "duration": 76,
    "start_time": "2023-09-07T13:21:08.397Z"
   },
   {
    "duration": 12,
    "start_time": "2023-09-07T13:21:08.475Z"
   },
   {
    "duration": 9,
    "start_time": "2023-09-07T13:21:08.488Z"
   },
   {
    "duration": 17,
    "start_time": "2023-09-07T13:21:08.499Z"
   },
   {
    "duration": 19,
    "start_time": "2023-09-07T13:22:38.401Z"
   },
   {
    "duration": 18,
    "start_time": "2023-09-07T13:22:52.161Z"
   },
   {
    "duration": 13,
    "start_time": "2023-09-07T13:23:07.562Z"
   },
   {
    "duration": 14,
    "start_time": "2023-09-07T13:23:20.162Z"
   },
   {
    "duration": 1293,
    "start_time": "2023-09-07T13:23:27.407Z"
   },
   {
    "duration": 207,
    "start_time": "2023-09-07T13:23:28.702Z"
   },
   {
    "duration": 5,
    "start_time": "2023-09-07T13:23:28.910Z"
   },
   {
    "duration": 215,
    "start_time": "2023-09-07T13:23:28.917Z"
   },
   {
    "duration": 175,
    "start_time": "2023-09-07T13:23:29.134Z"
   },
   {
    "duration": 53,
    "start_time": "2023-09-07T13:23:29.311Z"
   },
   {
    "duration": 16,
    "start_time": "2023-09-07T13:23:29.366Z"
   },
   {
    "duration": 91,
    "start_time": "2023-09-07T13:23:29.384Z"
   },
   {
    "duration": 8,
    "start_time": "2023-09-07T13:23:29.477Z"
   },
   {
    "duration": 28,
    "start_time": "2023-09-07T13:23:29.486Z"
   },
   {
    "duration": 10,
    "start_time": "2023-09-07T13:23:29.517Z"
   },
   {
    "duration": 53,
    "start_time": "2023-09-07T13:23:29.552Z"
   },
   {
    "duration": 410,
    "start_time": "2023-09-07T13:23:29.607Z"
   },
   {
    "duration": 22,
    "start_time": "2023-09-07T13:23:30.020Z"
   },
   {
    "duration": 90,
    "start_time": "2023-09-07T13:23:30.043Z"
   },
   {
    "duration": 56,
    "start_time": "2023-09-07T13:23:30.135Z"
   },
   {
    "duration": 36,
    "start_time": "2023-09-07T13:23:30.193Z"
   },
   {
    "duration": 111,
    "start_time": "2023-09-07T13:23:30.230Z"
   },
   {
    "duration": 19,
    "start_time": "2023-09-07T13:23:30.343Z"
   },
   {
    "duration": 148,
    "start_time": "2023-09-07T13:23:30.364Z"
   },
   {
    "duration": 86,
    "start_time": "2023-09-07T13:23:30.514Z"
   },
   {
    "duration": 181,
    "start_time": "2023-09-07T13:31:29.512Z"
   },
   {
    "duration": 147,
    "start_time": "2023-09-07T13:31:33.074Z"
   },
   {
    "duration": 177,
    "start_time": "2023-09-07T13:31:41.999Z"
   },
   {
    "duration": 179,
    "start_time": "2023-09-07T13:32:07.957Z"
   },
   {
    "duration": 179,
    "start_time": "2023-09-07T13:32:20.492Z"
   },
   {
    "duration": 233,
    "start_time": "2023-09-07T13:33:04.574Z"
   },
   {
    "duration": 130,
    "start_time": "2023-09-07T13:33:16.962Z"
   },
   {
    "duration": 158,
    "start_time": "2023-09-07T13:33:26.869Z"
   },
   {
    "duration": 182,
    "start_time": "2023-09-07T13:33:30.274Z"
   },
   {
    "duration": 172,
    "start_time": "2023-09-07T13:33:41.295Z"
   },
   {
    "duration": 187,
    "start_time": "2023-09-07T13:33:50.303Z"
   },
   {
    "duration": 168,
    "start_time": "2023-09-07T13:35:06.417Z"
   },
   {
    "duration": 192,
    "start_time": "2023-09-07T13:35:45.601Z"
   },
   {
    "duration": 167,
    "start_time": "2023-09-07T13:36:51.905Z"
   },
   {
    "duration": 159,
    "start_time": "2023-09-07T13:37:04.596Z"
   },
   {
    "duration": 165,
    "start_time": "2023-09-07T13:37:17.113Z"
   },
   {
    "duration": 193,
    "start_time": "2023-09-07T13:37:55.623Z"
   },
   {
    "duration": 179,
    "start_time": "2023-09-07T13:38:28.627Z"
   },
   {
    "duration": 247,
    "start_time": "2023-09-07T13:38:45.089Z"
   },
   {
    "duration": 180,
    "start_time": "2023-09-07T13:39:04.625Z"
   },
   {
    "duration": 162,
    "start_time": "2023-09-07T13:39:24.861Z"
   },
   {
    "duration": 162,
    "start_time": "2023-09-07T13:40:29.897Z"
   },
   {
    "duration": 174,
    "start_time": "2023-09-07T13:43:33.458Z"
   },
   {
    "duration": 165,
    "start_time": "2023-09-07T13:44:52.853Z"
   },
   {
    "duration": 178,
    "start_time": "2023-09-07T13:45:06.862Z"
   },
   {
    "duration": 159,
    "start_time": "2023-09-07T13:45:14.278Z"
   },
   {
    "duration": 174,
    "start_time": "2023-09-07T13:45:15.983Z"
   },
   {
    "duration": 166,
    "start_time": "2023-09-07T13:45:17.976Z"
   },
   {
    "duration": 173,
    "start_time": "2023-09-07T13:45:27.738Z"
   },
   {
    "duration": 181,
    "start_time": "2023-09-07T13:46:15.810Z"
   },
   {
    "duration": 306,
    "start_time": "2023-09-07T13:46:39.619Z"
   },
   {
    "duration": 159,
    "start_time": "2023-09-07T13:46:54.974Z"
   },
   {
    "duration": 157,
    "start_time": "2023-09-07T13:47:02.561Z"
   },
   {
    "duration": 169,
    "start_time": "2023-09-07T13:47:13.628Z"
   },
   {
    "duration": 177,
    "start_time": "2023-09-07T13:47:54.018Z"
   },
   {
    "duration": 200,
    "start_time": "2023-09-07T13:48:02.450Z"
   },
   {
    "duration": 221,
    "start_time": "2023-09-07T13:48:31.287Z"
   },
   {
    "duration": 197,
    "start_time": "2023-09-07T13:48:49.571Z"
   },
   {
    "duration": 188,
    "start_time": "2023-09-07T13:49:41.876Z"
   },
   {
    "duration": 194,
    "start_time": "2023-09-07T13:49:46.994Z"
   },
   {
    "duration": 191,
    "start_time": "2023-09-07T13:50:04.834Z"
   },
   {
    "duration": 193,
    "start_time": "2023-09-07T13:50:08.877Z"
   },
   {
    "duration": 186,
    "start_time": "2023-09-07T13:50:43.686Z"
   },
   {
    "duration": 313,
    "start_time": "2023-09-07T13:50:46.596Z"
   },
   {
    "duration": 221,
    "start_time": "2023-09-07T13:51:02.946Z"
   },
   {
    "duration": 188,
    "start_time": "2023-09-07T13:51:08.273Z"
   },
   {
    "duration": 176,
    "start_time": "2023-09-07T13:51:17.523Z"
   },
   {
    "duration": 225,
    "start_time": "2023-09-07T13:51:21.723Z"
   },
   {
    "duration": 190,
    "start_time": "2023-09-07T13:54:17.365Z"
   },
   {
    "duration": 184,
    "start_time": "2023-09-07T13:54:19.597Z"
   },
   {
    "duration": 182,
    "start_time": "2023-09-07T13:54:44.393Z"
   },
   {
    "duration": 187,
    "start_time": "2023-09-07T13:54:45.817Z"
   },
   {
    "duration": 180,
    "start_time": "2023-09-07T13:54:50.788Z"
   },
   {
    "duration": 187,
    "start_time": "2023-09-07T13:54:52.795Z"
   },
   {
    "duration": 217,
    "start_time": "2023-09-07T13:55:10.294Z"
   },
   {
    "duration": 281,
    "start_time": "2023-09-07T13:55:12.610Z"
   },
   {
    "duration": 25,
    "start_time": "2023-09-07T14:05:11.965Z"
   },
   {
    "duration": 32,
    "start_time": "2023-09-07T14:07:29.402Z"
   },
   {
    "duration": 6,
    "start_time": "2023-09-07T14:07:44.472Z"
   },
   {
    "duration": 5,
    "start_time": "2023-09-07T14:07:48.701Z"
   },
   {
    "duration": 5,
    "start_time": "2023-09-07T14:07:51.753Z"
   },
   {
    "duration": 102,
    "start_time": "2023-09-08T09:51:01.447Z"
   },
   {
    "duration": 2276,
    "start_time": "2023-09-08T09:51:09.829Z"
   },
   {
    "duration": 841,
    "start_time": "2023-09-08T09:51:12.108Z"
   },
   {
    "duration": 6,
    "start_time": "2023-09-08T09:51:12.951Z"
   },
   {
    "duration": 352,
    "start_time": "2023-09-08T09:51:12.959Z"
   },
   {
    "duration": 172,
    "start_time": "2023-09-08T09:51:13.314Z"
   },
   {
    "duration": 68,
    "start_time": "2023-09-08T09:51:13.488Z"
   },
   {
    "duration": 20,
    "start_time": "2023-09-08T09:51:13.561Z"
   },
   {
    "duration": 165,
    "start_time": "2023-09-08T09:51:13.583Z"
   },
   {
    "duration": 8,
    "start_time": "2023-09-08T09:51:13.752Z"
   },
   {
    "duration": 31,
    "start_time": "2023-09-08T09:51:13.761Z"
   },
   {
    "duration": 18,
    "start_time": "2023-09-08T09:51:13.794Z"
   },
   {
    "duration": 68,
    "start_time": "2023-09-08T09:51:13.813Z"
   },
   {
    "duration": 402,
    "start_time": "2023-09-08T09:51:13.882Z"
   },
   {
    "duration": 40,
    "start_time": "2023-09-08T09:51:14.286Z"
   },
   {
    "duration": 138,
    "start_time": "2023-09-08T09:51:14.328Z"
   },
   {
    "duration": 101,
    "start_time": "2023-09-08T09:51:14.468Z"
   },
   {
    "duration": 38,
    "start_time": "2023-09-08T09:51:14.571Z"
   },
   {
    "duration": 85,
    "start_time": "2023-09-08T09:51:14.611Z"
   },
   {
    "duration": 30,
    "start_time": "2023-09-08T09:51:14.698Z"
   },
   {
    "duration": 31,
    "start_time": "2023-09-08T09:51:14.730Z"
   },
   {
    "duration": 14,
    "start_time": "2023-09-08T09:51:14.764Z"
   },
   {
    "duration": 251,
    "start_time": "2023-09-08T09:51:14.780Z"
   },
   {
    "duration": 5,
    "start_time": "2023-09-08T09:51:15.032Z"
   },
   {
    "duration": 112,
    "start_time": "2023-09-08T09:51:15.040Z"
   },
   {
    "duration": 42,
    "start_time": "2023-09-08T10:37:11.648Z"
   },
   {
    "duration": 70,
    "start_time": "2023-09-08T10:38:40.436Z"
   },
   {
    "duration": 76,
    "start_time": "2023-09-08T10:38:58.277Z"
   },
   {
    "duration": 14,
    "start_time": "2023-09-08T11:11:00.762Z"
   },
   {
    "duration": 29,
    "start_time": "2023-09-08T11:11:52.663Z"
   },
   {
    "duration": 22,
    "start_time": "2023-09-08T11:12:15.510Z"
   },
   {
    "duration": 23,
    "start_time": "2023-09-08T11:12:24.491Z"
   },
   {
    "duration": 19,
    "start_time": "2023-09-08T11:12:28.560Z"
   },
   {
    "duration": 17,
    "start_time": "2023-09-08T11:12:49.877Z"
   },
   {
    "duration": 25,
    "start_time": "2023-09-08T11:13:17.911Z"
   },
   {
    "duration": 24,
    "start_time": "2023-09-08T11:13:28.234Z"
   },
   {
    "duration": 39,
    "start_time": "2023-09-08T11:14:19.701Z"
   },
   {
    "duration": 38,
    "start_time": "2023-09-08T11:14:52.431Z"
   },
   {
    "duration": 31,
    "start_time": "2023-09-08T11:15:01.743Z"
   },
   {
    "duration": 37,
    "start_time": "2023-09-08T11:15:05.398Z"
   },
   {
    "duration": 34,
    "start_time": "2023-09-08T11:15:08.803Z"
   },
   {
    "duration": 28,
    "start_time": "2023-09-08T11:18:51.313Z"
   },
   {
    "duration": 32,
    "start_time": "2023-09-08T11:19:06.043Z"
   },
   {
    "duration": 116,
    "start_time": "2023-09-08T11:19:19.016Z"
   },
   {
    "duration": 36,
    "start_time": "2023-09-08T11:19:36.709Z"
   },
   {
    "duration": 32,
    "start_time": "2023-09-08T11:20:05.855Z"
   },
   {
    "duration": 18,
    "start_time": "2023-09-08T11:20:08.267Z"
   },
   {
    "duration": 18,
    "start_time": "2023-09-08T11:20:11.677Z"
   },
   {
    "duration": 1305,
    "start_time": "2023-09-08T11:20:28.666Z"
   },
   {
    "duration": 208,
    "start_time": "2023-09-08T11:20:29.973Z"
   },
   {
    "duration": 5,
    "start_time": "2023-09-08T11:20:30.182Z"
   },
   {
    "duration": 234,
    "start_time": "2023-09-08T11:20:30.190Z"
   },
   {
    "duration": 160,
    "start_time": "2023-09-08T11:20:30.426Z"
   },
   {
    "duration": 51,
    "start_time": "2023-09-08T11:20:30.587Z"
   },
   {
    "duration": 16,
    "start_time": "2023-09-08T11:20:30.640Z"
   },
   {
    "duration": 120,
    "start_time": "2023-09-08T11:20:30.658Z"
   },
   {
    "duration": 14,
    "start_time": "2023-09-08T11:20:30.780Z"
   },
   {
    "duration": 65,
    "start_time": "2023-09-08T11:20:30.800Z"
   },
   {
    "duration": 40,
    "start_time": "2023-09-08T11:20:30.867Z"
   },
   {
    "duration": 93,
    "start_time": "2023-09-08T11:20:30.916Z"
   },
   {
    "duration": 366,
    "start_time": "2023-09-08T11:20:31.014Z"
   },
   {
    "duration": 39,
    "start_time": "2023-09-08T11:20:31.382Z"
   },
   {
    "duration": 105,
    "start_time": "2023-09-08T11:20:31.424Z"
   },
   {
    "duration": 53,
    "start_time": "2023-09-08T11:20:31.531Z"
   },
   {
    "duration": 37,
    "start_time": "2023-09-08T11:20:31.604Z"
   },
   {
    "duration": 312,
    "start_time": "2023-09-08T11:20:31.643Z"
   },
   {
    "duration": 287,
    "start_time": "2023-09-08T11:20:31.957Z"
   },
   {
    "duration": 236,
    "start_time": "2023-09-08T11:20:32.247Z"
   },
   {
    "duration": 147,
    "start_time": "2023-09-08T11:20:32.484Z"
   },
   {
    "duration": 182,
    "start_time": "2023-09-08T11:20:32.633Z"
   },
   {
    "duration": 5,
    "start_time": "2023-09-08T11:20:32.817Z"
   },
   {
    "duration": 98,
    "start_time": "2023-09-08T11:20:32.824Z"
   },
   {
    "duration": 35,
    "start_time": "2023-09-08T11:20:32.924Z"
   },
   {
    "duration": 89,
    "start_time": "2023-09-08T11:31:23.895Z"
   },
   {
    "duration": 104,
    "start_time": "2023-09-08T11:31:39.478Z"
   },
   {
    "duration": 341,
    "start_time": "2023-09-08T11:32:11.090Z"
   },
   {
    "duration": 248,
    "start_time": "2023-09-08T11:32:39.887Z"
   },
   {
    "duration": 237,
    "start_time": "2023-09-08T11:33:06.545Z"
   },
   {
    "duration": 252,
    "start_time": "2023-09-08T11:38:47.837Z"
   },
   {
    "duration": 11,
    "start_time": "2023-09-08T12:29:40.137Z"
   },
   {
    "duration": 5,
    "start_time": "2023-09-08T12:30:15.343Z"
   },
   {
    "duration": 9,
    "start_time": "2023-09-08T12:30:27.541Z"
   },
   {
    "duration": 18,
    "start_time": "2023-09-08T12:40:12.816Z"
   },
   {
    "duration": 13,
    "start_time": "2023-09-08T12:40:39.476Z"
   },
   {
    "duration": 5,
    "start_time": "2023-09-08T12:41:18.940Z"
   },
   {
    "duration": 13,
    "start_time": "2023-09-08T12:41:27.472Z"
   },
   {
    "duration": 10,
    "start_time": "2023-09-08T12:47:10.738Z"
   },
   {
    "duration": 1902,
    "start_time": "2023-09-08T12:47:27.944Z"
   },
   {
    "duration": 251,
    "start_time": "2023-09-08T12:48:30.865Z"
   },
   {
    "duration": 245,
    "start_time": "2023-09-08T12:48:39.730Z"
   },
   {
    "duration": 5,
    "start_time": "2023-09-08T12:48:44.385Z"
   },
   {
    "duration": 5,
    "start_time": "2023-09-08T12:48:49.919Z"
   },
   {
    "duration": 1621,
    "start_time": "2023-09-08T12:48:52.220Z"
   },
   {
    "duration": 1437,
    "start_time": "2023-09-08T12:49:54.732Z"
   },
   {
    "duration": 5,
    "start_time": "2023-09-08T12:51:42.938Z"
   },
   {
    "duration": 6,
    "start_time": "2023-09-08T12:51:46.887Z"
   },
   {
    "duration": 1494,
    "start_time": "2023-09-08T12:51:49.297Z"
   },
   {
    "duration": 9,
    "start_time": "2023-09-08T12:54:20.009Z"
   },
   {
    "duration": 5,
    "start_time": "2023-09-08T12:55:08.493Z"
   },
   {
    "duration": 13,
    "start_time": "2023-09-08T13:06:13.740Z"
   },
   {
    "duration": 5,
    "start_time": "2023-09-08T13:06:21.638Z"
   },
   {
    "duration": 100,
    "start_time": "2023-09-08T13:06:28.667Z"
   },
   {
    "duration": 36,
    "start_time": "2023-09-08T13:06:48.627Z"
   },
   {
    "duration": 37,
    "start_time": "2023-09-08T13:07:18.880Z"
   },
   {
    "duration": 38,
    "start_time": "2023-09-08T13:07:42.381Z"
   },
   {
    "duration": 1778,
    "start_time": "2023-09-08T13:38:08.761Z"
   },
   {
    "duration": 2083,
    "start_time": "2023-09-08T13:40:50.896Z"
   },
   {
    "duration": 5,
    "start_time": "2023-09-08T13:41:02.080Z"
   },
   {
    "duration": 5,
    "start_time": "2023-09-08T13:41:33.531Z"
   },
   {
    "duration": 4,
    "start_time": "2023-09-08T13:41:41.995Z"
   },
   {
    "duration": 6,
    "start_time": "2023-09-08T13:41:45.226Z"
   },
   {
    "duration": 6,
    "start_time": "2023-09-08T13:43:58.403Z"
   },
   {
    "duration": 41,
    "start_time": "2023-09-08T13:48:25.427Z"
   },
   {
    "duration": 4,
    "start_time": "2023-09-08T13:48:59.032Z"
   },
   {
    "duration": 36,
    "start_time": "2023-09-08T13:49:01.249Z"
   },
   {
    "duration": 37,
    "start_time": "2023-09-08T13:49:10.041Z"
   },
   {
    "duration": 36,
    "start_time": "2023-09-08T13:49:16.427Z"
   },
   {
    "duration": 34,
    "start_time": "2023-09-08T13:49:18.926Z"
   },
   {
    "duration": 40,
    "start_time": "2023-09-08T13:49:20.819Z"
   },
   {
    "duration": 36,
    "start_time": "2023-09-08T13:58:20.015Z"
   },
   {
    "duration": 37,
    "start_time": "2023-09-08T13:58:22.322Z"
   },
   {
    "duration": 10,
    "start_time": "2023-09-08T14:15:59.585Z"
   },
   {
    "duration": 10,
    "start_time": "2023-09-08T14:18:57.066Z"
   },
   {
    "duration": 10,
    "start_time": "2023-09-08T14:19:01.775Z"
   },
   {
    "duration": 11,
    "start_time": "2023-09-08T14:19:03.938Z"
   },
   {
    "duration": 8,
    "start_time": "2023-09-08T14:24:23.634Z"
   },
   {
    "duration": 13,
    "start_time": "2023-09-08T14:26:43.032Z"
   },
   {
    "duration": 24,
    "start_time": "2023-09-08T14:26:47.787Z"
   },
   {
    "duration": 21,
    "start_time": "2023-09-08T14:27:19.339Z"
   },
   {
    "duration": 25,
    "start_time": "2023-09-08T14:27:22.468Z"
   },
   {
    "duration": 20,
    "start_time": "2023-09-08T14:27:27.132Z"
   },
   {
    "duration": 21,
    "start_time": "2023-09-08T14:27:30.060Z"
   },
   {
    "duration": 20,
    "start_time": "2023-09-08T14:27:32.268Z"
   },
   {
    "duration": 22,
    "start_time": "2023-09-08T14:27:34.509Z"
   },
   {
    "duration": 21,
    "start_time": "2023-09-08T14:28:31.157Z"
   },
   {
    "duration": 27,
    "start_time": "2023-09-08T14:28:39.073Z"
   },
   {
    "duration": 1342,
    "start_time": "2023-09-08T14:29:01.044Z"
   },
   {
    "duration": 228,
    "start_time": "2023-09-08T14:29:02.389Z"
   },
   {
    "duration": 5,
    "start_time": "2023-09-08T14:29:02.619Z"
   },
   {
    "duration": 265,
    "start_time": "2023-09-08T14:29:02.626Z"
   },
   {
    "duration": 174,
    "start_time": "2023-09-08T14:29:02.902Z"
   },
   {
    "duration": 65,
    "start_time": "2023-09-08T14:29:03.078Z"
   },
   {
    "duration": 17,
    "start_time": "2023-09-08T14:29:03.145Z"
   },
   {
    "duration": 97,
    "start_time": "2023-09-08T14:29:03.164Z"
   },
   {
    "duration": 9,
    "start_time": "2023-09-08T14:29:03.262Z"
   },
   {
    "duration": 47,
    "start_time": "2023-09-08T14:29:03.273Z"
   },
   {
    "duration": 10,
    "start_time": "2023-09-08T14:29:03.322Z"
   },
   {
    "duration": 197,
    "start_time": "2023-09-08T14:29:03.334Z"
   },
   {
    "duration": 392,
    "start_time": "2023-09-08T14:29:03.532Z"
   },
   {
    "duration": 22,
    "start_time": "2023-09-08T14:29:03.927Z"
   },
   {
    "duration": 95,
    "start_time": "2023-09-08T14:29:03.951Z"
   },
   {
    "duration": 71,
    "start_time": "2023-09-08T14:29:04.048Z"
   },
   {
    "duration": 32,
    "start_time": "2023-09-08T14:29:04.121Z"
   },
   {
    "duration": 91,
    "start_time": "2023-09-08T14:29:04.154Z"
   },
   {
    "duration": 14,
    "start_time": "2023-09-08T14:29:04.247Z"
   },
   {
    "duration": 29,
    "start_time": "2023-09-08T14:29:04.262Z"
   },
   {
    "duration": 78,
    "start_time": "2023-09-08T14:29:04.304Z"
   },
   {
    "duration": 234,
    "start_time": "2023-09-08T14:29:04.385Z"
   },
   {
    "duration": 6,
    "start_time": "2023-09-08T14:29:04.628Z"
   },
   {
    "duration": 120,
    "start_time": "2023-09-08T14:29:04.637Z"
   },
   {
    "duration": 277,
    "start_time": "2023-09-08T14:29:04.760Z"
   },
   {
    "duration": 5,
    "start_time": "2023-09-08T14:29:05.039Z"
   },
   {
    "duration": 260,
    "start_time": "2023-09-08T14:29:05.046Z"
   },
   {
    "duration": 87,
    "start_time": "2023-09-08T14:29:05.310Z"
   },
   {
    "duration": 54,
    "start_time": "2023-09-08T14:29:05.399Z"
   },
   {
    "duration": 44,
    "start_time": "2023-09-08T14:29:05.455Z"
   },
   {
    "duration": 20,
    "start_time": "2023-09-08T14:29:35.915Z"
   },
   {
    "duration": 20,
    "start_time": "2023-09-08T14:29:44.147Z"
   },
   {
    "duration": 20,
    "start_time": "2023-09-08T14:29:46.064Z"
   },
   {
    "duration": 33,
    "start_time": "2023-09-08T14:29:47.491Z"
   },
   {
    "duration": 19,
    "start_time": "2023-09-08T14:29:51.465Z"
   },
   {
    "duration": 28,
    "start_time": "2023-09-08T14:29:56.893Z"
   },
   {
    "duration": 20,
    "start_time": "2023-09-08T14:29:58.779Z"
   },
   {
    "duration": 1299,
    "start_time": "2023-09-08T15:25:51.521Z"
   },
   {
    "duration": 193,
    "start_time": "2023-09-08T15:25:52.823Z"
   },
   {
    "duration": 5,
    "start_time": "2023-09-08T15:25:53.017Z"
   },
   {
    "duration": 178,
    "start_time": "2023-09-08T15:25:53.023Z"
   },
   {
    "duration": 140,
    "start_time": "2023-09-08T15:25:53.209Z"
   },
   {
    "duration": 35,
    "start_time": "2023-09-08T15:25:53.351Z"
   },
   {
    "duration": 26,
    "start_time": "2023-09-08T15:25:53.388Z"
   },
   {
    "duration": 71,
    "start_time": "2023-09-08T15:25:53.417Z"
   },
   {
    "duration": 26,
    "start_time": "2023-09-08T15:25:53.490Z"
   },
   {
    "duration": 20,
    "start_time": "2023-09-08T15:25:53.518Z"
   },
   {
    "duration": 10,
    "start_time": "2023-09-08T15:25:53.540Z"
   },
   {
    "duration": 88,
    "start_time": "2023-09-08T15:25:53.552Z"
   },
   {
    "duration": 346,
    "start_time": "2023-09-08T15:25:53.642Z"
   },
   {
    "duration": 28,
    "start_time": "2023-09-08T15:25:53.991Z"
   },
   {
    "duration": 66,
    "start_time": "2023-09-08T15:25:54.021Z"
   },
   {
    "duration": 70,
    "start_time": "2023-09-08T15:25:54.089Z"
   },
   {
    "duration": 30,
    "start_time": "2023-09-08T15:25:54.161Z"
   },
   {
    "duration": 58,
    "start_time": "2023-09-08T15:25:54.210Z"
   },
   {
    "duration": 12,
    "start_time": "2023-09-08T15:25:54.270Z"
   },
   {
    "duration": 31,
    "start_time": "2023-09-08T15:25:54.284Z"
   },
   {
    "duration": 12,
    "start_time": "2023-09-08T15:25:54.316Z"
   },
   {
    "duration": 168,
    "start_time": "2023-09-08T15:25:54.330Z"
   },
   {
    "duration": 10,
    "start_time": "2023-09-08T15:25:54.500Z"
   },
   {
    "duration": 70,
    "start_time": "2023-09-08T15:25:54.512Z"
   },
   {
    "duration": 255,
    "start_time": "2023-09-08T15:25:54.584Z"
   },
   {
    "duration": 4,
    "start_time": "2023-09-08T15:25:54.841Z"
   },
   {
    "duration": 11,
    "start_time": "2023-09-08T15:25:54.846Z"
   },
   {
    "duration": 52,
    "start_time": "2023-09-08T15:25:54.858Z"
   },
   {
    "duration": 12,
    "start_time": "2023-09-08T15:25:54.912Z"
   },
   {
    "duration": 20,
    "start_time": "2023-09-08T15:25:54.926Z"
   },
   {
    "duration": 103,
    "start_time": "2023-09-11T08:51:05.542Z"
   },
   {
    "duration": 135,
    "start_time": "2023-09-11T08:51:09.956Z"
   },
   {
    "duration": 114,
    "start_time": "2023-09-11T08:51:15.713Z"
   },
   {
    "duration": 86,
    "start_time": "2023-09-11T08:51:24.753Z"
   },
   {
    "duration": 0,
    "start_time": "2023-09-11T08:51:24.841Z"
   },
   {
    "duration": 0,
    "start_time": "2023-09-11T08:51:24.842Z"
   },
   {
    "duration": 0,
    "start_time": "2023-09-11T08:51:24.843Z"
   },
   {
    "duration": 0,
    "start_time": "2023-09-11T08:51:24.844Z"
   },
   {
    "duration": 0,
    "start_time": "2023-09-11T08:51:24.845Z"
   },
   {
    "duration": 0,
    "start_time": "2023-09-11T08:51:24.846Z"
   },
   {
    "duration": 0,
    "start_time": "2023-09-11T08:51:24.847Z"
   },
   {
    "duration": 0,
    "start_time": "2023-09-11T08:51:24.848Z"
   },
   {
    "duration": 0,
    "start_time": "2023-09-11T08:51:24.849Z"
   },
   {
    "duration": 0,
    "start_time": "2023-09-11T08:51:24.850Z"
   },
   {
    "duration": 0,
    "start_time": "2023-09-11T08:51:24.850Z"
   },
   {
    "duration": 0,
    "start_time": "2023-09-11T08:51:24.851Z"
   },
   {
    "duration": 0,
    "start_time": "2023-09-11T08:51:24.852Z"
   },
   {
    "duration": 0,
    "start_time": "2023-09-11T08:51:24.853Z"
   },
   {
    "duration": 0,
    "start_time": "2023-09-11T08:51:24.854Z"
   },
   {
    "duration": 0,
    "start_time": "2023-09-11T08:51:24.855Z"
   },
   {
    "duration": 0,
    "start_time": "2023-09-11T08:51:24.856Z"
   },
   {
    "duration": 0,
    "start_time": "2023-09-11T08:51:24.856Z"
   },
   {
    "duration": 0,
    "start_time": "2023-09-11T08:51:24.857Z"
   },
   {
    "duration": 0,
    "start_time": "2023-09-11T08:51:24.859Z"
   },
   {
    "duration": 0,
    "start_time": "2023-09-11T08:51:24.859Z"
   },
   {
    "duration": 0,
    "start_time": "2023-09-11T08:51:24.860Z"
   },
   {
    "duration": 0,
    "start_time": "2023-09-11T08:51:24.861Z"
   },
   {
    "duration": 0,
    "start_time": "2023-09-11T08:51:24.862Z"
   },
   {
    "duration": 0,
    "start_time": "2023-09-11T08:51:24.863Z"
   },
   {
    "duration": 0,
    "start_time": "2023-09-11T08:51:24.864Z"
   },
   {
    "duration": 0,
    "start_time": "2023-09-11T08:51:24.865Z"
   },
   {
    "duration": 1,
    "start_time": "2023-09-11T08:51:24.866Z"
   },
   {
    "duration": 0,
    "start_time": "2023-09-11T08:51:24.868Z"
   },
   {
    "duration": 0,
    "start_time": "2023-09-11T08:51:24.869Z"
   },
   {
    "duration": 80,
    "start_time": "2023-09-11T08:52:05.723Z"
   },
   {
    "duration": 82,
    "start_time": "2023-09-11T08:52:29.132Z"
   },
   {
    "duration": 191,
    "start_time": "2023-09-11T08:53:19.020Z"
   },
   {
    "duration": 197,
    "start_time": "2023-09-11T08:53:42.810Z"
   },
   {
    "duration": 44,
    "start_time": "2023-09-11T10:03:00.343Z"
   },
   {
    "duration": 11,
    "start_time": "2023-09-11T10:03:14.640Z"
   },
   {
    "duration": 1274,
    "start_time": "2023-09-11T10:03:30.286Z"
   },
   {
    "duration": 515,
    "start_time": "2023-09-11T10:03:31.562Z"
   },
   {
    "duration": 4,
    "start_time": "2023-09-11T10:03:32.079Z"
   },
   {
    "duration": 232,
    "start_time": "2023-09-11T10:03:32.085Z"
   },
   {
    "duration": 147,
    "start_time": "2023-09-11T10:03:32.319Z"
   },
   {
    "duration": 33,
    "start_time": "2023-09-11T10:03:32.468Z"
   },
   {
    "duration": 32,
    "start_time": "2023-09-11T10:03:32.502Z"
   },
   {
    "duration": 92,
    "start_time": "2023-09-11T10:03:32.535Z"
   },
   {
    "duration": 15,
    "start_time": "2023-09-11T10:03:32.629Z"
   },
   {
    "duration": 51,
    "start_time": "2023-09-11T10:03:32.645Z"
   },
   {
    "duration": 12,
    "start_time": "2023-09-11T10:03:32.698Z"
   },
   {
    "duration": 53,
    "start_time": "2023-09-11T10:03:32.712Z"
   },
   {
    "duration": 313,
    "start_time": "2023-09-11T10:03:32.767Z"
   },
   {
    "duration": 18,
    "start_time": "2023-09-11T10:03:33.082Z"
   },
   {
    "duration": 68,
    "start_time": "2023-09-11T10:03:33.101Z"
   },
   {
    "duration": 47,
    "start_time": "2023-09-11T10:03:33.172Z"
   },
   {
    "duration": 41,
    "start_time": "2023-09-11T10:03:33.221Z"
   },
   {
    "duration": 78,
    "start_time": "2023-09-11T10:03:33.264Z"
   },
   {
    "duration": 11,
    "start_time": "2023-09-11T10:03:33.344Z"
   },
   {
    "duration": 42,
    "start_time": "2023-09-11T10:03:33.356Z"
   },
   {
    "duration": 23,
    "start_time": "2023-09-11T10:03:33.399Z"
   },
   {
    "duration": 155,
    "start_time": "2023-09-11T10:03:33.424Z"
   },
   {
    "duration": 4,
    "start_time": "2023-09-11T10:03:33.581Z"
   },
   {
    "duration": 78,
    "start_time": "2023-09-11T10:03:33.586Z"
   },
   {
    "duration": 224,
    "start_time": "2023-09-11T10:03:33.666Z"
   },
   {
    "duration": 3,
    "start_time": "2023-09-11T10:03:33.892Z"
   },
   {
    "duration": 104,
    "start_time": "2023-09-11T10:03:33.897Z"
   },
   {
    "duration": 0,
    "start_time": "2023-09-11T10:03:34.004Z"
   },
   {
    "duration": 0,
    "start_time": "2023-09-11T10:03:34.005Z"
   },
   {
    "duration": 0,
    "start_time": "2023-09-11T10:03:34.007Z"
   },
   {
    "duration": 147,
    "start_time": "2023-09-11T10:04:33.686Z"
   },
   {
    "duration": 5,
    "start_time": "2023-09-11T10:14:34.739Z"
   },
   {
    "duration": 5,
    "start_time": "2023-09-11T10:14:37.189Z"
   },
   {
    "duration": 4,
    "start_time": "2023-09-11T10:14:40.441Z"
   },
   {
    "duration": 8,
    "start_time": "2023-09-11T10:14:48.336Z"
   },
   {
    "duration": 1080,
    "start_time": "2023-09-11T10:14:59.168Z"
   },
   {
    "duration": 164,
    "start_time": "2023-09-11T10:15:00.250Z"
   },
   {
    "duration": 4,
    "start_time": "2023-09-11T10:15:00.416Z"
   },
   {
    "duration": 223,
    "start_time": "2023-09-11T10:15:00.422Z"
   },
   {
    "duration": 129,
    "start_time": "2023-09-11T10:15:00.646Z"
   },
   {
    "duration": 30,
    "start_time": "2023-09-11T10:15:00.777Z"
   },
   {
    "duration": 91,
    "start_time": "2023-09-11T10:15:00.809Z"
   },
   {
    "duration": 90,
    "start_time": "2023-09-11T10:15:00.901Z"
   },
   {
    "duration": 14,
    "start_time": "2023-09-11T10:15:00.992Z"
   },
   {
    "duration": 57,
    "start_time": "2023-09-11T10:15:01.009Z"
   },
   {
    "duration": 50,
    "start_time": "2023-09-11T10:15:01.068Z"
   },
   {
    "duration": 90,
    "start_time": "2023-09-11T10:15:01.119Z"
   },
   {
    "duration": 281,
    "start_time": "2023-09-11T10:15:01.211Z"
   },
   {
    "duration": 18,
    "start_time": "2023-09-11T10:15:01.493Z"
   },
   {
    "duration": 87,
    "start_time": "2023-09-11T10:15:01.513Z"
   },
   {
    "duration": 48,
    "start_time": "2023-09-11T10:15:01.601Z"
   },
   {
    "duration": 36,
    "start_time": "2023-09-11T10:15:01.650Z"
   },
   {
    "duration": 108,
    "start_time": "2023-09-11T10:15:01.687Z"
   },
   {
    "duration": 16,
    "start_time": "2023-09-11T10:15:01.797Z"
   },
   {
    "duration": 176,
    "start_time": "2023-09-11T10:15:01.815Z"
   },
   {
    "duration": 92,
    "start_time": "2023-09-11T10:15:01.993Z"
   },
   {
    "duration": 271,
    "start_time": "2023-09-11T10:15:02.087Z"
   },
   {
    "duration": 4,
    "start_time": "2023-09-11T10:15:02.359Z"
   },
   {
    "duration": 139,
    "start_time": "2023-09-11T10:15:02.364Z"
   },
   {
    "duration": 215,
    "start_time": "2023-09-11T10:15:02.505Z"
   },
   {
    "duration": 4,
    "start_time": "2023-09-11T10:15:02.721Z"
   },
   {
    "duration": 29,
    "start_time": "2023-09-11T10:15:02.726Z"
   },
   {
    "duration": 85,
    "start_time": "2023-09-11T10:15:02.757Z"
   },
   {
    "duration": 28,
    "start_time": "2023-09-11T10:15:02.844Z"
   },
   {
    "duration": 45,
    "start_time": "2023-09-11T10:15:02.873Z"
   },
   {
    "duration": 5,
    "start_time": "2023-09-11T10:16:01.440Z"
   },
   {
    "duration": 4,
    "start_time": "2023-09-11T10:16:03.593Z"
   },
   {
    "duration": 4,
    "start_time": "2023-09-11T10:16:50.762Z"
   },
   {
    "duration": 32,
    "start_time": "2023-09-11T10:16:54.163Z"
   },
   {
    "duration": 118,
    "start_time": "2023-09-11T10:17:23.936Z"
   },
   {
    "duration": 20,
    "start_time": "2023-09-11T10:19:20.018Z"
   },
   {
    "duration": 21,
    "start_time": "2023-09-11T10:47:32.853Z"
   },
   {
    "duration": 24,
    "start_time": "2023-09-11T10:47:42.299Z"
   },
   {
    "duration": 8,
    "start_time": "2023-09-11T10:49:14.023Z"
   },
   {
    "duration": 8,
    "start_time": "2023-09-11T10:49:30.526Z"
   },
   {
    "duration": 8,
    "start_time": "2023-09-11T10:50:45.227Z"
   },
   {
    "duration": 8,
    "start_time": "2023-09-11T10:50:52.763Z"
   },
   {
    "duration": 9,
    "start_time": "2023-09-11T10:51:00.673Z"
   },
   {
    "duration": 11,
    "start_time": "2023-09-11T10:51:22.018Z"
   },
   {
    "duration": 12,
    "start_time": "2023-09-11T10:51:27.495Z"
   },
   {
    "duration": 8,
    "start_time": "2023-09-11T10:51:43.274Z"
   },
   {
    "duration": 20,
    "start_time": "2023-09-11T10:55:40.799Z"
   },
   {
    "duration": 21,
    "start_time": "2023-09-11T10:56:13.297Z"
   },
   {
    "duration": 22,
    "start_time": "2023-09-11T10:56:19.579Z"
   },
   {
    "duration": 8,
    "start_time": "2023-09-11T10:58:02.808Z"
   },
   {
    "duration": 29,
    "start_time": "2023-09-11T10:58:29.356Z"
   },
   {
    "duration": 30,
    "start_time": "2023-09-11T10:58:33.303Z"
   },
   {
    "duration": 31,
    "start_time": "2023-09-11T10:59:45.935Z"
   },
   {
    "duration": 8,
    "start_time": "2023-09-11T10:59:50.432Z"
   },
   {
    "duration": 17,
    "start_time": "2023-09-11T10:59:57.684Z"
   },
   {
    "duration": 17,
    "start_time": "2023-09-11T10:59:59.918Z"
   },
   {
    "duration": 9,
    "start_time": "2023-09-12T08:42:26.911Z"
   },
   {
    "duration": 41,
    "start_time": "2023-09-12T08:42:32.728Z"
   },
   {
    "duration": 1344,
    "start_time": "2023-09-12T08:42:41.098Z"
   },
   {
    "duration": 553,
    "start_time": "2023-09-12T08:42:42.445Z"
   },
   {
    "duration": 5,
    "start_time": "2023-09-12T08:42:43.000Z"
   },
   {
    "duration": 206,
    "start_time": "2023-09-12T08:42:43.008Z"
   },
   {
    "duration": 156,
    "start_time": "2023-09-12T08:42:43.216Z"
   },
   {
    "duration": 31,
    "start_time": "2023-09-12T08:42:43.374Z"
   },
   {
    "duration": 13,
    "start_time": "2023-09-12T08:42:43.406Z"
   },
   {
    "duration": 116,
    "start_time": "2023-09-12T08:42:43.421Z"
   },
   {
    "duration": 15,
    "start_time": "2023-09-12T08:42:43.539Z"
   },
   {
    "duration": 20,
    "start_time": "2023-09-12T08:42:43.557Z"
   },
   {
    "duration": 20,
    "start_time": "2023-09-12T08:42:43.578Z"
   },
   {
    "duration": 81,
    "start_time": "2023-09-12T08:42:43.600Z"
   },
   {
    "duration": 296,
    "start_time": "2023-09-12T08:42:43.683Z"
   },
   {
    "duration": 25,
    "start_time": "2023-09-12T08:42:43.981Z"
   },
   {
    "duration": 87,
    "start_time": "2023-09-12T08:42:44.008Z"
   },
   {
    "duration": 75,
    "start_time": "2023-09-12T08:42:44.097Z"
   },
   {
    "duration": 31,
    "start_time": "2023-09-12T08:42:44.174Z"
   },
   {
    "duration": 69,
    "start_time": "2023-09-12T08:42:44.206Z"
   },
   {
    "duration": 11,
    "start_time": "2023-09-12T08:42:44.277Z"
   },
   {
    "duration": 7,
    "start_time": "2023-09-12T08:42:44.289Z"
   },
   {
    "duration": 20,
    "start_time": "2023-09-12T08:42:44.297Z"
   },
   {
    "duration": 177,
    "start_time": "2023-09-12T08:42:44.319Z"
   },
   {
    "duration": 5,
    "start_time": "2023-09-12T08:42:44.499Z"
   },
   {
    "duration": 80,
    "start_time": "2023-09-12T08:42:44.506Z"
   },
   {
    "duration": 265,
    "start_time": "2023-09-12T08:42:44.588Z"
   },
   {
    "duration": 4,
    "start_time": "2023-09-12T08:42:44.855Z"
   },
   {
    "duration": 13,
    "start_time": "2023-09-12T08:42:44.861Z"
   },
   {
    "duration": 50,
    "start_time": "2023-09-12T08:42:44.877Z"
   },
   {
    "duration": 8,
    "start_time": "2023-09-12T08:42:44.929Z"
   },
   {
    "duration": 32,
    "start_time": "2023-09-12T08:42:44.938Z"
   },
   {
    "duration": 10,
    "start_time": "2023-09-12T08:45:18.966Z"
   },
   {
    "duration": 5,
    "start_time": "2023-09-12T08:58:53.089Z"
   },
   {
    "duration": 4,
    "start_time": "2023-09-12T09:02:37.260Z"
   },
   {
    "duration": 6,
    "start_time": "2023-09-12T09:05:49.044Z"
   },
   {
    "duration": 5,
    "start_time": "2023-09-12T09:06:26.839Z"
   },
   {
    "duration": 5,
    "start_time": "2023-09-12T09:09:09.858Z"
   },
   {
    "duration": 5,
    "start_time": "2023-09-12T09:13:51.489Z"
   },
   {
    "duration": 4,
    "start_time": "2023-09-12T09:14:27.017Z"
   },
   {
    "duration": 5,
    "start_time": "2023-09-12T09:14:49.074Z"
   },
   {
    "duration": 5,
    "start_time": "2023-09-12T09:15:19.124Z"
   },
   {
    "duration": 5,
    "start_time": "2023-09-12T09:22:47.475Z"
   },
   {
    "duration": 7,
    "start_time": "2023-09-12T09:23:16.059Z"
   },
   {
    "duration": 5,
    "start_time": "2023-09-12T09:23:32.881Z"
   },
   {
    "duration": 4,
    "start_time": "2023-09-12T09:25:11.025Z"
   },
   {
    "duration": 4,
    "start_time": "2023-09-12T09:25:37.074Z"
   },
   {
    "duration": 5,
    "start_time": "2023-09-12T09:27:20.627Z"
   },
   {
    "duration": 5,
    "start_time": "2023-09-12T09:34:38.227Z"
   },
   {
    "duration": 192,
    "start_time": "2023-09-12T09:35:14.147Z"
   },
   {
    "duration": 7,
    "start_time": "2023-09-12T09:36:25.609Z"
   },
   {
    "duration": 6,
    "start_time": "2023-09-12T09:36:44.641Z"
   },
   {
    "duration": 5,
    "start_time": "2023-09-12T09:36:57.560Z"
   },
   {
    "duration": 4,
    "start_time": "2023-09-12T09:37:14.513Z"
   },
   {
    "duration": 4,
    "start_time": "2023-09-12T09:39:41.934Z"
   },
   {
    "duration": 8,
    "start_time": "2023-09-12T09:39:50.374Z"
   },
   {
    "duration": 3,
    "start_time": "2023-09-12T09:43:20.716Z"
   },
   {
    "duration": 5,
    "start_time": "2023-09-12T09:44:36.665Z"
   },
   {
    "duration": 4,
    "start_time": "2023-09-12T09:44:48.018Z"
   },
   {
    "duration": 5,
    "start_time": "2023-09-12T09:45:32.160Z"
   },
   {
    "duration": 5,
    "start_time": "2023-09-12T09:46:02.714Z"
   },
   {
    "duration": 6,
    "start_time": "2023-09-12T09:46:47.866Z"
   },
   {
    "duration": 5,
    "start_time": "2023-09-12T09:50:52.700Z"
   },
   {
    "duration": 4,
    "start_time": "2023-09-12T09:50:55.832Z"
   },
   {
    "duration": 4,
    "start_time": "2023-09-12T09:50:57.695Z"
   },
   {
    "duration": 4,
    "start_time": "2023-09-12T09:51:03.414Z"
   },
   {
    "duration": 7,
    "start_time": "2023-09-12T09:51:05.909Z"
   },
   {
    "duration": 1069,
    "start_time": "2023-09-12T09:51:12.858Z"
   },
   {
    "duration": 160,
    "start_time": "2023-09-12T09:51:13.929Z"
   },
   {
    "duration": 4,
    "start_time": "2023-09-12T09:51:14.091Z"
   },
   {
    "duration": 153,
    "start_time": "2023-09-12T09:51:14.097Z"
   },
   {
    "duration": 113,
    "start_time": "2023-09-12T09:51:14.252Z"
   },
   {
    "duration": 30,
    "start_time": "2023-09-12T09:51:14.366Z"
   },
   {
    "duration": 13,
    "start_time": "2023-09-12T09:51:14.397Z"
   },
   {
    "duration": 80,
    "start_time": "2023-09-12T09:51:14.411Z"
   },
   {
    "duration": 6,
    "start_time": "2023-09-12T09:51:14.493Z"
   },
   {
    "duration": 17,
    "start_time": "2023-09-12T09:51:14.501Z"
   },
   {
    "duration": 28,
    "start_time": "2023-09-12T09:51:14.519Z"
   },
   {
    "duration": 45,
    "start_time": "2023-09-12T09:51:14.548Z"
   },
   {
    "duration": 292,
    "start_time": "2023-09-12T09:51:14.594Z"
   },
   {
    "duration": 20,
    "start_time": "2023-09-12T09:51:14.888Z"
   },
   {
    "duration": 75,
    "start_time": "2023-09-12T09:51:14.910Z"
   },
   {
    "duration": 43,
    "start_time": "2023-09-12T09:51:14.986Z"
   },
   {
    "duration": 39,
    "start_time": "2023-09-12T09:51:15.031Z"
   },
   {
    "duration": 87,
    "start_time": "2023-09-12T09:51:15.071Z"
   },
   {
    "duration": 11,
    "start_time": "2023-09-12T09:51:15.159Z"
   },
   {
    "duration": 7,
    "start_time": "2023-09-12T09:51:15.171Z"
   },
   {
    "duration": 18,
    "start_time": "2023-09-12T09:51:15.179Z"
   },
   {
    "duration": 136,
    "start_time": "2023-09-12T09:51:15.198Z"
   },
   {
    "duration": 4,
    "start_time": "2023-09-12T09:51:15.335Z"
   },
   {
    "duration": 78,
    "start_time": "2023-09-12T09:51:15.341Z"
   },
   {
    "duration": 185,
    "start_time": "2023-09-12T09:51:15.421Z"
   },
   {
    "duration": 4,
    "start_time": "2023-09-12T09:51:15.607Z"
   },
   {
    "duration": 16,
    "start_time": "2023-09-12T09:51:15.612Z"
   },
   {
    "duration": 11,
    "start_time": "2023-09-12T09:51:15.631Z"
   },
   {
    "duration": 26,
    "start_time": "2023-09-12T09:51:15.644Z"
   },
   {
    "duration": 12,
    "start_time": "2023-09-12T09:51:15.672Z"
   },
   {
    "duration": 11,
    "start_time": "2023-09-12T09:51:15.685Z"
   },
   {
    "duration": 18,
    "start_time": "2023-09-12T09:51:15.698Z"
   },
   {
    "duration": 12,
    "start_time": "2023-09-12T09:51:15.717Z"
   },
   {
    "duration": 11,
    "start_time": "2023-09-12T09:51:15.731Z"
   },
   {
    "duration": 17,
    "start_time": "2023-09-12T09:51:15.744Z"
   },
   {
    "duration": 17,
    "start_time": "2023-09-12T09:51:15.762Z"
   },
   {
    "duration": 13,
    "start_time": "2023-09-12T09:51:15.781Z"
   },
   {
    "duration": 25,
    "start_time": "2023-09-12T09:51:15.796Z"
   },
   {
    "duration": 8,
    "start_time": "2023-09-12T09:51:15.822Z"
   },
   {
    "duration": 13,
    "start_time": "2023-09-12T09:51:15.832Z"
   },
   {
    "duration": 45,
    "start_time": "2023-09-12T09:51:15.847Z"
   },
   {
    "duration": 32,
    "start_time": "2023-09-12T09:51:15.893Z"
   },
   {
    "duration": 23,
    "start_time": "2023-09-12T09:51:15.926Z"
   },
   {
    "duration": 48,
    "start_time": "2023-09-12T09:51:15.950Z"
   },
   {
    "duration": 130,
    "start_time": "2023-09-12T09:51:16.000Z"
   },
   {
    "duration": 5,
    "start_time": "2023-09-12T10:03:39.546Z"
   },
   {
    "duration": 1253,
    "start_time": "2023-09-12T10:03:46.313Z"
   },
   {
    "duration": 175,
    "start_time": "2023-09-12T10:03:47.568Z"
   },
   {
    "duration": 8,
    "start_time": "2023-09-12T10:03:47.745Z"
   },
   {
    "duration": 164,
    "start_time": "2023-09-12T10:03:47.756Z"
   },
   {
    "duration": 136,
    "start_time": "2023-09-12T10:03:47.922Z"
   },
   {
    "duration": 35,
    "start_time": "2023-09-12T10:03:48.060Z"
   },
   {
    "duration": 13,
    "start_time": "2023-09-12T10:03:48.097Z"
   },
   {
    "duration": 90,
    "start_time": "2023-09-12T10:03:48.111Z"
   },
   {
    "duration": 7,
    "start_time": "2023-09-12T10:03:48.203Z"
   },
   {
    "duration": 23,
    "start_time": "2023-09-12T10:03:48.212Z"
   },
   {
    "duration": 22,
    "start_time": "2023-09-12T10:03:48.236Z"
   },
   {
    "duration": 53,
    "start_time": "2023-09-12T10:03:48.260Z"
   },
   {
    "duration": 342,
    "start_time": "2023-09-12T10:03:48.315Z"
   },
   {
    "duration": 21,
    "start_time": "2023-09-12T10:03:48.659Z"
   },
   {
    "duration": 82,
    "start_time": "2023-09-12T10:03:48.682Z"
   },
   {
    "duration": 42,
    "start_time": "2023-09-12T10:03:48.766Z"
   },
   {
    "duration": 49,
    "start_time": "2023-09-12T10:03:48.810Z"
   },
   {
    "duration": 50,
    "start_time": "2023-09-12T10:03:48.862Z"
   },
   {
    "duration": 11,
    "start_time": "2023-09-12T10:03:48.914Z"
   },
   {
    "duration": 26,
    "start_time": "2023-09-12T10:03:48.926Z"
   },
   {
    "duration": 23,
    "start_time": "2023-09-12T10:03:48.953Z"
   },
   {
    "duration": 164,
    "start_time": "2023-09-12T10:03:48.977Z"
   },
   {
    "duration": 16,
    "start_time": "2023-09-12T10:03:49.143Z"
   },
   {
    "duration": 100,
    "start_time": "2023-09-12T10:03:49.161Z"
   },
   {
    "duration": 213,
    "start_time": "2023-09-12T10:03:49.263Z"
   },
   {
    "duration": 4,
    "start_time": "2023-09-12T10:03:49.477Z"
   },
   {
    "duration": 6,
    "start_time": "2023-09-12T10:03:49.482Z"
   },
   {
    "duration": 10,
    "start_time": "2023-09-12T10:03:49.491Z"
   },
   {
    "duration": 7,
    "start_time": "2023-09-12T10:03:49.502Z"
   },
   {
    "duration": 9,
    "start_time": "2023-09-12T10:03:49.510Z"
   },
   {
    "duration": 17,
    "start_time": "2023-09-12T10:03:49.521Z"
   },
   {
    "duration": 21,
    "start_time": "2023-09-12T10:03:49.539Z"
   },
   {
    "duration": 9,
    "start_time": "2023-09-12T10:03:49.562Z"
   },
   {
    "duration": 9,
    "start_time": "2023-09-12T10:03:49.572Z"
   },
   {
    "duration": 7,
    "start_time": "2023-09-12T10:03:49.582Z"
   },
   {
    "duration": 11,
    "start_time": "2023-09-12T10:03:49.590Z"
   },
   {
    "duration": 18,
    "start_time": "2023-09-12T10:03:49.603Z"
   },
   {
    "duration": 6,
    "start_time": "2023-09-12T10:03:49.622Z"
   },
   {
    "duration": 24,
    "start_time": "2023-09-12T10:03:49.630Z"
   },
   {
    "duration": 11,
    "start_time": "2023-09-12T10:03:49.656Z"
   },
   {
    "duration": 16,
    "start_time": "2023-09-12T10:03:49.669Z"
   },
   {
    "duration": 7,
    "start_time": "2023-09-12T10:03:49.686Z"
   },
   {
    "duration": 6,
    "start_time": "2023-09-12T10:03:49.695Z"
   },
   {
    "duration": 7,
    "start_time": "2023-09-12T10:03:49.702Z"
   }
  ],
  "kernelspec": {
   "display_name": "Python 3 (ipykernel)",
   "language": "python",
   "name": "python3"
  },
  "language_info": {
   "codemirror_mode": {
    "name": "ipython",
    "version": 3
   },
   "file_extension": ".py",
   "mimetype": "text/x-python",
   "name": "python",
   "nbconvert_exporter": "python",
   "pygments_lexer": "ipython3",
   "version": "3.10.9"
  },
  "toc": {
   "base_numbering": 1,
   "nav_menu": {},
   "number_sections": true,
   "sideBar": true,
   "skip_h1_title": true,
   "title_cell": "Table of Contents",
   "title_sidebar": "Contents",
   "toc_cell": false,
   "toc_position": {},
   "toc_section_display": true,
   "toc_window_display": false
  }
 },
 "nbformat": 4,
 "nbformat_minor": 2
}
