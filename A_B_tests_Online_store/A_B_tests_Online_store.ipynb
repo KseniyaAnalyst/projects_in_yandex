{
 "cells": [
  {
   "cell_type": "markdown",
   "metadata": {},
   "source": [
    "# Описание данных"
   ]
  },
  {
   "cell_type": "markdown",
   "metadata": {},
   "source": [
    "Вы — аналитик крупного интернет-магазина. Вместе с отделом маркетинга вы подготовили список гипотез для увеличения выручки.\n",
    "Приоритизируйте гипотезы, запустите A/B-тест и проанализируйте результаты. \n",
    "\n",
    "Первый датасет \"Hypothesis\":\n",
    " - Hypothesis — краткое описание гипотезы;\n",
    " - Reach — охват пользователей по 10-балльной шкале;\n",
    " - Impact — влияние на пользователей по 10-балльной шкале;\n",
    " - Confidence — уверенность в гипотезе по 10-балльной шкале;\n",
    " - Efforts — затраты ресурсов на проверку гипотезы по 10-балльной шкале. Чем больше значение Efforts, тем дороже проверка гипотезы.\n",
    " \n",
    "Второй датасет \"orders\":\n",
    " - transactionId — идентификатор заказа;\n",
    " - visitorId — идентификатор пользователя, совершившего заказ;\n",
    " - date — дата, когда был совершён заказ;\n",
    " - revenue — выручка заказа;\n",
    " - group — группа A/B-теста, в которую попал заказ.\n",
    " \n",
    "Третий датасет \"visitors\":\n",
    " - date — дата;\n",
    " - group — группа A/B-теста;\n",
    " - visitors — количество пользователей в указанную дату в указанной группе A/B-теста\n",
    " \n"
   ]
  },
  {
   "cell_type": "markdown",
   "metadata": {},
   "source": [
    "# Предобработка данных"
   ]
  },
  {
   "cell_type": "code",
   "execution_count": 1,
   "metadata": {},
   "outputs": [],
   "source": [
    "import pandas as pd\n",
    "import numpy as np\n",
    "import datetime as dt\n",
    "import matplotlib.pyplot as plt\n",
    "import scipy.stats as stats\n",
    "from pandas.plotting import register_matplotlib_converters\n",
    "import warnings"
   ]
  },
  {
   "cell_type": "code",
   "execution_count": 2,
   "metadata": {},
   "outputs": [],
   "source": [
    "try:\n",
    "    hypothesis = pd.read_csv('/datasets/hypothesis.csv')\n",
    "    orders = pd.read_csv('/datasets/orders.csv')\n",
    "    visitors = pd.read_csv('/datasets/visitors.csv')\n",
    "except:\n",
    "    hypothesis = pd.read_csv('https://code.s3.yandex.net/datasets/hypothesis.csv')\n",
    "    orders = pd.read_csv('https://code.s3.yandex.net/datasets/orders.csv')\n",
    "    visitors = pd.read_csv('https://code.s3.yandex.net/datasets/visitors.csv')"
   ]
  },
  {
   "cell_type": "code",
   "execution_count": 3,
   "metadata": {},
   "outputs": [],
   "source": [
    "# функция для обзора данных\n",
    "\n",
    "def observe_data(data):\n",
    "    print(\"\\033[1m\\033[34m {}\".format('Первые 10 строк датасета:'))\n",
    "    display(data.head(10))\n",
    "    print(\"\\033[1m\\033[34m {}\".format('Числовое описание данных:'))\n",
    "    display(data.describe())\n",
    "    print(\"\\033[1m\\033[34m {}\".format('Общая информация о датасете:'))\n",
    "    print(\"\\033[0m {}\".format(''))\n",
    "    data.info()\n",
    "    print()\n",
    "    print(\"\\033[1m\\033[34m {}\".format('Пропуски в данных:'))\n",
    "    display(data.isna().sum())\n",
    "    print(\"\\033[1m\\033[34m {}\".format('Дубликаты:'))\n",
    "    display(data.duplicated().sum())"
   ]
  },
  {
   "cell_type": "code",
   "execution_count": 4,
   "metadata": {},
   "outputs": [
    {
     "name": "stdout",
     "output_type": "stream",
     "text": [
      "\u001b[1m\u001b[34m Первые 10 строк датасета:\n"
     ]
    },
    {
     "data": {
      "text/html": [
       "<div>\n",
       "<style scoped>\n",
       "    .dataframe tbody tr th:only-of-type {\n",
       "        vertical-align: middle;\n",
       "    }\n",
       "\n",
       "    .dataframe tbody tr th {\n",
       "        vertical-align: top;\n",
       "    }\n",
       "\n",
       "    .dataframe thead th {\n",
       "        text-align: right;\n",
       "    }\n",
       "</style>\n",
       "<table border=\"1\" class=\"dataframe\">\n",
       "  <thead>\n",
       "    <tr style=\"text-align: right;\">\n",
       "      <th></th>\n",
       "      <th>Hypothesis</th>\n",
       "      <th>Reach</th>\n",
       "      <th>Impact</th>\n",
       "      <th>Confidence</th>\n",
       "      <th>Efforts</th>\n",
       "    </tr>\n",
       "  </thead>\n",
       "  <tbody>\n",
       "    <tr>\n",
       "      <th>0</th>\n",
       "      <td>Добавить два новых канала привлечения трафика, что позволит привлекать на 30% больше пользователей</td>\n",
       "      <td>3</td>\n",
       "      <td>10</td>\n",
       "      <td>8</td>\n",
       "      <td>6</td>\n",
       "    </tr>\n",
       "    <tr>\n",
       "      <th>1</th>\n",
       "      <td>Запустить собственную службу доставки, что сократит срок доставки заказов</td>\n",
       "      <td>2</td>\n",
       "      <td>5</td>\n",
       "      <td>4</td>\n",
       "      <td>10</td>\n",
       "    </tr>\n",
       "    <tr>\n",
       "      <th>2</th>\n",
       "      <td>Добавить блоки рекомендаций товаров на сайт интернет магазина, чтобы повысить конверсию и средний чек заказа</td>\n",
       "      <td>8</td>\n",
       "      <td>3</td>\n",
       "      <td>7</td>\n",
       "      <td>3</td>\n",
       "    </tr>\n",
       "    <tr>\n",
       "      <th>3</th>\n",
       "      <td>Изменить структура категорий, что увеличит конверсию, т.к. пользователи быстрее найдут нужный товар</td>\n",
       "      <td>8</td>\n",
       "      <td>3</td>\n",
       "      <td>3</td>\n",
       "      <td>8</td>\n",
       "    </tr>\n",
       "    <tr>\n",
       "      <th>4</th>\n",
       "      <td>Изменить цвет фона главной страницы, чтобы увеличить вовлеченность пользователей</td>\n",
       "      <td>3</td>\n",
       "      <td>1</td>\n",
       "      <td>1</td>\n",
       "      <td>1</td>\n",
       "    </tr>\n",
       "    <tr>\n",
       "      <th>5</th>\n",
       "      <td>Добавить страницу отзывов клиентов о магазине, что позволит увеличить количество заказов</td>\n",
       "      <td>3</td>\n",
       "      <td>2</td>\n",
       "      <td>2</td>\n",
       "      <td>3</td>\n",
       "    </tr>\n",
       "    <tr>\n",
       "      <th>6</th>\n",
       "      <td>Показать на главной странице баннеры с актуальными акциями и распродажами, чтобы увеличить конверсию</td>\n",
       "      <td>5</td>\n",
       "      <td>3</td>\n",
       "      <td>8</td>\n",
       "      <td>3</td>\n",
       "    </tr>\n",
       "    <tr>\n",
       "      <th>7</th>\n",
       "      <td>Добавить форму подписки на все основные страницы, чтобы собрать базу клиентов для email-рассылок</td>\n",
       "      <td>10</td>\n",
       "      <td>7</td>\n",
       "      <td>8</td>\n",
       "      <td>5</td>\n",
       "    </tr>\n",
       "    <tr>\n",
       "      <th>8</th>\n",
       "      <td>Запустить акцию, дающую скидку на товар в день рождения</td>\n",
       "      <td>1</td>\n",
       "      <td>9</td>\n",
       "      <td>9</td>\n",
       "      <td>5</td>\n",
       "    </tr>\n",
       "  </tbody>\n",
       "</table>\n",
       "</div>"
      ],
      "text/plain": [
       "                                                                                                     Hypothesis  \\\n",
       "0            Добавить два новых канала привлечения трафика, что позволит привлекать на 30% больше пользователей   \n",
       "1                                     Запустить собственную службу доставки, что сократит срок доставки заказов   \n",
       "2  Добавить блоки рекомендаций товаров на сайт интернет магазина, чтобы повысить конверсию и средний чек заказа   \n",
       "3           Изменить структура категорий, что увеличит конверсию, т.к. пользователи быстрее найдут нужный товар   \n",
       "4                              Изменить цвет фона главной страницы, чтобы увеличить вовлеченность пользователей   \n",
       "5                      Добавить страницу отзывов клиентов о магазине, что позволит увеличить количество заказов   \n",
       "6          Показать на главной странице баннеры с актуальными акциями и распродажами, чтобы увеличить конверсию   \n",
       "7              Добавить форму подписки на все основные страницы, чтобы собрать базу клиентов для email-рассылок   \n",
       "8                                                       Запустить акцию, дающую скидку на товар в день рождения   \n",
       "\n",
       "   Reach  Impact  Confidence  Efforts  \n",
       "0      3      10           8        6  \n",
       "1      2       5           4       10  \n",
       "2      8       3           7        3  \n",
       "3      8       3           3        8  \n",
       "4      3       1           1        1  \n",
       "5      3       2           2        3  \n",
       "6      5       3           8        3  \n",
       "7     10       7           8        5  \n",
       "8      1       9           9        5  "
      ]
     },
     "metadata": {},
     "output_type": "display_data"
    },
    {
     "name": "stdout",
     "output_type": "stream",
     "text": [
      "\u001b[1m\u001b[34m Числовое описание данных:\n"
     ]
    },
    {
     "data": {
      "text/html": [
       "<div>\n",
       "<style scoped>\n",
       "    .dataframe tbody tr th:only-of-type {\n",
       "        vertical-align: middle;\n",
       "    }\n",
       "\n",
       "    .dataframe tbody tr th {\n",
       "        vertical-align: top;\n",
       "    }\n",
       "\n",
       "    .dataframe thead th {\n",
       "        text-align: right;\n",
       "    }\n",
       "</style>\n",
       "<table border=\"1\" class=\"dataframe\">\n",
       "  <thead>\n",
       "    <tr style=\"text-align: right;\">\n",
       "      <th></th>\n",
       "      <th>Reach</th>\n",
       "      <th>Impact</th>\n",
       "      <th>Confidence</th>\n",
       "      <th>Efforts</th>\n",
       "    </tr>\n",
       "  </thead>\n",
       "  <tbody>\n",
       "    <tr>\n",
       "      <th>count</th>\n",
       "      <td>9.000000</td>\n",
       "      <td>9.000000</td>\n",
       "      <td>9.000000</td>\n",
       "      <td>9.000000</td>\n",
       "    </tr>\n",
       "    <tr>\n",
       "      <th>mean</th>\n",
       "      <td>4.777778</td>\n",
       "      <td>4.777778</td>\n",
       "      <td>5.555556</td>\n",
       "      <td>4.888889</td>\n",
       "    </tr>\n",
       "    <tr>\n",
       "      <th>std</th>\n",
       "      <td>3.153481</td>\n",
       "      <td>3.192874</td>\n",
       "      <td>3.045944</td>\n",
       "      <td>2.803767</td>\n",
       "    </tr>\n",
       "    <tr>\n",
       "      <th>min</th>\n",
       "      <td>1.000000</td>\n",
       "      <td>1.000000</td>\n",
       "      <td>1.000000</td>\n",
       "      <td>1.000000</td>\n",
       "    </tr>\n",
       "    <tr>\n",
       "      <th>25%</th>\n",
       "      <td>3.000000</td>\n",
       "      <td>3.000000</td>\n",
       "      <td>3.000000</td>\n",
       "      <td>3.000000</td>\n",
       "    </tr>\n",
       "    <tr>\n",
       "      <th>50%</th>\n",
       "      <td>3.000000</td>\n",
       "      <td>3.000000</td>\n",
       "      <td>7.000000</td>\n",
       "      <td>5.000000</td>\n",
       "    </tr>\n",
       "    <tr>\n",
       "      <th>75%</th>\n",
       "      <td>8.000000</td>\n",
       "      <td>7.000000</td>\n",
       "      <td>8.000000</td>\n",
       "      <td>6.000000</td>\n",
       "    </tr>\n",
       "    <tr>\n",
       "      <th>max</th>\n",
       "      <td>10.000000</td>\n",
       "      <td>10.000000</td>\n",
       "      <td>9.000000</td>\n",
       "      <td>10.000000</td>\n",
       "    </tr>\n",
       "  </tbody>\n",
       "</table>\n",
       "</div>"
      ],
      "text/plain": [
       "           Reach     Impact  Confidence    Efforts\n",
       "count   9.000000   9.000000    9.000000   9.000000\n",
       "mean    4.777778   4.777778    5.555556   4.888889\n",
       "std     3.153481   3.192874    3.045944   2.803767\n",
       "min     1.000000   1.000000    1.000000   1.000000\n",
       "25%     3.000000   3.000000    3.000000   3.000000\n",
       "50%     3.000000   3.000000    7.000000   5.000000\n",
       "75%     8.000000   7.000000    8.000000   6.000000\n",
       "max    10.000000  10.000000    9.000000  10.000000"
      ]
     },
     "metadata": {},
     "output_type": "display_data"
    },
    {
     "name": "stdout",
     "output_type": "stream",
     "text": [
      "\u001b[1m\u001b[34m Общая информация о датасете:\n",
      "\u001b[0m \n",
      "<class 'pandas.core.frame.DataFrame'>\n",
      "RangeIndex: 9 entries, 0 to 8\n",
      "Data columns (total 5 columns):\n",
      " #   Column      Non-Null Count  Dtype \n",
      "---  ------      --------------  ----- \n",
      " 0   Hypothesis  9 non-null      object\n",
      " 1   Reach       9 non-null      int64 \n",
      " 2   Impact      9 non-null      int64 \n",
      " 3   Confidence  9 non-null      int64 \n",
      " 4   Efforts     9 non-null      int64 \n",
      "dtypes: int64(4), object(1)\n",
      "memory usage: 488.0+ bytes\n",
      "\n",
      "\u001b[1m\u001b[34m Пропуски в данных:\n"
     ]
    },
    {
     "data": {
      "text/plain": [
       "Hypothesis    0\n",
       "Reach         0\n",
       "Impact        0\n",
       "Confidence    0\n",
       "Efforts       0\n",
       "dtype: int64"
      ]
     },
     "metadata": {},
     "output_type": "display_data"
    },
    {
     "name": "stdout",
     "output_type": "stream",
     "text": [
      "\u001b[1m\u001b[34m Дубликаты:\n"
     ]
    },
    {
     "data": {
      "text/plain": [
       "0"
      ]
     },
     "metadata": {},
     "output_type": "display_data"
    }
   ],
   "source": [
    "pd.options.display.max_colwidth = 150\n",
    "observe_data(hypothesis)"
   ]
  },
  {
   "cell_type": "code",
   "execution_count": 5,
   "metadata": {},
   "outputs": [
    {
     "name": "stdout",
     "output_type": "stream",
     "text": [
      "\u001b[1m\u001b[34m Первые 10 строк датасета:\n"
     ]
    },
    {
     "data": {
      "text/html": [
       "<div>\n",
       "<style scoped>\n",
       "    .dataframe tbody tr th:only-of-type {\n",
       "        vertical-align: middle;\n",
       "    }\n",
       "\n",
       "    .dataframe tbody tr th {\n",
       "        vertical-align: top;\n",
       "    }\n",
       "\n",
       "    .dataframe thead th {\n",
       "        text-align: right;\n",
       "    }\n",
       "</style>\n",
       "<table border=\"1\" class=\"dataframe\">\n",
       "  <thead>\n",
       "    <tr style=\"text-align: right;\">\n",
       "      <th></th>\n",
       "      <th>transactionId</th>\n",
       "      <th>visitorId</th>\n",
       "      <th>date</th>\n",
       "      <th>revenue</th>\n",
       "      <th>group</th>\n",
       "    </tr>\n",
       "  </thead>\n",
       "  <tbody>\n",
       "    <tr>\n",
       "      <th>0</th>\n",
       "      <td>3667963787</td>\n",
       "      <td>3312258926</td>\n",
       "      <td>2019-08-15</td>\n",
       "      <td>1650</td>\n",
       "      <td>B</td>\n",
       "    </tr>\n",
       "    <tr>\n",
       "      <th>1</th>\n",
       "      <td>2804400009</td>\n",
       "      <td>3642806036</td>\n",
       "      <td>2019-08-15</td>\n",
       "      <td>730</td>\n",
       "      <td>B</td>\n",
       "    </tr>\n",
       "    <tr>\n",
       "      <th>2</th>\n",
       "      <td>2961555356</td>\n",
       "      <td>4069496402</td>\n",
       "      <td>2019-08-15</td>\n",
       "      <td>400</td>\n",
       "      <td>A</td>\n",
       "    </tr>\n",
       "    <tr>\n",
       "      <th>3</th>\n",
       "      <td>3797467345</td>\n",
       "      <td>1196621759</td>\n",
       "      <td>2019-08-15</td>\n",
       "      <td>9759</td>\n",
       "      <td>B</td>\n",
       "    </tr>\n",
       "    <tr>\n",
       "      <th>4</th>\n",
       "      <td>2282983706</td>\n",
       "      <td>2322279887</td>\n",
       "      <td>2019-08-15</td>\n",
       "      <td>2308</td>\n",
       "      <td>B</td>\n",
       "    </tr>\n",
       "    <tr>\n",
       "      <th>5</th>\n",
       "      <td>182168103</td>\n",
       "      <td>935554773</td>\n",
       "      <td>2019-08-15</td>\n",
       "      <td>2210</td>\n",
       "      <td>B</td>\n",
       "    </tr>\n",
       "    <tr>\n",
       "      <th>6</th>\n",
       "      <td>398296753</td>\n",
       "      <td>2900797465</td>\n",
       "      <td>2019-08-15</td>\n",
       "      <td>1860</td>\n",
       "      <td>B</td>\n",
       "    </tr>\n",
       "    <tr>\n",
       "      <th>7</th>\n",
       "      <td>2626614568</td>\n",
       "      <td>78758296</td>\n",
       "      <td>2019-08-15</td>\n",
       "      <td>1044</td>\n",
       "      <td>A</td>\n",
       "    </tr>\n",
       "    <tr>\n",
       "      <th>8</th>\n",
       "      <td>1576988021</td>\n",
       "      <td>295230930</td>\n",
       "      <td>2019-08-15</td>\n",
       "      <td>13710</td>\n",
       "      <td>A</td>\n",
       "    </tr>\n",
       "    <tr>\n",
       "      <th>9</th>\n",
       "      <td>1506739906</td>\n",
       "      <td>1882260405</td>\n",
       "      <td>2019-08-15</td>\n",
       "      <td>1855</td>\n",
       "      <td>B</td>\n",
       "    </tr>\n",
       "  </tbody>\n",
       "</table>\n",
       "</div>"
      ],
      "text/plain": [
       "   transactionId   visitorId        date  revenue group\n",
       "0     3667963787  3312258926  2019-08-15     1650     B\n",
       "1     2804400009  3642806036  2019-08-15      730     B\n",
       "2     2961555356  4069496402  2019-08-15      400     A\n",
       "3     3797467345  1196621759  2019-08-15     9759     B\n",
       "4     2282983706  2322279887  2019-08-15     2308     B\n",
       "5      182168103   935554773  2019-08-15     2210     B\n",
       "6      398296753  2900797465  2019-08-15     1860     B\n",
       "7     2626614568    78758296  2019-08-15     1044     A\n",
       "8     1576988021   295230930  2019-08-15    13710     A\n",
       "9     1506739906  1882260405  2019-08-15     1855     B"
      ]
     },
     "metadata": {},
     "output_type": "display_data"
    },
    {
     "name": "stdout",
     "output_type": "stream",
     "text": [
      "\u001b[1m\u001b[34m Числовое описание данных:\n"
     ]
    },
    {
     "data": {
      "text/html": [
       "<div>\n",
       "<style scoped>\n",
       "    .dataframe tbody tr th:only-of-type {\n",
       "        vertical-align: middle;\n",
       "    }\n",
       "\n",
       "    .dataframe tbody tr th {\n",
       "        vertical-align: top;\n",
       "    }\n",
       "\n",
       "    .dataframe thead th {\n",
       "        text-align: right;\n",
       "    }\n",
       "</style>\n",
       "<table border=\"1\" class=\"dataframe\">\n",
       "  <thead>\n",
       "    <tr style=\"text-align: right;\">\n",
       "      <th></th>\n",
       "      <th>transactionId</th>\n",
       "      <th>visitorId</th>\n",
       "      <th>revenue</th>\n",
       "    </tr>\n",
       "  </thead>\n",
       "  <tbody>\n",
       "    <tr>\n",
       "      <th>count</th>\n",
       "      <td>1.197000e+03</td>\n",
       "      <td>1.197000e+03</td>\n",
       "      <td>1.197000e+03</td>\n",
       "    </tr>\n",
       "    <tr>\n",
       "      <th>mean</th>\n",
       "      <td>2.155621e+09</td>\n",
       "      <td>2.165960e+09</td>\n",
       "      <td>8.348006e+03</td>\n",
       "    </tr>\n",
       "    <tr>\n",
       "      <th>std</th>\n",
       "      <td>1.229085e+09</td>\n",
       "      <td>1.236014e+09</td>\n",
       "      <td>3.919113e+04</td>\n",
       "    </tr>\n",
       "    <tr>\n",
       "      <th>min</th>\n",
       "      <td>1.062393e+06</td>\n",
       "      <td>5.114589e+06</td>\n",
       "      <td>5.000000e+01</td>\n",
       "    </tr>\n",
       "    <tr>\n",
       "      <th>25%</th>\n",
       "      <td>1.166776e+09</td>\n",
       "      <td>1.111826e+09</td>\n",
       "      <td>1.220000e+03</td>\n",
       "    </tr>\n",
       "    <tr>\n",
       "      <th>50%</th>\n",
       "      <td>2.145194e+09</td>\n",
       "      <td>2.217985e+09</td>\n",
       "      <td>2.978000e+03</td>\n",
       "    </tr>\n",
       "    <tr>\n",
       "      <th>75%</th>\n",
       "      <td>3.237740e+09</td>\n",
       "      <td>3.177606e+09</td>\n",
       "      <td>8.290000e+03</td>\n",
       "    </tr>\n",
       "    <tr>\n",
       "      <th>max</th>\n",
       "      <td>4.293856e+09</td>\n",
       "      <td>4.283872e+09</td>\n",
       "      <td>1.294500e+06</td>\n",
       "    </tr>\n",
       "  </tbody>\n",
       "</table>\n",
       "</div>"
      ],
      "text/plain": [
       "       transactionId     visitorId       revenue\n",
       "count   1.197000e+03  1.197000e+03  1.197000e+03\n",
       "mean    2.155621e+09  2.165960e+09  8.348006e+03\n",
       "std     1.229085e+09  1.236014e+09  3.919113e+04\n",
       "min     1.062393e+06  5.114589e+06  5.000000e+01\n",
       "25%     1.166776e+09  1.111826e+09  1.220000e+03\n",
       "50%     2.145194e+09  2.217985e+09  2.978000e+03\n",
       "75%     3.237740e+09  3.177606e+09  8.290000e+03\n",
       "max     4.293856e+09  4.283872e+09  1.294500e+06"
      ]
     },
     "metadata": {},
     "output_type": "display_data"
    },
    {
     "name": "stdout",
     "output_type": "stream",
     "text": [
      "\u001b[1m\u001b[34m Общая информация о датасете:\n",
      "\u001b[0m \n",
      "<class 'pandas.core.frame.DataFrame'>\n",
      "RangeIndex: 1197 entries, 0 to 1196\n",
      "Data columns (total 5 columns):\n",
      " #   Column         Non-Null Count  Dtype \n",
      "---  ------         --------------  ----- \n",
      " 0   transactionId  1197 non-null   int64 \n",
      " 1   visitorId      1197 non-null   int64 \n",
      " 2   date           1197 non-null   object\n",
      " 3   revenue        1197 non-null   int64 \n",
      " 4   group          1197 non-null   object\n",
      "dtypes: int64(3), object(2)\n",
      "memory usage: 46.9+ KB\n",
      "\n",
      "\u001b[1m\u001b[34m Пропуски в данных:\n"
     ]
    },
    {
     "data": {
      "text/plain": [
       "transactionId    0\n",
       "visitorId        0\n",
       "date             0\n",
       "revenue          0\n",
       "group            0\n",
       "dtype: int64"
      ]
     },
     "metadata": {},
     "output_type": "display_data"
    },
    {
     "name": "stdout",
     "output_type": "stream",
     "text": [
      "\u001b[1m\u001b[34m Дубликаты:\n"
     ]
    },
    {
     "data": {
      "text/plain": [
       "0"
      ]
     },
     "metadata": {},
     "output_type": "display_data"
    }
   ],
   "source": [
    "observe_data(orders)"
   ]
  },
  {
   "cell_type": "code",
   "execution_count": 6,
   "metadata": {},
   "outputs": [
    {
     "name": "stdout",
     "output_type": "stream",
     "text": [
      "\u001b[1m\u001b[34m Первые 10 строк датасета:\n"
     ]
    },
    {
     "data": {
      "text/html": [
       "<div>\n",
       "<style scoped>\n",
       "    .dataframe tbody tr th:only-of-type {\n",
       "        vertical-align: middle;\n",
       "    }\n",
       "\n",
       "    .dataframe tbody tr th {\n",
       "        vertical-align: top;\n",
       "    }\n",
       "\n",
       "    .dataframe thead th {\n",
       "        text-align: right;\n",
       "    }\n",
       "</style>\n",
       "<table border=\"1\" class=\"dataframe\">\n",
       "  <thead>\n",
       "    <tr style=\"text-align: right;\">\n",
       "      <th></th>\n",
       "      <th>date</th>\n",
       "      <th>group</th>\n",
       "      <th>visitors</th>\n",
       "    </tr>\n",
       "  </thead>\n",
       "  <tbody>\n",
       "    <tr>\n",
       "      <th>0</th>\n",
       "      <td>2019-08-01</td>\n",
       "      <td>A</td>\n",
       "      <td>719</td>\n",
       "    </tr>\n",
       "    <tr>\n",
       "      <th>1</th>\n",
       "      <td>2019-08-02</td>\n",
       "      <td>A</td>\n",
       "      <td>619</td>\n",
       "    </tr>\n",
       "    <tr>\n",
       "      <th>2</th>\n",
       "      <td>2019-08-03</td>\n",
       "      <td>A</td>\n",
       "      <td>507</td>\n",
       "    </tr>\n",
       "    <tr>\n",
       "      <th>3</th>\n",
       "      <td>2019-08-04</td>\n",
       "      <td>A</td>\n",
       "      <td>717</td>\n",
       "    </tr>\n",
       "    <tr>\n",
       "      <th>4</th>\n",
       "      <td>2019-08-05</td>\n",
       "      <td>A</td>\n",
       "      <td>756</td>\n",
       "    </tr>\n",
       "    <tr>\n",
       "      <th>5</th>\n",
       "      <td>2019-08-06</td>\n",
       "      <td>A</td>\n",
       "      <td>667</td>\n",
       "    </tr>\n",
       "    <tr>\n",
       "      <th>6</th>\n",
       "      <td>2019-08-07</td>\n",
       "      <td>A</td>\n",
       "      <td>644</td>\n",
       "    </tr>\n",
       "    <tr>\n",
       "      <th>7</th>\n",
       "      <td>2019-08-08</td>\n",
       "      <td>A</td>\n",
       "      <td>610</td>\n",
       "    </tr>\n",
       "    <tr>\n",
       "      <th>8</th>\n",
       "      <td>2019-08-09</td>\n",
       "      <td>A</td>\n",
       "      <td>617</td>\n",
       "    </tr>\n",
       "    <tr>\n",
       "      <th>9</th>\n",
       "      <td>2019-08-10</td>\n",
       "      <td>A</td>\n",
       "      <td>406</td>\n",
       "    </tr>\n",
       "  </tbody>\n",
       "</table>\n",
       "</div>"
      ],
      "text/plain": [
       "         date group  visitors\n",
       "0  2019-08-01     A       719\n",
       "1  2019-08-02     A       619\n",
       "2  2019-08-03     A       507\n",
       "3  2019-08-04     A       717\n",
       "4  2019-08-05     A       756\n",
       "5  2019-08-06     A       667\n",
       "6  2019-08-07     A       644\n",
       "7  2019-08-08     A       610\n",
       "8  2019-08-09     A       617\n",
       "9  2019-08-10     A       406"
      ]
     },
     "metadata": {},
     "output_type": "display_data"
    },
    {
     "name": "stdout",
     "output_type": "stream",
     "text": [
      "\u001b[1m\u001b[34m Числовое описание данных:\n"
     ]
    },
    {
     "data": {
      "text/html": [
       "<div>\n",
       "<style scoped>\n",
       "    .dataframe tbody tr th:only-of-type {\n",
       "        vertical-align: middle;\n",
       "    }\n",
       "\n",
       "    .dataframe tbody tr th {\n",
       "        vertical-align: top;\n",
       "    }\n",
       "\n",
       "    .dataframe thead th {\n",
       "        text-align: right;\n",
       "    }\n",
       "</style>\n",
       "<table border=\"1\" class=\"dataframe\">\n",
       "  <thead>\n",
       "    <tr style=\"text-align: right;\">\n",
       "      <th></th>\n",
       "      <th>visitors</th>\n",
       "    </tr>\n",
       "  </thead>\n",
       "  <tbody>\n",
       "    <tr>\n",
       "      <th>count</th>\n",
       "      <td>62.000000</td>\n",
       "    </tr>\n",
       "    <tr>\n",
       "      <th>mean</th>\n",
       "      <td>607.290323</td>\n",
       "    </tr>\n",
       "    <tr>\n",
       "      <th>std</th>\n",
       "      <td>114.400560</td>\n",
       "    </tr>\n",
       "    <tr>\n",
       "      <th>min</th>\n",
       "      <td>361.000000</td>\n",
       "    </tr>\n",
       "    <tr>\n",
       "      <th>25%</th>\n",
       "      <td>534.000000</td>\n",
       "    </tr>\n",
       "    <tr>\n",
       "      <th>50%</th>\n",
       "      <td>624.500000</td>\n",
       "    </tr>\n",
       "    <tr>\n",
       "      <th>75%</th>\n",
       "      <td>710.500000</td>\n",
       "    </tr>\n",
       "    <tr>\n",
       "      <th>max</th>\n",
       "      <td>770.000000</td>\n",
       "    </tr>\n",
       "  </tbody>\n",
       "</table>\n",
       "</div>"
      ],
      "text/plain": [
       "         visitors\n",
       "count   62.000000\n",
       "mean   607.290323\n",
       "std    114.400560\n",
       "min    361.000000\n",
       "25%    534.000000\n",
       "50%    624.500000\n",
       "75%    710.500000\n",
       "max    770.000000"
      ]
     },
     "metadata": {},
     "output_type": "display_data"
    },
    {
     "name": "stdout",
     "output_type": "stream",
     "text": [
      "\u001b[1m\u001b[34m Общая информация о датасете:\n",
      "\u001b[0m \n",
      "<class 'pandas.core.frame.DataFrame'>\n",
      "RangeIndex: 62 entries, 0 to 61\n",
      "Data columns (total 3 columns):\n",
      " #   Column    Non-Null Count  Dtype \n",
      "---  ------    --------------  ----- \n",
      " 0   date      62 non-null     object\n",
      " 1   group     62 non-null     object\n",
      " 2   visitors  62 non-null     int64 \n",
      "dtypes: int64(1), object(2)\n",
      "memory usage: 1.6+ KB\n",
      "\n",
      "\u001b[1m\u001b[34m Пропуски в данных:\n"
     ]
    },
    {
     "data": {
      "text/plain": [
       "date        0\n",
       "group       0\n",
       "visitors    0\n",
       "dtype: int64"
      ]
     },
     "metadata": {},
     "output_type": "display_data"
    },
    {
     "name": "stdout",
     "output_type": "stream",
     "text": [
      "\u001b[1m\u001b[34m Дубликаты:\n"
     ]
    },
    {
     "data": {
      "text/plain": [
       "0"
      ]
     },
     "metadata": {},
     "output_type": "display_data"
    }
   ],
   "source": [
    "observe_data(visitors)"
   ]
  },
  {
   "cell_type": "code",
   "execution_count": 7,
   "metadata": {},
   "outputs": [
    {
     "data": {
      "text/plain": [
       "Index(['hypothesis', 'reach', 'impact', 'confidence', 'efforts'], dtype='object')"
      ]
     },
     "metadata": {},
     "output_type": "display_data"
    },
    {
     "data": {
      "text/plain": [
       "Index(['transaction_id', 'visitor_id', 'date', 'revenue', 'group'], dtype='object')"
      ]
     },
     "execution_count": 7,
     "metadata": {},
     "output_type": "execute_result"
    }
   ],
   "source": [
    "# меняем стиль названия столбцов и тип столбцов \n",
    "\n",
    "hypothesis.columns = hypothesis.columns.str.lower()\n",
    "orders.columns = [x.replace('Id', '_id') for x in orders.columns]\n",
    "visitors['date'] = pd.to_datetime(visitors['date'])\n",
    "orders['date'] = pd.to_datetime(orders['date'])\n",
    "\n",
    "display(hypothesis.columns)\n",
    "orders.columns"
   ]
  },
  {
   "cell_type": "markdown",
   "metadata": {},
   "source": [
    "# Приоритизация гипотез"
   ]
  },
  {
   "cell_type": "markdown",
   "metadata": {},
   "source": [
    "## ICE"
   ]
  },
  {
   "cell_type": "code",
   "execution_count": 8,
   "metadata": {},
   "outputs": [
    {
     "data": {
      "text/html": [
       "<div>\n",
       "<style scoped>\n",
       "    .dataframe tbody tr th:only-of-type {\n",
       "        vertical-align: middle;\n",
       "    }\n",
       "\n",
       "    .dataframe tbody tr th {\n",
       "        vertical-align: top;\n",
       "    }\n",
       "\n",
       "    .dataframe thead th {\n",
       "        text-align: right;\n",
       "    }\n",
       "</style>\n",
       "<table border=\"1\" class=\"dataframe\">\n",
       "  <thead>\n",
       "    <tr style=\"text-align: right;\">\n",
       "      <th></th>\n",
       "      <th>hypothesis</th>\n",
       "      <th>reach</th>\n",
       "      <th>impact</th>\n",
       "      <th>confidence</th>\n",
       "      <th>efforts</th>\n",
       "      <th>ICE</th>\n",
       "    </tr>\n",
       "  </thead>\n",
       "  <tbody>\n",
       "    <tr>\n",
       "      <th>8</th>\n",
       "      <td>Запустить акцию, дающую скидку на товар в день рождения</td>\n",
       "      <td>1</td>\n",
       "      <td>9</td>\n",
       "      <td>9</td>\n",
       "      <td>5</td>\n",
       "      <td>16.20</td>\n",
       "    </tr>\n",
       "    <tr>\n",
       "      <th>0</th>\n",
       "      <td>Добавить два новых канала привлечения трафика, что позволит привлекать на 30% больше пользователей</td>\n",
       "      <td>3</td>\n",
       "      <td>10</td>\n",
       "      <td>8</td>\n",
       "      <td>6</td>\n",
       "      <td>13.33</td>\n",
       "    </tr>\n",
       "    <tr>\n",
       "      <th>7</th>\n",
       "      <td>Добавить форму подписки на все основные страницы, чтобы собрать базу клиентов для email-рассылок</td>\n",
       "      <td>10</td>\n",
       "      <td>7</td>\n",
       "      <td>8</td>\n",
       "      <td>5</td>\n",
       "      <td>11.20</td>\n",
       "    </tr>\n",
       "    <tr>\n",
       "      <th>6</th>\n",
       "      <td>Показать на главной странице баннеры с актуальными акциями и распродажами, чтобы увеличить конверсию</td>\n",
       "      <td>5</td>\n",
       "      <td>3</td>\n",
       "      <td>8</td>\n",
       "      <td>3</td>\n",
       "      <td>8.00</td>\n",
       "    </tr>\n",
       "    <tr>\n",
       "      <th>2</th>\n",
       "      <td>Добавить блоки рекомендаций товаров на сайт интернет магазина, чтобы повысить конверсию и средний чек заказа</td>\n",
       "      <td>8</td>\n",
       "      <td>3</td>\n",
       "      <td>7</td>\n",
       "      <td>3</td>\n",
       "      <td>7.00</td>\n",
       "    </tr>\n",
       "    <tr>\n",
       "      <th>1</th>\n",
       "      <td>Запустить собственную службу доставки, что сократит срок доставки заказов</td>\n",
       "      <td>2</td>\n",
       "      <td>5</td>\n",
       "      <td>4</td>\n",
       "      <td>10</td>\n",
       "      <td>2.00</td>\n",
       "    </tr>\n",
       "    <tr>\n",
       "      <th>5</th>\n",
       "      <td>Добавить страницу отзывов клиентов о магазине, что позволит увеличить количество заказов</td>\n",
       "      <td>3</td>\n",
       "      <td>2</td>\n",
       "      <td>2</td>\n",
       "      <td>3</td>\n",
       "      <td>1.33</td>\n",
       "    </tr>\n",
       "    <tr>\n",
       "      <th>3</th>\n",
       "      <td>Изменить структура категорий, что увеличит конверсию, т.к. пользователи быстрее найдут нужный товар</td>\n",
       "      <td>8</td>\n",
       "      <td>3</td>\n",
       "      <td>3</td>\n",
       "      <td>8</td>\n",
       "      <td>1.12</td>\n",
       "    </tr>\n",
       "    <tr>\n",
       "      <th>4</th>\n",
       "      <td>Изменить цвет фона главной страницы, чтобы увеличить вовлеченность пользователей</td>\n",
       "      <td>3</td>\n",
       "      <td>1</td>\n",
       "      <td>1</td>\n",
       "      <td>1</td>\n",
       "      <td>1.00</td>\n",
       "    </tr>\n",
       "  </tbody>\n",
       "</table>\n",
       "</div>"
      ],
      "text/plain": [
       "                                                                                                     hypothesis  \\\n",
       "8                                                       Запустить акцию, дающую скидку на товар в день рождения   \n",
       "0            Добавить два новых канала привлечения трафика, что позволит привлекать на 30% больше пользователей   \n",
       "7              Добавить форму подписки на все основные страницы, чтобы собрать базу клиентов для email-рассылок   \n",
       "6          Показать на главной странице баннеры с актуальными акциями и распродажами, чтобы увеличить конверсию   \n",
       "2  Добавить блоки рекомендаций товаров на сайт интернет магазина, чтобы повысить конверсию и средний чек заказа   \n",
       "1                                     Запустить собственную службу доставки, что сократит срок доставки заказов   \n",
       "5                      Добавить страницу отзывов клиентов о магазине, что позволит увеличить количество заказов   \n",
       "3           Изменить структура категорий, что увеличит конверсию, т.к. пользователи быстрее найдут нужный товар   \n",
       "4                              Изменить цвет фона главной страницы, чтобы увеличить вовлеченность пользователей   \n",
       "\n",
       "   reach  impact  confidence  efforts    ICE  \n",
       "8      1       9           9        5  16.20  \n",
       "0      3      10           8        6  13.33  \n",
       "7     10       7           8        5  11.20  \n",
       "6      5       3           8        3   8.00  \n",
       "2      8       3           7        3   7.00  \n",
       "1      2       5           4       10   2.00  \n",
       "5      3       2           2        3   1.33  \n",
       "3      8       3           3        8   1.12  \n",
       "4      3       1           1        1   1.00  "
      ]
     },
     "execution_count": 8,
     "metadata": {},
     "output_type": "execute_result"
    }
   ],
   "source": [
    "# применяем фреймворк ICE для приоритизации гипотез\n",
    "\n",
    "hypothesis['ICE'] = hypothesis['impact'] * hypothesis['confidence'] / hypothesis['efforts']\n",
    "hypothesis.sort_values(by='ICE', ascending=False).round(2)"
   ]
  },
  {
   "cell_type": "markdown",
   "metadata": {},
   "source": [
    "Самые перспективные гипотезы по методу ICE:\n",
    " - Запустить акцию, дающую скидку на товар в день рождения (8)\n",
    " - Добавить два новых канала привлечения трафика, что позволит привлекать на 30% больше пользователей (0)\n",
    " - Добавить форму подписки на все основные страницы, чтобы собрать базу клиентов для email-рассылок (7)"
   ]
  },
  {
   "cell_type": "markdown",
   "metadata": {},
   "source": [
    "## RICE"
   ]
  },
  {
   "cell_type": "code",
   "execution_count": 9,
   "metadata": {
    "scrolled": true
   },
   "outputs": [
    {
     "data": {
      "text/html": [
       "<div>\n",
       "<style scoped>\n",
       "    .dataframe tbody tr th:only-of-type {\n",
       "        vertical-align: middle;\n",
       "    }\n",
       "\n",
       "    .dataframe tbody tr th {\n",
       "        vertical-align: top;\n",
       "    }\n",
       "\n",
       "    .dataframe thead th {\n",
       "        text-align: right;\n",
       "    }\n",
       "</style>\n",
       "<table border=\"1\" class=\"dataframe\">\n",
       "  <thead>\n",
       "    <tr style=\"text-align: right;\">\n",
       "      <th></th>\n",
       "      <th>hypothesis</th>\n",
       "      <th>reach</th>\n",
       "      <th>impact</th>\n",
       "      <th>confidence</th>\n",
       "      <th>efforts</th>\n",
       "      <th>ICE</th>\n",
       "      <th>RICE</th>\n",
       "    </tr>\n",
       "  </thead>\n",
       "  <tbody>\n",
       "    <tr>\n",
       "      <th>7</th>\n",
       "      <td>Добавить форму подписки на все основные страницы, чтобы собрать базу клиентов для email-рассылок</td>\n",
       "      <td>10</td>\n",
       "      <td>7</td>\n",
       "      <td>8</td>\n",
       "      <td>5</td>\n",
       "      <td>11.20</td>\n",
       "      <td>112.0</td>\n",
       "    </tr>\n",
       "    <tr>\n",
       "      <th>2</th>\n",
       "      <td>Добавить блоки рекомендаций товаров на сайт интернет магазина, чтобы повысить конверсию и средний чек заказа</td>\n",
       "      <td>8</td>\n",
       "      <td>3</td>\n",
       "      <td>7</td>\n",
       "      <td>3</td>\n",
       "      <td>7.00</td>\n",
       "      <td>56.0</td>\n",
       "    </tr>\n",
       "    <tr>\n",
       "      <th>0</th>\n",
       "      <td>Добавить два новых канала привлечения трафика, что позволит привлекать на 30% больше пользователей</td>\n",
       "      <td>3</td>\n",
       "      <td>10</td>\n",
       "      <td>8</td>\n",
       "      <td>6</td>\n",
       "      <td>13.33</td>\n",
       "      <td>40.0</td>\n",
       "    </tr>\n",
       "    <tr>\n",
       "      <th>6</th>\n",
       "      <td>Показать на главной странице баннеры с актуальными акциями и распродажами, чтобы увеличить конверсию</td>\n",
       "      <td>5</td>\n",
       "      <td>3</td>\n",
       "      <td>8</td>\n",
       "      <td>3</td>\n",
       "      <td>8.00</td>\n",
       "      <td>40.0</td>\n",
       "    </tr>\n",
       "    <tr>\n",
       "      <th>8</th>\n",
       "      <td>Запустить акцию, дающую скидку на товар в день рождения</td>\n",
       "      <td>1</td>\n",
       "      <td>9</td>\n",
       "      <td>9</td>\n",
       "      <td>5</td>\n",
       "      <td>16.20</td>\n",
       "      <td>16.2</td>\n",
       "    </tr>\n",
       "    <tr>\n",
       "      <th>3</th>\n",
       "      <td>Изменить структура категорий, что увеличит конверсию, т.к. пользователи быстрее найдут нужный товар</td>\n",
       "      <td>8</td>\n",
       "      <td>3</td>\n",
       "      <td>3</td>\n",
       "      <td>8</td>\n",
       "      <td>1.12</td>\n",
       "      <td>9.0</td>\n",
       "    </tr>\n",
       "    <tr>\n",
       "      <th>1</th>\n",
       "      <td>Запустить собственную службу доставки, что сократит срок доставки заказов</td>\n",
       "      <td>2</td>\n",
       "      <td>5</td>\n",
       "      <td>4</td>\n",
       "      <td>10</td>\n",
       "      <td>2.00</td>\n",
       "      <td>4.0</td>\n",
       "    </tr>\n",
       "    <tr>\n",
       "      <th>5</th>\n",
       "      <td>Добавить страницу отзывов клиентов о магазине, что позволит увеличить количество заказов</td>\n",
       "      <td>3</td>\n",
       "      <td>2</td>\n",
       "      <td>2</td>\n",
       "      <td>3</td>\n",
       "      <td>1.33</td>\n",
       "      <td>4.0</td>\n",
       "    </tr>\n",
       "    <tr>\n",
       "      <th>4</th>\n",
       "      <td>Изменить цвет фона главной страницы, чтобы увеличить вовлеченность пользователей</td>\n",
       "      <td>3</td>\n",
       "      <td>1</td>\n",
       "      <td>1</td>\n",
       "      <td>1</td>\n",
       "      <td>1.00</td>\n",
       "      <td>3.0</td>\n",
       "    </tr>\n",
       "  </tbody>\n",
       "</table>\n",
       "</div>"
      ],
      "text/plain": [
       "                                                                                                     hypothesis  \\\n",
       "7              Добавить форму подписки на все основные страницы, чтобы собрать базу клиентов для email-рассылок   \n",
       "2  Добавить блоки рекомендаций товаров на сайт интернет магазина, чтобы повысить конверсию и средний чек заказа   \n",
       "0            Добавить два новых канала привлечения трафика, что позволит привлекать на 30% больше пользователей   \n",
       "6          Показать на главной странице баннеры с актуальными акциями и распродажами, чтобы увеличить конверсию   \n",
       "8                                                       Запустить акцию, дающую скидку на товар в день рождения   \n",
       "3           Изменить структура категорий, что увеличит конверсию, т.к. пользователи быстрее найдут нужный товар   \n",
       "1                                     Запустить собственную службу доставки, что сократит срок доставки заказов   \n",
       "5                      Добавить страницу отзывов клиентов о магазине, что позволит увеличить количество заказов   \n",
       "4                              Изменить цвет фона главной страницы, чтобы увеличить вовлеченность пользователей   \n",
       "\n",
       "   reach  impact  confidence  efforts    ICE   RICE  \n",
       "7     10       7           8        5  11.20  112.0  \n",
       "2      8       3           7        3   7.00   56.0  \n",
       "0      3      10           8        6  13.33   40.0  \n",
       "6      5       3           8        3   8.00   40.0  \n",
       "8      1       9           9        5  16.20   16.2  \n",
       "3      8       3           3        8   1.12    9.0  \n",
       "1      2       5           4       10   2.00    4.0  \n",
       "5      3       2           2        3   1.33    4.0  \n",
       "4      3       1           1        1   1.00    3.0  "
      ]
     },
     "execution_count": 9,
     "metadata": {},
     "output_type": "execute_result"
    }
   ],
   "source": [
    "# применяем фреймворк RICE для приоритизации гипотез\n",
    "\n",
    "hypothesis['RICE'] = hypothesis['reach'] * hypothesis['impact'] * hypothesis['confidence'] / hypothesis['efforts']\n",
    "hypothesis.sort_values(by='RICE', ascending=False).round(2)"
   ]
  },
  {
   "cell_type": "markdown",
   "metadata": {},
   "source": [
    "Самые перспективные гипотезы по методу RICE:\n",
    " - Добавить форму подписки на все основные страницы, чтобы собрать базу клиентов для email-рассылок\t(7)\n",
    " - Добавить блоки рекомендаций товаров на сайт интернет магазина, чтобы повысить конверсию и средний чек заказа\t(2)\n",
    " - Добавить два новых канала привлечения трафика, что позволит привлекать на 30% больше пользователей (0)"
   ]
  },
  {
   "cell_type": "markdown",
   "metadata": {},
   "source": [
    "## Вывод"
   ]
  },
  {
   "cell_type": "markdown",
   "metadata": {},
   "source": [
    " - При использовании метода  RICE самая перспективная гипотеза - \"Добавить форму подписки на все основные страницы, чтобы собрать базу клиентов для email-рассылок\" (7). \n",
    " - С третьего места при методе ICE на первое при использовании метода RICE эта гипотеза передвинулась потому, что добавился показатель в числитель при вычислениях, и у этой гипотезы он высокий. Метод RICE учитывает, какое количество пользователей затронет гипотеза, а метод ICE - нет.\n",
    " - При проверке 7 гипотезы будет затронуто самое большое количество пользователей при одинаковом количестве затрат ресурсов с 8 гипотезой."
   ]
  },
  {
   "cell_type": "markdown",
   "metadata": {},
   "source": [
    "# Анализ A/B-теста"
   ]
  },
  {
   "cell_type": "code",
   "execution_count": 10,
   "metadata": {},
   "outputs": [
    {
     "data": {
      "text/plain": [
       "-58"
      ]
     },
     "metadata": {},
     "output_type": "display_data"
    },
    {
     "data": {
      "text/plain": [
       "11.530815109343937"
      ]
     },
     "metadata": {},
     "output_type": "display_data"
    },
    {
     "data": {
      "text/plain": [
       "9.897610921501707"
      ]
     },
     "metadata": {},
     "output_type": "display_data"
    },
    {
     "data": {
      "text/plain": [
       "5.625606207565471"
      ]
     },
     "execution_count": 10,
     "metadata": {},
     "output_type": "execute_result"
    }
   ],
   "source": [
    "both_groups = orders['visitor_id'].nunique() - (orders[orders['group'] == 'A']['visitor_id'].nunique()) - (orders[orders['group'] == 'B']['visitor_id'].nunique())\n",
    "display(both_groups)\n",
    "display(abs(both_groups) / orders[orders['group'] == 'A']['visitor_id'].nunique() * 100)\n",
    "display(abs(both_groups) / orders[orders['group'] == 'B']['visitor_id'].nunique() * 100)\n",
    "abs(both_groups) / orders['visitor_id'].nunique() * 100"
   ]
  },
  {
   "cell_type": "markdown",
   "metadata": {},
   "source": [
    "**Вывод:**\n",
    " - По результатам вычислений получается, 58 пользователей, участвующих в обеих группах\n",
    " - В группе А это 11.5% от пользователей\n",
    " - В группе В это 9.8% от пользователей\n",
    " - От общего числа пользователей - это 5.6%\n",
    "\n",
    "Поскольку от общего числа пользователей это всего лишь 5.6%, то этих повторяющихся пользователей можем оставить, они не повлияют критически на результаты исследования"
   ]
  },
  {
   "cell_type": "markdown",
   "metadata": {},
   "source": [
    "## График кумулятивной выручки по группам"
   ]
  },
  {
   "cell_type": "code",
   "execution_count": 11,
   "metadata": {},
   "outputs": [
    {
     "data": {
      "text/html": [
       "<div>\n",
       "<style scoped>\n",
       "    .dataframe tbody tr th:only-of-type {\n",
       "        vertical-align: middle;\n",
       "    }\n",
       "\n",
       "    .dataframe tbody tr th {\n",
       "        vertical-align: top;\n",
       "    }\n",
       "\n",
       "    .dataframe thead th {\n",
       "        text-align: right;\n",
       "    }\n",
       "</style>\n",
       "<table border=\"1\" class=\"dataframe\">\n",
       "  <thead>\n",
       "    <tr style=\"text-align: right;\">\n",
       "      <th></th>\n",
       "      <th>date</th>\n",
       "      <th>group</th>\n",
       "      <th>orders</th>\n",
       "      <th>buyers</th>\n",
       "      <th>revenue</th>\n",
       "      <th>visitors</th>\n",
       "    </tr>\n",
       "  </thead>\n",
       "  <tbody>\n",
       "    <tr>\n",
       "      <th>0</th>\n",
       "      <td>2019-08-01</td>\n",
       "      <td>A</td>\n",
       "      <td>24</td>\n",
       "      <td>20</td>\n",
       "      <td>148579</td>\n",
       "      <td>719</td>\n",
       "    </tr>\n",
       "    <tr>\n",
       "      <th>1</th>\n",
       "      <td>2019-08-01</td>\n",
       "      <td>B</td>\n",
       "      <td>21</td>\n",
       "      <td>20</td>\n",
       "      <td>101217</td>\n",
       "      <td>713</td>\n",
       "    </tr>\n",
       "    <tr>\n",
       "      <th>2</th>\n",
       "      <td>2019-08-02</td>\n",
       "      <td>A</td>\n",
       "      <td>44</td>\n",
       "      <td>38</td>\n",
       "      <td>242401</td>\n",
       "      <td>1338</td>\n",
       "    </tr>\n",
       "    <tr>\n",
       "      <th>3</th>\n",
       "      <td>2019-08-02</td>\n",
       "      <td>B</td>\n",
       "      <td>45</td>\n",
       "      <td>43</td>\n",
       "      <td>266748</td>\n",
       "      <td>1294</td>\n",
       "    </tr>\n",
       "    <tr>\n",
       "      <th>4</th>\n",
       "      <td>2019-08-03</td>\n",
       "      <td>A</td>\n",
       "      <td>68</td>\n",
       "      <td>62</td>\n",
       "      <td>354874</td>\n",
       "      <td>1845</td>\n",
       "    </tr>\n",
       "  </tbody>\n",
       "</table>\n",
       "</div>"
      ],
      "text/plain": [
       "        date group  orders  buyers  revenue  visitors\n",
       "0 2019-08-01     A      24      20   148579       719\n",
       "1 2019-08-01     B      21      20   101217       713\n",
       "2 2019-08-02     A      44      38   242401      1338\n",
       "3 2019-08-02     B      45      43   266748      1294\n",
       "4 2019-08-03     A      68      62   354874      1845"
      ]
     },
     "execution_count": 11,
     "metadata": {},
     "output_type": "execute_result"
    }
   ],
   "source": [
    "# создаем массив уникальных пар значений дат и групп теста\n",
    "datesGroups = orders[['date','group']].drop_duplicates()\n",
    "\n",
    "# собираем агрегированные кумулятивные данные о заказах по дням\n",
    "ordersAggregated = (\n",
    "    datesGroups.apply(lambda x: orders[np.logical_and(orders['date'] <= x['date'], orders['group'] == x['group'])]\n",
    "                      .agg({'date' : 'max',\n",
    "                            'group' : 'max',\n",
    "                            'transaction_id' : 'nunique',\n",
    "                            'visitor_id' : 'nunique',\n",
    "                            'revenue' : 'sum'}), \n",
    "                      axis=1)\n",
    "                      .sort_values(by=['date','group']))\n",
    "\n",
    "# собираем агрегированные кумулятивные данные о посетителях по дням\n",
    "visitorsAggregated = (\n",
    "    datesGroups.apply(lambda x: visitors[np.logical_and(visitors['date'] <= x['date'], visitors['group'] == x['group'])]\n",
    "                      .agg({'date' : 'max',\n",
    "                            'group' : 'max',\n",
    "                            'visitors' : 'sum'}),\n",
    "                      axis=1)\n",
    "                      .sort_values(by=['date','group']))\n",
    "\n",
    "# объединяем кумулятивные данные в одной таблице и присваиваем ее столбцам понятные названия\n",
    "cumulativeData = ordersAggregated.merge(visitorsAggregated,\n",
    "                                        left_on=['date', 'group'],\n",
    "                                        right_on=['date', 'group'])\n",
    "cumulativeData.columns = ['date', 'group', 'orders', 'buyers', 'revenue', 'visitors']\n",
    "\n",
    "cumulativeData.head()"
   ]
  },
  {
   "cell_type": "code",
   "execution_count": 12,
   "metadata": {},
   "outputs": [
    {
     "data": {
      "image/png": "[encoded data removed]",
      "text/plain": [
       "<Figure size 1008x432 with 1 Axes>"
      ]
     },
     "metadata": {
      "needs_background": "light"
     },
     "output_type": "display_data"
    }
   ],
   "source": [
    "# датафрейм с кумулятивным количеством заказов и кумулятивной выручкой по дням \n",
    "cumulativeRevenueA = cumulativeData[cumulativeData['group']=='A'][['date','revenue', 'orders']]\n",
    "cumulativeRevenueB = cumulativeData[cumulativeData['group']=='B'][['date','revenue', 'orders']]\n",
    "\n",
    "plt.figure(figsize=(14, 6))\n",
    "plt.plot(cumulativeRevenueA['date'], cumulativeRevenueA['revenue'], label='A')\n",
    "plt.plot(cumulativeRevenueB['date'], cumulativeRevenueB['revenue'], label='B')\n",
    "plt.title('Кумулятивная выручка')\n",
    "plt.xlabel('Дата')\n",
    "plt.ylabel('Выручка, млн')\n",
    "plt.grid(True)\n",
    "plt.legend();"
   ]
  },
  {
   "cell_type": "markdown",
   "metadata": {},
   "source": [
    "**Вывод:**\n",
    " - Выручка группы А растет постепенно, без резких скачков\n",
    " - Выручка группы В больше выручки группы А с 5-го дня исследования\n",
    " - В группе В есть резкий рост выручки примерно на 19 день исследования, возможно в этой группе есть аномальные значения (дорогие заказы)"
   ]
  },
  {
   "cell_type": "markdown",
   "metadata": {},
   "source": [
    "## График кумулятивного среднего чека по группам"
   ]
  },
  {
   "cell_type": "code",
   "execution_count": 13,
   "metadata": {},
   "outputs": [
    {
     "data": {
      "image/png": "[encoded data removed]",
      "text/plain": [
       "<Figure size 1008x432 with 1 Axes>"
      ]
     },
     "metadata": {
      "needs_background": "light"
     },
     "output_type": "display_data"
    }
   ],
   "source": [
    "# графики среднего чека по группам — делим кумулятивную выручку на кумулятивное число заказов\n",
    "\n",
    "plt.figure(figsize=(14, 6))\n",
    "plt.plot(cumulativeRevenueA['date'], cumulativeRevenueA['revenue']/cumulativeRevenueA['orders'], label='A')\n",
    "plt.plot(cumulativeRevenueB['date'], cumulativeRevenueB['revenue']/cumulativeRevenueB['orders'], label='B')\n",
    "plt.title('Кумулятивный средний чек')\n",
    "plt.xlabel('Дата')\n",
    "plt.ylabel('Средний чек')\n",
    "plt.grid(True)\n",
    "plt.legend();"
   ]
  },
  {
   "cell_type": "markdown",
   "metadata": {},
   "source": [
    "**Вывод:**\n",
    " - Снова видим резкий рост на 19 день в группе В\n",
    " - В группе А также стали заметны выбросы: на 6 и 13 день\n",
    " - Теперь у нас больше оснований предполагать аномальные значения"
   ]
  },
  {
   "cell_type": "markdown",
   "metadata": {},
   "source": [
    "## График относительного изменения кумулятивного среднего чека группы B к группе A"
   ]
  },
  {
   "cell_type": "code",
   "execution_count": 14,
   "metadata": {},
   "outputs": [
    {
     "data": {
      "image/png": "[encoded data removed]",
      "text/plain": [
       "<Figure size 1008x432 with 1 Axes>"
      ]
     },
     "metadata": {
      "needs_background": "light"
     },
     "output_type": "display_data"
    }
   ],
   "source": [
    "# собираем данные в одном датафрейме\n",
    "mergedCumulativeRevenue = cumulativeRevenueA.merge(cumulativeRevenueB, left_on='date',\n",
    "                                                   right_on='date',\n",
    "                                                   how='left',\n",
    "                                                   suffixes=['A', 'B'])\n",
    "\n",
    "# cтроим отношение средних чеков\n",
    "plt.figure(figsize=(14, 6))\n",
    "plt.plot(mergedCumulativeRevenue['date'],\n",
    "         (mergedCumulativeRevenue['revenueB']/mergedCumulativeRevenue['ordersB'])/\n",
    "         (mergedCumulativeRevenue['revenueA']/mergedCumulativeRevenue['ordersA'])-1)\n",
    "\n",
    "# добавляем ось X\n",
    "plt.axhline(y=0, color='black', linestyle='--')\n",
    "plt.title('Относительное изменение кумулятивного среднего чека группы B к группе A')\n",
    "plt.xlabel('Дата')\n",
    "plt.ylabel('Относительная разница')\n",
    "plt.grid(True);"
   ]
  },
  {
   "cell_type": "markdown",
   "metadata": {},
   "source": [
    "**Вывод:**\n",
    " - Изменение чека группы В к группе А также колеблется\n",
    " - Вероятнее всего выбросы были на 13 и 19 день, также могут быть аномальные значения на 5 день"
   ]
  },
  {
   "cell_type": "markdown",
   "metadata": {},
   "source": [
    "## График кумулятивного среднего количества заказов на посетителя по группам"
   ]
  },
  {
   "cell_type": "code",
   "execution_count": 15,
   "metadata": {},
   "outputs": [
    {
     "data": {
      "image/png": "[encoded data removed]",
      "text/plain": [
       "<Figure size 1008x432 with 1 Axes>"
      ]
     },
     "metadata": {
      "needs_background": "light"
     },
     "output_type": "display_data"
    }
   ],
   "source": [
    "# считаем кумулятивную конверсию и добавляем столбец\n",
    "cumulativeData['conversion'] = cumulativeData['orders']/cumulativeData['visitors']\n",
    "\n",
    "# отделяем данные по группе\n",
    "cumulativeDataA = cumulativeData[cumulativeData['group']=='A']\n",
    "cumulativeDataB = cumulativeData[cumulativeData['group']=='B']\n",
    "\n",
    "# строим графики\n",
    "plt.figure(figsize=(14, 6))\n",
    "plt.plot(cumulativeDataA['date'], cumulativeDataA['conversion'], label='A')\n",
    "plt.plot(cumulativeDataB['date'], cumulativeDataB['conversion'], label='B')\n",
    "plt.title('Кумулятивное среднее количество заказов на посетителя')\n",
    "plt.xlabel('Дата')\n",
    "plt.ylabel('Кумулятивное среднее значение')\n",
    "plt.legend()\n",
    "plt.grid(True)\n",
    "\n",
    "# задаем масштаб осей\n",
    "plt.axis([dt.datetime(2019, 8, 1), dt.datetime(2019, 9, 1), 0.025, 0.04]);"
   ]
  },
  {
   "cell_type": "markdown",
   "metadata": {},
   "source": [
    "**Вывод:**\n",
    " - Кумулятивное среднее количество заказов на посетителя колебалось в первые дни исследования, но после 6 дня стало стабильным\n",
    " - Кумулятивное среднее группы В выше, чем группы А"
   ]
  },
  {
   "cell_type": "markdown",
   "metadata": {},
   "source": [
    "## График относительного изменения кумулятивного среднего количества заказов на посетителя группы B к группе A"
   ]
  },
  {
   "cell_type": "code",
   "execution_count": 16,
   "metadata": {},
   "outputs": [
    {
     "data": {
      "image/png": "[encoded data removed]",
      "text/plain": [
       "<Figure size 1008x432 with 1 Axes>"
      ]
     },
     "metadata": {
      "needs_background": "light"
     },
     "output_type": "display_data"
    }
   ],
   "source": [
    "# объединяем данные в одну таблицу\n",
    "mergedCumulativeConversions = cumulativeDataA[['date','conversion']].merge(cumulativeDataB[['date','conversion']],\n",
    "                                                                           left_on='date',\n",
    "                                                                           right_on='date',\n",
    "                                                                           how='left',\n",
    "                                                                           suffixes=['A', 'B'])\n",
    "\n",
    "plt.figure(figsize=(14, 6))\n",
    "plt.plot(mergedCumulativeConversions['date'],\n",
    "         mergedCumulativeConversions['conversionB']/mergedCumulativeConversions['conversionA']-1)\n",
    "plt.title('Относительное изменение кумулятивного среднего количества заказов на посетителя группы B к группе A')\n",
    "plt.xlabel('Дата')\n",
    "plt.ylabel('Относительная разница')\n",
    "plt.grid(True)\n",
    "\n",
    "plt.axhline(y=0, color='black', linestyle='--')\n",
    "plt.axhline(y=0.15, color='purple', linestyle='--')\n",
    "plt.axis([dt.datetime(2019, 8, 1), dt.datetime(2019, 9, 1), -0.3, 0.3]);"
   ]
  },
  {
   "cell_type": "markdown",
   "metadata": {},
   "source": [
    "**Вывод:**\n",
    " - Начиная с 5 дня исследования кумулятивное среднее количество заказов на посетителя группы В выше кумулятивного среднего группы А\n",
    " - Максимальное различие кумулятивного среднего количества заказов на посетителя было 20%, большую часть времени оно колеблется около 15%"
   ]
  },
  {
   "cell_type": "markdown",
   "metadata": {},
   "source": [
    "## Точечный график количества заказов по пользователям"
   ]
  },
  {
   "cell_type": "code",
   "execution_count": 17,
   "metadata": {},
   "outputs": [
    {
     "data": {
      "image/png": "[encoded data removed]",
      "text/plain": [
       "<Figure size 1008x432 with 1 Axes>"
      ]
     },
     "metadata": {
      "needs_background": "light"
     },
     "output_type": "display_data"
    }
   ],
   "source": [
    "# находим число заказов по пользователям\n",
    "ordersByUsers = (\n",
    "    orders.groupby('visitor_id', as_index=False)\n",
    "    .agg({'transaction_id': 'nunique'})\n",
    ")\n",
    "\n",
    "ordersByUsers.columns = ['userId', 'orders']\n",
    "\n",
    "# серия из чисел от 0 до количества наблюдений в ordersByUsers\n",
    "x_values = pd.Series(range(0, len(ordersByUsers)))\n",
    "\n",
    "plt.figure(figsize=(14,6))\n",
    "plt.scatter(x_values, ordersByUsers['orders'], color='#9D0019')\n",
    "plt.title('Количество заказов по пользователям')\n",
    "plt.ylabel('Количество заказов')\n",
    "plt.xlabel('Пользователи')\n",
    "plt.grid(True);"
   ]
  },
  {
   "cell_type": "markdown",
   "metadata": {},
   "source": [
    "**Вывод:**\n",
    " - В основном пользователи делают один заказ\n",
    " - Некоторая часть пользователей делает 2 и 3 заказа\n",
    " - Есть пара аномальных значений с 8-10 заказами\n",
    " - Стоит определить долю пользователей по количеству заказов, чтобы точно установить, что считать аномальным значением"
   ]
  },
  {
   "cell_type": "markdown",
   "metadata": {},
   "source": [
    "## Выборочные перцентили количества заказов на пользователя"
   ]
  },
  {
   "cell_type": "code",
   "execution_count": 18,
   "metadata": {},
   "outputs": [
    {
     "data": {
      "text/plain": [
       "array([2., 4.])"
      ]
     },
     "execution_count": 18,
     "metadata": {},
     "output_type": "execute_result"
    }
   ],
   "source": [
    "# считаем 95 и 99 перцентили\n",
    "\n",
    "np.percentile(ordersByUsers['orders'], [95, 99])"
   ]
  },
  {
   "cell_type": "markdown",
   "metadata": {},
   "source": [
    "**Вывод:**\n",
    " - Меньше 5% пользователей делают больше 2 заказов\n",
    " - Меньше 1% пользователей делают больше 4 заказов\n",
    " - Аномальных пользователей будем определять с количеством заказов больше 4"
   ]
  },
  {
   "cell_type": "markdown",
   "metadata": {},
   "source": [
    "## Точечный график стоимостей заказов"
   ]
  },
  {
   "cell_type": "code",
   "execution_count": 19,
   "metadata": {},
   "outputs": [
    {
     "data": {
      "image/png": "[encoded data removed]",
      "text/plain": [
       "<Figure size 1008x432 with 1 Axes>"
      ]
     },
     "metadata": {
      "needs_background": "light"
     },
     "output_type": "display_data"
    }
   ],
   "source": [
    "x_values = pd.Series(range(0, len(orders['revenue'])))\n",
    "\n",
    "plt.figure(figsize=(14,6))\n",
    "plt.scatter(x_values, orders['revenue'], color='#9D0019')\n",
    "plt.title('Стоимость заказов')\n",
    "plt.xlabel('Пользователи')\n",
    "plt.ylabel('Стоимость заказов')\n",
    "plt.grid(True);"
   ]
  },
  {
   "cell_type": "markdown",
   "metadata": {},
   "source": [
    "**Вывод:**\n",
    " - Видим два выброса\n",
    " - Заказ за 200 000 руб.\n",
    " - Заказ более 1 200 000 руб."
   ]
  },
  {
   "cell_type": "markdown",
   "metadata": {},
   "source": [
    "## Выборочные перцентили стоимости заказов"
   ]
  },
  {
   "cell_type": "code",
   "execution_count": 20,
   "metadata": {},
   "outputs": [
    {
     "data": {
      "text/plain": [
       "array([28000. , 58233.2])"
      ]
     },
     "execution_count": 20,
     "metadata": {},
     "output_type": "execute_result"
    }
   ],
   "source": [
    "# считаем 95 и 99 перцентили\n",
    "\n",
    "np.percentile(orders['revenue'], [95, 99])"
   ]
  },
  {
   "cell_type": "markdown",
   "metadata": {},
   "source": [
    "**Вывод:**\n",
    " - Меньше 5% заказов стоимостью более 28 000 руб.\n",
    " - Меньше 1% заказов стоимостью более 58 300 руб.\n",
    " - Заказы выше 58 300 руб. будем считать аномальными значениями"
   ]
  },
  {
   "cell_type": "markdown",
   "metadata": {},
   "source": [
    "## Статистическая значимость различий в среднем количестве заказов на посетителя между группами по «сырым» данным"
   ]
  },
  {
   "cell_type": "code",
   "execution_count": 21,
   "metadata": {},
   "outputs": [
    {
     "data": {
      "text/html": [
       "<div>\n",
       "<style scoped>\n",
       "    .dataframe tbody tr th:only-of-type {\n",
       "        vertical-align: middle;\n",
       "    }\n",
       "\n",
       "    .dataframe tbody tr th {\n",
       "        vertical-align: top;\n",
       "    }\n",
       "\n",
       "    .dataframe thead th {\n",
       "        text-align: right;\n",
       "    }\n",
       "</style>\n",
       "<table border=\"1\" class=\"dataframe\">\n",
       "  <thead>\n",
       "    <tr style=\"text-align: right;\">\n",
       "      <th></th>\n",
       "      <th>date</th>\n",
       "      <th>ordersPerDateA</th>\n",
       "      <th>revenuePerDateA</th>\n",
       "      <th>ordersPerDateB</th>\n",
       "      <th>revenuePerDateB</th>\n",
       "      <th>ordersCummulativeA</th>\n",
       "      <th>revenueCummulativeA</th>\n",
       "      <th>ordersCummulativeB</th>\n",
       "      <th>revenueCummulativeB</th>\n",
       "      <th>visitorsPerDateA</th>\n",
       "      <th>visitorsPerDateB</th>\n",
       "      <th>visitorsCummulativeA</th>\n",
       "      <th>visitorsCummulativeB</th>\n",
       "    </tr>\n",
       "  </thead>\n",
       "  <tbody>\n",
       "    <tr>\n",
       "      <th>0</th>\n",
       "      <td>2019-08-01</td>\n",
       "      <td>24</td>\n",
       "      <td>148579</td>\n",
       "      <td>21</td>\n",
       "      <td>101217</td>\n",
       "      <td>24</td>\n",
       "      <td>148579</td>\n",
       "      <td>21</td>\n",
       "      <td>101217</td>\n",
       "      <td>719</td>\n",
       "      <td>713</td>\n",
       "      <td>719</td>\n",
       "      <td>713</td>\n",
       "    </tr>\n",
       "    <tr>\n",
       "      <th>1</th>\n",
       "      <td>2019-08-02</td>\n",
       "      <td>20</td>\n",
       "      <td>93822</td>\n",
       "      <td>24</td>\n",
       "      <td>165531</td>\n",
       "      <td>44</td>\n",
       "      <td>242401</td>\n",
       "      <td>45</td>\n",
       "      <td>266748</td>\n",
       "      <td>619</td>\n",
       "      <td>581</td>\n",
       "      <td>1338</td>\n",
       "      <td>1294</td>\n",
       "    </tr>\n",
       "    <tr>\n",
       "      <th>2</th>\n",
       "      <td>2019-08-03</td>\n",
       "      <td>24</td>\n",
       "      <td>112473</td>\n",
       "      <td>16</td>\n",
       "      <td>114248</td>\n",
       "      <td>68</td>\n",
       "      <td>354874</td>\n",
       "      <td>61</td>\n",
       "      <td>380996</td>\n",
       "      <td>507</td>\n",
       "      <td>509</td>\n",
       "      <td>1845</td>\n",
       "      <td>1803</td>\n",
       "    </tr>\n",
       "    <tr>\n",
       "      <th>3</th>\n",
       "      <td>2019-08-04</td>\n",
       "      <td>16</td>\n",
       "      <td>70825</td>\n",
       "      <td>17</td>\n",
       "      <td>108571</td>\n",
       "      <td>84</td>\n",
       "      <td>425699</td>\n",
       "      <td>78</td>\n",
       "      <td>489567</td>\n",
       "      <td>717</td>\n",
       "      <td>770</td>\n",
       "      <td>2562</td>\n",
       "      <td>2573</td>\n",
       "    </tr>\n",
       "    <tr>\n",
       "      <th>4</th>\n",
       "      <td>2019-08-05</td>\n",
       "      <td>25</td>\n",
       "      <td>124218</td>\n",
       "      <td>23</td>\n",
       "      <td>92428</td>\n",
       "      <td>109</td>\n",
       "      <td>549917</td>\n",
       "      <td>101</td>\n",
       "      <td>581995</td>\n",
       "      <td>756</td>\n",
       "      <td>707</td>\n",
       "      <td>3318</td>\n",
       "      <td>3280</td>\n",
       "    </tr>\n",
       "  </tbody>\n",
       "</table>\n",
       "</div>"
      ],
      "text/plain": [
       "        date  ordersPerDateA  revenuePerDateA  ordersPerDateB  \\\n",
       "0 2019-08-01              24           148579              21   \n",
       "1 2019-08-02              20            93822              24   \n",
       "2 2019-08-03              24           112473              16   \n",
       "3 2019-08-04              16            70825              17   \n",
       "4 2019-08-05              25           124218              23   \n",
       "\n",
       "   revenuePerDateB  ordersCummulativeA  revenueCummulativeA  \\\n",
       "0           101217                  24               148579   \n",
       "1           165531                  44               242401   \n",
       "2           114248                  68               354874   \n",
       "3           108571                  84               425699   \n",
       "4            92428                 109               549917   \n",
       "\n",
       "   ordersCummulativeB  revenueCummulativeB  visitorsPerDateA  \\\n",
       "0                  21               101217               719   \n",
       "1                  45               266748               619   \n",
       "2                  61               380996               507   \n",
       "3                  78               489567               717   \n",
       "4                 101               581995               756   \n",
       "\n",
       "   visitorsPerDateB  visitorsCummulativeA  visitorsCummulativeB  \n",
       "0               713                   719                   713  \n",
       "1               581                  1338                  1294  \n",
       "2               509                  1845                  1803  \n",
       "3               770                  2562                  2573  \n",
       "4               707                  3318                  3280  "
      ]
     },
     "execution_count": 21,
     "metadata": {},
     "output_type": "execute_result"
    }
   ],
   "source": [
    "# создаем таблицы с количеством ежедневных посещений в группах\n",
    "# таблицы с ежедневными количествами заказов, их стоимостями и количество посетителей по датам\n",
    "# те же таблицы, но с кумулятивными значениями\n",
    "\n",
    "visitorsADaily = visitors[visitors['group'] == 'A'][['date', 'visitors']]\n",
    "visitorsADaily.columns = ['date', 'visitorsPerDateA']\n",
    "\n",
    "visitorsACummulative = visitorsADaily.apply(\n",
    "    lambda x: visitorsADaily[visitorsADaily['date'] <= x['date']].agg(\n",
    "        {'date': 'max', 'visitorsPerDateA': 'sum'}\n",
    "    ),\n",
    "    axis=1,\n",
    ")\n",
    "visitorsACummulative.columns = ['date', 'visitorsCummulativeA']\n",
    "\n",
    "visitorsBDaily = visitors[visitors['group'] == 'B'][['date', 'visitors']]\n",
    "visitorsBDaily.columns = ['date', 'visitorsPerDateB']\n",
    "\n",
    "visitorsBCummulative = visitorsBDaily.apply(\n",
    "    lambda x: visitorsBDaily[visitorsBDaily['date'] <= x['date']].agg(\n",
    "        {'date': 'max', 'visitorsPerDateB': 'sum'}\n",
    "    ),\n",
    "    axis=1,\n",
    ")\n",
    "visitorsBCummulative.columns = ['date', 'visitorsCummulativeB']\n",
    "\n",
    "ordersADaily = (\n",
    "    orders[orders['group'] == 'A'][['date', 'transaction_id', 'visitor_id', 'revenue']]\n",
    "    .groupby('date', as_index=False)\n",
    "    .agg({'transaction_id': pd.Series.nunique, 'revenue': 'sum'})\n",
    ")\n",
    "ordersADaily.columns = ['date', 'ordersPerDateA', 'revenuePerDateA']\n",
    "\n",
    "ordersACummulative = ordersADaily.apply(\n",
    "    lambda x: ordersADaily[ordersADaily['date'] <= x['date']].agg(\n",
    "        {'date': 'max', 'ordersPerDateA': 'sum', 'revenuePerDateA': 'sum'}\n",
    "    ),\n",
    "    axis=1,\n",
    ").sort_values(by=['date'])\n",
    "ordersACummulative.columns = [\n",
    "    'date',\n",
    "    'ordersCummulativeA',\n",
    "    'revenueCummulativeA',\n",
    "]\n",
    "\n",
    "ordersBDaily = (\n",
    "    orders[orders['group'] == 'B'][['date', 'transaction_id', 'visitor_id', 'revenue']]\n",
    "    .groupby('date', as_index=False)\n",
    "    .agg({'transaction_id': pd.Series.nunique, 'revenue': 'sum'})\n",
    ")\n",
    "ordersBDaily.columns = ['date', 'ordersPerDateB', 'revenuePerDateB']\n",
    "\n",
    "ordersBCummulative = ordersBDaily.apply(\n",
    "    lambda x: ordersBDaily[ordersBDaily['date'] <= x['date']].agg(\n",
    "        {'date': 'max', 'ordersPerDateB': 'sum', 'revenuePerDateB': 'sum'}\n",
    "    ),\n",
    "    axis=1,\n",
    ").sort_values(by=['date'])\n",
    "ordersBCummulative.columns = [\n",
    "    'date',\n",
    "    'ordersCummulativeB',\n",
    "    'revenueCummulativeB',\n",
    "]\n",
    "\n",
    "data = (\n",
    "    ordersADaily.merge(\n",
    "        ordersBDaily, left_on='date', right_on='date', how='left'\n",
    "    )\n",
    "    .merge(ordersACummulative, left_on='date', right_on='date', how='left')\n",
    "    .merge(ordersBCummulative, left_on='date', right_on='date', how='left')\n",
    "    .merge(visitorsADaily, left_on='date', right_on='date', how='left')\n",
    "    .merge(visitorsBDaily, left_on='date', right_on='date', how='left')\n",
    "    .merge(visitorsACummulative, left_on='date', right_on='date', how='left')\n",
    "    .merge(visitorsBCummulative, left_on='date', right_on='date', how='left')\n",
    ")\n",
    "\n",
    "data.head(5)"
   ]
  },
  {
   "cell_type": "code",
   "execution_count": 22,
   "metadata": {},
   "outputs": [],
   "source": [
    "# создаем переменные ordersByUsersA и ordersByUsersB со столбцами ['userId', 'orders'], \n",
    "# где для пользователей, совершивших хотя бы 1 заказ, будет указано число заказов\n",
    "\n",
    "ordersByUsersA = (\n",
    "    orders[orders['group'] == 'A']\n",
    "    .groupby('visitor_id', as_index=False)\n",
    "    .agg({'transaction_id': pd.Series.nunique})\n",
    ")\n",
    "ordersByUsersA.columns = ['userId', 'orders']\n",
    "\n",
    "ordersByUsersB = (\n",
    "    orders[orders['group'] == 'B']\n",
    "    .groupby('visitor_id', as_index=False)\n",
    "    .agg({'transaction_id': pd.Series.nunique})\n",
    ")\n",
    "ordersByUsersB.columns = ['userId', 'orders']"
   ]
  },
  {
   "cell_type": "code",
   "execution_count": 23,
   "metadata": {},
   "outputs": [],
   "source": [
    "# количество заказов пользователей, включая пользователй без заказов\n",
    "\n",
    "sampleA = pd.concat(\n",
    "    [ordersByUsersA['orders'],\n",
    "     pd.Series(0, \n",
    "               index=np.arange(data['visitorsPerDateA'].sum() - len(ordersByUsersA['orders'])), \n",
    "               name='orders')],axis=0)\n",
    "\n",
    "sampleB = pd.concat(\n",
    "    [ordersByUsersB['orders'],\n",
    "     pd.Series(0, \n",
    "               index=np.arange(data['visitorsPerDateB'].sum() - len(ordersByUsersB['orders'])), \n",
    "               name='orders')],axis=0)"
   ]
  },
  {
   "cell_type": "markdown",
   "metadata": {},
   "source": [
    "Посчитаем статистическую значимость различий в среднем количестве заказов на посетителя между группами по «сырым» данным. Для проверки данных будем использовать тест Манна-Уитни. Поскольку были обнаружены аномальные значения, а характер распределения количества заказов не относится к нормальному, такой тест подойдет больше. Сформулируем гипотезы:\n",
    " - Н0: различий в среднем количестве заказов на посетителя между группами нет\n",
    " - Н1: различия в среднем количестве заказов на посетителя между группами есть"
   ]
  },
  {
   "cell_type": "code",
   "execution_count": 24,
   "metadata": {},
   "outputs": [
    {
     "name": "stdout",
     "output_type": "stream",
     "text": [
      "p-value: 0.017\n",
      "Относительная разница: 0.138\n"
     ]
    }
   ],
   "source": [
    "alpha=0.05\n",
    "\n",
    "# применяем критерий Манна-Уитни\n",
    "print(\"p-value: {0:.3f}\".format(stats.mannwhitneyu(sampleA, sampleB)[1]))\n",
    "\n",
    "# рассчитываем относительный прирост среднего группы В относительно А\n",
    "print(\"Относительная разница: {0:.3f}\".format(sampleB.mean() / sampleA.mean() - 1))"
   ]
  },
  {
   "cell_type": "markdown",
   "metadata": {},
   "source": [
    "**Вывод:**\n",
    "\n",
    " - P_value равен 0.017, значит при alpha=0.05 можем отвергнуть нулевую гипотезу: между группами А и В есть различия в среднем количестве заказов на посетителя\n",
    " - Относительный прирост среднего количества заказов на посетителя группы B к группе A равен 0.138 (т.е. 13.8%)"
   ]
  },
  {
   "cell_type": "markdown",
   "metadata": {},
   "source": [
    "## Статистическая значимость различий в среднем чеке заказа между группами по «сырым» данным"
   ]
  },
  {
   "cell_type": "markdown",
   "metadata": {},
   "source": [
    "Посчитаем статистическую значимость различий в среднем чеке заказа между группами по «сырым» данным\n",
    " - Н0: различий в среднем чеке между группами нет\n",
    " - Н1: различия в среднем чеке между группами есть"
   ]
  },
  {
   "cell_type": "code",
   "execution_count": 25,
   "metadata": {
    "scrolled": true
   },
   "outputs": [
    {
     "name": "stdout",
     "output_type": "stream",
     "text": [
      "p-value: 0.729\n",
      "Относительная разница: 0.259\n"
     ]
    }
   ],
   "source": [
    "print('p-value: {0:.3f}'.format(stats.mannwhitneyu(orders[orders['group']=='A']['revenue'],\n",
    "                                            orders[orders['group']=='B']['revenue'])[1]))\n",
    "print('Относительная разница: {0:.3f}'.format(orders[orders['group']=='B']['revenue']\n",
    "                         .mean()/orders[orders['group']=='A']['revenue'].mean()-1))"
   ]
  },
  {
   "cell_type": "markdown",
   "metadata": {},
   "source": [
    "**Вывод:**\n",
    " - P_value равен 0.729\n",
    " - При alpha=0.05 отвергнуть нулевую гипотезу мы не можем, значит различий в среднем чеке между группами нет\n",
    " - Относительное различие среднего чека между группами  равно 0.259 (т.е. 25.9%), это результат по \"сырым\" данным, нужно проанализировать \"очищенные\" данные"
   ]
  },
  {
   "cell_type": "markdown",
   "metadata": {},
   "source": [
    "## Статистическая значимость различий в среднем количестве заказов на посетителя между группами по «очищенным» данным"
   ]
  },
  {
   "cell_type": "code",
   "execution_count": 26,
   "metadata": {},
   "outputs": [
    {
     "data": {
      "text/plain": [
       "1099    148427295\n",
       "18      199603092\n",
       "23      237748145\n",
       "949     887908475\n",
       "744     888512513\n",
       "dtype: int64"
      ]
     },
     "metadata": {},
     "output_type": "display_data"
    },
    {
     "data": {
      "text/plain": [
       "20"
      ]
     },
     "metadata": {},
     "output_type": "display_data"
    },
    {
     "data": {
      "text/plain": [
       "0.019398642095053348"
      ]
     },
     "execution_count": 26,
     "metadata": {},
     "output_type": "execute_result"
    }
   ],
   "source": [
    "# сделаем срезы аномальных пользователей\n",
    "\n",
    "usersWithManyOrders = pd.concat(\n",
    "    [\n",
    "        ordersByUsersA[ordersByUsersA['orders'] > np.percentile(ordersByUsersA['orders'], 99)]['userId'],\n",
    "        ordersByUsersB[ordersByUsersB['orders'] > np.percentile(ordersByUsersA['orders'], 99)]['userId'],\n",
    "    ],\n",
    "    axis=0,\n",
    ")\n",
    "usersWithExpensiveOrders = orders[orders['revenue'] > np.percentile(orders['revenue'], 99)]['visitor_id']\n",
    "abnormalUsers = (\n",
    "    pd.concat([usersWithManyOrders, usersWithExpensiveOrders], axis=0)\n",
    "    .drop_duplicates()\n",
    "    .sort_values()\n",
    ")\n",
    "display(abnormalUsers.head())\n",
    "display(abnormalUsers.shape[0])\n",
    "abnormalUsers.shape[0]/orders['visitor_id'].nunique()"
   ]
  },
  {
   "cell_type": "code",
   "execution_count": 27,
   "metadata": {},
   "outputs": [],
   "source": [
    "# создаем переменные с очищенными данными о заказах — не включая аномальных пользователей\n",
    "\n",
    "sampleAFiltered = pd.concat(\n",
    "    [\n",
    "        ordersByUsersA[\n",
    "            np.logical_not(ordersByUsersA['userId'].isin(abnormalUsers))\n",
    "        ]['orders'],\n",
    "        pd.Series(\n",
    "            0,\n",
    "            index=np.arange(\n",
    "                data['visitorsPerDateA'].sum() - len(ordersByUsersA['orders'])\n",
    "            ),\n",
    "            name='orders',\n",
    "        ),\n",
    "    ],\n",
    "    axis=0,\n",
    ")\n",
    "\n",
    "sampleBFiltered = pd.concat(\n",
    "    [\n",
    "        ordersByUsersB[\n",
    "            np.logical_not(ordersByUsersB['userId'].isin(abnormalUsers))\n",
    "        ]['orders'],\n",
    "        pd.Series(\n",
    "            0,\n",
    "            index=np.arange(\n",
    "                data['visitorsPerDateB'].sum() - len(ordersByUsersB['orders'])\n",
    "            ),\n",
    "            name='orders',\n",
    "        ),\n",
    "    ],\n",
    "    axis=0,\n",
    ")"
   ]
  },
  {
   "cell_type": "markdown",
   "metadata": {},
   "source": [
    "Гипотезы:\n",
    "- Н0: различий в среднем количестве заказов на посетителя между группами нет\n",
    "- Н1: различия в среднем количестве заказов на посетителя между группами есть"
   ]
  },
  {
   "cell_type": "code",
   "execution_count": 28,
   "metadata": {},
   "outputs": [
    {
     "name": "stdout",
     "output_type": "stream",
     "text": [
      "p-value: 0.014\n",
      "Относительная разница: 0.151\n"
     ]
    }
   ],
   "source": [
    "# применяем критерий Манна-Уитни\n",
    "print('p-value: {0:.3f}'.format(stats.mannwhitneyu(sampleAFiltered, sampleBFiltered)[1]))\n",
    "\n",
    "# рассчитываем относительный прирост среднего группы В относительно А\n",
    "print('Относительная разница: {0:.3f}'.format(sampleBFiltered.mean()/sampleAFiltered.mean()-1))"
   ]
  },
  {
   "cell_type": "markdown",
   "metadata": {},
   "source": [
    "**Вывод:**\n",
    " - P_value равен 0.014\n",
    " - При alpha=0.05 отвергаем нулевую гипотезу, значит, по \"очищенным\" данным различия в среднем количестве заказов на посетителя между группами есть \n",
    " - Относительный прирост среднего количества заказов на посетителя группы B к среднему группы A равен 0.151 (т.е. 15.1%)"
   ]
  },
  {
   "cell_type": "markdown",
   "metadata": {},
   "source": [
    "## Статистическая значимость различий в среднем чеке заказа между группами по «очищенным» данным"
   ]
  },
  {
   "cell_type": "markdown",
   "metadata": {},
   "source": [
    "Посчитаем статистическую значимость различий в среднем чеке заказа между группами по «очищенным» данным\n",
    "\n",
    " - Н0: различий в среднем чеке между группами нет\n",
    " - Н1: различия в среднем чеке между группами есть"
   ]
  },
  {
   "cell_type": "code",
   "execution_count": 29,
   "metadata": {},
   "outputs": [
    {
     "name": "stdout",
     "output_type": "stream",
     "text": [
      "p-value: 0.959\n",
      "Относительная разница: -0.014\n"
     ]
    }
   ],
   "source": [
    "# применяем критерий Манна-Уитни\n",
    "print(\n",
    "    'p-value: {0:.3f}'.format(\n",
    "        stats.mannwhitneyu(\n",
    "            orders[\n",
    "                np.logical_and(\n",
    "                    orders['group'] == 'A',\n",
    "                    np.logical_not(orders['visitor_id'].isin(abnormalUsers)),\n",
    "                )\n",
    "            ]['revenue'],\n",
    "            orders[\n",
    "                np.logical_and(\n",
    "                    orders['group'] == 'B',\n",
    "                    np.logical_not(orders['visitor_id'].isin(abnormalUsers)),\n",
    "                )\n",
    "            ]['revenue'],\n",
    "        )[1]\n",
    "    )\n",
    ")\n",
    "# рассчитываем относительное увеличение среднего чека группы В относительно А\n",
    "print(\n",
    "    \"Относительная разница: {0:.3f}\".format(\n",
    "        orders[\n",
    "            np.logical_and(\n",
    "                orders['group'] == 'B',\n",
    "                np.logical_not(orders['visitor_id'].isin(abnormalUsers)),\n",
    "            )\n",
    "        ]['revenue'].mean()\n",
    "        / orders[\n",
    "            np.logical_and(\n",
    "                orders['group'] == 'A',\n",
    "                np.logical_not(orders['visitor_id'].isin(abnormalUsers)),\n",
    "            )\n",
    "        ]['revenue'].mean()\n",
    "        \n",
    "        \n",
    "        - 1\n",
    "    )\n",
    ")"
   ]
  },
  {
   "cell_type": "markdown",
   "metadata": {},
   "source": [
    "**Вывод:**\n",
    " - P_value равен 0.959\n",
    " - При alpha=0.05 не получается отвергнуть нулевую гипотезу, значит, статистически значимых различий в среднем чеке между группами нет\n",
    " - Средний чек группы В ниже среднего чека группы А на 1%\n",
    " - Удаление аномальных значений привело к более точным результатам"
   ]
  },
  {
   "cell_type": "markdown",
   "metadata": {},
   "source": [
    "# Выводы"
   ]
  },
  {
   "cell_type": "markdown",
   "metadata": {},
   "source": [
    "По результатам А/В-теста рекомендую остановить тестирование и зафиксировать победу группы В, т.к:\n",
    " - наблюдается различие в среднем количестве заказов на посетителя между группами, среднее количество заказов на посетителя в группе В больше среднего количества заказов на посетителя в группе А на 15.3%\n",
    " - статистически значимого различия в среднем чеке между группами нет"
   ]
  }
 ],
 "metadata": {
  "ExecuteTimeLog": [
   {
    "duration": 1520,
    "start_time": "2023-08-29T09:40:03.593Z"
   },
   {
    "duration": 211,
    "start_time": "2023-08-29T09:44:47.948Z"
   },
   {
    "duration": 78,
    "start_time": "2023-08-29T09:44:51.423Z"
   },
   {
    "duration": 78,
    "start_time": "2023-08-29T09:44:56.004Z"
   },
   {
    "duration": 76,
    "start_time": "2023-08-29T09:44:58.051Z"
   },
   {
    "duration": 119,
    "start_time": "2023-08-29T09:54:17.979Z"
   },
   {
    "duration": 3,
    "start_time": "2023-08-29T09:56:01.744Z"
   },
   {
    "duration": 4,
    "start_time": "2023-08-29T09:56:17.753Z"
   },
   {
    "duration": 3,
    "start_time": "2023-08-29T09:56:58.434Z"
   },
   {
    "duration": 24,
    "start_time": "2023-08-29T09:57:11.532Z"
   },
   {
    "duration": 25,
    "start_time": "2023-08-29T09:57:15.000Z"
   },
   {
    "duration": 4,
    "start_time": "2023-08-29T09:58:07.313Z"
   },
   {
    "duration": 56,
    "start_time": "2023-08-29T09:58:09.268Z"
   },
   {
    "duration": 4,
    "start_time": "2023-08-29T10:01:06.341Z"
   },
   {
    "duration": 41,
    "start_time": "2023-08-29T10:01:11.620Z"
   },
   {
    "duration": 4,
    "start_time": "2023-08-29T10:01:49.166Z"
   },
   {
    "duration": 53,
    "start_time": "2023-08-29T10:01:51.171Z"
   },
   {
    "duration": 4,
    "start_time": "2023-08-29T10:06:56.911Z"
   },
   {
    "duration": 41,
    "start_time": "2023-08-29T10:07:00.787Z"
   },
   {
    "duration": 7,
    "start_time": "2023-08-29T10:07:59.768Z"
   },
   {
    "duration": 48,
    "start_time": "2023-08-29T10:08:01.677Z"
   },
   {
    "duration": 3,
    "start_time": "2023-08-29T10:08:38.209Z"
   },
   {
    "duration": 53,
    "start_time": "2023-08-29T10:08:40.562Z"
   },
   {
    "duration": 4,
    "start_time": "2023-08-29T10:09:06.401Z"
   },
   {
    "duration": 42,
    "start_time": "2023-08-29T10:09:11.011Z"
   },
   {
    "duration": 4,
    "start_time": "2023-08-29T10:09:26.586Z"
   },
   {
    "duration": 37,
    "start_time": "2023-08-29T10:09:28.629Z"
   },
   {
    "duration": 4,
    "start_time": "2023-08-29T10:09:44.743Z"
   },
   {
    "duration": 36,
    "start_time": "2023-08-29T10:09:46.727Z"
   },
   {
    "duration": 5,
    "start_time": "2023-08-29T10:10:04.037Z"
   },
   {
    "duration": 48,
    "start_time": "2023-08-29T10:10:06.198Z"
   },
   {
    "duration": 4,
    "start_time": "2023-08-29T10:11:26.150Z"
   },
   {
    "duration": 39,
    "start_time": "2023-08-29T10:11:30.518Z"
   },
   {
    "duration": 5,
    "start_time": "2023-08-29T10:11:41.090Z"
   },
   {
    "duration": 4,
    "start_time": "2023-08-29T10:13:30.260Z"
   },
   {
    "duration": 117,
    "start_time": "2023-08-29T10:13:33.522Z"
   },
   {
    "duration": 7,
    "start_time": "2023-08-29T10:13:48.864Z"
   },
   {
    "duration": 19,
    "start_time": "2023-08-29T10:13:51.851Z"
   },
   {
    "duration": 4,
    "start_time": "2023-08-29T10:14:16.556Z"
   },
   {
    "duration": 5,
    "start_time": "2023-08-29T10:14:21.781Z"
   },
   {
    "duration": 105,
    "start_time": "2023-08-29T10:14:23.748Z"
   },
   {
    "duration": 3,
    "start_time": "2023-08-29T10:14:40.531Z"
   },
   {
    "duration": 75,
    "start_time": "2023-08-29T10:14:42.086Z"
   },
   {
    "duration": 4,
    "start_time": "2023-08-29T10:14:53.442Z"
   },
   {
    "duration": 40,
    "start_time": "2023-08-29T10:14:56.225Z"
   },
   {
    "duration": 4,
    "start_time": "2023-08-29T10:15:06.086Z"
   },
   {
    "duration": 38,
    "start_time": "2023-08-29T10:15:09.665Z"
   },
   {
    "duration": 123,
    "start_time": "2023-08-29T10:15:21.352Z"
   },
   {
    "duration": 4,
    "start_time": "2023-08-29T10:15:31.493Z"
   },
   {
    "duration": 45,
    "start_time": "2023-08-29T10:15:34.482Z"
   },
   {
    "duration": 166,
    "start_time": "2023-08-29T10:17:55.854Z"
   },
   {
    "duration": 4,
    "start_time": "2023-08-29T10:18:02.787Z"
   },
   {
    "duration": 135,
    "start_time": "2023-08-29T10:20:48.720Z"
   },
   {
    "duration": 131,
    "start_time": "2023-08-29T10:20:55.610Z"
   },
   {
    "duration": 4,
    "start_time": "2023-08-29T10:21:00.444Z"
   },
   {
    "duration": 20,
    "start_time": "2023-08-29T10:21:05.287Z"
   },
   {
    "duration": 4,
    "start_time": "2023-08-29T10:21:28.411Z"
   },
   {
    "duration": 41,
    "start_time": "2023-08-29T10:21:31.105Z"
   },
   {
    "duration": 5,
    "start_time": "2023-08-29T10:25:20.035Z"
   },
   {
    "duration": 17,
    "start_time": "2023-08-29T10:25:23.496Z"
   },
   {
    "duration": 4,
    "start_time": "2023-08-29T10:25:39.279Z"
   },
   {
    "duration": 38,
    "start_time": "2023-08-29T10:25:41.978Z"
   },
   {
    "duration": 4,
    "start_time": "2023-08-29T10:25:50.350Z"
   },
   {
    "duration": 38,
    "start_time": "2023-08-29T10:25:52.293Z"
   },
   {
    "duration": 5,
    "start_time": "2023-08-29T10:29:12.686Z"
   },
   {
    "duration": 59,
    "start_time": "2023-08-29T10:29:15.990Z"
   },
   {
    "duration": 4,
    "start_time": "2023-08-29T10:30:15.786Z"
   },
   {
    "duration": 43,
    "start_time": "2023-08-29T10:30:18.666Z"
   },
   {
    "duration": 4,
    "start_time": "2023-08-29T10:31:00.787Z"
   },
   {
    "duration": 41,
    "start_time": "2023-08-29T10:31:02.986Z"
   },
   {
    "duration": 3,
    "start_time": "2023-08-29T10:31:17.046Z"
   },
   {
    "duration": 42,
    "start_time": "2023-08-29T10:31:20.000Z"
   },
   {
    "duration": 4,
    "start_time": "2023-08-29T10:31:34.470Z"
   },
   {
    "duration": 37,
    "start_time": "2023-08-29T10:31:37.450Z"
   },
   {
    "duration": 4,
    "start_time": "2023-08-29T10:32:35.233Z"
   },
   {
    "duration": 36,
    "start_time": "2023-08-29T10:32:38.294Z"
   },
   {
    "duration": 47,
    "start_time": "2023-08-29T10:33:15.387Z"
   },
   {
    "duration": 9,
    "start_time": "2023-08-29T10:34:06.366Z"
   },
   {
    "duration": 58,
    "start_time": "2023-08-29T10:34:13.953Z"
   },
   {
    "duration": 4,
    "start_time": "2023-08-29T10:34:29.698Z"
   },
   {
    "duration": 37,
    "start_time": "2023-08-29T10:34:32.493Z"
   },
   {
    "duration": 5,
    "start_time": "2023-08-29T10:34:43.231Z"
   },
   {
    "duration": 47,
    "start_time": "2023-08-29T10:34:45.156Z"
   },
   {
    "duration": 4,
    "start_time": "2023-08-29T10:35:43.052Z"
   },
   {
    "duration": 6,
    "start_time": "2023-08-29T10:35:49.666Z"
   },
   {
    "duration": 5,
    "start_time": "2023-08-29T10:38:53.584Z"
   },
   {
    "duration": 40,
    "start_time": "2023-08-29T10:38:56.834Z"
   },
   {
    "duration": 6,
    "start_time": "2023-08-29T10:39:11.964Z"
   },
   {
    "duration": 46,
    "start_time": "2023-08-29T10:39:13.852Z"
   },
   {
    "duration": 4,
    "start_time": "2023-08-29T10:39:25.612Z"
   },
   {
    "duration": 37,
    "start_time": "2023-08-29T10:39:27.581Z"
   },
   {
    "duration": 4,
    "start_time": "2023-08-29T10:40:04.494Z"
   },
   {
    "duration": 37,
    "start_time": "2023-08-29T10:40:06.990Z"
   },
   {
    "duration": 4,
    "start_time": "2023-08-29T10:41:30.259Z"
   },
   {
    "duration": 53,
    "start_time": "2023-08-29T10:41:31.036Z"
   },
   {
    "duration": 5,
    "start_time": "2023-08-29T10:42:02.478Z"
   },
   {
    "duration": 48,
    "start_time": "2023-08-29T10:42:02.970Z"
   },
   {
    "duration": 5,
    "start_time": "2023-08-29T10:42:54.292Z"
   },
   {
    "duration": 37,
    "start_time": "2023-08-29T10:42:56.417Z"
   },
   {
    "duration": 5,
    "start_time": "2023-08-29T10:43:21.444Z"
   },
   {
    "duration": 49,
    "start_time": "2023-08-29T10:43:22.647Z"
   },
   {
    "duration": 5,
    "start_time": "2023-08-29T10:44:12.157Z"
   },
   {
    "duration": 47,
    "start_time": "2023-08-29T10:44:13.404Z"
   },
   {
    "duration": 40,
    "start_time": "2023-08-29T10:44:18.002Z"
   },
   {
    "duration": 49,
    "start_time": "2023-08-29T10:44:20.561Z"
   },
   {
    "duration": 4,
    "start_time": "2023-08-29T10:46:29.493Z"
   },
   {
    "duration": 69,
    "start_time": "2023-08-29T10:46:30.612Z"
   },
   {
    "duration": 8,
    "start_time": "2023-08-29T10:47:01.982Z"
   },
   {
    "duration": 46,
    "start_time": "2023-08-29T10:47:03.694Z"
   },
   {
    "duration": 51,
    "start_time": "2023-08-29T10:47:20.089Z"
   },
   {
    "duration": 48,
    "start_time": "2023-08-29T10:47:24.602Z"
   },
   {
    "duration": 45,
    "start_time": "2023-08-29T10:47:27.686Z"
   },
   {
    "duration": 58,
    "start_time": "2023-08-29T10:47:30.265Z"
   },
   {
    "duration": 62,
    "start_time": "2023-08-29T10:48:10.747Z"
   },
   {
    "duration": 49,
    "start_time": "2023-08-29T10:48:32.160Z"
   },
   {
    "duration": 5,
    "start_time": "2023-08-29T14:54:19.824Z"
   },
   {
    "duration": 6,
    "start_time": "2023-08-29T14:54:37.817Z"
   },
   {
    "duration": 10,
    "start_time": "2023-08-29T14:55:57.826Z"
   },
   {
    "duration": 48,
    "start_time": "2023-08-29T16:44:59.656Z"
   },
   {
    "duration": 1255,
    "start_time": "2023-08-29T16:45:07.011Z"
   },
   {
    "duration": 197,
    "start_time": "2023-08-29T16:45:08.268Z"
   },
   {
    "duration": 6,
    "start_time": "2023-08-29T16:45:08.467Z"
   },
   {
    "duration": 41,
    "start_time": "2023-08-29T16:45:08.475Z"
   },
   {
    "duration": 36,
    "start_time": "2023-08-29T16:45:08.518Z"
   },
   {
    "duration": 62,
    "start_time": "2023-08-29T16:45:08.555Z"
   },
   {
    "duration": 11,
    "start_time": "2023-08-29T16:45:08.618Z"
   },
   {
    "duration": 12,
    "start_time": "2023-08-29T16:45:14.200Z"
   },
   {
    "duration": 11,
    "start_time": "2023-08-29T16:45:20.134Z"
   },
   {
    "duration": 11,
    "start_time": "2023-08-29T16:45:26.226Z"
   },
   {
    "duration": 11,
    "start_time": "2023-08-29T16:45:28.236Z"
   },
   {
    "duration": 10,
    "start_time": "2023-08-29T16:45:30.367Z"
   },
   {
    "duration": 10,
    "start_time": "2023-08-29T16:45:36.323Z"
   },
   {
    "duration": 13,
    "start_time": "2023-08-29T16:47:15.463Z"
   },
   {
    "duration": 10,
    "start_time": "2023-08-29T16:47:24.497Z"
   },
   {
    "duration": 13,
    "start_time": "2023-08-29T16:54:28.637Z"
   },
   {
    "duration": 18,
    "start_time": "2023-08-29T16:55:26.802Z"
   },
   {
    "duration": 45,
    "start_time": "2023-08-30T09:20:55.494Z"
   },
   {
    "duration": 1238,
    "start_time": "2023-08-30T09:21:04.270Z"
   },
   {
    "duration": 199,
    "start_time": "2023-08-30T09:21:05.510Z"
   },
   {
    "duration": 4,
    "start_time": "2023-08-30T09:21:05.711Z"
   },
   {
    "duration": 71,
    "start_time": "2023-08-30T09:21:05.717Z"
   },
   {
    "duration": 60,
    "start_time": "2023-08-30T09:21:05.790Z"
   },
   {
    "duration": 26,
    "start_time": "2023-08-30T09:21:05.852Z"
   },
   {
    "duration": 11,
    "start_time": "2023-08-30T09:21:05.880Z"
   },
   {
    "duration": 45,
    "start_time": "2023-08-30T09:21:05.893Z"
   },
   {
    "duration": 30,
    "start_time": "2023-08-30T09:21:05.941Z"
   },
   {
    "duration": 158,
    "start_time": "2023-08-30T09:21:05.973Z"
   },
   {
    "duration": 35,
    "start_time": "2023-08-30T09:22:36.340Z"
   },
   {
    "duration": 1743,
    "start_time": "2023-08-30T09:29:57.855Z"
   },
   {
    "duration": 15,
    "start_time": "2023-08-30T09:30:16.396Z"
   },
   {
    "duration": 29,
    "start_time": "2023-08-30T09:30:32.661Z"
   },
   {
    "duration": 5,
    "start_time": "2023-08-30T09:45:27.099Z"
   },
   {
    "duration": 13,
    "start_time": "2023-08-30T09:45:36.216Z"
   },
   {
    "duration": 30,
    "start_time": "2023-08-30T09:48:56.460Z"
   },
   {
    "duration": 180,
    "start_time": "2023-08-30T09:50:32.183Z"
   },
   {
    "duration": 177,
    "start_time": "2023-08-30T09:50:45.957Z"
   },
   {
    "duration": 153,
    "start_time": "2023-08-30T09:50:51.126Z"
   },
   {
    "duration": 262,
    "start_time": "2023-08-30T09:52:32.119Z"
   },
   {
    "duration": 323,
    "start_time": "2023-08-30T10:01:32.585Z"
   },
   {
    "duration": 307,
    "start_time": "2023-08-30T10:02:00.474Z"
   },
   {
    "duration": 284,
    "start_time": "2023-08-30T10:04:14.692Z"
   },
   {
    "duration": 172,
    "start_time": "2023-08-30T10:04:22.490Z"
   },
   {
    "duration": 222,
    "start_time": "2023-08-30T10:05:13.822Z"
   },
   {
    "duration": 202,
    "start_time": "2023-08-30T10:06:00.065Z"
   },
   {
    "duration": 206,
    "start_time": "2023-08-30T10:06:10.081Z"
   },
   {
    "duration": 283,
    "start_time": "2023-08-30T10:06:46.961Z"
   },
   {
    "duration": 209,
    "start_time": "2023-08-30T10:07:08.814Z"
   },
   {
    "duration": 300,
    "start_time": "2023-08-30T10:08:31.823Z"
   },
   {
    "duration": 272,
    "start_time": "2023-08-30T10:08:56.979Z"
   },
   {
    "duration": 225,
    "start_time": "2023-08-30T10:11:32.282Z"
   },
   {
    "duration": 166,
    "start_time": "2023-08-30T10:19:07.246Z"
   },
   {
    "duration": 199,
    "start_time": "2023-08-30T10:21:15.350Z"
   },
   {
    "duration": 361,
    "start_time": "2023-08-30T10:33:25.083Z"
   },
   {
    "duration": 312,
    "start_time": "2023-08-30T10:33:42.091Z"
   },
   {
    "duration": 333,
    "start_time": "2023-08-30T10:33:59.927Z"
   },
   {
    "duration": 380,
    "start_time": "2023-08-30T10:34:04.442Z"
   },
   {
    "duration": 422,
    "start_time": "2023-08-30T10:35:42.287Z"
   },
   {
    "duration": 316,
    "start_time": "2023-08-30T10:35:50.214Z"
   },
   {
    "duration": 533,
    "start_time": "2023-08-30T10:36:39.877Z"
   },
   {
    "duration": 409,
    "start_time": "2023-08-30T10:36:46.660Z"
   },
   {
    "duration": 210,
    "start_time": "2023-08-30T11:01:32.826Z"
   },
   {
    "duration": 215,
    "start_time": "2023-08-30T11:05:42.065Z"
   },
   {
    "duration": 356,
    "start_time": "2023-08-30T11:20:47.446Z"
   },
   {
    "duration": 346,
    "start_time": "2023-08-30T11:23:22.097Z"
   },
   {
    "duration": 316,
    "start_time": "2023-08-30T11:24:37.573Z"
   },
   {
    "duration": 309,
    "start_time": "2023-08-30T11:24:42.189Z"
   },
   {
    "duration": 297,
    "start_time": "2023-08-30T11:24:47.182Z"
   },
   {
    "duration": 292,
    "start_time": "2023-08-30T11:24:55.069Z"
   },
   {
    "duration": 301,
    "start_time": "2023-08-30T11:25:19.500Z"
   },
   {
    "duration": 391,
    "start_time": "2023-08-30T11:25:31.296Z"
   },
   {
    "duration": 311,
    "start_time": "2023-08-30T11:26:29.718Z"
   },
   {
    "duration": 387,
    "start_time": "2023-08-30T11:26:39.187Z"
   },
   {
    "duration": 308,
    "start_time": "2023-08-30T11:27:03.292Z"
   },
   {
    "duration": 8,
    "start_time": "2023-08-30T11:48:02.924Z"
   },
   {
    "duration": 13,
    "start_time": "2023-08-30T11:48:09.194Z"
   },
   {
    "duration": 8,
    "start_time": "2023-08-30T11:48:11.076Z"
   },
   {
    "duration": 10,
    "start_time": "2023-08-30T11:48:15.260Z"
   },
   {
    "duration": 10,
    "start_time": "2023-08-30T11:48:17.172Z"
   },
   {
    "duration": 18,
    "start_time": "2023-08-30T11:48:20.544Z"
   },
   {
    "duration": 10,
    "start_time": "2023-08-30T11:48:22.406Z"
   },
   {
    "duration": 9,
    "start_time": "2023-08-30T11:48:23.999Z"
   },
   {
    "duration": 315,
    "start_time": "2023-08-30T11:50:38.097Z"
   },
   {
    "duration": 8,
    "start_time": "2023-08-30T11:51:41.545Z"
   },
   {
    "duration": 118,
    "start_time": "2023-08-30T11:57:22.064Z"
   },
   {
    "duration": 135,
    "start_time": "2023-08-30T11:58:01.357Z"
   },
   {
    "duration": 121,
    "start_time": "2023-08-30T11:58:07.820Z"
   },
   {
    "duration": 86,
    "start_time": "2023-08-30T11:58:49.033Z"
   },
   {
    "duration": 162,
    "start_time": "2023-08-30T11:59:20.386Z"
   },
   {
    "duration": 136,
    "start_time": "2023-08-30T11:59:59.960Z"
   },
   {
    "duration": 163,
    "start_time": "2023-08-30T12:02:22.542Z"
   },
   {
    "duration": 173,
    "start_time": "2023-08-30T12:02:29.001Z"
   },
   {
    "duration": 5,
    "start_time": "2023-08-30T12:12:55.538Z"
   },
   {
    "duration": 174,
    "start_time": "2023-08-30T12:20:37.852Z"
   },
   {
    "duration": 162,
    "start_time": "2023-08-30T12:22:22.653Z"
   },
   {
    "duration": 187,
    "start_time": "2023-08-30T12:22:47.336Z"
   },
   {
    "duration": 4,
    "start_time": "2023-08-30T13:38:35.137Z"
   },
   {
    "duration": 299,
    "start_time": "2023-08-30T14:03:12.581Z"
   },
   {
    "duration": 264,
    "start_time": "2023-08-30T14:03:26.133Z"
   },
   {
    "duration": 244,
    "start_time": "2023-08-30T14:03:31.870Z"
   },
   {
    "duration": 181,
    "start_time": "2023-08-30T14:06:49.239Z"
   },
   {
    "duration": 149,
    "start_time": "2023-08-30T14:06:51.111Z"
   },
   {
    "duration": 125,
    "start_time": "2023-08-30T14:06:53.484Z"
   },
   {
    "duration": 135,
    "start_time": "2023-08-30T14:12:13.936Z"
   },
   {
    "duration": 7,
    "start_time": "2023-08-30T14:15:11.188Z"
   },
   {
    "duration": 25,
    "start_time": "2023-08-30T14:17:02.670Z"
   },
   {
    "duration": 20,
    "start_time": "2023-08-30T14:17:12.625Z"
   },
   {
    "duration": 22,
    "start_time": "2023-08-30T14:17:17.303Z"
   },
   {
    "duration": 21,
    "start_time": "2023-08-30T14:17:20.024Z"
   },
   {
    "duration": 1305,
    "start_time": "2023-08-31T11:04:44.579Z"
   },
   {
    "duration": 214,
    "start_time": "2023-08-31T11:04:45.887Z"
   },
   {
    "duration": 6,
    "start_time": "2023-08-31T11:04:46.104Z"
   },
   {
    "duration": 54,
    "start_time": "2023-08-31T11:04:46.113Z"
   },
   {
    "duration": 64,
    "start_time": "2023-08-31T11:04:46.169Z"
   },
   {
    "duration": 30,
    "start_time": "2023-08-31T11:04:46.235Z"
   },
   {
    "duration": 11,
    "start_time": "2023-08-31T11:04:46.267Z"
   },
   {
    "duration": 55,
    "start_time": "2023-08-31T11:04:46.280Z"
   },
   {
    "duration": 15,
    "start_time": "2023-08-31T11:04:46.337Z"
   },
   {
    "duration": 298,
    "start_time": "2023-08-31T11:04:46.355Z"
   },
   {
    "duration": 312,
    "start_time": "2023-08-31T11:04:46.655Z"
   },
   {
    "duration": 214,
    "start_time": "2023-08-31T11:04:46.968Z"
   },
   {
    "duration": 395,
    "start_time": "2023-08-31T11:04:47.183Z"
   },
   {
    "duration": 213,
    "start_time": "2023-08-31T11:04:47.580Z"
   },
   {
    "duration": 329,
    "start_time": "2023-08-31T11:04:47.795Z"
   },
   {
    "duration": 226,
    "start_time": "2023-08-31T11:04:48.125Z"
   },
   {
    "duration": 7,
    "start_time": "2023-08-31T11:04:48.353Z"
   },
   {
    "duration": 175,
    "start_time": "2023-08-31T11:04:48.362Z"
   },
   {
    "duration": 6,
    "start_time": "2023-08-31T11:04:48.539Z"
   },
   {
    "duration": 250,
    "start_time": "2023-08-31T11:04:48.547Z"
   },
   {
    "duration": 156,
    "start_time": "2023-08-31T11:04:48.799Z"
   },
   {
    "duration": 6,
    "start_time": "2023-08-31T11:04:48.957Z"
   },
   {
    "duration": 29,
    "start_time": "2023-08-31T11:04:48.964Z"
   },
   {
    "duration": 24,
    "start_time": "2023-08-31T11:05:00.498Z"
   },
   {
    "duration": 24,
    "start_time": "2023-08-31T11:05:05.152Z"
   },
   {
    "duration": 23,
    "start_time": "2023-08-31T11:05:07.348Z"
   },
   {
    "duration": 25,
    "start_time": "2023-08-31T11:05:09.520Z"
   },
   {
    "duration": 37,
    "start_time": "2023-08-31T11:05:12.002Z"
   },
   {
    "duration": 27,
    "start_time": "2023-08-31T11:05:14.485Z"
   },
   {
    "duration": 12,
    "start_time": "2023-08-31T11:29:37.421Z"
   },
   {
    "duration": 11,
    "start_time": "2023-08-31T11:29:49.017Z"
   },
   {
    "duration": 11,
    "start_time": "2023-08-31T11:29:51.526Z"
   },
   {
    "duration": 12,
    "start_time": "2023-08-31T11:29:53.499Z"
   },
   {
    "duration": 12,
    "start_time": "2023-08-31T11:30:32.522Z"
   },
   {
    "duration": 11,
    "start_time": "2023-08-31T11:30:37.159Z"
   },
   {
    "duration": 10,
    "start_time": "2023-08-31T11:30:42.994Z"
   },
   {
    "duration": 10,
    "start_time": "2023-08-31T11:30:46.629Z"
   },
   {
    "duration": 11,
    "start_time": "2023-08-31T11:30:49.040Z"
   },
   {
    "duration": 11,
    "start_time": "2023-08-31T11:30:55.403Z"
   },
   {
    "duration": 95,
    "start_time": "2023-08-31T11:42:30.423Z"
   },
   {
    "duration": 2282,
    "start_time": "2023-08-31T11:42:38.054Z"
   },
   {
    "duration": 15,
    "start_time": "2023-08-31T11:42:41.498Z"
   },
   {
    "duration": 15,
    "start_time": "2023-08-31T11:42:43.498Z"
   },
   {
    "duration": 1803,
    "start_time": "2023-08-31T11:43:25.509Z"
   },
   {
    "duration": 2394,
    "start_time": "2023-08-31T11:43:39.574Z"
   },
   {
    "duration": 2405,
    "start_time": "2023-08-31T11:44:16.319Z"
   },
   {
    "duration": 2949,
    "start_time": "2023-08-31T11:44:19.822Z"
   },
   {
    "duration": 1238,
    "start_time": "2023-08-31T11:44:35.945Z"
   },
   {
    "duration": 77,
    "start_time": "2023-08-31T11:44:37.184Z"
   },
   {
    "duration": 4,
    "start_time": "2023-08-31T11:44:37.262Z"
   },
   {
    "duration": 64,
    "start_time": "2023-08-31T11:44:37.268Z"
   },
   {
    "duration": 34,
    "start_time": "2023-08-31T11:44:37.333Z"
   },
   {
    "duration": 59,
    "start_time": "2023-08-31T11:44:37.369Z"
   },
   {
    "duration": 13,
    "start_time": "2023-08-31T11:44:37.429Z"
   },
   {
    "duration": 34,
    "start_time": "2023-08-31T11:44:37.444Z"
   },
   {
    "duration": 35,
    "start_time": "2023-08-31T11:44:37.480Z"
   },
   {
    "duration": 295,
    "start_time": "2023-08-31T11:44:37.517Z"
   },
   {
    "duration": 288,
    "start_time": "2023-08-31T11:44:37.813Z"
   },
   {
    "duration": 222,
    "start_time": "2023-08-31T11:44:38.103Z"
   },
   {
    "duration": 313,
    "start_time": "2023-08-31T11:44:38.328Z"
   },
   {
    "duration": 224,
    "start_time": "2023-08-31T11:44:38.643Z"
   },
   {
    "duration": 266,
    "start_time": "2023-08-31T11:44:38.869Z"
   },
   {
    "duration": 149,
    "start_time": "2023-08-31T11:44:39.137Z"
   },
   {
    "duration": 5,
    "start_time": "2023-08-31T11:44:39.287Z"
   },
   {
    "duration": 223,
    "start_time": "2023-08-31T11:44:39.293Z"
   },
   {
    "duration": 6,
    "start_time": "2023-08-31T11:44:39.524Z"
   },
   {
    "duration": 222,
    "start_time": "2023-08-31T11:44:39.531Z"
   },
   {
    "duration": 147,
    "start_time": "2023-08-31T11:44:39.754Z"
   },
   {
    "duration": 6,
    "start_time": "2023-08-31T11:44:39.903Z"
   },
   {
    "duration": 61,
    "start_time": "2023-08-31T11:44:39.910Z"
   },
   {
    "duration": 36,
    "start_time": "2023-08-31T11:44:39.973Z"
   },
   {
    "duration": 1925,
    "start_time": "2023-08-31T11:44:40.010Z"
   },
   {
    "duration": 11,
    "start_time": "2023-08-31T11:44:55.345Z"
   },
   {
    "duration": 1522,
    "start_time": "2023-08-31T11:47:20.540Z"
   },
   {
    "duration": 130,
    "start_time": "2023-08-31T11:48:19.981Z"
   },
   {
    "duration": 1600,
    "start_time": "2023-08-31T11:48:36.343Z"
   },
   {
    "duration": 1429,
    "start_time": "2023-08-31T11:49:38.650Z"
   },
   {
    "duration": 14,
    "start_time": "2023-08-31T11:53:14.184Z"
   },
   {
    "duration": 1984,
    "start_time": "2023-08-31T11:54:16.144Z"
   },
   {
    "duration": 2174,
    "start_time": "2023-08-31T11:55:16.748Z"
   },
   {
    "duration": 1717,
    "start_time": "2023-08-31T11:55:38.691Z"
   },
   {
    "duration": 1822,
    "start_time": "2023-08-31T11:58:40.039Z"
   },
   {
    "duration": 1693,
    "start_time": "2023-08-31T11:59:04.987Z"
   },
   {
    "duration": 2526,
    "start_time": "2023-08-31T12:00:51.581Z"
   },
   {
    "duration": 1398,
    "start_time": "2023-08-31T12:01:11.826Z"
   },
   {
    "duration": 1595,
    "start_time": "2023-08-31T12:01:35.279Z"
   },
   {
    "duration": 4,
    "start_time": "2023-08-31T12:02:11.214Z"
   },
   {
    "duration": 5,
    "start_time": "2023-08-31T12:02:25.513Z"
   },
   {
    "duration": 4,
    "start_time": "2023-08-31T12:03:01.840Z"
   },
   {
    "duration": 6,
    "start_time": "2023-08-31T12:03:11.605Z"
   },
   {
    "duration": 6,
    "start_time": "2023-08-31T12:03:15.540Z"
   },
   {
    "duration": 1740,
    "start_time": "2023-08-31T12:04:30.519Z"
   },
   {
    "duration": 1186,
    "start_time": "2023-08-31T12:04:44.402Z"
   },
   {
    "duration": 77,
    "start_time": "2023-08-31T12:04:45.590Z"
   },
   {
    "duration": 51,
    "start_time": "2023-08-31T12:04:45.669Z"
   },
   {
    "duration": 214,
    "start_time": "2023-08-31T12:04:45.722Z"
   },
   {
    "duration": 72,
    "start_time": "2023-08-31T12:04:45.939Z"
   },
   {
    "duration": 55,
    "start_time": "2023-08-31T12:04:46.013Z"
   },
   {
    "duration": 64,
    "start_time": "2023-08-31T12:04:46.070Z"
   },
   {
    "duration": 18,
    "start_time": "2023-08-31T12:04:46.136Z"
   },
   {
    "duration": 12,
    "start_time": "2023-08-31T12:04:46.156Z"
   },
   {
    "duration": 314,
    "start_time": "2023-08-31T12:04:46.169Z"
   },
   {
    "duration": 313,
    "start_time": "2023-08-31T12:04:46.484Z"
   },
   {
    "duration": 249,
    "start_time": "2023-08-31T12:04:46.798Z"
   },
   {
    "duration": 321,
    "start_time": "2023-08-31T12:04:47.049Z"
   },
   {
    "duration": 219,
    "start_time": "2023-08-31T12:04:47.373Z"
   },
   {
    "duration": 324,
    "start_time": "2023-08-31T12:04:47.593Z"
   },
   {
    "duration": 158,
    "start_time": "2023-08-31T12:04:47.924Z"
   },
   {
    "duration": 7,
    "start_time": "2023-08-31T12:04:48.084Z"
   },
   {
    "duration": 185,
    "start_time": "2023-08-31T12:04:48.092Z"
   },
   {
    "duration": 5,
    "start_time": "2023-08-31T12:04:48.278Z"
   },
   {
    "duration": 228,
    "start_time": "2023-08-31T12:04:48.285Z"
   },
   {
    "duration": 137,
    "start_time": "2023-08-31T12:04:48.515Z"
   },
   {
    "duration": 7,
    "start_time": "2023-08-31T12:04:48.653Z"
   },
   {
    "duration": 81,
    "start_time": "2023-08-31T12:04:48.662Z"
   },
   {
    "duration": 34,
    "start_time": "2023-08-31T12:04:48.745Z"
   },
   {
    "duration": 1910,
    "start_time": "2023-08-31T12:04:48.781Z"
   },
   {
    "duration": 0,
    "start_time": "2023-08-31T12:04:50.693Z"
   },
   {
    "duration": 2537,
    "start_time": "2023-08-31T12:06:14.373Z"
   },
   {
    "duration": 3212,
    "start_time": "2023-08-31T12:18:52.758Z"
   },
   {
    "duration": 2165,
    "start_time": "2023-08-31T12:19:24.966Z"
   },
   {
    "duration": 1622,
    "start_time": "2023-08-31T12:19:40.256Z"
   },
   {
    "duration": 9,
    "start_time": "2023-08-31T12:23:25.398Z"
   },
   {
    "duration": 6,
    "start_time": "2023-08-31T12:25:34.817Z"
   },
   {
    "duration": 7,
    "start_time": "2023-08-31T12:25:58.403Z"
   },
   {
    "duration": 9,
    "start_time": "2023-08-31T12:26:13.095Z"
   },
   {
    "duration": 30,
    "start_time": "2023-08-31T12:26:16.756Z"
   },
   {
    "duration": 10,
    "start_time": "2023-08-31T12:28:13.030Z"
   },
   {
    "duration": 24,
    "start_time": "2023-08-31T12:28:23.139Z"
   },
   {
    "duration": 25,
    "start_time": "2023-08-31T12:28:25.708Z"
   },
   {
    "duration": 25,
    "start_time": "2023-08-31T12:28:28.333Z"
   },
   {
    "duration": 38,
    "start_time": "2023-08-31T12:30:39.298Z"
   },
   {
    "duration": 29,
    "start_time": "2023-08-31T12:30:47.706Z"
   },
   {
    "duration": 25,
    "start_time": "2023-08-31T12:30:53.612Z"
   },
   {
    "duration": 2703,
    "start_time": "2023-08-31T12:47:56.116Z"
   },
   {
    "duration": 15,
    "start_time": "2023-08-31T12:49:16.726Z"
   },
   {
    "duration": 14,
    "start_time": "2023-08-31T12:50:36.043Z"
   },
   {
    "duration": 14,
    "start_time": "2023-08-31T12:50:39.357Z"
   },
   {
    "duration": 14,
    "start_time": "2023-08-31T12:50:48.662Z"
   },
   {
    "duration": 46,
    "start_time": "2023-09-01T11:16:49.980Z"
   },
   {
    "duration": 1314,
    "start_time": "2023-09-01T11:16:59.662Z"
   },
   {
    "duration": 199,
    "start_time": "2023-09-01T11:17:00.979Z"
   },
   {
    "duration": 4,
    "start_time": "2023-09-01T11:17:01.180Z"
   },
   {
    "duration": 172,
    "start_time": "2023-09-01T11:17:01.186Z"
   },
   {
    "duration": 91,
    "start_time": "2023-09-01T11:17:01.360Z"
   },
   {
    "duration": 113,
    "start_time": "2023-09-01T11:17:01.452Z"
   },
   {
    "duration": 112,
    "start_time": "2023-09-01T11:17:01.567Z"
   },
   {
    "duration": 346,
    "start_time": "2023-09-01T11:17:01.681Z"
   },
   {
    "duration": 269,
    "start_time": "2023-09-01T11:17:02.029Z"
   },
   {
    "duration": 508,
    "start_time": "2023-09-01T11:17:02.301Z"
   },
   {
    "duration": 300,
    "start_time": "2023-09-01T11:17:02.810Z"
   },
   {
    "duration": 218,
    "start_time": "2023-09-01T11:17:03.112Z"
   },
   {
    "duration": 595,
    "start_time": "2023-09-01T11:17:03.333Z"
   },
   {
    "duration": 234,
    "start_time": "2023-09-01T11:17:03.929Z"
   },
   {
    "duration": 281,
    "start_time": "2023-09-01T11:17:04.165Z"
   },
   {
    "duration": 157,
    "start_time": "2023-09-01T11:17:04.448Z"
   },
   {
    "duration": 5,
    "start_time": "2023-09-01T11:17:04.607Z"
   },
   {
    "duration": 179,
    "start_time": "2023-09-01T11:17:04.614Z"
   },
   {
    "duration": 5,
    "start_time": "2023-09-01T11:17:04.794Z"
   },
   {
    "duration": 260,
    "start_time": "2023-09-01T11:17:04.801Z"
   },
   {
    "duration": 142,
    "start_time": "2023-09-01T11:17:05.063Z"
   },
   {
    "duration": 6,
    "start_time": "2023-09-01T11:17:05.207Z"
   },
   {
    "duration": 51,
    "start_time": "2023-09-01T11:17:05.215Z"
   },
   {
    "duration": 20,
    "start_time": "2023-09-01T11:17:05.267Z"
   },
   {
    "duration": 21,
    "start_time": "2023-09-01T11:17:05.288Z"
   },
   {
    "duration": 26,
    "start_time": "2023-09-01T11:17:05.310Z"
   },
   {
    "duration": 50,
    "start_time": "2023-09-01T11:17:05.337Z"
   },
   {
    "duration": 25,
    "start_time": "2023-09-01T11:17:05.390Z"
   },
   {
    "duration": 15,
    "start_time": "2023-09-01T11:20:35.328Z"
   },
   {
    "duration": 1148,
    "start_time": "2023-09-01T11:20:54.807Z"
   },
   {
    "duration": 79,
    "start_time": "2023-09-01T11:20:55.958Z"
   },
   {
    "duration": 4,
    "start_time": "2023-09-01T11:20:56.039Z"
   },
   {
    "duration": 51,
    "start_time": "2023-09-01T11:20:56.045Z"
   },
   {
    "duration": 48,
    "start_time": "2023-09-01T11:20:56.099Z"
   },
   {
    "duration": 28,
    "start_time": "2023-09-01T11:20:56.148Z"
   },
   {
    "duration": 49,
    "start_time": "2023-09-01T11:20:56.177Z"
   },
   {
    "duration": 15,
    "start_time": "2023-09-01T11:20:56.227Z"
   },
   {
    "duration": 12,
    "start_time": "2023-09-01T11:20:56.243Z"
   },
   {
    "duration": 305,
    "start_time": "2023-09-01T11:20:56.256Z"
   },
   {
    "duration": 302,
    "start_time": "2023-09-01T11:20:56.563Z"
   },
   {
    "duration": 222,
    "start_time": "2023-09-01T11:20:56.867Z"
   },
   {
    "duration": 336,
    "start_time": "2023-09-01T11:20:57.092Z"
   },
   {
    "duration": 217,
    "start_time": "2023-09-01T11:20:57.433Z"
   },
   {
    "duration": 298,
    "start_time": "2023-09-01T11:20:57.653Z"
   },
   {
    "duration": 162,
    "start_time": "2023-09-01T11:20:57.953Z"
   },
   {
    "duration": 10,
    "start_time": "2023-09-01T11:20:58.117Z"
   },
   {
    "duration": 256,
    "start_time": "2023-09-01T11:20:58.129Z"
   },
   {
    "duration": 5,
    "start_time": "2023-09-01T11:20:58.387Z"
   },
   {
    "duration": 243,
    "start_time": "2023-09-01T11:20:58.393Z"
   },
   {
    "duration": 144,
    "start_time": "2023-09-01T11:20:58.637Z"
   },
   {
    "duration": 7,
    "start_time": "2023-09-01T11:20:58.783Z"
   },
   {
    "duration": 43,
    "start_time": "2023-09-01T11:20:58.791Z"
   },
   {
    "duration": 11,
    "start_time": "2023-09-01T11:20:58.835Z"
   },
   {
    "duration": 71,
    "start_time": "2023-09-01T11:20:58.847Z"
   },
   {
    "duration": 26,
    "start_time": "2023-09-01T11:20:58.920Z"
   },
   {
    "duration": 32,
    "start_time": "2023-09-01T11:20:58.948Z"
   },
   {
    "duration": 15,
    "start_time": "2023-09-01T11:20:58.982Z"
   },
   {
    "duration": 13,
    "start_time": "2023-09-01T11:23:51.879Z"
   },
   {
    "duration": 14,
    "start_time": "2023-09-01T11:23:58.955Z"
   },
   {
    "duration": 6,
    "start_time": "2023-09-01T12:27:51.001Z"
   },
   {
    "duration": 7,
    "start_time": "2023-09-01T12:28:02.757Z"
   },
   {
    "duration": 93,
    "start_time": "2023-09-01T12:30:44.156Z"
   },
   {
    "duration": 1856,
    "start_time": "2023-09-01T12:30:52.998Z"
   },
   {
    "duration": 1216,
    "start_time": "2023-09-01T12:31:14.466Z"
   },
   {
    "duration": 1238,
    "start_time": "2023-09-01T12:31:30.227Z"
   },
   {
    "duration": 1116,
    "start_time": "2023-09-01T12:31:52.195Z"
   },
   {
    "duration": 1134,
    "start_time": "2023-09-01T12:32:51.029Z"
   },
   {
    "duration": 1115,
    "start_time": "2023-09-01T12:33:06.158Z"
   },
   {
    "duration": 2090,
    "start_time": "2023-09-01T12:33:32.894Z"
   },
   {
    "duration": 7,
    "start_time": "2023-09-01T12:34:17.408Z"
   },
   {
    "duration": 11,
    "start_time": "2023-09-01T12:34:49.091Z"
   },
   {
    "duration": 31,
    "start_time": "2023-09-01T12:34:58.620Z"
   },
   {
    "duration": 16,
    "start_time": "2023-09-01T12:35:11.689Z"
   },
   {
    "duration": 15,
    "start_time": "2023-09-01T12:35:33.825Z"
   },
   {
    "duration": 13,
    "start_time": "2023-09-01T12:35:38.576Z"
   },
   {
    "duration": 14,
    "start_time": "2023-09-01T12:35:42.308Z"
   },
   {
    "duration": 13,
    "start_time": "2023-09-01T12:35:47.846Z"
   },
   {
    "duration": 1582,
    "start_time": "2023-09-01T12:36:54.568Z"
   },
   {
    "duration": 1083,
    "start_time": "2023-09-01T12:37:22.199Z"
   },
   {
    "duration": 7,
    "start_time": "2023-09-01T12:37:38.084Z"
   },
   {
    "duration": 11,
    "start_time": "2023-09-01T12:37:57.814Z"
   },
   {
    "duration": 12,
    "start_time": "2023-09-01T12:38:11.444Z"
   },
   {
    "duration": 9,
    "start_time": "2023-09-01T12:38:31.563Z"
   },
   {
    "duration": 10,
    "start_time": "2023-09-01T12:39:27.432Z"
   },
   {
    "duration": 13,
    "start_time": "2023-09-01T12:39:36.926Z"
   },
   {
    "duration": 1244,
    "start_time": "2023-09-01T12:39:51.683Z"
   },
   {
    "duration": 1132,
    "start_time": "2023-09-01T12:40:12.801Z"
   },
   {
    "duration": 10,
    "start_time": "2023-09-01T12:44:02.725Z"
   },
   {
    "duration": 11,
    "start_time": "2023-09-01T12:45:34.458Z"
   },
   {
    "duration": 5,
    "start_time": "2023-09-01T12:47:03.165Z"
   },
   {
    "duration": 14,
    "start_time": "2023-09-01T12:47:07.025Z"
   },
   {
    "duration": 8,
    "start_time": "2023-09-01T12:48:11.076Z"
   },
   {
    "duration": 8,
    "start_time": "2023-09-01T12:55:40.209Z"
   },
   {
    "duration": 9,
    "start_time": "2023-09-01T12:56:04.922Z"
   },
   {
    "duration": 7,
    "start_time": "2023-09-01T12:56:08.510Z"
   },
   {
    "duration": 1173,
    "start_time": "2023-09-01T12:56:39.532Z"
   },
   {
    "duration": 77,
    "start_time": "2023-09-01T12:56:40.707Z"
   },
   {
    "duration": 5,
    "start_time": "2023-09-01T12:56:40.786Z"
   },
   {
    "duration": 56,
    "start_time": "2023-09-01T12:56:40.793Z"
   },
   {
    "duration": 41,
    "start_time": "2023-09-01T12:56:40.851Z"
   },
   {
    "duration": 28,
    "start_time": "2023-09-01T12:56:40.925Z"
   },
   {
    "duration": 10,
    "start_time": "2023-09-01T12:56:40.955Z"
   },
   {
    "duration": 27,
    "start_time": "2023-09-01T12:56:40.967Z"
   },
   {
    "duration": 40,
    "start_time": "2023-09-01T12:56:40.996Z"
   },
   {
    "duration": 25,
    "start_time": "2023-09-01T12:56:41.038Z"
   },
   {
    "duration": 292,
    "start_time": "2023-09-01T12:56:41.065Z"
   },
   {
    "duration": 295,
    "start_time": "2023-09-01T12:56:41.359Z"
   },
   {
    "duration": 212,
    "start_time": "2023-09-01T12:56:41.656Z"
   },
   {
    "duration": 292,
    "start_time": "2023-09-01T12:56:41.870Z"
   },
   {
    "duration": 230,
    "start_time": "2023-09-01T12:56:42.164Z"
   },
   {
    "duration": 329,
    "start_time": "2023-09-01T12:56:42.397Z"
   },
   {
    "duration": 153,
    "start_time": "2023-09-01T12:56:42.728Z"
   },
   {
    "duration": 6,
    "start_time": "2023-09-01T12:56:42.883Z"
   },
   {
    "duration": 177,
    "start_time": "2023-09-01T12:56:42.890Z"
   },
   {
    "duration": 5,
    "start_time": "2023-09-01T12:56:43.068Z"
   },
   {
    "duration": 232,
    "start_time": "2023-09-01T12:56:43.074Z"
   },
   {
    "duration": 149,
    "start_time": "2023-09-01T12:56:43.307Z"
   },
   {
    "duration": 6,
    "start_time": "2023-09-01T12:56:43.459Z"
   },
   {
    "duration": 29,
    "start_time": "2023-09-01T12:56:43.466Z"
   },
   {
    "duration": 28,
    "start_time": "2023-09-01T12:56:43.496Z"
   },
   {
    "duration": 7,
    "start_time": "2023-09-01T12:56:43.526Z"
   },
   {
    "duration": 10,
    "start_time": "2023-09-01T12:56:43.535Z"
   },
   {
    "duration": 33,
    "start_time": "2023-09-01T12:56:43.546Z"
   },
   {
    "duration": 13,
    "start_time": "2023-09-01T12:56:43.580Z"
   },
   {
    "duration": 13,
    "start_time": "2023-09-01T12:57:15.938Z"
   },
   {
    "duration": 6,
    "start_time": "2023-09-01T12:57:28.325Z"
   },
   {
    "duration": 1377,
    "start_time": "2023-09-01T12:57:58.608Z"
   },
   {
    "duration": 8,
    "start_time": "2023-09-01T12:58:12.675Z"
   },
   {
    "duration": 8,
    "start_time": "2023-09-01T12:58:20.380Z"
   },
   {
    "duration": 8,
    "start_time": "2023-09-01T13:00:01.457Z"
   },
   {
    "duration": 9,
    "start_time": "2023-09-01T13:00:04.196Z"
   },
   {
    "duration": 2101,
    "start_time": "2023-09-01T13:00:21.332Z"
   },
   {
    "duration": 2585,
    "start_time": "2023-09-01T13:00:31.868Z"
   },
   {
    "duration": 8,
    "start_time": "2023-09-01T13:00:46.760Z"
   },
   {
    "duration": 9,
    "start_time": "2023-09-01T13:00:53.406Z"
   },
   {
    "duration": 10,
    "start_time": "2023-09-01T13:01:02.278Z"
   },
   {
    "duration": 12,
    "start_time": "2023-09-01T13:21:09.343Z"
   },
   {
    "duration": 12,
    "start_time": "2023-09-01T13:21:40.476Z"
   },
   {
    "duration": 8,
    "start_time": "2023-09-01T13:23:53.848Z"
   },
   {
    "duration": 11,
    "start_time": "2023-09-01T13:24:11.538Z"
   },
   {
    "duration": 14,
    "start_time": "2023-09-01T13:26:15.849Z"
   },
   {
    "duration": 12,
    "start_time": "2023-09-01T13:26:26.537Z"
   },
   {
    "duration": 13,
    "start_time": "2023-09-01T13:27:16.461Z"
   },
   {
    "duration": 17,
    "start_time": "2023-09-01T13:28:20.064Z"
   },
   {
    "duration": 15,
    "start_time": "2023-09-01T13:29:26.648Z"
   },
   {
    "duration": 13,
    "start_time": "2023-09-01T13:29:47.051Z"
   },
   {
    "duration": 17,
    "start_time": "2023-09-01T13:30:44.660Z"
   },
   {
    "duration": 13,
    "start_time": "2023-09-01T13:31:07.700Z"
   },
   {
    "duration": 14,
    "start_time": "2023-09-01T13:31:11.950Z"
   },
   {
    "duration": 21,
    "start_time": "2023-09-01T13:31:17.329Z"
   },
   {
    "duration": 18,
    "start_time": "2023-09-01T13:48:03.390Z"
   },
   {
    "duration": 16,
    "start_time": "2023-09-01T13:48:12.864Z"
   },
   {
    "duration": 18,
    "start_time": "2023-09-01T13:48:19.181Z"
   },
   {
    "duration": 15,
    "start_time": "2023-09-01T13:48:27.604Z"
   },
   {
    "duration": 23,
    "start_time": "2023-09-01T13:48:36.126Z"
   },
   {
    "duration": 14,
    "start_time": "2023-09-01T13:48:38.082Z"
   },
   {
    "duration": 21,
    "start_time": "2023-09-01T13:48:44.049Z"
   },
   {
    "duration": 421,
    "start_time": "2023-09-01T14:03:37.078Z"
   },
   {
    "duration": 232,
    "start_time": "2023-09-01T14:04:49.560Z"
   },
   {
    "duration": 232,
    "start_time": "2023-09-01T14:05:04.883Z"
   },
   {
    "duration": 287,
    "start_time": "2023-09-01T14:07:05.879Z"
   },
   {
    "duration": 1156,
    "start_time": "2023-09-01T14:09:27.772Z"
   },
   {
    "duration": 87,
    "start_time": "2023-09-01T14:09:28.935Z"
   },
   {
    "duration": 29,
    "start_time": "2023-09-01T14:09:29.024Z"
   },
   {
    "duration": 67,
    "start_time": "2023-09-01T14:09:29.055Z"
   },
   {
    "duration": 49,
    "start_time": "2023-09-01T14:09:29.126Z"
   },
   {
    "duration": 49,
    "start_time": "2023-09-01T14:09:29.177Z"
   },
   {
    "duration": 26,
    "start_time": "2023-09-01T14:09:29.228Z"
   },
   {
    "duration": 54,
    "start_time": "2023-09-01T14:09:29.256Z"
   },
   {
    "duration": 57,
    "start_time": "2023-09-01T14:09:29.312Z"
   },
   {
    "duration": 206,
    "start_time": "2023-09-01T14:09:29.370Z"
   },
   {
    "duration": 441,
    "start_time": "2023-09-01T14:09:29.577Z"
   },
   {
    "duration": 374,
    "start_time": "2023-09-01T14:09:30.019Z"
   },
   {
    "duration": 277,
    "start_time": "2023-09-01T14:09:30.396Z"
   },
   {
    "duration": 347,
    "start_time": "2023-09-01T14:09:30.677Z"
   },
   {
    "duration": 261,
    "start_time": "2023-09-01T14:09:31.026Z"
   },
   {
    "duration": 383,
    "start_time": "2023-09-01T14:09:31.288Z"
   },
   {
    "duration": 190,
    "start_time": "2023-09-01T14:09:31.672Z"
   },
   {
    "duration": 6,
    "start_time": "2023-09-01T14:09:31.863Z"
   },
   {
    "duration": 214,
    "start_time": "2023-09-01T14:09:31.870Z"
   },
   {
    "duration": 5,
    "start_time": "2023-09-01T14:09:32.086Z"
   },
   {
    "duration": 300,
    "start_time": "2023-09-01T14:09:32.093Z"
   },
   {
    "duration": 185,
    "start_time": "2023-09-01T14:09:32.395Z"
   },
   {
    "duration": 8,
    "start_time": "2023-09-01T14:09:32.582Z"
   },
   {
    "duration": 66,
    "start_time": "2023-09-01T14:09:32.592Z"
   },
   {
    "duration": 12,
    "start_time": "2023-09-01T14:09:32.660Z"
   },
   {
    "duration": 28,
    "start_time": "2023-09-01T14:09:32.674Z"
   },
   {
    "duration": 12,
    "start_time": "2023-09-01T14:09:32.704Z"
   },
   {
    "duration": 53,
    "start_time": "2023-09-01T14:09:32.718Z"
   },
   {
    "duration": 14,
    "start_time": "2023-09-01T14:09:32.773Z"
   },
   {
    "duration": 323,
    "start_time": "2023-09-01T14:18:34.790Z"
   },
   {
    "duration": 235,
    "start_time": "2023-09-01T14:19:42.728Z"
   },
   {
    "duration": 236,
    "start_time": "2023-09-01T14:20:34.917Z"
   },
   {
    "duration": 231,
    "start_time": "2023-09-01T14:22:02.634Z"
   },
   {
    "duration": 226,
    "start_time": "2023-09-01T14:22:32.550Z"
   },
   {
    "duration": 218,
    "start_time": "2023-09-01T14:25:43.780Z"
   },
   {
    "duration": 223,
    "start_time": "2023-09-01T14:25:56.263Z"
   },
   {
    "duration": 222,
    "start_time": "2023-09-01T14:26:34.670Z"
   },
   {
    "duration": 349,
    "start_time": "2023-09-01T14:30:50.830Z"
   },
   {
    "duration": 243,
    "start_time": "2023-09-01T14:30:59.674Z"
   },
   {
    "duration": 261,
    "start_time": "2023-09-01T14:31:07.277Z"
   },
   {
    "duration": 313,
    "start_time": "2023-09-01T14:31:17.471Z"
   },
   {
    "duration": 248,
    "start_time": "2023-09-01T14:32:59.859Z"
   },
   {
    "duration": 273,
    "start_time": "2023-09-01T14:34:08.401Z"
   },
   {
    "duration": 353,
    "start_time": "2023-09-01T14:37:46.550Z"
   },
   {
    "duration": 381,
    "start_time": "2023-09-01T14:38:04.210Z"
   },
   {
    "duration": 338,
    "start_time": "2023-09-01T14:41:57.486Z"
   },
   {
    "duration": 11,
    "start_time": "2023-09-01T15:45:35.650Z"
   },
   {
    "duration": 133,
    "start_time": "2023-09-01T15:47:32.870Z"
   },
   {
    "duration": 12,
    "start_time": "2023-09-01T15:49:53.911Z"
   },
   {
    "duration": 10,
    "start_time": "2023-09-01T15:49:58.056Z"
   },
   {
    "duration": 8,
    "start_time": "2023-09-01T15:50:08.249Z"
   },
   {
    "duration": 21,
    "start_time": "2023-09-01T15:50:13.202Z"
   },
   {
    "duration": 1127,
    "start_time": "2023-09-01T15:50:33.633Z"
   },
   {
    "duration": 77,
    "start_time": "2023-09-01T15:50:34.762Z"
   },
   {
    "duration": 4,
    "start_time": "2023-09-01T15:50:34.841Z"
   },
   {
    "duration": 43,
    "start_time": "2023-09-01T15:50:34.847Z"
   },
   {
    "duration": 55,
    "start_time": "2023-09-01T15:50:34.892Z"
   },
   {
    "duration": 31,
    "start_time": "2023-09-01T15:50:34.949Z"
   },
   {
    "duration": 10,
    "start_time": "2023-09-01T15:50:34.981Z"
   },
   {
    "duration": 14,
    "start_time": "2023-09-01T15:50:35.024Z"
   },
   {
    "duration": 13,
    "start_time": "2023-09-01T15:50:35.039Z"
   },
   {
    "duration": 14,
    "start_time": "2023-09-01T15:50:35.055Z"
   },
   {
    "duration": 317,
    "start_time": "2023-09-01T15:50:35.070Z"
   },
   {
    "duration": 308,
    "start_time": "2023-09-01T15:50:35.389Z"
   },
   {
    "duration": 261,
    "start_time": "2023-09-01T15:50:35.699Z"
   },
   {
    "duration": 295,
    "start_time": "2023-09-01T15:50:35.961Z"
   },
   {
    "duration": 215,
    "start_time": "2023-09-01T15:50:36.258Z"
   },
   {
    "duration": 297,
    "start_time": "2023-09-01T15:50:36.474Z"
   },
   {
    "duration": 152,
    "start_time": "2023-09-01T15:50:36.772Z"
   },
   {
    "duration": 5,
    "start_time": "2023-09-01T15:50:36.930Z"
   },
   {
    "duration": 165,
    "start_time": "2023-09-01T15:50:36.937Z"
   },
   {
    "duration": 4,
    "start_time": "2023-09-01T15:50:37.104Z"
   },
   {
    "duration": 219,
    "start_time": "2023-09-01T15:50:37.110Z"
   },
   {
    "duration": 130,
    "start_time": "2023-09-01T15:50:37.331Z"
   },
   {
    "duration": 6,
    "start_time": "2023-09-01T15:50:37.463Z"
   },
   {
    "duration": 25,
    "start_time": "2023-09-01T15:50:37.470Z"
   },
   {
    "duration": 28,
    "start_time": "2023-09-01T15:50:37.496Z"
   },
   {
    "duration": 8,
    "start_time": "2023-09-01T15:50:37.526Z"
   },
   {
    "duration": 7,
    "start_time": "2023-09-01T15:50:37.536Z"
   },
   {
    "duration": 22,
    "start_time": "2023-09-01T15:50:37.546Z"
   },
   {
    "duration": 13,
    "start_time": "2023-09-01T15:50:37.569Z"
   },
   {
    "duration": 12,
    "start_time": "2023-09-01T15:58:54.601Z"
   },
   {
    "duration": 13,
    "start_time": "2023-09-01T15:59:03.212Z"
   },
   {
    "duration": 12,
    "start_time": "2023-09-01T15:59:05.258Z"
   },
   {
    "duration": 13,
    "start_time": "2023-09-01T15:59:09.603Z"
   },
   {
    "duration": 23,
    "start_time": "2023-09-01T16:06:57.302Z"
   },
   {
    "duration": 15,
    "start_time": "2023-09-01T16:09:28.884Z"
   },
   {
    "duration": 15,
    "start_time": "2023-09-01T16:09:32.368Z"
   },
   {
    "duration": 12,
    "start_time": "2023-09-01T16:09:34.753Z"
   },
   {
    "duration": 15,
    "start_time": "2023-09-01T16:09:38.907Z"
   },
   {
    "duration": 76,
    "start_time": "2023-09-02T18:47:44.045Z"
   },
   {
    "duration": 1360,
    "start_time": "2023-09-02T18:47:58.313Z"
   },
   {
    "duration": 239,
    "start_time": "2023-09-02T18:47:59.675Z"
   },
   {
    "duration": 5,
    "start_time": "2023-09-02T18:47:59.916Z"
   },
   {
    "duration": 48,
    "start_time": "2023-09-02T18:47:59.923Z"
   },
   {
    "duration": 41,
    "start_time": "2023-09-02T18:47:59.973Z"
   },
   {
    "duration": 60,
    "start_time": "2023-09-02T18:48:00.015Z"
   },
   {
    "duration": 16,
    "start_time": "2023-09-02T18:48:00.077Z"
   },
   {
    "duration": 44,
    "start_time": "2023-09-02T18:48:00.095Z"
   },
   {
    "duration": 34,
    "start_time": "2023-09-02T18:48:00.141Z"
   },
   {
    "duration": 30,
    "start_time": "2023-09-02T18:48:00.178Z"
   },
   {
    "duration": 273,
    "start_time": "2023-09-02T18:48:00.210Z"
   },
   {
    "duration": 313,
    "start_time": "2023-09-02T18:48:00.484Z"
   },
   {
    "duration": 233,
    "start_time": "2023-09-02T18:48:00.799Z"
   },
   {
    "duration": 405,
    "start_time": "2023-09-02T18:48:01.034Z"
   },
   {
    "duration": 232,
    "start_time": "2023-09-02T18:48:01.441Z"
   },
   {
    "duration": 323,
    "start_time": "2023-09-02T18:48:01.675Z"
   },
   {
    "duration": 164,
    "start_time": "2023-09-02T18:48:01.999Z"
   },
   {
    "duration": 5,
    "start_time": "2023-09-02T18:48:02.164Z"
   },
   {
    "duration": 222,
    "start_time": "2023-09-02T18:48:02.171Z"
   },
   {
    "duration": 6,
    "start_time": "2023-09-02T18:48:02.395Z"
   },
   {
    "duration": 248,
    "start_time": "2023-09-02T18:48:02.403Z"
   },
   {
    "duration": 138,
    "start_time": "2023-09-02T18:48:02.652Z"
   },
   {
    "duration": 6,
    "start_time": "2023-09-02T18:48:02.791Z"
   },
   {
    "duration": 53,
    "start_time": "2023-09-02T18:48:02.799Z"
   },
   {
    "duration": 12,
    "start_time": "2023-09-02T18:48:02.853Z"
   },
   {
    "duration": 26,
    "start_time": "2023-09-02T18:48:02.866Z"
   },
   {
    "duration": 19,
    "start_time": "2023-09-02T18:48:02.894Z"
   },
   {
    "duration": 42,
    "start_time": "2023-09-02T18:48:02.916Z"
   },
   {
    "duration": 14,
    "start_time": "2023-09-02T18:48:02.960Z"
   },
   {
    "duration": 16,
    "start_time": "2023-09-02T18:49:05.683Z"
   },
   {
    "duration": 13,
    "start_time": "2023-09-02T18:50:09.974Z"
   },
   {
    "duration": 1261,
    "start_time": "2023-09-03T14:12:50.173Z"
   },
   {
    "duration": 192,
    "start_time": "2023-09-03T14:12:51.443Z"
   },
   {
    "duration": 5,
    "start_time": "2023-09-03T14:12:51.637Z"
   },
   {
    "duration": 61,
    "start_time": "2023-09-03T14:12:51.644Z"
   },
   {
    "duration": 63,
    "start_time": "2023-09-03T14:12:51.707Z"
   },
   {
    "duration": 29,
    "start_time": "2023-09-03T14:12:51.773Z"
   },
   {
    "duration": 44,
    "start_time": "2023-09-03T14:12:51.804Z"
   },
   {
    "duration": 20,
    "start_time": "2023-09-03T14:12:51.850Z"
   },
   {
    "duration": 27,
    "start_time": "2023-09-03T14:12:51.872Z"
   },
   {
    "duration": 43,
    "start_time": "2023-09-03T14:12:51.903Z"
   },
   {
    "duration": 317,
    "start_time": "2023-09-03T14:12:51.947Z"
   },
   {
    "duration": 562,
    "start_time": "2023-09-03T14:12:52.266Z"
   },
   {
    "duration": 476,
    "start_time": "2023-09-03T14:12:52.830Z"
   },
   {
    "duration": 507,
    "start_time": "2023-09-03T14:12:53.308Z"
   },
   {
    "duration": 592,
    "start_time": "2023-09-03T14:12:53.817Z"
   },
   {
    "duration": 497,
    "start_time": "2023-09-03T14:12:54.411Z"
   },
   {
    "duration": 362,
    "start_time": "2023-09-03T14:12:54.910Z"
   },
   {
    "duration": 5,
    "start_time": "2023-09-03T14:12:55.273Z"
   },
   {
    "duration": 442,
    "start_time": "2023-09-03T14:12:55.281Z"
   },
   {
    "duration": 18,
    "start_time": "2023-09-03T14:12:55.725Z"
   },
   {
    "duration": 261,
    "start_time": "2023-09-03T14:12:55.746Z"
   },
   {
    "duration": 175,
    "start_time": "2023-09-03T14:12:56.008Z"
   },
   {
    "duration": 7,
    "start_time": "2023-09-03T14:12:56.185Z"
   },
   {
    "duration": 41,
    "start_time": "2023-09-03T14:12:56.195Z"
   },
   {
    "duration": 14,
    "start_time": "2023-09-03T14:12:56.238Z"
   },
   {
    "duration": 21,
    "start_time": "2023-09-03T14:12:56.254Z"
   },
   {
    "duration": 12,
    "start_time": "2023-09-03T14:12:56.277Z"
   },
   {
    "duration": 72,
    "start_time": "2023-09-03T14:12:56.293Z"
   },
   {
    "duration": 14,
    "start_time": "2023-09-03T14:12:56.367Z"
   }
  ],
  "kernelspec": {
   "display_name": "Python 3 (ipykernel)",
   "language": "python",
   "name": "python3"
  },
  "language_info": {
   "codemirror_mode": {
    "name": "ipython",
    "version": 3
   },
   "file_extension": ".py",
   "mimetype": "text/x-python",
   "name": "python",
   "nbconvert_exporter": "python",
   "pygments_lexer": "ipython3",
   "version": "3.10.9"
  },
  "toc": {
   "base_numbering": 1,
   "nav_menu": {},
   "number_sections": true,
   "sideBar": true,
   "skip_h1_title": true,
   "title_cell": "Table of Contents",
   "title_sidebar": "Contents",
   "toc_cell": false,
   "toc_position": {},
   "toc_section_display": true,
   "toc_window_display": false
  }
 },
 "nbformat": 4,
 "nbformat_minor": 2
}
