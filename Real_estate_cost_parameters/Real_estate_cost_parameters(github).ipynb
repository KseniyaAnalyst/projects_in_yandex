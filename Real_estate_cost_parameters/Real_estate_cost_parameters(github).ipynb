{
 "cells": [
  {
   "cell_type": "markdown",
   "metadata": {},
   "source": [
    "# Исследование объявлений о продаже квартир"
   ]
  },
  {
   "cell_type": "markdown",
   "metadata": {},
   "source": [
    "### Обзор данных "
   ]
  },
  {
   "cell_type": "code",
   "execution_count": 1,
   "metadata": {},
   "outputs": [
    {
     "data": {
      "text/html": [
       "<div>\n",
       "<style scoped>\n",
       "    .dataframe tbody tr th:only-of-type {\n",
       "        vertical-align: middle;\n",
       "    }\n",
       "\n",
       "    .dataframe tbody tr th {\n",
       "        vertical-align: top;\n",
       "    }\n",
       "\n",
       "    .dataframe thead th {\n",
       "        text-align: right;\n",
       "    }\n",
       "</style>\n",
       "<table border=\"1\" class=\"dataframe\">\n",
       "  <thead>\n",
       "    <tr style=\"text-align: right;\">\n",
       "      <th></th>\n",
       "      <th>total_images</th>\n",
       "      <th>last_price</th>\n",
       "      <th>total_area</th>\n",
       "      <th>first_day_exposition</th>\n",
       "      <th>rooms</th>\n",
       "      <th>ceiling_height</th>\n",
       "      <th>floors_total</th>\n",
       "      <th>living_area</th>\n",
       "      <th>floor</th>\n",
       "      <th>is_apartment</th>\n",
       "      <th>...</th>\n",
       "      <th>kitchen_area</th>\n",
       "      <th>balcony</th>\n",
       "      <th>locality_name</th>\n",
       "      <th>airports_nearest</th>\n",
       "      <th>cityCenters_nearest</th>\n",
       "      <th>parks_around3000</th>\n",
       "      <th>parks_nearest</th>\n",
       "      <th>ponds_around3000</th>\n",
       "      <th>ponds_nearest</th>\n",
       "      <th>days_exposition</th>\n",
       "    </tr>\n",
       "  </thead>\n",
       "  <tbody>\n",
       "    <tr>\n",
       "      <th>0</th>\n",
       "      <td>20</td>\n",
       "      <td>13000000.0</td>\n",
       "      <td>108.00</td>\n",
       "      <td>2019-03-07T00:00:00</td>\n",
       "      <td>3</td>\n",
       "      <td>2.70</td>\n",
       "      <td>16.0</td>\n",
       "      <td>51.00</td>\n",
       "      <td>8</td>\n",
       "      <td>NaN</td>\n",
       "      <td>...</td>\n",
       "      <td>25.00</td>\n",
       "      <td>NaN</td>\n",
       "      <td>Санкт-Петербург</td>\n",
       "      <td>18863.0</td>\n",
       "      <td>16028.0</td>\n",
       "      <td>1.0</td>\n",
       "      <td>482.0</td>\n",
       "      <td>2.0</td>\n",
       "      <td>755.0</td>\n",
       "      <td>NaN</td>\n",
       "    </tr>\n",
       "    <tr>\n",
       "      <th>1</th>\n",
       "      <td>7</td>\n",
       "      <td>3350000.0</td>\n",
       "      <td>40.40</td>\n",
       "      <td>2018-12-04T00:00:00</td>\n",
       "      <td>1</td>\n",
       "      <td>NaN</td>\n",
       "      <td>11.0</td>\n",
       "      <td>18.60</td>\n",
       "      <td>1</td>\n",
       "      <td>NaN</td>\n",
       "      <td>...</td>\n",
       "      <td>11.00</td>\n",
       "      <td>2.0</td>\n",
       "      <td>посёлок Шушары</td>\n",
       "      <td>12817.0</td>\n",
       "      <td>18603.0</td>\n",
       "      <td>0.0</td>\n",
       "      <td>NaN</td>\n",
       "      <td>0.0</td>\n",
       "      <td>NaN</td>\n",
       "      <td>81.0</td>\n",
       "    </tr>\n",
       "    <tr>\n",
       "      <th>2</th>\n",
       "      <td>10</td>\n",
       "      <td>5196000.0</td>\n",
       "      <td>56.00</td>\n",
       "      <td>2015-08-20T00:00:00</td>\n",
       "      <td>2</td>\n",
       "      <td>NaN</td>\n",
       "      <td>5.0</td>\n",
       "      <td>34.30</td>\n",
       "      <td>4</td>\n",
       "      <td>NaN</td>\n",
       "      <td>...</td>\n",
       "      <td>8.30</td>\n",
       "      <td>0.0</td>\n",
       "      <td>Санкт-Петербург</td>\n",
       "      <td>21741.0</td>\n",
       "      <td>13933.0</td>\n",
       "      <td>1.0</td>\n",
       "      <td>90.0</td>\n",
       "      <td>2.0</td>\n",
       "      <td>574.0</td>\n",
       "      <td>558.0</td>\n",
       "    </tr>\n",
       "    <tr>\n",
       "      <th>3</th>\n",
       "      <td>0</td>\n",
       "      <td>64900000.0</td>\n",
       "      <td>159.00</td>\n",
       "      <td>2015-07-24T00:00:00</td>\n",
       "      <td>3</td>\n",
       "      <td>NaN</td>\n",
       "      <td>14.0</td>\n",
       "      <td>NaN</td>\n",
       "      <td>9</td>\n",
       "      <td>NaN</td>\n",
       "      <td>...</td>\n",
       "      <td>NaN</td>\n",
       "      <td>0.0</td>\n",
       "      <td>Санкт-Петербург</td>\n",
       "      <td>28098.0</td>\n",
       "      <td>6800.0</td>\n",
       "      <td>2.0</td>\n",
       "      <td>84.0</td>\n",
       "      <td>3.0</td>\n",
       "      <td>234.0</td>\n",
       "      <td>424.0</td>\n",
       "    </tr>\n",
       "    <tr>\n",
       "      <th>4</th>\n",
       "      <td>2</td>\n",
       "      <td>10000000.0</td>\n",
       "      <td>100.00</td>\n",
       "      <td>2018-06-19T00:00:00</td>\n",
       "      <td>2</td>\n",
       "      <td>3.03</td>\n",
       "      <td>14.0</td>\n",
       "      <td>32.00</td>\n",
       "      <td>13</td>\n",
       "      <td>NaN</td>\n",
       "      <td>...</td>\n",
       "      <td>41.00</td>\n",
       "      <td>NaN</td>\n",
       "      <td>Санкт-Петербург</td>\n",
       "      <td>31856.0</td>\n",
       "      <td>8098.0</td>\n",
       "      <td>2.0</td>\n",
       "      <td>112.0</td>\n",
       "      <td>1.0</td>\n",
       "      <td>48.0</td>\n",
       "      <td>121.0</td>\n",
       "    </tr>\n",
       "    <tr>\n",
       "      <th>5</th>\n",
       "      <td>10</td>\n",
       "      <td>2890000.0</td>\n",
       "      <td>30.40</td>\n",
       "      <td>2018-09-10T00:00:00</td>\n",
       "      <td>1</td>\n",
       "      <td>NaN</td>\n",
       "      <td>12.0</td>\n",
       "      <td>14.40</td>\n",
       "      <td>5</td>\n",
       "      <td>NaN</td>\n",
       "      <td>...</td>\n",
       "      <td>9.10</td>\n",
       "      <td>NaN</td>\n",
       "      <td>городской посёлок Янино-1</td>\n",
       "      <td>NaN</td>\n",
       "      <td>NaN</td>\n",
       "      <td>NaN</td>\n",
       "      <td>NaN</td>\n",
       "      <td>NaN</td>\n",
       "      <td>NaN</td>\n",
       "      <td>55.0</td>\n",
       "    </tr>\n",
       "    <tr>\n",
       "      <th>6</th>\n",
       "      <td>6</td>\n",
       "      <td>3700000.0</td>\n",
       "      <td>37.30</td>\n",
       "      <td>2017-11-02T00:00:00</td>\n",
       "      <td>1</td>\n",
       "      <td>NaN</td>\n",
       "      <td>26.0</td>\n",
       "      <td>10.60</td>\n",
       "      <td>6</td>\n",
       "      <td>NaN</td>\n",
       "      <td>...</td>\n",
       "      <td>14.40</td>\n",
       "      <td>1.0</td>\n",
       "      <td>посёлок Парголово</td>\n",
       "      <td>52996.0</td>\n",
       "      <td>19143.0</td>\n",
       "      <td>0.0</td>\n",
       "      <td>NaN</td>\n",
       "      <td>0.0</td>\n",
       "      <td>NaN</td>\n",
       "      <td>155.0</td>\n",
       "    </tr>\n",
       "    <tr>\n",
       "      <th>7</th>\n",
       "      <td>5</td>\n",
       "      <td>7915000.0</td>\n",
       "      <td>71.60</td>\n",
       "      <td>2019-04-18T00:00:00</td>\n",
       "      <td>2</td>\n",
       "      <td>NaN</td>\n",
       "      <td>24.0</td>\n",
       "      <td>NaN</td>\n",
       "      <td>22</td>\n",
       "      <td>NaN</td>\n",
       "      <td>...</td>\n",
       "      <td>18.90</td>\n",
       "      <td>2.0</td>\n",
       "      <td>Санкт-Петербург</td>\n",
       "      <td>23982.0</td>\n",
       "      <td>11634.0</td>\n",
       "      <td>0.0</td>\n",
       "      <td>NaN</td>\n",
       "      <td>0.0</td>\n",
       "      <td>NaN</td>\n",
       "      <td>NaN</td>\n",
       "    </tr>\n",
       "    <tr>\n",
       "      <th>8</th>\n",
       "      <td>20</td>\n",
       "      <td>2900000.0</td>\n",
       "      <td>33.16</td>\n",
       "      <td>2018-05-23T00:00:00</td>\n",
       "      <td>1</td>\n",
       "      <td>NaN</td>\n",
       "      <td>27.0</td>\n",
       "      <td>15.43</td>\n",
       "      <td>26</td>\n",
       "      <td>NaN</td>\n",
       "      <td>...</td>\n",
       "      <td>8.81</td>\n",
       "      <td>NaN</td>\n",
       "      <td>посёлок Мурино</td>\n",
       "      <td>NaN</td>\n",
       "      <td>NaN</td>\n",
       "      <td>NaN</td>\n",
       "      <td>NaN</td>\n",
       "      <td>NaN</td>\n",
       "      <td>NaN</td>\n",
       "      <td>189.0</td>\n",
       "    </tr>\n",
       "    <tr>\n",
       "      <th>9</th>\n",
       "      <td>18</td>\n",
       "      <td>5400000.0</td>\n",
       "      <td>61.00</td>\n",
       "      <td>2017-02-26T00:00:00</td>\n",
       "      <td>3</td>\n",
       "      <td>2.50</td>\n",
       "      <td>9.0</td>\n",
       "      <td>43.60</td>\n",
       "      <td>7</td>\n",
       "      <td>NaN</td>\n",
       "      <td>...</td>\n",
       "      <td>6.50</td>\n",
       "      <td>2.0</td>\n",
       "      <td>Санкт-Петербург</td>\n",
       "      <td>50898.0</td>\n",
       "      <td>15008.0</td>\n",
       "      <td>0.0</td>\n",
       "      <td>NaN</td>\n",
       "      <td>0.0</td>\n",
       "      <td>NaN</td>\n",
       "      <td>289.0</td>\n",
       "    </tr>\n",
       "    <tr>\n",
       "      <th>10</th>\n",
       "      <td>5</td>\n",
       "      <td>5050000.0</td>\n",
       "      <td>39.60</td>\n",
       "      <td>2017-11-16T00:00:00</td>\n",
       "      <td>1</td>\n",
       "      <td>2.67</td>\n",
       "      <td>12.0</td>\n",
       "      <td>20.30</td>\n",
       "      <td>3</td>\n",
       "      <td>NaN</td>\n",
       "      <td>...</td>\n",
       "      <td>8.50</td>\n",
       "      <td>NaN</td>\n",
       "      <td>Санкт-Петербург</td>\n",
       "      <td>38357.0</td>\n",
       "      <td>13878.0</td>\n",
       "      <td>1.0</td>\n",
       "      <td>310.0</td>\n",
       "      <td>2.0</td>\n",
       "      <td>553.0</td>\n",
       "      <td>137.0</td>\n",
       "    </tr>\n",
       "    <tr>\n",
       "      <th>11</th>\n",
       "      <td>9</td>\n",
       "      <td>3300000.0</td>\n",
       "      <td>44.00</td>\n",
       "      <td>2018-08-27T00:00:00</td>\n",
       "      <td>2</td>\n",
       "      <td>NaN</td>\n",
       "      <td>5.0</td>\n",
       "      <td>31.00</td>\n",
       "      <td>4</td>\n",
       "      <td>False</td>\n",
       "      <td>...</td>\n",
       "      <td>6.00</td>\n",
       "      <td>1.0</td>\n",
       "      <td>Ломоносов</td>\n",
       "      <td>48252.0</td>\n",
       "      <td>51677.0</td>\n",
       "      <td>0.0</td>\n",
       "      <td>NaN</td>\n",
       "      <td>0.0</td>\n",
       "      <td>NaN</td>\n",
       "      <td>7.0</td>\n",
       "    </tr>\n",
       "    <tr>\n",
       "      <th>12</th>\n",
       "      <td>10</td>\n",
       "      <td>3890000.0</td>\n",
       "      <td>54.00</td>\n",
       "      <td>2016-06-30T00:00:00</td>\n",
       "      <td>2</td>\n",
       "      <td>NaN</td>\n",
       "      <td>5.0</td>\n",
       "      <td>30.00</td>\n",
       "      <td>5</td>\n",
       "      <td>NaN</td>\n",
       "      <td>...</td>\n",
       "      <td>9.00</td>\n",
       "      <td>0.0</td>\n",
       "      <td>Сертолово</td>\n",
       "      <td>NaN</td>\n",
       "      <td>NaN</td>\n",
       "      <td>NaN</td>\n",
       "      <td>NaN</td>\n",
       "      <td>NaN</td>\n",
       "      <td>NaN</td>\n",
       "      <td>90.0</td>\n",
       "    </tr>\n",
       "    <tr>\n",
       "      <th>13</th>\n",
       "      <td>20</td>\n",
       "      <td>3550000.0</td>\n",
       "      <td>42.80</td>\n",
       "      <td>2017-07-01T00:00:00</td>\n",
       "      <td>2</td>\n",
       "      <td>2.56</td>\n",
       "      <td>5.0</td>\n",
       "      <td>27.00</td>\n",
       "      <td>5</td>\n",
       "      <td>NaN</td>\n",
       "      <td>...</td>\n",
       "      <td>5.20</td>\n",
       "      <td>1.0</td>\n",
       "      <td>Петергоф</td>\n",
       "      <td>37868.0</td>\n",
       "      <td>33058.0</td>\n",
       "      <td>1.0</td>\n",
       "      <td>294.0</td>\n",
       "      <td>3.0</td>\n",
       "      <td>298.0</td>\n",
       "      <td>366.0</td>\n",
       "    </tr>\n",
       "    <tr>\n",
       "      <th>14</th>\n",
       "      <td>1</td>\n",
       "      <td>4400000.0</td>\n",
       "      <td>36.00</td>\n",
       "      <td>2016-06-23T00:00:00</td>\n",
       "      <td>1</td>\n",
       "      <td>NaN</td>\n",
       "      <td>6.0</td>\n",
       "      <td>17.00</td>\n",
       "      <td>1</td>\n",
       "      <td>NaN</td>\n",
       "      <td>...</td>\n",
       "      <td>8.00</td>\n",
       "      <td>0.0</td>\n",
       "      <td>Пушкин</td>\n",
       "      <td>20782.0</td>\n",
       "      <td>30759.0</td>\n",
       "      <td>0.0</td>\n",
       "      <td>NaN</td>\n",
       "      <td>1.0</td>\n",
       "      <td>96.0</td>\n",
       "      <td>203.0</td>\n",
       "    </tr>\n",
       "    <tr>\n",
       "      <th>15</th>\n",
       "      <td>16</td>\n",
       "      <td>4650000.0</td>\n",
       "      <td>39.00</td>\n",
       "      <td>2017-11-18T00:00:00</td>\n",
       "      <td>1</td>\n",
       "      <td>NaN</td>\n",
       "      <td>14.0</td>\n",
       "      <td>20.50</td>\n",
       "      <td>5</td>\n",
       "      <td>NaN</td>\n",
       "      <td>...</td>\n",
       "      <td>7.60</td>\n",
       "      <td>1.0</td>\n",
       "      <td>Санкт-Петербург</td>\n",
       "      <td>12900.0</td>\n",
       "      <td>14259.0</td>\n",
       "      <td>1.0</td>\n",
       "      <td>590.0</td>\n",
       "      <td>1.0</td>\n",
       "      <td>296.0</td>\n",
       "      <td>19.0</td>\n",
       "    </tr>\n",
       "    <tr>\n",
       "      <th>16</th>\n",
       "      <td>11</td>\n",
       "      <td>6700000.0</td>\n",
       "      <td>82.00</td>\n",
       "      <td>2017-11-23T00:00:00</td>\n",
       "      <td>3</td>\n",
       "      <td>3.05</td>\n",
       "      <td>5.0</td>\n",
       "      <td>55.60</td>\n",
       "      <td>1</td>\n",
       "      <td>NaN</td>\n",
       "      <td>...</td>\n",
       "      <td>9.00</td>\n",
       "      <td>NaN</td>\n",
       "      <td>Санкт-Петербург</td>\n",
       "      <td>22108.0</td>\n",
       "      <td>10698.0</td>\n",
       "      <td>3.0</td>\n",
       "      <td>420.0</td>\n",
       "      <td>0.0</td>\n",
       "      <td>NaN</td>\n",
       "      <td>397.0</td>\n",
       "    </tr>\n",
       "    <tr>\n",
       "      <th>17</th>\n",
       "      <td>6</td>\n",
       "      <td>4180000.0</td>\n",
       "      <td>36.00</td>\n",
       "      <td>2016-09-09T00:00:00</td>\n",
       "      <td>1</td>\n",
       "      <td>NaN</td>\n",
       "      <td>17.0</td>\n",
       "      <td>16.50</td>\n",
       "      <td>7</td>\n",
       "      <td>NaN</td>\n",
       "      <td>...</td>\n",
       "      <td>11.00</td>\n",
       "      <td>1.0</td>\n",
       "      <td>Санкт-Петербург</td>\n",
       "      <td>33564.0</td>\n",
       "      <td>14616.0</td>\n",
       "      <td>0.0</td>\n",
       "      <td>NaN</td>\n",
       "      <td>1.0</td>\n",
       "      <td>859.0</td>\n",
       "      <td>571.0</td>\n",
       "    </tr>\n",
       "    <tr>\n",
       "      <th>18</th>\n",
       "      <td>8</td>\n",
       "      <td>3250000.0</td>\n",
       "      <td>31.00</td>\n",
       "      <td>2017-01-27T00:00:00</td>\n",
       "      <td>1</td>\n",
       "      <td>2.50</td>\n",
       "      <td>5.0</td>\n",
       "      <td>19.40</td>\n",
       "      <td>2</td>\n",
       "      <td>NaN</td>\n",
       "      <td>...</td>\n",
       "      <td>5.60</td>\n",
       "      <td>1.0</td>\n",
       "      <td>Санкт-Петербург</td>\n",
       "      <td>44060.0</td>\n",
       "      <td>10842.0</td>\n",
       "      <td>1.0</td>\n",
       "      <td>759.0</td>\n",
       "      <td>0.0</td>\n",
       "      <td>NaN</td>\n",
       "      <td>168.0</td>\n",
       "    </tr>\n",
       "    <tr>\n",
       "      <th>19</th>\n",
       "      <td>16</td>\n",
       "      <td>14200000.0</td>\n",
       "      <td>121.00</td>\n",
       "      <td>2019-01-09T00:00:00</td>\n",
       "      <td>3</td>\n",
       "      <td>2.75</td>\n",
       "      <td>16.0</td>\n",
       "      <td>76.00</td>\n",
       "      <td>8</td>\n",
       "      <td>NaN</td>\n",
       "      <td>...</td>\n",
       "      <td>12.00</td>\n",
       "      <td>NaN</td>\n",
       "      <td>Санкт-Петербург</td>\n",
       "      <td>38900.0</td>\n",
       "      <td>12843.0</td>\n",
       "      <td>0.0</td>\n",
       "      <td>NaN</td>\n",
       "      <td>0.0</td>\n",
       "      <td>NaN</td>\n",
       "      <td>97.0</td>\n",
       "    </tr>\n",
       "  </tbody>\n",
       "</table>\n",
       "<p>20 rows × 22 columns</p>\n",
       "</div>"
      ],
      "text/plain": [
       "    total_images  last_price  total_area first_day_exposition  rooms  \\\n",
       "0             20  13000000.0      108.00  2019-03-07T00:00:00      3   \n",
       "1              7   3350000.0       40.40  2018-12-04T00:00:00      1   \n",
       "2             10   5196000.0       56.00  2015-08-20T00:00:00      2   \n",
       "3              0  64900000.0      159.00  2015-07-24T00:00:00      3   \n",
       "4              2  10000000.0      100.00  2018-06-19T00:00:00      2   \n",
       "5             10   2890000.0       30.40  2018-09-10T00:00:00      1   \n",
       "6              6   3700000.0       37.30  2017-11-02T00:00:00      1   \n",
       "7              5   7915000.0       71.60  2019-04-18T00:00:00      2   \n",
       "8             20   2900000.0       33.16  2018-05-23T00:00:00      1   \n",
       "9             18   5400000.0       61.00  2017-02-26T00:00:00      3   \n",
       "10             5   5050000.0       39.60  2017-11-16T00:00:00      1   \n",
       "11             9   3300000.0       44.00  2018-08-27T00:00:00      2   \n",
       "12            10   3890000.0       54.00  2016-06-30T00:00:00      2   \n",
       "13            20   3550000.0       42.80  2017-07-01T00:00:00      2   \n",
       "14             1   4400000.0       36.00  2016-06-23T00:00:00      1   \n",
       "15            16   4650000.0       39.00  2017-11-18T00:00:00      1   \n",
       "16            11   6700000.0       82.00  2017-11-23T00:00:00      3   \n",
       "17             6   4180000.0       36.00  2016-09-09T00:00:00      1   \n",
       "18             8   3250000.0       31.00  2017-01-27T00:00:00      1   \n",
       "19            16  14200000.0      121.00  2019-01-09T00:00:00      3   \n",
       "\n",
       "    ceiling_height  floors_total  living_area  floor is_apartment  ...  \\\n",
       "0             2.70          16.0        51.00      8          NaN  ...   \n",
       "1              NaN          11.0        18.60      1          NaN  ...   \n",
       "2              NaN           5.0        34.30      4          NaN  ...   \n",
       "3              NaN          14.0          NaN      9          NaN  ...   \n",
       "4             3.03          14.0        32.00     13          NaN  ...   \n",
       "5              NaN          12.0        14.40      5          NaN  ...   \n",
       "6              NaN          26.0        10.60      6          NaN  ...   \n",
       "7              NaN          24.0          NaN     22          NaN  ...   \n",
       "8              NaN          27.0        15.43     26          NaN  ...   \n",
       "9             2.50           9.0        43.60      7          NaN  ...   \n",
       "10            2.67          12.0        20.30      3          NaN  ...   \n",
       "11             NaN           5.0        31.00      4        False  ...   \n",
       "12             NaN           5.0        30.00      5          NaN  ...   \n",
       "13            2.56           5.0        27.00      5          NaN  ...   \n",
       "14             NaN           6.0        17.00      1          NaN  ...   \n",
       "15             NaN          14.0        20.50      5          NaN  ...   \n",
       "16            3.05           5.0        55.60      1          NaN  ...   \n",
       "17             NaN          17.0        16.50      7          NaN  ...   \n",
       "18            2.50           5.0        19.40      2          NaN  ...   \n",
       "19            2.75          16.0        76.00      8          NaN  ...   \n",
       "\n",
       "    kitchen_area  balcony              locality_name  airports_nearest  \\\n",
       "0          25.00      NaN            Санкт-Петербург           18863.0   \n",
       "1          11.00      2.0             посёлок Шушары           12817.0   \n",
       "2           8.30      0.0            Санкт-Петербург           21741.0   \n",
       "3            NaN      0.0            Санкт-Петербург           28098.0   \n",
       "4          41.00      NaN            Санкт-Петербург           31856.0   \n",
       "5           9.10      NaN  городской посёлок Янино-1               NaN   \n",
       "6          14.40      1.0          посёлок Парголово           52996.0   \n",
       "7          18.90      2.0            Санкт-Петербург           23982.0   \n",
       "8           8.81      NaN             посёлок Мурино               NaN   \n",
       "9           6.50      2.0            Санкт-Петербург           50898.0   \n",
       "10          8.50      NaN            Санкт-Петербург           38357.0   \n",
       "11          6.00      1.0                  Ломоносов           48252.0   \n",
       "12          9.00      0.0                  Сертолово               NaN   \n",
       "13          5.20      1.0                   Петергоф           37868.0   \n",
       "14          8.00      0.0                     Пушкин           20782.0   \n",
       "15          7.60      1.0            Санкт-Петербург           12900.0   \n",
       "16          9.00      NaN            Санкт-Петербург           22108.0   \n",
       "17         11.00      1.0            Санкт-Петербург           33564.0   \n",
       "18          5.60      1.0            Санкт-Петербург           44060.0   \n",
       "19         12.00      NaN            Санкт-Петербург           38900.0   \n",
       "\n",
       "   cityCenters_nearest  parks_around3000  parks_nearest  ponds_around3000  \\\n",
       "0              16028.0               1.0          482.0               2.0   \n",
       "1              18603.0               0.0            NaN               0.0   \n",
       "2              13933.0               1.0           90.0               2.0   \n",
       "3               6800.0               2.0           84.0               3.0   \n",
       "4               8098.0               2.0          112.0               1.0   \n",
       "5                  NaN               NaN            NaN               NaN   \n",
       "6              19143.0               0.0            NaN               0.0   \n",
       "7              11634.0               0.0            NaN               0.0   \n",
       "8                  NaN               NaN            NaN               NaN   \n",
       "9              15008.0               0.0            NaN               0.0   \n",
       "10             13878.0               1.0          310.0               2.0   \n",
       "11             51677.0               0.0            NaN               0.0   \n",
       "12                 NaN               NaN            NaN               NaN   \n",
       "13             33058.0               1.0          294.0               3.0   \n",
       "14             30759.0               0.0            NaN               1.0   \n",
       "15             14259.0               1.0          590.0               1.0   \n",
       "16             10698.0               3.0          420.0               0.0   \n",
       "17             14616.0               0.0            NaN               1.0   \n",
       "18             10842.0               1.0          759.0               0.0   \n",
       "19             12843.0               0.0            NaN               0.0   \n",
       "\n",
       "    ponds_nearest  days_exposition  \n",
       "0           755.0              NaN  \n",
       "1             NaN             81.0  \n",
       "2           574.0            558.0  \n",
       "3           234.0            424.0  \n",
       "4            48.0            121.0  \n",
       "5             NaN             55.0  \n",
       "6             NaN            155.0  \n",
       "7             NaN              NaN  \n",
       "8             NaN            189.0  \n",
       "9             NaN            289.0  \n",
       "10          553.0            137.0  \n",
       "11            NaN              7.0  \n",
       "12            NaN             90.0  \n",
       "13          298.0            366.0  \n",
       "14           96.0            203.0  \n",
       "15          296.0             19.0  \n",
       "16            NaN            397.0  \n",
       "17          859.0            571.0  \n",
       "18            NaN            168.0  \n",
       "19            NaN             97.0  \n",
       "\n",
       "[20 rows x 22 columns]"
      ]
     },
     "execution_count": 1,
     "metadata": {},
     "output_type": "execute_result"
    }
   ],
   "source": [
    "import matplotlib.pyplot as plt\n",
    "import pandas as pd\n",
    "try:\n",
    "    data = pd.read_csv('/datasets/data.csv', sep='\\t')\n",
    "except:\n",
    "    data = pd.read_csv('https://code.s3.yandex.net/datasets/data.csv', sep='\\t')\n",
    "\n",
    "data.head(20)"
   ]
  },
  {
   "cell_type": "code",
   "execution_count": 2,
   "metadata": {},
   "outputs": [
    {
     "data": {
      "image/png": "[encoded data removed]",
      "text/plain": [
       "<Figure size 1440x1440 with 20 Axes>"
      ]
     },
     "metadata": {
      "needs_background": "light"
     },
     "output_type": "display_data"
    }
   ],
   "source": [
    "data.hist(figsize=(20, 20));"
   ]
  },
  {
   "cell_type": "code",
   "execution_count": 3,
   "metadata": {},
   "outputs": [
    {
     "data": {
      "text/html": [
       "<div>\n",
       "<style scoped>\n",
       "    .dataframe tbody tr th:only-of-type {\n",
       "        vertical-align: middle;\n",
       "    }\n",
       "\n",
       "    .dataframe tbody tr th {\n",
       "        vertical-align: top;\n",
       "    }\n",
       "\n",
       "    .dataframe thead th {\n",
       "        text-align: right;\n",
       "    }\n",
       "</style>\n",
       "<table border=\"1\" class=\"dataframe\">\n",
       "  <thead>\n",
       "    <tr style=\"text-align: right;\">\n",
       "      <th></th>\n",
       "      <th>total_images</th>\n",
       "      <th>last_price</th>\n",
       "      <th>total_area</th>\n",
       "      <th>rooms</th>\n",
       "      <th>ceiling_height</th>\n",
       "      <th>floors_total</th>\n",
       "      <th>living_area</th>\n",
       "      <th>floor</th>\n",
       "      <th>kitchen_area</th>\n",
       "      <th>balcony</th>\n",
       "      <th>airports_nearest</th>\n",
       "      <th>cityCenters_nearest</th>\n",
       "      <th>parks_around3000</th>\n",
       "      <th>parks_nearest</th>\n",
       "      <th>ponds_around3000</th>\n",
       "      <th>ponds_nearest</th>\n",
       "      <th>days_exposition</th>\n",
       "    </tr>\n",
       "  </thead>\n",
       "  <tbody>\n",
       "    <tr>\n",
       "      <th>count</th>\n",
       "      <td>23699.000000</td>\n",
       "      <td>2.369900e+04</td>\n",
       "      <td>23699.000000</td>\n",
       "      <td>23699.000000</td>\n",
       "      <td>14504.000000</td>\n",
       "      <td>23613.000000</td>\n",
       "      <td>21796.000000</td>\n",
       "      <td>23699.000000</td>\n",
       "      <td>21421.000000</td>\n",
       "      <td>12180.000000</td>\n",
       "      <td>18157.000000</td>\n",
       "      <td>18180.000000</td>\n",
       "      <td>18181.000000</td>\n",
       "      <td>8079.000000</td>\n",
       "      <td>18181.000000</td>\n",
       "      <td>9110.000000</td>\n",
       "      <td>20518.000000</td>\n",
       "    </tr>\n",
       "    <tr>\n",
       "      <th>mean</th>\n",
       "      <td>9.858475</td>\n",
       "      <td>6.541549e+06</td>\n",
       "      <td>60.348651</td>\n",
       "      <td>2.070636</td>\n",
       "      <td>2.771499</td>\n",
       "      <td>10.673824</td>\n",
       "      <td>34.457852</td>\n",
       "      <td>5.892358</td>\n",
       "      <td>10.569807</td>\n",
       "      <td>1.150082</td>\n",
       "      <td>28793.672193</td>\n",
       "      <td>14191.277833</td>\n",
       "      <td>0.611408</td>\n",
       "      <td>490.804555</td>\n",
       "      <td>0.770255</td>\n",
       "      <td>517.980900</td>\n",
       "      <td>180.888634</td>\n",
       "    </tr>\n",
       "    <tr>\n",
       "      <th>std</th>\n",
       "      <td>5.682529</td>\n",
       "      <td>1.088701e+07</td>\n",
       "      <td>35.654083</td>\n",
       "      <td>1.078405</td>\n",
       "      <td>1.261056</td>\n",
       "      <td>6.597173</td>\n",
       "      <td>22.030445</td>\n",
       "      <td>4.885249</td>\n",
       "      <td>5.905438</td>\n",
       "      <td>1.071300</td>\n",
       "      <td>12630.880622</td>\n",
       "      <td>8608.386210</td>\n",
       "      <td>0.802074</td>\n",
       "      <td>342.317995</td>\n",
       "      <td>0.938346</td>\n",
       "      <td>277.720643</td>\n",
       "      <td>219.727988</td>\n",
       "    </tr>\n",
       "    <tr>\n",
       "      <th>min</th>\n",
       "      <td>0.000000</td>\n",
       "      <td>1.219000e+04</td>\n",
       "      <td>12.000000</td>\n",
       "      <td>0.000000</td>\n",
       "      <td>1.000000</td>\n",
       "      <td>1.000000</td>\n",
       "      <td>2.000000</td>\n",
       "      <td>1.000000</td>\n",
       "      <td>1.300000</td>\n",
       "      <td>0.000000</td>\n",
       "      <td>0.000000</td>\n",
       "      <td>181.000000</td>\n",
       "      <td>0.000000</td>\n",
       "      <td>1.000000</td>\n",
       "      <td>0.000000</td>\n",
       "      <td>13.000000</td>\n",
       "      <td>1.000000</td>\n",
       "    </tr>\n",
       "    <tr>\n",
       "      <th>25%</th>\n",
       "      <td>6.000000</td>\n",
       "      <td>3.400000e+06</td>\n",
       "      <td>40.000000</td>\n",
       "      <td>1.000000</td>\n",
       "      <td>2.520000</td>\n",
       "      <td>5.000000</td>\n",
       "      <td>18.600000</td>\n",
       "      <td>2.000000</td>\n",
       "      <td>7.000000</td>\n",
       "      <td>0.000000</td>\n",
       "      <td>18585.000000</td>\n",
       "      <td>9238.000000</td>\n",
       "      <td>0.000000</td>\n",
       "      <td>288.000000</td>\n",
       "      <td>0.000000</td>\n",
       "      <td>294.000000</td>\n",
       "      <td>45.000000</td>\n",
       "    </tr>\n",
       "    <tr>\n",
       "      <th>50%</th>\n",
       "      <td>9.000000</td>\n",
       "      <td>4.650000e+06</td>\n",
       "      <td>52.000000</td>\n",
       "      <td>2.000000</td>\n",
       "      <td>2.650000</td>\n",
       "      <td>9.000000</td>\n",
       "      <td>30.000000</td>\n",
       "      <td>4.000000</td>\n",
       "      <td>9.100000</td>\n",
       "      <td>1.000000</td>\n",
       "      <td>26726.000000</td>\n",
       "      <td>13098.500000</td>\n",
       "      <td>0.000000</td>\n",
       "      <td>455.000000</td>\n",
       "      <td>1.000000</td>\n",
       "      <td>502.000000</td>\n",
       "      <td>95.000000</td>\n",
       "    </tr>\n",
       "    <tr>\n",
       "      <th>75%</th>\n",
       "      <td>14.000000</td>\n",
       "      <td>6.800000e+06</td>\n",
       "      <td>69.900000</td>\n",
       "      <td>3.000000</td>\n",
       "      <td>2.800000</td>\n",
       "      <td>16.000000</td>\n",
       "      <td>42.300000</td>\n",
       "      <td>8.000000</td>\n",
       "      <td>12.000000</td>\n",
       "      <td>2.000000</td>\n",
       "      <td>37273.000000</td>\n",
       "      <td>16293.000000</td>\n",
       "      <td>1.000000</td>\n",
       "      <td>612.000000</td>\n",
       "      <td>1.000000</td>\n",
       "      <td>729.000000</td>\n",
       "      <td>232.000000</td>\n",
       "    </tr>\n",
       "    <tr>\n",
       "      <th>max</th>\n",
       "      <td>50.000000</td>\n",
       "      <td>7.630000e+08</td>\n",
       "      <td>900.000000</td>\n",
       "      <td>19.000000</td>\n",
       "      <td>100.000000</td>\n",
       "      <td>60.000000</td>\n",
       "      <td>409.700000</td>\n",
       "      <td>33.000000</td>\n",
       "      <td>112.000000</td>\n",
       "      <td>5.000000</td>\n",
       "      <td>84869.000000</td>\n",
       "      <td>65968.000000</td>\n",
       "      <td>3.000000</td>\n",
       "      <td>3190.000000</td>\n",
       "      <td>3.000000</td>\n",
       "      <td>1344.000000</td>\n",
       "      <td>1580.000000</td>\n",
       "    </tr>\n",
       "  </tbody>\n",
       "</table>\n",
       "</div>"
      ],
      "text/plain": [
       "       total_images    last_price    total_area         rooms  ceiling_height  \\\n",
       "count  23699.000000  2.369900e+04  23699.000000  23699.000000    14504.000000   \n",
       "mean       9.858475  6.541549e+06     60.348651      2.070636        2.771499   \n",
       "std        5.682529  1.088701e+07     35.654083      1.078405        1.261056   \n",
       "min        0.000000  1.219000e+04     12.000000      0.000000        1.000000   \n",
       "25%        6.000000  3.400000e+06     40.000000      1.000000        2.520000   \n",
       "50%        9.000000  4.650000e+06     52.000000      2.000000        2.650000   \n",
       "75%       14.000000  6.800000e+06     69.900000      3.000000        2.800000   \n",
       "max       50.000000  7.630000e+08    900.000000     19.000000      100.000000   \n",
       "\n",
       "       floors_total   living_area         floor  kitchen_area       balcony  \\\n",
       "count  23613.000000  21796.000000  23699.000000  21421.000000  12180.000000   \n",
       "mean      10.673824     34.457852      5.892358     10.569807      1.150082   \n",
       "std        6.597173     22.030445      4.885249      5.905438      1.071300   \n",
       "min        1.000000      2.000000      1.000000      1.300000      0.000000   \n",
       "25%        5.000000     18.600000      2.000000      7.000000      0.000000   \n",
       "50%        9.000000     30.000000      4.000000      9.100000      1.000000   \n",
       "75%       16.000000     42.300000      8.000000     12.000000      2.000000   \n",
       "max       60.000000    409.700000     33.000000    112.000000      5.000000   \n",
       "\n",
       "       airports_nearest  cityCenters_nearest  parks_around3000  parks_nearest  \\\n",
       "count      18157.000000         18180.000000      18181.000000    8079.000000   \n",
       "mean       28793.672193         14191.277833          0.611408     490.804555   \n",
       "std        12630.880622          8608.386210          0.802074     342.317995   \n",
       "min            0.000000           181.000000          0.000000       1.000000   \n",
       "25%        18585.000000          9238.000000          0.000000     288.000000   \n",
       "50%        26726.000000         13098.500000          0.000000     455.000000   \n",
       "75%        37273.000000         16293.000000          1.000000     612.000000   \n",
       "max        84869.000000         65968.000000          3.000000    3190.000000   \n",
       "\n",
       "       ponds_around3000  ponds_nearest  days_exposition  \n",
       "count      18181.000000    9110.000000     20518.000000  \n",
       "mean           0.770255     517.980900       180.888634  \n",
       "std            0.938346     277.720643       219.727988  \n",
       "min            0.000000      13.000000         1.000000  \n",
       "25%            0.000000     294.000000        45.000000  \n",
       "50%            1.000000     502.000000        95.000000  \n",
       "75%            1.000000     729.000000       232.000000  \n",
       "max            3.000000    1344.000000      1580.000000  "
      ]
     },
     "execution_count": 3,
     "metadata": {},
     "output_type": "execute_result"
    }
   ],
   "source": [
    "data.describe()"
   ]
  },
  {
   "cell_type": "code",
   "execution_count": 4,
   "metadata": {},
   "outputs": [
    {
     "name": "stdout",
     "output_type": "stream",
     "text": [
      "<class 'pandas.core.frame.DataFrame'>\n",
      "RangeIndex: 23699 entries, 0 to 23698\n",
      "Data columns (total 22 columns):\n",
      " #   Column                Non-Null Count  Dtype  \n",
      "---  ------                --------------  -----  \n",
      " 0   total_images          23699 non-null  int64  \n",
      " 1   last_price            23699 non-null  float64\n",
      " 2   total_area            23699 non-null  float64\n",
      " 3   first_day_exposition  23699 non-null  object \n",
      " 4   rooms                 23699 non-null  int64  \n",
      " 5   ceiling_height        14504 non-null  float64\n",
      " 6   floors_total          23613 non-null  float64\n",
      " 7   living_area           21796 non-null  float64\n",
      " 8   floor                 23699 non-null  int64  \n",
      " 9   is_apartment          2775 non-null   object \n",
      " 10  studio                23699 non-null  bool   \n",
      " 11  open_plan             23699 non-null  bool   \n",
      " 12  kitchen_area          21421 non-null  float64\n",
      " 13  balcony               12180 non-null  float64\n",
      " 14  locality_name         23650 non-null  object \n",
      " 15  airports_nearest      18157 non-null  float64\n",
      " 16  cityCenters_nearest   18180 non-null  float64\n",
      " 17  parks_around3000      18181 non-null  float64\n",
      " 18  parks_nearest         8079 non-null   float64\n",
      " 19  ponds_around3000      18181 non-null  float64\n",
      " 20  ponds_nearest         9110 non-null   float64\n",
      " 21  days_exposition       20518 non-null  float64\n",
      "dtypes: bool(2), float64(14), int64(3), object(3)\n",
      "memory usage: 3.7+ MB\n"
     ]
    }
   ],
   "source": [
    "data.info()"
   ]
  },
  {
   "cell_type": "markdown",
   "metadata": {},
   "source": [
    "**Вывод:**    \n",
    "    \n",
    "В этой части мы изучили общую информацию о датафрейме с помощью гистограмм, метода describe() и метода info(), выяснили, какой объем данных, какие показатели есть в таблице, какие типы столбцов, где есть пропуски, и т.д. На основании этой информации будем обрабатывать данные ниже."
   ]
  },
  {
   "cell_type": "markdown",
   "metadata": {},
   "source": [
    "### Предобработка данных"
   ]
  },
  {
   "cell_type": "markdown",
   "metadata": {},
   "source": [
    "**Аномалии в данных**"
   ]
  },
  {
   "cell_type": "code",
   "execution_count": 5,
   "metadata": {},
   "outputs": [],
   "source": [
    "# Удаляем строки с аномальными значениями, вероятнее всего это ошибки\n",
    "data = data[data['total_area'] < 300]\n",
    "data = data[data['rooms'] != 19]\n",
    "data = data[data['ceiling_height'] != 100]\n",
    "data.loc[(data['ceiling_height'] > 20), 'ceiling_height'] = data.loc[(data['ceiling_height'] > 20), 'ceiling_height'] /10\n",
    "data = data[data['floors_total'] < 36]\n",
    "data = data[data['days_exposition'] < 1500]\n",
    "data = data[data['living_area'] > 8] # это нагуглила как минимальную жилую площадь у ПИКа\n",
    "data = data[data['living_area'] < 200]\n",
    "data = data[data['kitchen_area'] < 60]\n",
    "data = data[data['last_price'] < 300000000]\n",
    "data = data[data['last_price'] > 1000000]"
   ]
  },
  {
   "cell_type": "markdown",
   "metadata": {},
   "source": [
    "**Пропуски и типы столбцов**"
   ]
  },
  {
   "cell_type": "code",
   "execution_count": 6,
   "metadata": {},
   "outputs": [
    {
     "name": "stdout",
     "output_type": "stream",
     "text": [
      "<class 'pandas.core.frame.DataFrame'>\n",
      "Int64Index: 17834 entries, 1 to 23695\n",
      "Data columns (total 22 columns):\n",
      " #   Column                Non-Null Count  Dtype         \n",
      "---  ------                --------------  -----         \n",
      " 0   total_images          17834 non-null  int64         \n",
      " 1   last_price            17834 non-null  float64       \n",
      " 2   total_area            17834 non-null  float64       \n",
      " 3   first_day_exposition  17834 non-null  datetime64[ns]\n",
      " 4   rooms                 17834 non-null  int64         \n",
      " 5   ceiling_height        17834 non-null  float64       \n",
      " 6   floors_total          17834 non-null  int64         \n",
      " 7   living_area           17834 non-null  float64       \n",
      " 8   floor                 17834 non-null  int64         \n",
      " 9   is_apartment          17834 non-null  bool          \n",
      " 10  studio                17834 non-null  bool          \n",
      " 11  open_plan             17834 non-null  bool          \n",
      " 12  kitchen_area          17834 non-null  float64       \n",
      " 13  balcony               17834 non-null  int64         \n",
      " 14  locality_name         17834 non-null  object        \n",
      " 15  airports_nearest      14090 non-null  float64       \n",
      " 16  cityCenters_nearest   14108 non-null  float64       \n",
      " 17  parks_around3000      17834 non-null  int64         \n",
      " 18  parks_nearest         6167 non-null   float64       \n",
      " 19  ponds_around3000      17834 non-null  int64         \n",
      " 20  ponds_nearest         6928 non-null   float64       \n",
      " 21  days_exposition       17834 non-null  int64         \n",
      "dtypes: bool(3), datetime64[ns](1), float64(9), int64(8), object(1)\n",
      "memory usage: 2.8+ MB\n"
     ]
    }
   ],
   "source": [
    "data['first_day_exposition'] = pd.to_datetime(data['first_day_exposition'], format='%Y-%m-%dT%H:%M:%S')\n",
    "\n",
    "# Заполняем пропуски в ceiling_height медианным значением по столбцу\n",
    "data['ceiling_height'] = data['ceiling_height'].fillna(data['ceiling_height'].median())\n",
    "\n",
    "data['floors_total'] = data['floors_total'].fillna('unknown')\n",
    "data['floors_total'] = data['floors_total'].astype(int)\n",
    "\n",
    "# Проверяем пропуски в is_apartment, судя по другим параметрам, это обычные квартиры, поэтому заменим пропуски на False\n",
    "data['is_apartment'] = data['is_apartment'].fillna(value=False)\n",
    "data['is_apartment'] = data['is_apartment'].astype(bool)\n",
    "\n",
    "# Для объектов с нулевым кол-вом комнат ставим вместо NaN нулевое значение в kitchen_area \n",
    "data.loc[data['rooms'] == 0, 'kitchen_area'] = 0 \n",
    "for t in data['rooms'].unique():\n",
    "        data.loc[(data['rooms'] == t) & (data['kitchen_area'].isna()), 'kitchen_area'] = \\\n",
    "        data.loc[(data['rooms'] == t), 'kitchen_area'].median()\n",
    "        \n",
    "for t in data['rooms'].unique():\n",
    "        data.loc[(data['rooms'] == t) & (data['living_area'].isna()), 'living_area'] = \\\n",
    "        data.loc[(data['rooms'] == t), 'living_area'].mean()\n",
    "        \n",
    "# Пропуск - скорее всего балкона нет\n",
    "data['balcony'] = data['balcony'].fillna(0)\n",
    "data['balcony'] = data['balcony'].astype(int)\n",
    "\n",
    "data['locality_name'] = data['locality_name'].fillna('unknown')\n",
    "data['locality_name'] = data['locality_name'].str.replace('ё', 'е')\n",
    "data['locality_name'] = data['locality_name'].str.replace('городской поселок', 'пгт')\n",
    "data['locality_name'] = data['locality_name'].str.replace('поселок городского типа', 'пгт')\n",
    "data['locality_name'] = data['locality_name'].str.replace('поселок', 'пгт')\n",
    "\n",
    "# Одинаковое кол-во пропусков в парках и водоёмах, скорее всего их нет и можно заменить на ноль\n",
    "data['parks_around3000'] = data['parks_around3000'].fillna(0)\n",
    "data['parks_around3000'] = data['parks_around3000'].astype(int)\n",
    "data['ponds_around3000'] = data['ponds_around3000'].fillna(0)\n",
    "data['ponds_around3000'] = data['ponds_around3000'].astype(int)\n",
    "\n",
    "data['days_exposition'] = data['days_exposition'].astype(int)\n",
    "\n",
    "data.info()"
   ]
  },
  {
   "cell_type": "code",
   "execution_count": 7,
   "metadata": {},
   "outputs": [
    {
     "data": {
      "text/plain": [
       "total_images                0\n",
       "last_price                  0\n",
       "total_area                  0\n",
       "first_day_exposition        0\n",
       "rooms                       0\n",
       "ceiling_height              0\n",
       "floors_total                0\n",
       "living_area                 0\n",
       "floor                       0\n",
       "is_apartment                0\n",
       "studio                      0\n",
       "open_plan                   0\n",
       "kitchen_area                0\n",
       "balcony                     0\n",
       "locality_name               0\n",
       "airports_nearest         3744\n",
       "cityCenters_nearest      3726\n",
       "parks_around3000            0\n",
       "parks_nearest           11667\n",
       "ponds_around3000            0\n",
       "ponds_nearest           10906\n",
       "days_exposition             0\n",
       "dtype: int64"
      ]
     },
     "execution_count": 7,
     "metadata": {},
     "output_type": "execute_result"
    }
   ],
   "source": [
    "data.isna().sum()"
   ]
  },
  {
   "cell_type": "markdown",
   "metadata": {},
   "source": [
    "**Вывод:**    \n",
    "    \n",
    " Данные очистили от аномальных значений, пропуски заполнили. Оставшиеся пропуски нет возможности заполнить, скорее всего они не повлияют на результаты исследования критично, поэтому оставим их."
   ]
  },
  {
   "cell_type": "code",
   "execution_count": 8,
   "metadata": {},
   "outputs": [
    {
     "data": {
      "image/png": "[encoded data removed]",
      "text/plain": [
       "<Figure size 432x288 with 1 Axes>"
      ]
     },
     "metadata": {
      "needs_background": "light"
     },
     "output_type": "display_data"
    }
   ],
   "source": [
    "#код ревьюера\n",
    "data2 = pd.read_csv('/datasets/real_estate_data.csv', sep='\\t')\n",
    "(data2['total_area']).hist(bins=30);"
   ]
  },
  {
   "cell_type": "markdown",
   "metadata": {},
   "source": [
    "### Посчитайте и добавьте в таблицу новые столбцы"
   ]
  },
  {
   "cell_type": "code",
   "execution_count": 9,
   "metadata": {},
   "outputs": [
    {
     "data": {
      "text/html": [
       "<div>\n",
       "<style scoped>\n",
       "    .dataframe tbody tr th:only-of-type {\n",
       "        vertical-align: middle;\n",
       "    }\n",
       "\n",
       "    .dataframe tbody tr th {\n",
       "        vertical-align: top;\n",
       "    }\n",
       "\n",
       "    .dataframe thead th {\n",
       "        text-align: right;\n",
       "    }\n",
       "</style>\n",
       "<table border=\"1\" class=\"dataframe\">\n",
       "  <thead>\n",
       "    <tr style=\"text-align: right;\">\n",
       "      <th></th>\n",
       "      <th>total_images</th>\n",
       "      <th>last_price</th>\n",
       "      <th>total_area</th>\n",
       "      <th>first_day_exposition</th>\n",
       "      <th>rooms</th>\n",
       "      <th>ceiling_height</th>\n",
       "      <th>floors_total</th>\n",
       "      <th>living_area</th>\n",
       "      <th>floor</th>\n",
       "      <th>is_apartment</th>\n",
       "      <th>...</th>\n",
       "      <th>parks_nearest</th>\n",
       "      <th>ponds_around3000</th>\n",
       "      <th>ponds_nearest</th>\n",
       "      <th>days_exposition</th>\n",
       "      <th>square_meter_price</th>\n",
       "      <th>weekday</th>\n",
       "      <th>month</th>\n",
       "      <th>year</th>\n",
       "      <th>floor_category</th>\n",
       "      <th>city_center_km</th>\n",
       "    </tr>\n",
       "  </thead>\n",
       "  <tbody>\n",
       "    <tr>\n",
       "      <th>1</th>\n",
       "      <td>7</td>\n",
       "      <td>3350000.0</td>\n",
       "      <td>40.4</td>\n",
       "      <td>2018-12-04</td>\n",
       "      <td>1</td>\n",
       "      <td>2.65</td>\n",
       "      <td>11</td>\n",
       "      <td>18.6</td>\n",
       "      <td>1</td>\n",
       "      <td>False</td>\n",
       "      <td>...</td>\n",
       "      <td>NaN</td>\n",
       "      <td>0</td>\n",
       "      <td>NaN</td>\n",
       "      <td>81</td>\n",
       "      <td>82920</td>\n",
       "      <td>1</td>\n",
       "      <td>12</td>\n",
       "      <td>2018</td>\n",
       "      <td>первый</td>\n",
       "      <td>19.0</td>\n",
       "    </tr>\n",
       "    <tr>\n",
       "      <th>2</th>\n",
       "      <td>10</td>\n",
       "      <td>5196000.0</td>\n",
       "      <td>56.0</td>\n",
       "      <td>2015-08-20</td>\n",
       "      <td>2</td>\n",
       "      <td>2.65</td>\n",
       "      <td>5</td>\n",
       "      <td>34.3</td>\n",
       "      <td>4</td>\n",
       "      <td>False</td>\n",
       "      <td>...</td>\n",
       "      <td>90.0</td>\n",
       "      <td>2</td>\n",
       "      <td>574.0</td>\n",
       "      <td>558</td>\n",
       "      <td>92785</td>\n",
       "      <td>3</td>\n",
       "      <td>8</td>\n",
       "      <td>2015</td>\n",
       "      <td>другой</td>\n",
       "      <td>14.0</td>\n",
       "    </tr>\n",
       "    <tr>\n",
       "      <th>4</th>\n",
       "      <td>2</td>\n",
       "      <td>10000000.0</td>\n",
       "      <td>100.0</td>\n",
       "      <td>2018-06-19</td>\n",
       "      <td>2</td>\n",
       "      <td>3.03</td>\n",
       "      <td>14</td>\n",
       "      <td>32.0</td>\n",
       "      <td>13</td>\n",
       "      <td>False</td>\n",
       "      <td>...</td>\n",
       "      <td>112.0</td>\n",
       "      <td>1</td>\n",
       "      <td>48.0</td>\n",
       "      <td>121</td>\n",
       "      <td>100000</td>\n",
       "      <td>1</td>\n",
       "      <td>6</td>\n",
       "      <td>2018</td>\n",
       "      <td>другой</td>\n",
       "      <td>8.0</td>\n",
       "    </tr>\n",
       "    <tr>\n",
       "      <th>5</th>\n",
       "      <td>10</td>\n",
       "      <td>2890000.0</td>\n",
       "      <td>30.4</td>\n",
       "      <td>2018-09-10</td>\n",
       "      <td>1</td>\n",
       "      <td>2.65</td>\n",
       "      <td>12</td>\n",
       "      <td>14.4</td>\n",
       "      <td>5</td>\n",
       "      <td>False</td>\n",
       "      <td>...</td>\n",
       "      <td>NaN</td>\n",
       "      <td>0</td>\n",
       "      <td>NaN</td>\n",
       "      <td>55</td>\n",
       "      <td>95065</td>\n",
       "      <td>0</td>\n",
       "      <td>9</td>\n",
       "      <td>2018</td>\n",
       "      <td>другой</td>\n",
       "      <td>NaN</td>\n",
       "    </tr>\n",
       "    <tr>\n",
       "      <th>6</th>\n",
       "      <td>6</td>\n",
       "      <td>3700000.0</td>\n",
       "      <td>37.3</td>\n",
       "      <td>2017-11-02</td>\n",
       "      <td>1</td>\n",
       "      <td>2.65</td>\n",
       "      <td>26</td>\n",
       "      <td>10.6</td>\n",
       "      <td>6</td>\n",
       "      <td>False</td>\n",
       "      <td>...</td>\n",
       "      <td>NaN</td>\n",
       "      <td>0</td>\n",
       "      <td>NaN</td>\n",
       "      <td>155</td>\n",
       "      <td>99195</td>\n",
       "      <td>3</td>\n",
       "      <td>11</td>\n",
       "      <td>2017</td>\n",
       "      <td>другой</td>\n",
       "      <td>19.0</td>\n",
       "    </tr>\n",
       "  </tbody>\n",
       "</table>\n",
       "<p>5 rows × 28 columns</p>\n",
       "</div>"
      ],
      "text/plain": [
       "   total_images  last_price  total_area first_day_exposition  rooms  \\\n",
       "1             7   3350000.0        40.4           2018-12-04      1   \n",
       "2            10   5196000.0        56.0           2015-08-20      2   \n",
       "4             2  10000000.0       100.0           2018-06-19      2   \n",
       "5            10   2890000.0        30.4           2018-09-10      1   \n",
       "6             6   3700000.0        37.3           2017-11-02      1   \n",
       "\n",
       "   ceiling_height  floors_total  living_area  floor  is_apartment  ...  \\\n",
       "1            2.65            11         18.6      1         False  ...   \n",
       "2            2.65             5         34.3      4         False  ...   \n",
       "4            3.03            14         32.0     13         False  ...   \n",
       "5            2.65            12         14.4      5         False  ...   \n",
       "6            2.65            26         10.6      6         False  ...   \n",
       "\n",
       "   parks_nearest  ponds_around3000  ponds_nearest  days_exposition  \\\n",
       "1            NaN                 0            NaN               81   \n",
       "2           90.0                 2          574.0              558   \n",
       "4          112.0                 1           48.0              121   \n",
       "5            NaN                 0            NaN               55   \n",
       "6            NaN                 0            NaN              155   \n",
       "\n",
       "  square_meter_price  weekday  month  year  floor_category  city_center_km  \n",
       "1              82920        1     12  2018          первый            19.0  \n",
       "2              92785        3      8  2015          другой            14.0  \n",
       "4             100000        1      6  2018          другой             8.0  \n",
       "5              95065        0      9  2018          другой             NaN  \n",
       "6              99195        3     11  2017          другой            19.0  \n",
       "\n",
       "[5 rows x 28 columns]"
      ]
     },
     "execution_count": 9,
     "metadata": {},
     "output_type": "execute_result"
    }
   ],
   "source": [
    "# Цена одного квадратного метра\n",
    "data['square_meter_price'] = (data['last_price'] / data['total_area']).astype(int)\n",
    "\n",
    "# День недели, месяц и год публикации\n",
    "data['weekday'] = data['first_day_exposition'].dt.weekday\n",
    "data['month'] = data['first_day_exposition'].dt.month\n",
    "data['year'] = data['first_day_exposition'].dt.year\n",
    "\n",
    "# Разбиваем данные по \"этажным\" категориям\n",
    "def categorize_floor(row):\n",
    "    try:\n",
    "        if row['floor'] == 1:\n",
    "            return 'первый'\n",
    "        elif row['floor'] == row['floors_total']:\n",
    "            return 'последний'\n",
    "        else:\n",
    "            return 'другой'\n",
    "    except:\n",
    "        return 'нет категории'\n",
    "data['floor_category'] = data.apply(categorize_floor, axis=1)\n",
    "\n",
    "# Расстояние до центра города в км\n",
    "data['city_center_km'] = (data['cityCenters_nearest'] / 1000).round()\n",
    "\n",
    "data.head()"
   ]
  },
  {
   "cell_type": "markdown",
   "metadata": {},
   "source": [
    "**Вывод:**\n",
    "\n",
    "Для исследовательского анализа и ответа на вопрос о взаимосвязях на рынке недвижимости нам понадобятся выведенные показатели, внесли их в общую таблицу с данными data"
   ]
  },
  {
   "cell_type": "markdown",
   "metadata": {},
   "source": [
    "### Проведите исследовательский анализ данных"
   ]
  },
  {
   "cell_type": "markdown",
   "metadata": {},
   "source": [
    "**Изучение параметров объектов**"
   ]
  },
  {
   "cell_type": "code",
   "execution_count": 10,
   "metadata": {},
   "outputs": [
    {
     "data": {
      "text/plain": [
       "count    17834.000000\n",
       "mean        58.364950\n",
       "std         28.486391\n",
       "min         14.000000\n",
       "25%         40.000000\n",
       "50%         51.000000\n",
       "75%         68.000000\n",
       "max        297.500000\n",
       "Name: total_area, dtype: float64"
      ]
     },
     "execution_count": 10,
     "metadata": {},
     "output_type": "execute_result"
    },
    {
     "data": {
      "image/png": "[encoded data removed]",
      "text/plain": [
       "<Figure size 432x288 with 1 Axes>"
      ]
     },
     "metadata": {
      "needs_background": "light"
     },
     "output_type": "display_data"
    }
   ],
   "source": [
    "# Общая площадь\n",
    "data['total_area'].plot(bins=30, range=(5, 150), kind='hist', title='Общая площадь', grid=True, color='#00B358')\n",
    "data['total_area'].describe()"
   ]
  },
  {
   "cell_type": "markdown",
   "metadata": {},
   "source": [
    " - Большая часть продаваемых квартир находится в диапазоне от 30 до 100 квадратных метров\n",
    " - С площадью выше 100 м квартиры встречаются гораздо реже"
   ]
  },
  {
   "cell_type": "code",
   "execution_count": 11,
   "metadata": {},
   "outputs": [
    {
     "data": {
      "text/plain": [
       "count    17834.000000\n",
       "mean        33.296500\n",
       "std         18.774902\n",
       "min          8.400000\n",
       "25%         18.500000\n",
       "50%         30.000000\n",
       "75%         41.900000\n",
       "max        195.000000\n",
       "Name: living_area, dtype: float64"
      ]
     },
     "execution_count": 11,
     "metadata": {},
     "output_type": "execute_result"
    },
    {
     "data": {
      "image/png": "[encoded data removed]",
      "text/plain": [
       "<Figure size 432x288 with 1 Axes>"
      ]
     },
     "metadata": {
      "needs_background": "light"
     },
     "output_type": "display_data"
    }
   ],
   "source": [
    "# Жилая площадь\n",
    "data['living_area'].plot(bins=30, range=(5, 150), kind='hist', title='Жилая площадь', grid=True, color='#00B358')\n",
    "data['living_area'].describe()"
   ]
  },
  {
   "cell_type": "markdown",
   "metadata": {},
   "source": [
    " - Пик приходится на жилую площадь размером 15-20 кв.м, это самая распространенная величина по квартирам\n",
    " - Выглядит вполне логично, учитывая, что  пик общей площади находится в диапазоне 30-45 кв.м"
   ]
  },
  {
   "cell_type": "code",
   "execution_count": 12,
   "metadata": {},
   "outputs": [
    {
     "data": {
      "text/plain": [
       "count    17834.000000\n",
       "mean        10.280164\n",
       "std          5.001532\n",
       "min          2.000000\n",
       "25%          7.000000\n",
       "50%          9.000000\n",
       "75%         11.800000\n",
       "max         58.400000\n",
       "Name: kitchen_area, dtype: float64"
      ]
     },
     "execution_count": 12,
     "metadata": {},
     "output_type": "execute_result"
    },
    {
     "data": {
      "image/png": "[encoded data removed]",
      "text/plain": [
       "<Figure size 432x288 with 1 Axes>"
      ]
     },
     "metadata": {
      "needs_background": "light"
     },
     "output_type": "display_data"
    }
   ],
   "source": [
    "# Площадь кухни\n",
    "data['kitchen_area'].plot(bins=30, range=(5, 50), kind='hist', title='Площадь кухни', grid=True, color='#00B358')\n",
    "data['kitchen_area'].describe()"
   ]
  },
  {
   "cell_type": "markdown",
   "metadata": {},
   "source": [
    " - Площадь большого количества кухонь близка к нулю, такой результат может быть из-за того, что среди объектов есть студии, в которых отдельно площадь кухни не считается.\n",
    " - Средний размер кухни составляет 9-11 кв.м, выше 20 кв.м встречаются очень редко "
   ]
  },
  {
   "cell_type": "code",
   "execution_count": 13,
   "metadata": {},
   "outputs": [
    {
     "data": {
      "text/plain": [
       "count   17,834.00\n",
       "mean         6.04\n",
       "std          6.78\n",
       "min          1.01\n",
       "25%          3.50\n",
       "50%          4.60\n",
       "75%          6.50\n",
       "max        245.00\n",
       "Name: last_price, dtype: float64"
      ]
     },
     "execution_count": 13,
     "metadata": {},
     "output_type": "execute_result"
    },
    {
     "data": {
      "image/png": "[encoded data removed]",
      "text/plain": [
       "<Figure size 432x288 with 1 Axes>"
      ]
     },
     "metadata": {
      "needs_background": "light"
     },
     "output_type": "display_data"
    }
   ],
   "source": [
    "# Цена объекта\n",
    "pd.options.display.float_format = '{:,.2f}'.format\n",
    "data['last_price'] = data['last_price']/1000000\n",
    "data['last_price'].plot(range=(0, 20), kind='hist', title='Цена объекта', grid=True, color='#00B358')\n",
    "data['last_price'].describe()"
   ]
  },
  {
   "cell_type": "markdown",
   "metadata": {},
   "source": [
    " - Средняя стоимость квартиры от 3.5 до 6.5 млн, небольшое кол-во объектов дороже 7 млн"
   ]
  },
  {
   "cell_type": "code",
   "execution_count": 14,
   "metadata": {},
   "outputs": [
    {
     "data": {
      "text/plain": [
       "count   17,834.00\n",
       "mean         2.04\n",
       "std          1.00\n",
       "min          1.00\n",
       "25%          1.00\n",
       "50%          2.00\n",
       "75%          3.00\n",
       "max         16.00\n",
       "Name: rooms, dtype: float64"
      ]
     },
     "execution_count": 14,
     "metadata": {},
     "output_type": "execute_result"
    },
    {
     "data": {
      "image/png": "[encoded data removed]",
      "text/plain": [
       "<Figure size 432x288 with 1 Axes>"
      ]
     },
     "metadata": {
      "needs_background": "light"
     },
     "output_type": "display_data"
    }
   ],
   "source": [
    "# Количество комнат\n",
    "data['rooms'].plot(bins=20, kind='hist', title='Количество комнат', grid=True, color='#00B358')\n",
    "data['rooms'].describe()"
   ]
  },
  {
   "cell_type": "markdown",
   "metadata": {},
   "source": [
    " - В среднем большинство продаваемых объектов имеют 1-3 комнаты, небольшое кол-во объектов с 4-5 комнатами. \n",
    " - Если комнат больше,то вожможно это объединенные квартиры или частный дом\n",
    " - Имеется аномальное значение в 16 комнат"
   ]
  },
  {
   "cell_type": "code",
   "execution_count": 15,
   "metadata": {},
   "outputs": [
    {
     "data": {
      "text/plain": [
       "count   17,834.00\n",
       "mean         2.69\n",
       "std          0.24\n",
       "min          1.00\n",
       "25%          2.60\n",
       "50%          2.65\n",
       "75%          2.70\n",
       "max         14.00\n",
       "Name: ceiling_height, dtype: float64"
      ]
     },
     "execution_count": 15,
     "metadata": {},
     "output_type": "execute_result"
    },
    {
     "data": {
      "image/png": "[encoded data removed]",
      "text/plain": [
       "<Figure size 432x288 with 1 Axes>"
      ]
     },
     "metadata": {
      "needs_background": "light"
     },
     "output_type": "display_data"
    }
   ],
   "source": [
    "# Высота потолков\n",
    "data['ceiling_height'].plot(range=(0, 8), kind='hist', title='Высота потолков', grid=True, color='#00B358')\n",
    "data['ceiling_height'].describe()"
   ]
  },
  {
   "cell_type": "markdown",
   "metadata": {},
   "source": [
    " - Высота потолков выглядит нормальной, в среднем 2.6 м\n",
    " - Есть несколько выбивающихся значений, их не слишком много, возможно какие-то редкие объекты"
   ]
  },
  {
   "cell_type": "code",
   "execution_count": 16,
   "metadata": {},
   "outputs": [
    {
     "data": {
      "text/plain": [
       "count   17,834.00\n",
       "mean         5.96\n",
       "std          4.87\n",
       "min          1.00\n",
       "25%          2.00\n",
       "50%          4.00\n",
       "75%          8.00\n",
       "max         33.00\n",
       "Name: floor, dtype: float64"
      ]
     },
     "execution_count": 16,
     "metadata": {},
     "output_type": "execute_result"
    },
    {
     "data": {
      "image/png": "[encoded data removed]",
      "text/plain": [
       "<Figure size 432x288 with 1 Axes>"
      ]
     },
     "metadata": {
      "needs_background": "light"
     },
     "output_type": "display_data"
    }
   ],
   "source": [
    "# Этаж квартиры\n",
    "data['floor'].plot(range=(0, 35), kind='hist', title='Этаж квартиры', grid=True, color='#00B358')\n",
    "data['floor'].describe()"
   ]
  },
  {
   "cell_type": "markdown",
   "metadata": {},
   "source": [
    " - В основном квартриры расположены ниже 10 этажа, большинтсво с 1 по 4 этаж"
   ]
  },
  {
   "cell_type": "code",
   "execution_count": 17,
   "metadata": {},
   "outputs": [
    {
     "data": {
      "text/plain": [
       "count      17834\n",
       "unique         3\n",
       "top       другой\n",
       "freq       13290\n",
       "Name: floor_category, dtype: object"
      ]
     },
     "execution_count": 17,
     "metadata": {},
     "output_type": "execute_result"
    },
    {
     "data": {
      "image/png": "[encoded data removed]",
      "text/plain": [
       "<Figure size 432x288 with 1 Axes>"
      ]
     },
     "metadata": {
      "needs_background": "light"
     },
     "output_type": "display_data"
    }
   ],
   "source": [
    "# Тип этажа квартиры\n",
    "data['floor_category'].hist(grid=True, color='#00B358')\n",
    "data['floor_category'].describe()"
   ]
  },
  {
   "cell_type": "markdown",
   "metadata": {},
   "source": [
    " - В основном объекты расположены между первым и последним этажом\n",
    " - На первом и на последнем примерно одинаковое кол-во объектов"
   ]
  },
  {
   "cell_type": "code",
   "execution_count": 18,
   "metadata": {},
   "outputs": [
    {
     "data": {
      "text/plain": [
       "count   17,834.00\n",
       "mean        10.80\n",
       "std          6.54\n",
       "min          1.00\n",
       "25%          5.00\n",
       "50%          9.00\n",
       "75%         16.00\n",
       "max         35.00\n",
       "Name: floors_total, dtype: float64"
      ]
     },
     "execution_count": 18,
     "metadata": {},
     "output_type": "execute_result"
    },
    {
     "data": {
      "image/png": "[encoded data removed]",
      "text/plain": [
       "<Figure size 432x288 with 1 Axes>"
      ]
     },
     "metadata": {
      "needs_background": "light"
     },
     "output_type": "display_data"
    }
   ],
   "source": [
    "# Общее кол-во этажей в доме\n",
    "data['floors_total'].plot(bins=30, kind='hist', title='Общее кол-во этажей в доме', grid=True, color='#00B358')\n",
    "data['floors_total'].describe()"
   ]
  },
  {
   "cell_type": "markdown",
   "metadata": {},
   "source": [
    " - Большинство объектов расположены в 5 и 9-ти этажных домах, остальные варианты встречаются, но в несколько раз реже\n",
    " - Выше 26 этажей домов почти нет"
   ]
  },
  {
   "cell_type": "code",
   "execution_count": 19,
   "metadata": {},
   "outputs": [
    {
     "data": {
      "text/plain": [
       "count   14,108.00\n",
       "mean    14,356.31\n",
       "std      8,605.31\n",
       "min        208.00\n",
       "25%      9,585.00\n",
       "50%     13,180.50\n",
       "75%     16,333.00\n",
       "max     65,968.00\n",
       "Name: cityCenters_nearest, dtype: float64"
      ]
     },
     "execution_count": 19,
     "metadata": {},
     "output_type": "execute_result"
    },
    {
     "data": {
      "image/png": "[encoded data removed]",
      "text/plain": [
       "<Figure size 432x288 with 1 Axes>"
      ]
     },
     "metadata": {
      "needs_background": "light"
     },
     "output_type": "display_data"
    }
   ],
   "source": [
    "# Расстояние до центра города в метрах\n",
    "data['cityCenters_nearest'].plot(bins=100, kind='hist', title='Расстояние до центра города в метрах', grid=True, color='#00B358')\n",
    "data['cityCenters_nearest'].describe()"
   ]
  },
  {
   "cell_type": "markdown",
   "metadata": {},
   "source": [
    " - По расстоянию до центра есть несколько пиков. Скорее всего это связано с тем, расположен объект в Санкт-Петербурге или в пригороде/поселке в области.\n",
    " - Первый пик это объекты в диапазоне 3-7 км от центра\n",
    " - Большое кол-во объектов расположены на расстоянии 10-20 км от центра СПб\n",
    " - Далее небольшие пики на расстоянии 30-35 км, 50 км, значит эти объекты находятся в Лен. области "
   ]
  },
  {
   "cell_type": "code",
   "execution_count": 20,
   "metadata": {},
   "outputs": [
    {
     "data": {
      "text/plain": [
       "count   14,090.00\n",
       "mean    28,831.72\n",
       "std     12,730.08\n",
       "min          0.00\n",
       "25%     18,446.00\n",
       "50%     26,767.00\n",
       "75%     37,407.00\n",
       "max     84,869.00\n",
       "Name: airports_nearest, dtype: float64"
      ]
     },
     "execution_count": 20,
     "metadata": {},
     "output_type": "execute_result"
    },
    {
     "data": {
      "image/png": "[encoded data removed]",
      "text/plain": [
       "<Figure size 432x288 with 1 Axes>"
      ]
     },
     "metadata": {
      "needs_background": "light"
     },
     "output_type": "display_data"
    }
   ],
   "source": [
    "# Расстояние до ближайшего аэропорта\n",
    "data['airports_nearest'].plot(bins=100, range=(0, 60000), kind='hist', title='Расстояние до ближайшего аэропорта', grid=True, color='#00B358')\n",
    "data['airports_nearest'].describe()"
   ]
  },
  {
   "cell_type": "markdown",
   "metadata": {},
   "source": [
    " - В основном все объекты расположены на расстоянии 10-55 км от аеропорта\n",
    " - Присутствуют также выбросы, например 0 м до аеропорта "
   ]
  },
  {
   "cell_type": "code",
   "execution_count": 21,
   "metadata": {},
   "outputs": [
    {
     "data": {
      "text/plain": [
       "count   6,167.00\n",
       "mean      488.62\n",
       "std       339.76\n",
       "min         1.00\n",
       "25%       287.00\n",
       "50%       451.00\n",
       "75%       612.00\n",
       "max     3,190.00\n",
       "Name: parks_nearest, dtype: float64"
      ]
     },
     "execution_count": 21,
     "metadata": {},
     "output_type": "execute_result"
    },
    {
     "data": {
      "image/png": "[encoded data removed]",
      "text/plain": [
       "<Figure size 432x288 with 1 Axes>"
      ]
     },
     "metadata": {
      "needs_background": "light"
     },
     "output_type": "display_data"
    }
   ],
   "source": [
    "# Расстояние до ближайшего парка\n",
    "data['parks_nearest'].plot(bins=30, kind='hist', title='Расстояние до ближайшего парка', grid=True, color='#00B358')\n",
    "data['parks_nearest'].describe()"
   ]
  },
  {
   "cell_type": "markdown",
   "metadata": {},
   "source": [
    " - Информации по паркам мало - 34% от данных по всем объектам. Возможно, потому что в окрестностях других объектов нет парков, либо данные просто не указали\n",
    " - Судя по имеющимся данным, если парки есть, то расположены они довольно близко, в основном меньше километра "
   ]
  },
  {
   "cell_type": "code",
   "execution_count": 22,
   "metadata": {},
   "outputs": [
    {
     "data": {
      "text/plain": [
       "count   17,834.00\n",
       "mean         2.56\n",
       "std          1.77\n",
       "min          0.00\n",
       "25%          1.00\n",
       "50%          3.00\n",
       "75%          4.00\n",
       "max          6.00\n",
       "Name: weekday, dtype: float64"
      ]
     },
     "execution_count": 22,
     "metadata": {},
     "output_type": "execute_result"
    },
    {
     "data": {
      "image/png": "[encoded data removed]",
      "text/plain": [
       "<Figure size 432x288 with 1 Axes>"
      ]
     },
     "metadata": {
      "needs_background": "light"
     },
     "output_type": "display_data"
    }
   ],
   "source": [
    "# День публикации объявления\n",
    "data['weekday'].plot(bins=7, kind='hist', title='День недели публикации объявления', grid=True, color='#00B358')\n",
    "data['weekday'].describe()"
   ]
  },
  {
   "cell_type": "markdown",
   "metadata": {},
   "source": [
    " - Большинство объявлений публикуются в течение недели, на выходных в два раза меньше\n",
    " - Самый высокий показатель - в четверг"
   ]
  },
  {
   "cell_type": "code",
   "execution_count": 23,
   "metadata": {},
   "outputs": [
    {
     "data": {
      "text/plain": [
       "count   17,834.00\n",
       "mean         6.62\n",
       "std          3.46\n",
       "min          1.00\n",
       "25%          3.00\n",
       "50%          7.00\n",
       "75%         10.00\n",
       "max         12.00\n",
       "Name: month, dtype: float64"
      ]
     },
     "execution_count": 23,
     "metadata": {},
     "output_type": "execute_result"
    },
    {
     "data": {
      "image/png": "[encoded data removed]",
      "text/plain": [
       "<Figure size 432x288 with 1 Axes>"
      ]
     },
     "metadata": {
      "needs_background": "light"
     },
     "output_type": "display_data"
    }
   ],
   "source": [
    "# Месяц публикации объявления\n",
    "data['month'].plot(bins=12, kind='hist', title='Месяц публикации объявления', grid=True, color='#00B358')\n",
    "data['month'].describe()"
   ]
  },
  {
   "cell_type": "markdown",
   "metadata": {},
   "source": [
    " - Судя по графику, пик публикаций приходится на начало и конец года - февраль и ноябрь - до новогодних праздников и после.\n",
    " - Меньше всего в январе и в мае, скорее всего также - дело в праздниках"
   ]
  },
  {
   "cell_type": "markdown",
   "metadata": {},
   "source": [
    "**Вывод:**\n",
    "\n",
    "На этом этапе более детально изучили имеющиеся параметры по объектам недвижимости, можем сделать предварительные выводы:\n",
    " - Большинство квартир - это квартиры от 30 до 100 кв.м. с жилой площадью 15-20 кв.м. и кухней размером 9-11 кв.м\n",
    " - 1-3-х комнатные\n",
    " - с высотой потолков 2.6 м.\n",
    " - в 5 или 9-этажном доме (самые частовстречающиеся, по этим данным можно предположить, что в основном продается вторичное жилье)\n",
    " - Средняя стоимость квартир от 3.5 до 6.5 млн\n",
    " - Большее кол-во продаваемых объектов находятся на расстоянии 10-20 км от центра СПб\n",
    " - Информации по паркам мало - 34% от данных по всем объектам. Если парки есть, то расположены они довольно близко, в основном меньше 1 км.\n",
    " - Большинство объявлений публикуются в течение рабочей недели, с пиком публикаций в феврале и ноябре"
   ]
  },
  {
   "cell_type": "markdown",
   "metadata": {},
   "source": [
    "**Как быстро продавались квартиры?**"
   ]
  },
  {
   "cell_type": "code",
   "execution_count": 24,
   "metadata": {},
   "outputs": [
    {
     "name": "stdout",
     "output_type": "stream",
     "text": [
      "Медиана времени: 92.0\n",
      "Среднее время: 142.36708634166718\n"
     ]
    },
    {
     "data": {
      "image/png": "[encoded data removed]",
      "text/plain": [
       "<Figure size 432x288 with 1 Axes>"
      ]
     },
     "metadata": {
      "needs_background": "light"
     },
     "output_type": "display_data"
    }
   ],
   "source": [
    "data['days_exposition'].plot(bins=100, range=(1, 600), kind='hist', title='Дни от публикации до снятия', grid=True, color='#00B358')\n",
    "print('Медиана времени:', data.query('days_exposition < 600')['days_exposition'].median())\n",
    "print('Среднее время:', data.query('days_exposition < 600')['days_exposition'].mean())"
   ]
  },
  {
   "cell_type": "code",
   "execution_count": 25,
   "metadata": {},
   "outputs": [
    {
     "data": {
      "image/png": "[encoded data removed]",
      "text/plain": [
       "<Figure size 432x288 with 1 Axes>"
      ]
     },
     "metadata": {
      "needs_background": "light"
     },
     "output_type": "display_data"
    }
   ],
   "source": [
    "# Построим диаграмму размаха, чтобы уточнить результаты\n",
    "plt.boxplot(data['days_exposition'])\n",
    "plt.ylim(0, 600)\n",
    "plt.grid(True)"
   ]
  },
  {
   "cell_type": "markdown",
   "metadata": {},
   "source": [
    "**Вывод:**\n",
    "\n",
    " - Опираясь на диаграммы, можем сделать вывод, что большее кол-во объектов продаются за 90-100 дней, остальные объекты за сроки в пределах 520 дней.\n",
    " - На графике есть много единичных выбросов - 600 дней и выше, скорее всего это либо очень редкие объекты, либо ошибки\n",
    " - Быструю продажу можно обозначить по первому квартилю - 45 дней\n",
    " - Долгой будем считать продажу после 240 дней, а к необычно долгим можно причислить свыше 520 дней"
   ]
  },
  {
   "cell_type": "markdown",
   "metadata": {},
   "source": [
    "**Что больше всего влияет на общую стоимость объекта?**"
   ]
  },
  {
   "cell_type": "code",
   "execution_count": 26,
   "metadata": {},
   "outputs": [
    {
     "name": "stdout",
     "output_type": "stream",
     "text": [
      "Корреляция цена-общая площадь: 0.6969723019642645\n"
     ]
    },
    {
     "data": {
      "image/png": "[encoded data removed]",
      "text/plain": [
       "<Figure size 864x432 with 1 Axes>"
      ]
     },
     "metadata": {
      "needs_background": "light"
     },
     "output_type": "display_data"
    }
   ],
   "source": [
    "# Общая площадь - цена\n",
    "(\n",
    "    data.pivot_table(index='total_area', values='last_price', aggfunc='median')\n",
    "    .plot(grid=True, style='o', figsize=(12, 6), color='#00B358')\n",
    ")\n",
    "print('Корреляция цена-общая площадь:', data['total_area'].corr(data['last_price']))"
   ]
  },
  {
   "cell_type": "markdown",
   "metadata": {},
   "source": [
    " - По графику и рассчитанной корреляции мы видим, что есть прямая зависимость между общей площадью и ценой: чем больше площадь, тем выше цена за объект\n",
    " - Поскольку коэффициент корреляции равен 0.7, значит существует некоторое кол-во объектов, на цену которых влиет еще много других факторов, и общая площадь там меньше отражается на цене"
   ]
  },
  {
   "cell_type": "code",
   "execution_count": 27,
   "metadata": {},
   "outputs": [
    {
     "name": "stdout",
     "output_type": "stream",
     "text": [
      "Корреляция цена-жилая площадь: 0.6151747119000887\n"
     ]
    },
    {
     "data": {
      "image/png": "[encoded data removed]",
      "text/plain": [
       "<Figure size 864x432 with 1 Axes>"
      ]
     },
     "metadata": {
      "needs_background": "light"
     },
     "output_type": "display_data"
    }
   ],
   "source": [
    "# Жилая площадь - цена\n",
    "(\n",
    "    data.pivot_table(index='living_area', values='last_price', aggfunc='median')\n",
    "    .plot(grid=True, style='o', figsize=(12, 6), color='#00B358')\n",
    ")\n",
    "print('Корреляция цена-жилая площадь:', data['living_area'].corr(data['last_price']))"
   ]
  },
  {
   "cell_type": "markdown",
   "metadata": {},
   "source": [
    " - Корреляция жилая площадь - цена также наблюдается, поскольку жилая площадь входит в состав общей площади\n",
    " - Корреляция немного меньше, что логично"
   ]
  },
  {
   "cell_type": "code",
   "execution_count": 28,
   "metadata": {},
   "outputs": [
    {
     "name": "stdout",
     "output_type": "stream",
     "text": [
      "Корреляция цена-площадь кухни: 0.4965963932437515\n"
     ]
    },
    {
     "data": {
      "image/png": "[encoded data removed]",
      "text/plain": [
       "<Figure size 864x432 with 1 Axes>"
      ]
     },
     "metadata": {
      "needs_background": "light"
     },
     "output_type": "display_data"
    }
   ],
   "source": [
    "# Площадь кухни - цена\n",
    "(\n",
    "    data.pivot_table(index='kitchen_area', values='last_price', aggfunc='median')\n",
    "    .plot(grid=True, style='o', figsize=(12, 6), color='#00B358')\n",
    ")\n",
    "print('Корреляция цена-площадь кухни:', data['kitchen_area'].corr(data['last_price']))"
   ]
  },
  {
   "cell_type": "markdown",
   "metadata": {},
   "source": [
    " - Здесь мы видим больший разброс значений, площадь кухни не так сильно влияет на стоимость квартиры\n",
    " - Коэффициент корреляции 0.4"
   ]
  },
  {
   "cell_type": "code",
   "execution_count": 29,
   "metadata": {},
   "outputs": [
    {
     "name": "stdout",
     "output_type": "stream",
     "text": [
      "Корреляция цена-кол-во комнат: 0.4152121699422426\n"
     ]
    },
    {
     "data": {
      "image/png": "[encoded data removed]",
      "text/plain": [
       "<Figure size 864x432 with 1 Axes>"
      ]
     },
     "metadata": {
      "needs_background": "light"
     },
     "output_type": "display_data"
    }
   ],
   "source": [
    "# Кол-во комнат - цена\n",
    "(\n",
    "    data.pivot_table(index='rooms', values='last_price', aggfunc='median')\n",
    "    .plot(grid=True, style='o-', figsize=(12, 6), color='#00B358')\n",
    ")\n",
    "print('Корреляция цена-кол-во комнат:', data['rooms'].corr(data['last_price']))"
   ]
  },
  {
   "cell_type": "markdown",
   "metadata": {},
   "source": [
    " - На графике мы видим плавный рост цены до 3 комнат, при большем кол-ве комнат цена начанает заметно возрастать\n",
    " - Зависимость цены от количества комнат однозначно есть, но в некоторых диапазонах другие факторы являются более значимыми при формировании стоимости"
   ]
  },
  {
   "cell_type": "code",
   "execution_count": 30,
   "metadata": {},
   "outputs": [
    {
     "data": {
      "image/png": "[encoded data removed]",
      "text/plain": [
       "<Figure size 864x432 with 1 Axes>"
      ]
     },
     "metadata": {
      "needs_background": "light"
     },
     "output_type": "display_data"
    }
   ],
   "source": [
    "# Тип этажа - цена\n",
    "(\n",
    "    data.pivot_table(index='floor_category', values='last_price', aggfunc='median')\n",
    "    .plot(grid=True, style='o-', figsize=(12, 6), color='#00B358', title='Корреляция цена-тип этажа')\n",
    ");"
   ]
  },
  {
   "cell_type": "markdown",
   "metadata": {},
   "source": [
    " - На графике видим, что квартиры на первом этаже самые низкие по цене\n",
    " - На остальных этажах цена выше в несколько раз, в два раза цена выше на последнем этаже"
   ]
  },
  {
   "cell_type": "code",
   "execution_count": 31,
   "metadata": {},
   "outputs": [
    {
     "data": {
      "image/png": "[encoded data removed]",
      "text/plain": [
       "<Figure size 864x432 with 1 Axes>"
      ]
     },
     "metadata": {
      "needs_background": "light"
     },
     "output_type": "display_data"
    },
    {
     "data": {
      "image/png": "[encoded data removed]",
      "text/plain": [
       "<Figure size 864x432 with 1 Axes>"
      ]
     },
     "metadata": {
      "needs_background": "light"
     },
     "output_type": "display_data"
    },
    {
     "data": {
      "image/png": "[encoded data removed]",
      "text/plain": [
       "<Figure size 864x432 with 1 Axes>"
      ]
     },
     "metadata": {
      "needs_background": "light"
     },
     "output_type": "display_data"
    }
   ],
   "source": [
    "# Дата размещения объявления - цена\n",
    "\n",
    "(\n",
    "    data.pivot_table(index='weekday', values='last_price', aggfunc='median')\n",
    "    .plot(grid=True, kind='bar', figsize=(12, 6), color='#00B358')\n",
    ")\n",
    "\n",
    "(\n",
    "    data.pivot_table(index='month', values='last_price', aggfunc='median')\n",
    "    .plot(grid=True, kind='bar', figsize=(12, 6), color='#00B358')\n",
    ")\n",
    "\n",
    "(\n",
    "    data.pivot_table(index='year', values='last_price', aggfunc='median')\n",
    "    .plot(grid=True, kind='bar', figsize=(12, 6), color='#00B358')\n",
    ");"
   ]
  },
  {
   "cell_type": "markdown",
   "metadata": {},
   "source": [
    " - Судя по графикам зависимости между датой и ценой нет. \n",
    " - На графике по годам мы видим, что спад цены был с 2016 по 2018, однако взаимосвязь года и цены может быть ввиду каких-либо  событий в этом промежутке времени (другие факторы)"
   ]
  },
  {
   "cell_type": "markdown",
   "metadata": {},
   "source": [
    "**Вывод:**\n",
    "\n",
    "- Самый высокий коэффициент корреляции в паре общая площадь-цена, соответственно с кол-вом комнат такая же прямая корреляция\n",
    "- Также на цену объекта влияет этаж: \n",
    " - первый и последний по стоимости ниже, чем остальные\n",
    " - первый этаж - самая низкая цена"
   ]
  },
  {
   "cell_type": "markdown",
   "metadata": {},
   "source": [
    "**Зависимость \"цена за кв.м. - локация\"**"
   ]
  },
  {
   "cell_type": "code",
   "execution_count": 32,
   "metadata": {},
   "outputs": [
    {
     "data": {
      "image/png": "[encoded data removed]",
      "text/plain": [
       "<Figure size 864x432 with 1 Axes>"
      ]
     },
     "metadata": {
      "needs_background": "light"
     },
     "output_type": "display_data"
    }
   ],
   "source": [
    "# Средняя цена за кв.м. в 10 населённых пунктах\n",
    "\n",
    "locality_10 = data['locality_name'].value_counts().head(10) # больше всего публикаций в этих нас.пунктах\n",
    "square_meter_price_10 = (\n",
    "    data.query('locality_name in @locality_10.index')\n",
    "    .pivot_table(index='locality_name', values='square_meter_price')\n",
    ")\n",
    "square_meter_price_10.plot(grid=True, kind='barh', figsize=(12, 6), color='#00B358');"
   ]
  },
  {
   "cell_type": "markdown",
   "metadata": {},
   "source": [
    "**Вывод:**\n",
    "\n",
    " - Самая высокая стоимость за кв.м. в Санкт-Петербурге, т.к. это самый крупный город в области, логично\n",
    " - На втором месте по стоимости за кв.м. - Пушкин\n",
    " - Самая низкая стоимость в Гатчине, возможно из-за удаленности от административного центра"
   ]
  },
  {
   "cell_type": "markdown",
   "metadata": {},
   "source": [
    "**Зависимость \"отдаленность от центра Санкт-Петербурга - цена\"**"
   ]
  },
  {
   "cell_type": "code",
   "execution_count": 33,
   "metadata": {},
   "outputs": [
    {
     "data": {
      "text/html": [
       "<div>\n",
       "<style scoped>\n",
       "    .dataframe tbody tr th:only-of-type {\n",
       "        vertical-align: middle;\n",
       "    }\n",
       "\n",
       "    .dataframe tbody tr th {\n",
       "        vertical-align: top;\n",
       "    }\n",
       "\n",
       "    .dataframe thead th {\n",
       "        text-align: right;\n",
       "    }\n",
       "</style>\n",
       "<table border=\"1\" class=\"dataframe\">\n",
       "  <thead>\n",
       "    <tr style=\"text-align: right;\">\n",
       "      <th></th>\n",
       "      <th>square_meter_price</th>\n",
       "    </tr>\n",
       "    <tr>\n",
       "      <th>city_center_km</th>\n",
       "      <th></th>\n",
       "    </tr>\n",
       "  </thead>\n",
       "  <tbody>\n",
       "    <tr>\n",
       "      <th>0.00</th>\n",
       "      <td>214,455.25</td>\n",
       "    </tr>\n",
       "    <tr>\n",
       "      <th>1.00</th>\n",
       "      <td>151,129.26</td>\n",
       "    </tr>\n",
       "    <tr>\n",
       "      <th>2.00</th>\n",
       "      <td>154,453.71</td>\n",
       "    </tr>\n",
       "    <tr>\n",
       "      <th>3.00</th>\n",
       "      <td>116,197.33</td>\n",
       "    </tr>\n",
       "    <tr>\n",
       "      <th>4.00</th>\n",
       "      <td>126,597.79</td>\n",
       "    </tr>\n",
       "    <tr>\n",
       "      <th>5.00</th>\n",
       "      <td>133,907.38</td>\n",
       "    </tr>\n",
       "    <tr>\n",
       "      <th>6.00</th>\n",
       "      <td>143,003.16</td>\n",
       "    </tr>\n",
       "    <tr>\n",
       "      <th>7.00</th>\n",
       "      <td>148,124.46</td>\n",
       "    </tr>\n",
       "    <tr>\n",
       "      <th>8.00</th>\n",
       "      <td>121,573.31</td>\n",
       "    </tr>\n",
       "    <tr>\n",
       "      <th>9.00</th>\n",
       "      <td>110,289.98</td>\n",
       "    </tr>\n",
       "    <tr>\n",
       "      <th>10.00</th>\n",
       "      <td>109,869.08</td>\n",
       "    </tr>\n",
       "    <tr>\n",
       "      <th>11.00</th>\n",
       "      <td>105,978.59</td>\n",
       "    </tr>\n",
       "    <tr>\n",
       "      <th>12.00</th>\n",
       "      <td>105,706.09</td>\n",
       "    </tr>\n",
       "    <tr>\n",
       "      <th>13.00</th>\n",
       "      <td>105,758.98</td>\n",
       "    </tr>\n",
       "    <tr>\n",
       "      <th>14.00</th>\n",
       "      <td>102,451.35</td>\n",
       "    </tr>\n",
       "    <tr>\n",
       "      <th>15.00</th>\n",
       "      <td>102,015.48</td>\n",
       "    </tr>\n",
       "    <tr>\n",
       "      <th>16.00</th>\n",
       "      <td>98,596.56</td>\n",
       "    </tr>\n",
       "    <tr>\n",
       "      <th>17.00</th>\n",
       "      <td>95,661.67</td>\n",
       "    </tr>\n",
       "    <tr>\n",
       "      <th>18.00</th>\n",
       "      <td>95,559.35</td>\n",
       "    </tr>\n",
       "    <tr>\n",
       "      <th>19.00</th>\n",
       "      <td>98,593.89</td>\n",
       "    </tr>\n",
       "    <tr>\n",
       "      <th>20.00</th>\n",
       "      <td>97,451.56</td>\n",
       "    </tr>\n",
       "    <tr>\n",
       "      <th>21.00</th>\n",
       "      <td>89,866.84</td>\n",
       "    </tr>\n",
       "    <tr>\n",
       "      <th>22.00</th>\n",
       "      <td>88,611.43</td>\n",
       "    </tr>\n",
       "    <tr>\n",
       "      <th>23.00</th>\n",
       "      <td>90,809.63</td>\n",
       "    </tr>\n",
       "    <tr>\n",
       "      <th>24.00</th>\n",
       "      <td>84,552.05</td>\n",
       "    </tr>\n",
       "    <tr>\n",
       "      <th>25.00</th>\n",
       "      <td>86,110.62</td>\n",
       "    </tr>\n",
       "    <tr>\n",
       "      <th>26.00</th>\n",
       "      <td>84,542.32</td>\n",
       "    </tr>\n",
       "    <tr>\n",
       "      <th>27.00</th>\n",
       "      <td>132,115.00</td>\n",
       "    </tr>\n",
       "    <tr>\n",
       "      <th>28.00</th>\n",
       "      <td>81,161.57</td>\n",
       "    </tr>\n",
       "    <tr>\n",
       "      <th>29.00</th>\n",
       "      <td>81,053.50</td>\n",
       "    </tr>\n",
       "  </tbody>\n",
       "</table>\n",
       "</div>"
      ],
      "text/plain": [
       "                square_meter_price\n",
       "city_center_km                    \n",
       "0.00                    214,455.25\n",
       "1.00                    151,129.26\n",
       "2.00                    154,453.71\n",
       "3.00                    116,197.33\n",
       "4.00                    126,597.79\n",
       "5.00                    133,907.38\n",
       "6.00                    143,003.16\n",
       "7.00                    148,124.46\n",
       "8.00                    121,573.31\n",
       "9.00                    110,289.98\n",
       "10.00                   109,869.08\n",
       "11.00                   105,978.59\n",
       "12.00                   105,706.09\n",
       "13.00                   105,758.98\n",
       "14.00                   102,451.35\n",
       "15.00                   102,015.48\n",
       "16.00                    98,596.56\n",
       "17.00                    95,661.67\n",
       "18.00                    95,559.35\n",
       "19.00                    98,593.89\n",
       "20.00                    97,451.56\n",
       "21.00                    89,866.84\n",
       "22.00                    88,611.43\n",
       "23.00                    90,809.63\n",
       "24.00                    84,552.05\n",
       "25.00                    86,110.62\n",
       "26.00                    84,542.32\n",
       "27.00                   132,115.00\n",
       "28.00                    81,161.57\n",
       "29.00                    81,053.50"
      ]
     },
     "metadata": {},
     "output_type": "display_data"
    },
    {
     "data": {
      "image/png": "[encoded data removed]",
      "text/plain": [
       "<Figure size 864x432 with 1 Axes>"
      ]
     },
     "metadata": {
      "needs_background": "light"
     },
     "output_type": "display_data"
    }
   ],
   "source": [
    "data_SPb = data.query('locality_name == \"Санкт-Петербург\"')\n",
    "meter_price = data_SPb.pivot_table(index='city_center_km', values='square_meter_price')\n",
    "display(meter_price)\n",
    "meter_price.plot(grid=True, style='o-', figsize=(12, 6), color='#00B358');"
   ]
  },
  {
   "cell_type": "markdown",
   "metadata": {},
   "source": [
    "**Вывод:**\n",
    "\n",
    " - В сводной таблице можем увидеть стоимость каждого последующего км от центра СПб\n",
    " - Чем дальше от центра, тем ниже цена\n",
    " - Пики можно объяснить какими-либо элитными жилыми комплексами или районами, также могут влиять другие факторы"
   ]
  },
  {
   "cell_type": "markdown",
   "metadata": {},
   "source": [
    "### Общий вывод"
   ]
  },
  {
   "cell_type": "markdown",
   "metadata": {},
   "source": [
    "**1. После обработки и изучения данных, можно сделать следующие выводы о типичном продаваемом объекте недвижимости:**\n",
    "\n",
    " - Большинство квартир - это квартиры от 30 до 100 кв.м. с жилой площадью 15-20 кв.м. и кухней размером 9-11 кв.м\n",
    " - 1-3-х комнатные\n",
    " - с высотой потолков 2.6 м.\n",
    " - в 5 или 9-этажном доме (самые частовстречающиеся, по этим данным можно предположить, что в основном продается вторичное жилье)\n",
    " - Средняя стоимость квартир от 3.5 до 6.5 млн.р.\n",
    " - Большее кол-во продаваемых объектов находятся на расстоянии 10-20 км от центра СПб\n",
    " - Информации по паркам мало - 34% от данных по всем объектам. Если парки есть, то расположены они довольно близко, в основном меньше 1 км.\n",
    " - Большинство объявлений публикуются в течение рабочей недели, с пиком публикаций в феврале и ноябре\n",
    " \n",
    "**2. Также было замечено, что большее кол-во объектов продаются за 90-100 дней, остальные объекты за сроки в пределах 520 дней. Быстрой считается продажа за 45 дней, необычно долгой - свыше 520 дней** \n",
    " \n",
    "**3. В ходе исследавания были выявлены следующие зависимости параметров объектов:**\n",
    " \n",
    " - Общая площадь объекта - цена, прямая зависимость\n",
    " - Первый этаж - самая низкая цена\n",
    " - Самая высокая стоимость за кв.м. в Санкт-Петербурге, т.к. это самый крупный город в области\n",
    " - На втором месте по стоимости за кв.м. - Пушкин\n",
    " - Самая низкая стоимость в Гатчине, возможно из-за удаленности от административного центра\n",
    " - Чем дальше от центра Санкт-Петербурга, тем ниже цена объекта\n"
   ]
  }
 ],
 "metadata": {
  "ExecuteTimeLog": [
   {
    "duration": 533,
    "start_time": "2023-06-05T10:15:24.111Z"
   },
   {
    "duration": 54,
    "start_time": "2023-06-05T10:16:23.664Z"
   },
   {
    "duration": 50,
    "start_time": "2023-06-05T10:16:34.875Z"
   },
   {
    "duration": 87,
    "start_time": "2023-06-05T10:17:42.184Z"
   },
   {
    "duration": 51,
    "start_time": "2023-06-05T10:18:23.497Z"
   },
   {
    "duration": 492,
    "start_time": "2023-06-05T10:18:32.225Z"
   },
   {
    "duration": 910,
    "start_time": "2023-06-05T10:18:53.921Z"
   },
   {
    "duration": 138,
    "start_time": "2023-06-05T10:19:41.976Z"
   },
   {
    "duration": 150,
    "start_time": "2023-06-05T10:22:28.875Z"
   },
   {
    "duration": 2343,
    "start_time": "2023-06-05T10:24:37.470Z"
   },
   {
    "duration": 23,
    "start_time": "2023-06-05T10:28:27.906Z"
   },
   {
    "duration": 5,
    "start_time": "2023-06-05T11:10:54.337Z"
   },
   {
    "duration": 28,
    "start_time": "2023-06-05T11:24:49.786Z"
   },
   {
    "duration": 11,
    "start_time": "2023-06-05T11:25:08.487Z"
   },
   {
    "duration": 16,
    "start_time": "2023-06-05T12:49:29.138Z"
   },
   {
    "duration": 21,
    "start_time": "2023-06-05T13:12:14.069Z"
   },
   {
    "duration": 11,
    "start_time": "2023-06-05T13:17:38.375Z"
   },
   {
    "duration": 50,
    "start_time": "2023-06-05T13:35:26.526Z"
   },
   {
    "duration": 18,
    "start_time": "2023-06-05T13:35:58.013Z"
   },
   {
    "duration": 16,
    "start_time": "2023-06-05T13:36:15.143Z"
   },
   {
    "duration": 5,
    "start_time": "2023-06-05T13:36:42.965Z"
   },
   {
    "duration": 49,
    "start_time": "2023-06-05T13:42:23.301Z"
   },
   {
    "duration": 13,
    "start_time": "2023-06-05T13:43:14.006Z"
   },
   {
    "duration": 146,
    "start_time": "2023-06-05T13:43:59.380Z"
   },
   {
    "duration": 188,
    "start_time": "2023-06-05T13:44:17.861Z"
   },
   {
    "duration": 271,
    "start_time": "2023-06-05T13:44:26.656Z"
   },
   {
    "duration": 253,
    "start_time": "2023-06-05T13:44:44.178Z"
   },
   {
    "duration": 264,
    "start_time": "2023-06-05T13:45:27.742Z"
   },
   {
    "duration": 280,
    "start_time": "2023-06-05T13:45:34.227Z"
   },
   {
    "duration": 262,
    "start_time": "2023-06-05T13:45:54.002Z"
   },
   {
    "duration": 271,
    "start_time": "2023-06-05T13:46:04.393Z"
   },
   {
    "duration": 401,
    "start_time": "2023-06-05T13:46:19.573Z"
   },
   {
    "duration": 260,
    "start_time": "2023-06-05T13:46:23.930Z"
   },
   {
    "duration": 339,
    "start_time": "2023-06-05T13:47:25.640Z"
   },
   {
    "duration": 340,
    "start_time": "2023-06-05T13:48:08.823Z"
   },
   {
    "duration": 903,
    "start_time": "2023-06-05T13:48:35.245Z"
   },
   {
    "duration": 805,
    "start_time": "2023-06-05T13:48:55.135Z"
   },
   {
    "duration": 269,
    "start_time": "2023-06-05T13:49:59.956Z"
   },
   {
    "duration": 278,
    "start_time": "2023-06-05T13:50:05.674Z"
   },
   {
    "duration": 336,
    "start_time": "2023-06-05T13:51:38.789Z"
   },
   {
    "duration": 446,
    "start_time": "2023-06-05T13:51:52.688Z"
   },
   {
    "duration": 46,
    "start_time": "2023-06-05T13:53:40.917Z"
   },
   {
    "duration": 52,
    "start_time": "2023-06-05T13:53:49.745Z"
   },
   {
    "duration": 6,
    "start_time": "2023-06-05T13:57:52.173Z"
   },
   {
    "duration": 54,
    "start_time": "2023-06-05T13:58:07.923Z"
   },
   {
    "duration": 1672,
    "start_time": "2023-06-05T14:00:38.712Z"
   },
   {
    "duration": 21,
    "start_time": "2023-06-05T14:00:58.976Z"
   },
   {
    "duration": 14,
    "start_time": "2023-06-05T14:03:37.739Z"
   },
   {
    "duration": 24,
    "start_time": "2023-06-05T14:03:52.646Z"
   },
   {
    "duration": 14,
    "start_time": "2023-06-05T14:04:00.383Z"
   },
   {
    "duration": 15,
    "start_time": "2023-06-05T14:06:01.056Z"
   },
   {
    "duration": 16,
    "start_time": "2023-06-05T14:20:37.823Z"
   },
   {
    "duration": 9,
    "start_time": "2023-06-05T14:21:54.016Z"
   },
   {
    "duration": 56,
    "start_time": "2023-06-05T14:21:58.526Z"
   },
   {
    "duration": 5,
    "start_time": "2023-06-05T14:30:25.490Z"
   },
   {
    "duration": 51,
    "start_time": "2023-06-05T14:32:25.491Z"
   },
   {
    "duration": 248,
    "start_time": "2023-06-05T14:34:17.812Z"
   },
   {
    "duration": 50,
    "start_time": "2023-06-05T14:42:22.700Z"
   },
   {
    "duration": 42,
    "start_time": "2023-06-05T14:42:27.269Z"
   },
   {
    "duration": 12,
    "start_time": "2023-06-05T14:42:55.373Z"
   },
   {
    "duration": 60,
    "start_time": "2023-06-05T14:44:07.385Z"
   },
   {
    "duration": 42,
    "start_time": "2023-06-05T14:44:10.296Z"
   },
   {
    "duration": 73,
    "start_time": "2023-06-05T14:46:45.128Z"
   },
   {
    "duration": 15,
    "start_time": "2023-06-05T14:47:26.256Z"
   },
   {
    "duration": 51,
    "start_time": "2023-06-05T14:47:47.358Z"
   },
   {
    "duration": 45,
    "start_time": "2023-06-05T14:51:24.989Z"
   },
   {
    "duration": 401,
    "start_time": "2023-06-05T14:55:48.453Z"
   },
   {
    "duration": 582,
    "start_time": "2023-06-05T14:56:00.828Z"
   },
   {
    "duration": 2492,
    "start_time": "2023-06-05T14:56:01.412Z"
   },
   {
    "duration": 18,
    "start_time": "2023-06-05T14:56:03.906Z"
   },
   {
    "duration": 23,
    "start_time": "2023-06-05T14:56:03.926Z"
   },
   {
    "duration": 14,
    "start_time": "2023-06-05T14:56:03.951Z"
   },
   {
    "duration": 501,
    "start_time": "2023-06-05T14:56:03.967Z"
   },
   {
    "duration": 0,
    "start_time": "2023-06-05T14:56:04.470Z"
   },
   {
    "duration": 0,
    "start_time": "2023-06-05T14:56:04.472Z"
   },
   {
    "duration": 445,
    "start_time": "2023-06-05T14:56:22.648Z"
   },
   {
    "duration": 406,
    "start_time": "2023-06-05T14:57:00.819Z"
   },
   {
    "duration": 16,
    "start_time": "2023-06-05T14:58:39.696Z"
   },
   {
    "duration": 23,
    "start_time": "2023-06-05T15:00:05.800Z"
   },
   {
    "duration": 7,
    "start_time": "2023-06-05T15:01:25.156Z"
   },
   {
    "duration": 4,
    "start_time": "2023-06-05T15:01:45.791Z"
   },
   {
    "duration": 544,
    "start_time": "2023-06-05T15:01:53.739Z"
   },
   {
    "duration": 508,
    "start_time": "2023-06-05T15:02:11.891Z"
   },
   {
    "duration": 2320,
    "start_time": "2023-06-05T15:02:12.401Z"
   },
   {
    "duration": 17,
    "start_time": "2023-06-05T15:02:14.723Z"
   },
   {
    "duration": 22,
    "start_time": "2023-06-05T15:02:14.742Z"
   },
   {
    "duration": 8,
    "start_time": "2023-06-05T15:02:14.766Z"
   },
   {
    "duration": 12,
    "start_time": "2023-06-05T15:02:14.775Z"
   },
   {
    "duration": 764,
    "start_time": "2023-06-05T15:02:14.789Z"
   },
   {
    "duration": 0,
    "start_time": "2023-06-05T15:02:15.555Z"
   },
   {
    "duration": 604,
    "start_time": "2023-06-05T15:02:44.096Z"
   },
   {
    "duration": 579,
    "start_time": "2023-06-05T15:02:58.273Z"
   },
   {
    "duration": 551,
    "start_time": "2023-06-05T15:03:11.755Z"
   },
   {
    "duration": 598,
    "start_time": "2023-06-05T15:04:01.366Z"
   },
   {
    "duration": 560,
    "start_time": "2023-06-05T15:04:06.649Z"
   },
   {
    "duration": 506,
    "start_time": "2023-06-05T15:04:16.613Z"
   },
   {
    "duration": 2412,
    "start_time": "2023-06-05T15:04:17.121Z"
   },
   {
    "duration": 18,
    "start_time": "2023-06-05T15:04:19.536Z"
   },
   {
    "duration": 21,
    "start_time": "2023-06-05T15:04:19.556Z"
   },
   {
    "duration": 9,
    "start_time": "2023-06-05T15:04:19.579Z"
   },
   {
    "duration": 19,
    "start_time": "2023-06-05T15:04:19.589Z"
   },
   {
    "duration": 53,
    "start_time": "2023-06-05T15:04:19.610Z"
   },
   {
    "duration": 50,
    "start_time": "2023-06-05T15:04:57.900Z"
   },
   {
    "duration": 63,
    "start_time": "2023-06-05T15:05:11.776Z"
   },
   {
    "duration": 19,
    "start_time": "2023-06-05T15:05:39.313Z"
   },
   {
    "duration": 37,
    "start_time": "2023-06-05T15:06:03.430Z"
   },
   {
    "duration": 47,
    "start_time": "2023-06-05T15:06:21.435Z"
   },
   {
    "duration": 14,
    "start_time": "2023-06-05T15:06:38.043Z"
   },
   {
    "duration": 57,
    "start_time": "2023-06-05T15:07:19.089Z"
   },
   {
    "duration": 49,
    "start_time": "2023-06-05T15:08:13.988Z"
   },
   {
    "duration": 38,
    "start_time": "2023-06-05T15:08:49.684Z"
   },
   {
    "duration": 39,
    "start_time": "2023-06-05T15:09:11.090Z"
   },
   {
    "duration": 12,
    "start_time": "2023-06-05T15:09:30.254Z"
   },
   {
    "duration": 12,
    "start_time": "2023-06-05T15:10:38.330Z"
   },
   {
    "duration": 12,
    "start_time": "2023-06-05T15:10:46.528Z"
   },
   {
    "duration": 6,
    "start_time": "2023-06-05T15:14:26.591Z"
   },
   {
    "duration": 901,
    "start_time": "2023-06-05T15:14:31.509Z"
   },
   {
    "duration": 598,
    "start_time": "2023-06-05T15:14:46.374Z"
   },
   {
    "duration": 2663,
    "start_time": "2023-06-05T15:14:46.974Z"
   },
   {
    "duration": 19,
    "start_time": "2023-06-05T15:14:49.640Z"
   },
   {
    "duration": 21,
    "start_time": "2023-06-05T15:14:49.662Z"
   },
   {
    "duration": 10,
    "start_time": "2023-06-05T15:14:49.685Z"
   },
   {
    "duration": 8,
    "start_time": "2023-06-05T15:14:49.697Z"
   },
   {
    "duration": 893,
    "start_time": "2023-06-05T15:14:49.707Z"
   },
   {
    "duration": 679,
    "start_time": "2023-06-05T15:15:56.820Z"
   },
   {
    "duration": 668,
    "start_time": "2023-06-05T15:16:11.542Z"
   },
   {
    "duration": 2557,
    "start_time": "2023-06-05T15:16:12.212Z"
   },
   {
    "duration": 19,
    "start_time": "2023-06-05T15:16:14.771Z"
   },
   {
    "duration": 25,
    "start_time": "2023-06-05T15:16:14.793Z"
   },
   {
    "duration": 11,
    "start_time": "2023-06-05T15:16:14.820Z"
   },
   {
    "duration": 46,
    "start_time": "2023-06-05T15:16:14.833Z"
   },
   {
    "duration": 76,
    "start_time": "2023-06-05T15:16:14.882Z"
   },
   {
    "duration": 13,
    "start_time": "2023-06-05T15:17:11.637Z"
   },
   {
    "duration": 1352,
    "start_time": "2023-06-05T15:17:30.320Z"
   },
   {
    "duration": 517,
    "start_time": "2023-06-05T15:17:55.397Z"
   },
   {
    "duration": 2328,
    "start_time": "2023-06-05T15:17:55.917Z"
   },
   {
    "duration": 17,
    "start_time": "2023-06-05T15:17:58.247Z"
   },
   {
    "duration": 21,
    "start_time": "2023-06-05T15:17:58.267Z"
   },
   {
    "duration": 8,
    "start_time": "2023-06-05T15:17:58.290Z"
   },
   {
    "duration": 10,
    "start_time": "2023-06-05T15:17:58.300Z"
   },
   {
    "duration": 924,
    "start_time": "2023-06-05T15:17:58.312Z"
   },
   {
    "duration": 886,
    "start_time": "2023-06-05T15:18:29.188Z"
   },
   {
    "duration": 513,
    "start_time": "2023-06-05T15:18:41.898Z"
   },
   {
    "duration": 2268,
    "start_time": "2023-06-05T15:18:42.413Z"
   },
   {
    "duration": 16,
    "start_time": "2023-06-05T15:18:44.683Z"
   },
   {
    "duration": 20,
    "start_time": "2023-06-05T15:18:44.700Z"
   },
   {
    "duration": 9,
    "start_time": "2023-06-05T15:18:44.723Z"
   },
   {
    "duration": 18,
    "start_time": "2023-06-05T15:18:44.734Z"
   },
   {
    "duration": 933,
    "start_time": "2023-06-05T15:18:44.754Z"
   },
   {
    "duration": 838,
    "start_time": "2023-06-05T15:19:53.392Z"
   },
   {
    "duration": 832,
    "start_time": "2023-06-05T15:20:25.674Z"
   },
   {
    "duration": 766,
    "start_time": "2023-06-05T15:22:35.801Z"
   },
   {
    "duration": 552,
    "start_time": "2023-06-05T15:22:47.862Z"
   },
   {
    "duration": 2376,
    "start_time": "2023-06-05T15:22:48.417Z"
   },
   {
    "duration": 16,
    "start_time": "2023-06-05T15:22:50.795Z"
   },
   {
    "duration": 46,
    "start_time": "2023-06-05T15:22:50.813Z"
   },
   {
    "duration": 29,
    "start_time": "2023-06-05T15:22:50.861Z"
   },
   {
    "duration": 50,
    "start_time": "2023-06-05T15:22:50.893Z"
   },
   {
    "duration": 44,
    "start_time": "2023-06-05T15:22:50.946Z"
   },
   {
    "duration": 40,
    "start_time": "2023-06-05T15:23:32.384Z"
   },
   {
    "duration": 60,
    "start_time": "2023-06-05T15:23:48.273Z"
   },
   {
    "duration": 12,
    "start_time": "2023-06-05T15:24:38.577Z"
   },
   {
    "duration": 12,
    "start_time": "2023-06-05T15:38:21.250Z"
   },
   {
    "duration": 12,
    "start_time": "2023-06-05T15:38:32.888Z"
   },
   {
    "duration": 10,
    "start_time": "2023-06-05T15:39:25.251Z"
   },
   {
    "duration": 10,
    "start_time": "2023-06-05T15:39:30.487Z"
   },
   {
    "duration": 9,
    "start_time": "2023-06-05T15:40:08.617Z"
   },
   {
    "duration": 552,
    "start_time": "2023-06-05T15:40:16.521Z"
   },
   {
    "duration": 2354,
    "start_time": "2023-06-05T15:40:17.075Z"
   },
   {
    "duration": 18,
    "start_time": "2023-06-05T15:40:19.431Z"
   },
   {
    "duration": 23,
    "start_time": "2023-06-05T15:40:19.450Z"
   },
   {
    "duration": 8,
    "start_time": "2023-06-05T15:40:19.475Z"
   },
   {
    "duration": 18,
    "start_time": "2023-06-05T15:40:19.485Z"
   },
   {
    "duration": 56,
    "start_time": "2023-06-05T15:40:19.505Z"
   },
   {
    "duration": 10,
    "start_time": "2023-06-05T15:41:01.876Z"
   },
   {
    "duration": 10,
    "start_time": "2023-06-05T15:41:23.397Z"
   },
   {
    "duration": 11,
    "start_time": "2023-06-05T15:43:31.697Z"
   },
   {
    "duration": 9,
    "start_time": "2023-06-05T15:43:48.692Z"
   },
   {
    "duration": 17,
    "start_time": "2023-06-05T15:44:06.552Z"
   },
   {
    "duration": 43,
    "start_time": "2023-06-05T15:45:50.797Z"
   },
   {
    "duration": 6,
    "start_time": "2023-06-05T15:46:23.878Z"
   },
   {
    "duration": 12,
    "start_time": "2023-06-05T15:46:36.026Z"
   },
   {
    "duration": 8,
    "start_time": "2023-06-05T15:49:37.783Z"
   },
   {
    "duration": 7,
    "start_time": "2023-06-05T15:55:05.612Z"
   },
   {
    "duration": 7,
    "start_time": "2023-06-05T15:55:38.553Z"
   },
   {
    "duration": 6,
    "start_time": "2023-06-05T15:55:55.509Z"
   },
   {
    "duration": 42,
    "start_time": "2023-06-05T15:59:30.234Z"
   },
   {
    "duration": 538,
    "start_time": "2023-06-05T15:59:49.477Z"
   },
   {
    "duration": 2323,
    "start_time": "2023-06-05T15:59:50.018Z"
   },
   {
    "duration": 16,
    "start_time": "2023-06-05T15:59:52.343Z"
   },
   {
    "duration": 51,
    "start_time": "2023-06-05T15:59:52.361Z"
   },
   {
    "duration": 9,
    "start_time": "2023-06-05T15:59:52.415Z"
   },
   {
    "duration": 46,
    "start_time": "2023-06-05T15:59:52.426Z"
   },
   {
    "duration": 8,
    "start_time": "2023-06-05T16:02:52.134Z"
   },
   {
    "duration": 7,
    "start_time": "2023-06-05T16:03:05.823Z"
   },
   {
    "duration": 6,
    "start_time": "2023-06-05T16:03:10.662Z"
   },
   {
    "duration": 334,
    "start_time": "2023-06-05T16:03:28.934Z"
   },
   {
    "duration": 6,
    "start_time": "2023-06-05T16:03:58.423Z"
   },
   {
    "duration": 6,
    "start_time": "2023-06-05T16:04:56.889Z"
   },
   {
    "duration": 44,
    "start_time": "2023-06-05T16:19:57.484Z"
   },
   {
    "duration": 9,
    "start_time": "2023-06-05T16:24:50.602Z"
   },
   {
    "duration": 52,
    "start_time": "2023-06-05T16:24:58.994Z"
   },
   {
    "duration": 70,
    "start_time": "2023-06-05T18:35:18.940Z"
   },
   {
    "duration": 68,
    "start_time": "2023-06-06T20:02:28.135Z"
   },
   {
    "duration": 761,
    "start_time": "2023-06-06T20:02:41.706Z"
   },
   {
    "duration": 2157,
    "start_time": "2023-06-06T20:02:42.469Z"
   },
   {
    "duration": 14,
    "start_time": "2023-06-06T20:02:44.627Z"
   },
   {
    "duration": 18,
    "start_time": "2023-06-06T20:02:44.642Z"
   },
   {
    "duration": 7,
    "start_time": "2023-06-06T20:02:44.662Z"
   },
   {
    "duration": 72,
    "start_time": "2023-06-06T20:02:44.671Z"
   },
   {
    "duration": 64,
    "start_time": "2023-06-06T20:06:10.238Z"
   },
   {
    "duration": 56,
    "start_time": "2023-06-06T20:06:19.931Z"
   },
   {
    "duration": 12,
    "start_time": "2023-06-06T20:06:23.027Z"
   },
   {
    "duration": 56,
    "start_time": "2023-06-06T20:06:41.790Z"
   },
   {
    "duration": 11,
    "start_time": "2023-06-06T20:06:44.541Z"
   },
   {
    "duration": 123,
    "start_time": "2023-06-06T20:09:02.082Z"
   },
   {
    "duration": 477,
    "start_time": "2023-06-06T20:10:50.937Z"
   },
   {
    "duration": 1910,
    "start_time": "2023-06-06T20:10:51.416Z"
   },
   {
    "duration": 66,
    "start_time": "2023-06-06T20:10:53.328Z"
   },
   {
    "duration": 12,
    "start_time": "2023-06-06T20:10:53.395Z"
   },
   {
    "duration": 24,
    "start_time": "2023-06-06T20:10:53.408Z"
   },
   {
    "duration": 20,
    "start_time": "2023-06-06T20:10:53.433Z"
   },
   {
    "duration": 75,
    "start_time": "2023-06-06T20:10:53.454Z"
   },
   {
    "duration": 63,
    "start_time": "2023-06-06T20:26:50.406Z"
   },
   {
    "duration": 12,
    "start_time": "2023-06-06T20:51:19.412Z"
   },
   {
    "duration": 20,
    "start_time": "2023-06-06T20:55:52.243Z"
   },
   {
    "duration": 19,
    "start_time": "2023-06-06T20:56:57.515Z"
   },
   {
    "duration": 51,
    "start_time": "2023-06-07T11:08:51.815Z"
   },
   {
    "duration": 541,
    "start_time": "2023-06-07T11:09:01.198Z"
   },
   {
    "duration": 2268,
    "start_time": "2023-06-07T11:09:01.742Z"
   },
   {
    "duration": 71,
    "start_time": "2023-06-07T11:09:04.012Z"
   },
   {
    "duration": 12,
    "start_time": "2023-06-07T11:09:04.085Z"
   },
   {
    "duration": 119,
    "start_time": "2023-06-07T11:09:04.099Z"
   },
   {
    "duration": 7,
    "start_time": "2023-06-07T11:09:04.220Z"
   },
   {
    "duration": 106,
    "start_time": "2023-06-07T11:09:32.901Z"
   },
   {
    "duration": 7,
    "start_time": "2023-06-07T11:10:28.059Z"
   },
   {
    "duration": 102,
    "start_time": "2023-06-07T11:23:50.883Z"
   },
   {
    "duration": 8,
    "start_time": "2023-06-07T11:24:11.714Z"
   },
   {
    "duration": 9,
    "start_time": "2023-06-07T12:44:36.875Z"
   },
   {
    "duration": 360,
    "start_time": "2023-06-07T13:22:50.004Z"
   },
   {
    "duration": 293,
    "start_time": "2023-06-07T13:23:05.105Z"
   },
   {
    "duration": 300,
    "start_time": "2023-06-07T13:33:03.981Z"
   },
   {
    "duration": 308,
    "start_time": "2023-06-07T13:33:16.819Z"
   },
   {
    "duration": 164,
    "start_time": "2023-06-07T13:52:51.951Z"
   },
   {
    "duration": 211,
    "start_time": "2023-06-07T13:57:09.150Z"
   },
   {
    "duration": 190,
    "start_time": "2023-06-07T13:57:13.859Z"
   },
   {
    "duration": 298,
    "start_time": "2023-06-07T13:57:37.343Z"
   },
   {
    "duration": 205,
    "start_time": "2023-06-07T13:57:52.634Z"
   },
   {
    "duration": 195,
    "start_time": "2023-06-07T13:59:07.939Z"
   },
   {
    "duration": 150,
    "start_time": "2023-06-07T13:59:34.000Z"
   },
   {
    "duration": 199,
    "start_time": "2023-06-07T13:59:55.755Z"
   },
   {
    "duration": 13,
    "start_time": "2023-06-07T14:00:22.193Z"
   },
   {
    "duration": 187,
    "start_time": "2023-06-07T14:05:08.109Z"
   },
   {
    "duration": 214,
    "start_time": "2023-06-07T14:07:24.624Z"
   },
   {
    "duration": 210,
    "start_time": "2023-06-07T14:08:19.956Z"
   },
   {
    "duration": 376,
    "start_time": "2023-06-07T14:08:47.960Z"
   },
   {
    "duration": 323,
    "start_time": "2023-06-07T14:08:55.198Z"
   },
   {
    "duration": 805,
    "start_time": "2023-06-07T14:09:02.322Z"
   },
   {
    "duration": 2584,
    "start_time": "2023-06-07T14:09:03.129Z"
   },
   {
    "duration": 125,
    "start_time": "2023-06-07T14:09:05.715Z"
   },
   {
    "duration": 25,
    "start_time": "2023-06-07T14:09:05.844Z"
   },
   {
    "duration": 51,
    "start_time": "2023-06-07T14:09:05.871Z"
   },
   {
    "duration": 128,
    "start_time": "2023-06-07T14:09:05.926Z"
   },
   {
    "duration": 9,
    "start_time": "2023-06-07T14:09:06.056Z"
   },
   {
    "duration": 364,
    "start_time": "2023-06-07T14:09:06.067Z"
   },
   {
    "duration": 236,
    "start_time": "2023-06-07T14:09:06.437Z"
   },
   {
    "duration": 227,
    "start_time": "2023-06-07T14:10:27.006Z"
   },
   {
    "duration": 168,
    "start_time": "2023-06-07T14:19:02.477Z"
   },
   {
    "duration": 267,
    "start_time": "2023-06-07T14:19:25.704Z"
   },
   {
    "duration": 204,
    "start_time": "2023-06-07T14:20:00.748Z"
   },
   {
    "duration": 187,
    "start_time": "2023-06-07T14:20:20.378Z"
   },
   {
    "duration": 324,
    "start_time": "2023-06-07T15:17:56.889Z"
   },
   {
    "duration": 284,
    "start_time": "2023-06-07T15:18:36.752Z"
   },
   {
    "duration": 264,
    "start_time": "2023-06-07T15:19:43.015Z"
   },
   {
    "duration": 264,
    "start_time": "2023-06-07T15:19:53.310Z"
   },
   {
    "duration": 204,
    "start_time": "2023-06-07T15:36:45.064Z"
   },
   {
    "duration": 164,
    "start_time": "2023-06-07T15:37:28.614Z"
   },
   {
    "duration": 252,
    "start_time": "2023-06-07T15:37:49.084Z"
   },
   {
    "duration": 247,
    "start_time": "2023-06-07T15:38:19.437Z"
   },
   {
    "duration": 396,
    "start_time": "2023-06-07T15:38:34.954Z"
   },
   {
    "duration": 229,
    "start_time": "2023-06-07T15:39:07.688Z"
   },
   {
    "duration": 273,
    "start_time": "2023-06-07T15:39:50.541Z"
   },
   {
    "duration": 308,
    "start_time": "2023-06-07T15:40:04.551Z"
   },
   {
    "duration": 263,
    "start_time": "2023-06-07T15:40:33.251Z"
   },
   {
    "duration": 253,
    "start_time": "2023-06-07T15:40:57.842Z"
   },
   {
    "duration": 231,
    "start_time": "2023-06-07T15:41:13.451Z"
   },
   {
    "duration": 278,
    "start_time": "2023-06-07T15:41:37.651Z"
   },
   {
    "duration": 296,
    "start_time": "2023-06-07T15:42:21.645Z"
   },
   {
    "duration": 266,
    "start_time": "2023-06-07T15:42:35.683Z"
   },
   {
    "duration": 276,
    "start_time": "2023-06-07T15:42:58.524Z"
   },
   {
    "duration": 404,
    "start_time": "2023-06-07T15:45:04.641Z"
   },
   {
    "duration": 229,
    "start_time": "2023-06-07T15:45:33.527Z"
   },
   {
    "duration": 235,
    "start_time": "2023-06-07T15:45:46.501Z"
   },
   {
    "duration": 191,
    "start_time": "2023-06-07T15:46:05.682Z"
   },
   {
    "duration": 106,
    "start_time": "2023-06-07T15:46:33.128Z"
   },
   {
    "duration": 163,
    "start_time": "2023-06-07T15:46:36.836Z"
   },
   {
    "duration": 172,
    "start_time": "2023-06-07T15:46:48.994Z"
   },
   {
    "duration": 200,
    "start_time": "2023-06-07T15:47:09.294Z"
   },
   {
    "duration": 181,
    "start_time": "2023-06-07T15:56:27.852Z"
   },
   {
    "duration": 169,
    "start_time": "2023-06-07T15:56:43.848Z"
   },
   {
    "duration": 184,
    "start_time": "2023-06-07T15:57:04.647Z"
   },
   {
    "duration": 275,
    "start_time": "2023-06-07T16:05:03.693Z"
   },
   {
    "duration": 814,
    "start_time": "2023-06-07T16:05:18.956Z"
   },
   {
    "duration": 2267,
    "start_time": "2023-06-07T16:05:19.780Z"
   },
   {
    "duration": 75,
    "start_time": "2023-06-07T16:05:22.048Z"
   },
   {
    "duration": 17,
    "start_time": "2023-06-07T16:05:22.125Z"
   },
   {
    "duration": 36,
    "start_time": "2023-06-07T16:05:22.143Z"
   },
   {
    "duration": 128,
    "start_time": "2023-06-07T16:05:22.188Z"
   },
   {
    "duration": 8,
    "start_time": "2023-06-07T16:05:22.319Z"
   },
   {
    "duration": 304,
    "start_time": "2023-06-07T16:05:22.328Z"
   },
   {
    "duration": 182,
    "start_time": "2023-06-07T16:05:22.634Z"
   },
   {
    "duration": 220,
    "start_time": "2023-06-07T16:05:22.818Z"
   },
   {
    "duration": 177,
    "start_time": "2023-06-07T16:05:23.040Z"
   },
   {
    "duration": 274,
    "start_time": "2023-06-07T16:05:23.218Z"
   },
   {
    "duration": 860,
    "start_time": "2023-06-07T16:09:22.882Z"
   },
   {
    "duration": 2278,
    "start_time": "2023-06-07T16:09:23.744Z"
   },
   {
    "duration": 85,
    "start_time": "2023-06-07T16:09:26.024Z"
   },
   {
    "duration": 20,
    "start_time": "2023-06-07T16:09:26.111Z"
   },
   {
    "duration": 21,
    "start_time": "2023-06-07T16:09:26.133Z"
   },
   {
    "duration": 150,
    "start_time": "2023-06-07T16:09:26.156Z"
   },
   {
    "duration": 13,
    "start_time": "2023-06-07T16:09:26.308Z"
   },
   {
    "duration": 353,
    "start_time": "2023-06-07T16:09:26.322Z"
   },
   {
    "duration": 195,
    "start_time": "2023-06-07T16:09:26.677Z"
   },
   {
    "duration": 216,
    "start_time": "2023-06-07T16:09:26.878Z"
   },
   {
    "duration": 190,
    "start_time": "2023-06-07T16:09:27.096Z"
   },
   {
    "duration": 334,
    "start_time": "2023-06-07T16:09:27.288Z"
   },
   {
    "duration": 13,
    "start_time": "2023-06-07T16:09:52.644Z"
   },
   {
    "duration": 211,
    "start_time": "2023-06-07T16:10:31.250Z"
   },
   {
    "duration": 132,
    "start_time": "2023-06-07T16:15:53.441Z"
   },
   {
    "duration": 215,
    "start_time": "2023-06-07T16:16:05.740Z"
   },
   {
    "duration": 87,
    "start_time": "2023-06-07T16:16:40.183Z"
   },
   {
    "duration": 122,
    "start_time": "2023-06-07T16:16:57.722Z"
   },
   {
    "duration": 105,
    "start_time": "2023-06-07T16:17:34.500Z"
   },
   {
    "duration": 292,
    "start_time": "2023-06-07T17:17:20.516Z"
   },
   {
    "duration": 714,
    "start_time": "2023-06-07T17:17:38.810Z"
   },
   {
    "duration": 2137,
    "start_time": "2023-06-07T17:17:39.526Z"
   },
   {
    "duration": 91,
    "start_time": "2023-06-07T17:17:41.664Z"
   },
   {
    "duration": 25,
    "start_time": "2023-06-07T17:17:41.756Z"
   },
   {
    "duration": 30,
    "start_time": "2023-06-07T17:17:41.784Z"
   },
   {
    "duration": 151,
    "start_time": "2023-06-07T17:17:41.816Z"
   },
   {
    "duration": 17,
    "start_time": "2023-06-07T17:17:41.969Z"
   },
   {
    "duration": 283,
    "start_time": "2023-06-07T17:17:41.988Z"
   },
   {
    "duration": 190,
    "start_time": "2023-06-07T17:17:42.277Z"
   },
   {
    "duration": 177,
    "start_time": "2023-06-07T17:17:42.469Z"
   },
   {
    "duration": 190,
    "start_time": "2023-06-07T17:17:42.648Z"
   },
   {
    "duration": 269,
    "start_time": "2023-06-07T17:17:42.840Z"
   },
   {
    "duration": 138,
    "start_time": "2023-06-07T17:18:59.756Z"
   },
   {
    "duration": 12,
    "start_time": "2023-06-07T17:19:07.931Z"
   },
   {
    "duration": 190,
    "start_time": "2023-06-07T17:19:33.396Z"
   },
   {
    "duration": 142,
    "start_time": "2023-06-07T17:21:33.286Z"
   },
   {
    "duration": 750,
    "start_time": "2023-06-07T17:21:52.676Z"
   },
   {
    "duration": 2087,
    "start_time": "2023-06-07T17:21:53.427Z"
   },
   {
    "duration": 118,
    "start_time": "2023-06-07T17:21:55.517Z"
   },
   {
    "duration": 23,
    "start_time": "2023-06-07T17:21:55.638Z"
   },
   {
    "duration": 34,
    "start_time": "2023-06-07T17:21:55.664Z"
   },
   {
    "duration": 120,
    "start_time": "2023-06-07T17:21:55.700Z"
   },
   {
    "duration": 8,
    "start_time": "2023-06-07T17:21:55.821Z"
   },
   {
    "duration": 296,
    "start_time": "2023-06-07T17:21:55.832Z"
   },
   {
    "duration": 214,
    "start_time": "2023-06-07T17:21:56.130Z"
   },
   {
    "duration": 201,
    "start_time": "2023-06-07T17:21:56.346Z"
   },
   {
    "duration": 200,
    "start_time": "2023-06-07T17:21:56.550Z"
   },
   {
    "duration": 262,
    "start_time": "2023-06-07T17:21:56.751Z"
   },
   {
    "duration": 241,
    "start_time": "2023-06-07T17:22:59.998Z"
   },
   {
    "duration": 190,
    "start_time": "2023-06-07T17:23:31.817Z"
   },
   {
    "duration": 202,
    "start_time": "2023-06-07T17:23:42.265Z"
   },
   {
    "duration": 200,
    "start_time": "2023-06-07T17:23:50.569Z"
   },
   {
    "duration": 177,
    "start_time": "2023-06-07T17:25:46.434Z"
   },
   {
    "duration": 246,
    "start_time": "2023-06-07T17:25:56.497Z"
   },
   {
    "duration": 259,
    "start_time": "2023-06-07T17:26:19.477Z"
   },
   {
    "duration": 913,
    "start_time": "2023-06-07T17:26:30.126Z"
   },
   {
    "duration": 2562,
    "start_time": "2023-06-07T17:26:31.041Z"
   },
   {
    "duration": 79,
    "start_time": "2023-06-07T17:26:33.605Z"
   },
   {
    "duration": 21,
    "start_time": "2023-06-07T17:26:33.686Z"
   },
   {
    "duration": 28,
    "start_time": "2023-06-07T17:26:33.710Z"
   },
   {
    "duration": 149,
    "start_time": "2023-06-07T17:26:33.741Z"
   },
   {
    "duration": 15,
    "start_time": "2023-06-07T17:26:33.892Z"
   },
   {
    "duration": 374,
    "start_time": "2023-06-07T17:26:33.909Z"
   },
   {
    "duration": 204,
    "start_time": "2023-06-07T17:26:34.285Z"
   },
   {
    "duration": 239,
    "start_time": "2023-06-07T17:26:34.491Z"
   },
   {
    "duration": 236,
    "start_time": "2023-06-07T17:26:34.733Z"
   },
   {
    "duration": 314,
    "start_time": "2023-06-07T17:26:34.971Z"
   },
   {
    "duration": 151,
    "start_time": "2023-06-07T17:27:19.020Z"
   },
   {
    "duration": 134,
    "start_time": "2023-06-07T17:27:26.030Z"
   },
   {
    "duration": 161,
    "start_time": "2023-06-07T17:29:38.903Z"
   },
   {
    "duration": 175,
    "start_time": "2023-06-07T17:30:07.125Z"
   },
   {
    "duration": 147,
    "start_time": "2023-06-07T17:30:36.623Z"
   },
   {
    "duration": 156,
    "start_time": "2023-06-07T17:30:41.914Z"
   },
   {
    "duration": 124,
    "start_time": "2023-06-07T17:30:47.212Z"
   },
   {
    "duration": 124,
    "start_time": "2023-06-07T17:31:36.209Z"
   },
   {
    "duration": 183,
    "start_time": "2023-06-07T17:31:46.836Z"
   },
   {
    "duration": 174,
    "start_time": "2023-06-07T17:32:17.975Z"
   },
   {
    "duration": 147,
    "start_time": "2023-06-07T17:32:37.200Z"
   },
   {
    "duration": 277,
    "start_time": "2023-06-07T17:32:51.652Z"
   },
   {
    "duration": 160,
    "start_time": "2023-06-07T17:32:56.569Z"
   },
   {
    "duration": 184,
    "start_time": "2023-06-07T17:33:02.754Z"
   },
   {
    "duration": 166,
    "start_time": "2023-06-07T17:33:29.921Z"
   },
   {
    "duration": 147,
    "start_time": "2023-06-07T17:33:49.269Z"
   },
   {
    "duration": 186,
    "start_time": "2023-06-07T17:33:53.708Z"
   },
   {
    "duration": 194,
    "start_time": "2023-06-07T17:35:54.533Z"
   },
   {
    "duration": 206,
    "start_time": "2023-06-07T17:37:06.932Z"
   },
   {
    "duration": 211,
    "start_time": "2023-06-07T17:38:27.577Z"
   },
   {
    "duration": 80,
    "start_time": "2023-06-07T17:50:09.112Z"
   },
   {
    "duration": 67,
    "start_time": "2023-06-07T17:52:22.345Z"
   },
   {
    "duration": 62,
    "start_time": "2023-06-07T17:52:26.557Z"
   },
   {
    "duration": 302,
    "start_time": "2023-06-07T18:41:31.115Z"
   },
   {
    "duration": 184,
    "start_time": "2023-06-07T18:49:01.800Z"
   },
   {
    "duration": 333,
    "start_time": "2023-06-07T18:49:57.076Z"
   },
   {
    "duration": 207,
    "start_time": "2023-06-07T18:50:14.460Z"
   },
   {
    "duration": 157,
    "start_time": "2023-06-07T18:50:38.742Z"
   },
   {
    "duration": 192,
    "start_time": "2023-06-07T18:50:45.843Z"
   },
   {
    "duration": 173,
    "start_time": "2023-06-07T18:57:01.596Z"
   },
   {
    "duration": 178,
    "start_time": "2023-06-07T18:57:06.253Z"
   },
   {
    "duration": 77,
    "start_time": "2023-06-08T09:39:46.659Z"
   },
   {
    "duration": 1451,
    "start_time": "2023-06-08T09:40:15.852Z"
   },
   {
    "duration": 3088,
    "start_time": "2023-06-08T09:40:17.306Z"
   },
   {
    "duration": 114,
    "start_time": "2023-06-08T09:40:20.396Z"
   },
   {
    "duration": 27,
    "start_time": "2023-06-08T09:40:20.515Z"
   },
   {
    "duration": 32,
    "start_time": "2023-06-08T09:40:20.550Z"
   },
   {
    "duration": 191,
    "start_time": "2023-06-08T09:40:20.583Z"
   },
   {
    "duration": 12,
    "start_time": "2023-06-08T09:40:20.776Z"
   },
   {
    "duration": 380,
    "start_time": "2023-06-08T09:40:20.791Z"
   },
   {
    "duration": 281,
    "start_time": "2023-06-08T09:40:21.175Z"
   },
   {
    "duration": 289,
    "start_time": "2023-06-08T09:40:21.459Z"
   },
   {
    "duration": 298,
    "start_time": "2023-06-08T09:40:21.750Z"
   },
   {
    "duration": 288,
    "start_time": "2023-06-08T09:40:22.053Z"
   },
   {
    "duration": 247,
    "start_time": "2023-06-08T09:40:22.344Z"
   },
   {
    "duration": 199,
    "start_time": "2023-06-08T09:40:22.594Z"
   },
   {
    "duration": 189,
    "start_time": "2023-06-08T09:40:22.795Z"
   },
   {
    "duration": 157,
    "start_time": "2023-06-08T09:40:22.986Z"
   },
   {
    "duration": 0,
    "start_time": "2023-06-08T09:40:23.146Z"
   },
   {
    "duration": 0,
    "start_time": "2023-06-08T09:40:23.147Z"
   },
   {
    "duration": 0,
    "start_time": "2023-06-08T09:40:23.149Z"
   },
   {
    "duration": 0,
    "start_time": "2023-06-08T09:40:23.150Z"
   },
   {
    "duration": 0,
    "start_time": "2023-06-08T09:40:23.151Z"
   },
   {
    "duration": 22,
    "start_time": "2023-06-08T09:41:19.593Z"
   },
   {
    "duration": 28,
    "start_time": "2023-06-08T09:41:35.488Z"
   },
   {
    "duration": 1086,
    "start_time": "2023-06-08T09:41:43.309Z"
   },
   {
    "duration": 3177,
    "start_time": "2023-06-08T09:41:44.398Z"
   },
   {
    "duration": 116,
    "start_time": "2023-06-08T09:41:47.576Z"
   },
   {
    "duration": 20,
    "start_time": "2023-06-08T09:41:47.694Z"
   },
   {
    "duration": 26,
    "start_time": "2023-06-08T09:41:47.717Z"
   },
   {
    "duration": 154,
    "start_time": "2023-06-08T09:41:47.745Z"
   },
   {
    "duration": 10,
    "start_time": "2023-06-08T09:41:47.901Z"
   },
   {
    "duration": 403,
    "start_time": "2023-06-08T09:41:47.913Z"
   },
   {
    "duration": 231,
    "start_time": "2023-06-08T09:41:48.328Z"
   },
   {
    "duration": 222,
    "start_time": "2023-06-08T09:41:48.564Z"
   },
   {
    "duration": 232,
    "start_time": "2023-06-08T09:41:48.788Z"
   },
   {
    "duration": 361,
    "start_time": "2023-06-08T09:41:49.025Z"
   },
   {
    "duration": 286,
    "start_time": "2023-06-08T09:41:49.389Z"
   },
   {
    "duration": 246,
    "start_time": "2023-06-08T09:41:49.679Z"
   },
   {
    "duration": 271,
    "start_time": "2023-06-08T09:41:49.928Z"
   },
   {
    "duration": 154,
    "start_time": "2023-06-08T09:41:50.202Z"
   },
   {
    "duration": 0,
    "start_time": "2023-06-08T09:41:50.360Z"
   },
   {
    "duration": 0,
    "start_time": "2023-06-08T09:41:50.366Z"
   },
   {
    "duration": 0,
    "start_time": "2023-06-08T09:41:50.367Z"
   },
   {
    "duration": 0,
    "start_time": "2023-06-08T09:41:50.369Z"
   },
   {
    "duration": 0,
    "start_time": "2023-06-08T09:41:50.381Z"
   },
   {
    "duration": 235,
    "start_time": "2023-06-08T09:42:13.736Z"
   },
   {
    "duration": 272,
    "start_time": "2023-06-08T09:45:29.512Z"
   },
   {
    "duration": 326,
    "start_time": "2023-06-08T09:46:05.916Z"
   },
   {
    "duration": 441,
    "start_time": "2023-06-08T09:52:46.595Z"
   },
   {
    "duration": 457,
    "start_time": "2023-06-08T09:53:26.095Z"
   },
   {
    "duration": 468,
    "start_time": "2023-06-08T09:56:56.364Z"
   },
   {
    "duration": 393,
    "start_time": "2023-06-08T10:04:25.577Z"
   },
   {
    "duration": 377,
    "start_time": "2023-06-08T10:05:27.908Z"
   },
   {
    "duration": 436,
    "start_time": "2023-06-08T10:19:19.993Z"
   },
   {
    "duration": 571,
    "start_time": "2023-06-08T10:19:29.750Z"
   },
   {
    "duration": 331,
    "start_time": "2023-06-08T10:19:39.299Z"
   },
   {
    "duration": 447,
    "start_time": "2023-06-08T10:30:36.045Z"
   },
   {
    "duration": 324,
    "start_time": "2023-06-08T10:32:23.298Z"
   },
   {
    "duration": 297,
    "start_time": "2023-06-08T10:32:40.623Z"
   },
   {
    "duration": 478,
    "start_time": "2023-06-08T10:42:32.731Z"
   },
   {
    "duration": 372,
    "start_time": "2023-06-08T11:01:20.405Z"
   },
   {
    "duration": 220,
    "start_time": "2023-06-08T11:01:56.995Z"
   },
   {
    "duration": 379,
    "start_time": "2023-06-08T11:02:12.378Z"
   },
   {
    "duration": 485,
    "start_time": "2023-06-08T11:02:29.020Z"
   },
   {
    "duration": 621,
    "start_time": "2023-06-08T11:03:15.996Z"
   },
   {
    "duration": 449,
    "start_time": "2023-06-08T11:03:41.386Z"
   },
   {
    "duration": 455,
    "start_time": "2023-06-08T11:27:15.106Z"
   },
   {
    "duration": 571,
    "start_time": "2023-06-08T11:31:55.106Z"
   },
   {
    "duration": 475,
    "start_time": "2023-06-08T11:32:58.186Z"
   },
   {
    "duration": 682,
    "start_time": "2023-06-08T11:33:26.086Z"
   },
   {
    "duration": 570,
    "start_time": "2023-06-08T11:39:14.806Z"
   },
   {
    "duration": 764,
    "start_time": "2023-06-08T12:27:22.165Z"
   },
   {
    "duration": 2311,
    "start_time": "2023-06-08T12:27:22.931Z"
   },
   {
    "duration": 80,
    "start_time": "2023-06-08T12:27:25.244Z"
   },
   {
    "duration": 16,
    "start_time": "2023-06-08T12:27:25.326Z"
   },
   {
    "duration": 26,
    "start_time": "2023-06-08T12:27:25.344Z"
   },
   {
    "duration": 152,
    "start_time": "2023-06-08T12:27:25.373Z"
   },
   {
    "duration": 11,
    "start_time": "2023-06-08T12:27:25.528Z"
   },
   {
    "duration": 352,
    "start_time": "2023-06-08T12:27:25.541Z"
   },
   {
    "duration": 191,
    "start_time": "2023-06-08T12:27:25.895Z"
   },
   {
    "duration": 203,
    "start_time": "2023-06-08T12:27:26.088Z"
   },
   {
    "duration": 247,
    "start_time": "2023-06-08T12:27:26.293Z"
   },
   {
    "duration": 272,
    "start_time": "2023-06-08T12:27:26.543Z"
   },
   {
    "duration": 195,
    "start_time": "2023-06-08T12:27:26.818Z"
   },
   {
    "duration": 192,
    "start_time": "2023-06-08T12:27:27.014Z"
   },
   {
    "duration": 181,
    "start_time": "2023-06-08T12:27:27.208Z"
   },
   {
    "duration": 144,
    "start_time": "2023-06-08T12:27:27.392Z"
   },
   {
    "duration": 195,
    "start_time": "2023-06-08T12:27:27.537Z"
   },
   {
    "duration": 294,
    "start_time": "2023-06-08T12:27:27.734Z"
   },
   {
    "duration": 289,
    "start_time": "2023-06-08T12:27:28.030Z"
   },
   {
    "duration": 190,
    "start_time": "2023-06-08T12:27:28.325Z"
   },
   {
    "duration": 269,
    "start_time": "2023-06-08T12:27:28.517Z"
   },
   {
    "duration": 172,
    "start_time": "2023-06-08T12:27:28.787Z"
   },
   {
    "duration": 309,
    "start_time": "2023-06-08T12:27:28.961Z"
   },
   {
    "duration": 284,
    "start_time": "2023-06-08T12:27:50.818Z"
   },
   {
    "duration": 297,
    "start_time": "2023-06-08T12:28:42.195Z"
   },
   {
    "duration": 111,
    "start_time": "2023-06-08T12:31:04.314Z"
   },
   {
    "duration": 99,
    "start_time": "2023-06-08T12:31:14.466Z"
   },
   {
    "duration": 95,
    "start_time": "2023-06-08T12:31:55.111Z"
   },
   {
    "duration": 60,
    "start_time": "2023-06-08T13:02:51.450Z"
   },
   {
    "duration": 60,
    "start_time": "2023-06-08T13:03:00.875Z"
   },
   {
    "duration": 53,
    "start_time": "2023-06-08T13:03:10.811Z"
   },
   {
    "duration": 49,
    "start_time": "2023-06-08T13:03:22.955Z"
   },
   {
    "duration": 759,
    "start_time": "2023-06-08T13:03:37.511Z"
   },
   {
    "duration": 0,
    "start_time": "2023-06-08T13:03:38.272Z"
   },
   {
    "duration": 0,
    "start_time": "2023-06-08T13:03:38.273Z"
   },
   {
    "duration": 0,
    "start_time": "2023-06-08T13:03:38.274Z"
   },
   {
    "duration": 0,
    "start_time": "2023-06-08T13:03:38.276Z"
   },
   {
    "duration": 0,
    "start_time": "2023-06-08T13:03:38.278Z"
   },
   {
    "duration": 0,
    "start_time": "2023-06-08T13:03:38.279Z"
   },
   {
    "duration": 0,
    "start_time": "2023-06-08T13:03:38.281Z"
   },
   {
    "duration": 0,
    "start_time": "2023-06-08T13:03:38.283Z"
   },
   {
    "duration": 0,
    "start_time": "2023-06-08T13:03:38.285Z"
   },
   {
    "duration": 0,
    "start_time": "2023-06-08T13:03:38.286Z"
   },
   {
    "duration": 0,
    "start_time": "2023-06-08T13:03:38.288Z"
   },
   {
    "duration": 0,
    "start_time": "2023-06-08T13:03:38.289Z"
   },
   {
    "duration": 0,
    "start_time": "2023-06-08T13:03:38.291Z"
   },
   {
    "duration": 0,
    "start_time": "2023-06-08T13:03:38.292Z"
   },
   {
    "duration": 0,
    "start_time": "2023-06-08T13:03:38.293Z"
   },
   {
    "duration": 0,
    "start_time": "2023-06-08T13:03:38.325Z"
   },
   {
    "duration": 0,
    "start_time": "2023-06-08T13:03:38.327Z"
   },
   {
    "duration": 0,
    "start_time": "2023-06-08T13:03:38.329Z"
   },
   {
    "duration": 0,
    "start_time": "2023-06-08T13:03:38.330Z"
   },
   {
    "duration": 0,
    "start_time": "2023-06-08T13:03:38.331Z"
   },
   {
    "duration": 0,
    "start_time": "2023-06-08T13:03:38.333Z"
   },
   {
    "duration": 0,
    "start_time": "2023-06-08T13:03:38.334Z"
   },
   {
    "duration": 0,
    "start_time": "2023-06-08T13:03:38.335Z"
   },
   {
    "duration": 0,
    "start_time": "2023-06-08T13:03:38.336Z"
   },
   {
    "duration": 50,
    "start_time": "2023-06-08T13:03:50.907Z"
   },
   {
    "duration": 75,
    "start_time": "2023-06-08T13:04:01.002Z"
   },
   {
    "duration": 9,
    "start_time": "2023-06-08T13:04:09.343Z"
   },
   {
    "duration": 736,
    "start_time": "2023-06-08T13:04:22.084Z"
   },
   {
    "duration": 0,
    "start_time": "2023-06-08T13:04:22.822Z"
   },
   {
    "duration": 0,
    "start_time": "2023-06-08T13:04:22.825Z"
   },
   {
    "duration": 0,
    "start_time": "2023-06-08T13:04:22.827Z"
   },
   {
    "duration": 0,
    "start_time": "2023-06-08T13:04:22.828Z"
   },
   {
    "duration": 0,
    "start_time": "2023-06-08T13:04:22.830Z"
   },
   {
    "duration": 0,
    "start_time": "2023-06-08T13:04:22.832Z"
   },
   {
    "duration": 0,
    "start_time": "2023-06-08T13:04:22.833Z"
   },
   {
    "duration": 0,
    "start_time": "2023-06-08T13:04:22.834Z"
   },
   {
    "duration": 0,
    "start_time": "2023-06-08T13:04:22.835Z"
   },
   {
    "duration": 0,
    "start_time": "2023-06-08T13:04:22.837Z"
   },
   {
    "duration": 0,
    "start_time": "2023-06-08T13:04:22.838Z"
   },
   {
    "duration": 0,
    "start_time": "2023-06-08T13:04:22.839Z"
   },
   {
    "duration": 1,
    "start_time": "2023-06-08T13:04:22.840Z"
   },
   {
    "duration": 0,
    "start_time": "2023-06-08T13:04:22.842Z"
   },
   {
    "duration": 0,
    "start_time": "2023-06-08T13:04:22.843Z"
   },
   {
    "duration": 0,
    "start_time": "2023-06-08T13:04:22.844Z"
   },
   {
    "duration": 0,
    "start_time": "2023-06-08T13:04:22.845Z"
   },
   {
    "duration": 0,
    "start_time": "2023-06-08T13:04:22.846Z"
   },
   {
    "duration": 0,
    "start_time": "2023-06-08T13:04:22.848Z"
   },
   {
    "duration": 0,
    "start_time": "2023-06-08T13:04:22.849Z"
   },
   {
    "duration": 0,
    "start_time": "2023-06-08T13:04:22.850Z"
   },
   {
    "duration": 0,
    "start_time": "2023-06-08T13:04:22.852Z"
   },
   {
    "duration": 0,
    "start_time": "2023-06-08T13:04:22.852Z"
   },
   {
    "duration": 0,
    "start_time": "2023-06-08T13:04:22.854Z"
   },
   {
    "duration": 10,
    "start_time": "2023-06-08T13:04:33.732Z"
   },
   {
    "duration": 27,
    "start_time": "2023-06-08T13:07:18.886Z"
   },
   {
    "duration": 170,
    "start_time": "2023-06-08T13:09:42.986Z"
   },
   {
    "duration": 2324,
    "start_time": "2023-06-08T13:09:55.450Z"
   },
   {
    "duration": 109,
    "start_time": "2023-06-08T13:10:01.838Z"
   },
   {
    "duration": 16,
    "start_time": "2023-06-08T13:10:06.254Z"
   },
   {
    "duration": 26,
    "start_time": "2023-06-08T13:10:16.815Z"
   },
   {
    "duration": 128,
    "start_time": "2023-06-08T13:10:21.095Z"
   },
   {
    "duration": 9,
    "start_time": "2023-06-08T13:10:25.512Z"
   },
   {
    "duration": 315,
    "start_time": "2023-06-08T13:10:34.535Z"
   },
   {
    "duration": 751,
    "start_time": "2023-06-08T13:11:05.961Z"
   },
   {
    "duration": 2261,
    "start_time": "2023-06-08T13:11:06.714Z"
   },
   {
    "duration": 84,
    "start_time": "2023-06-08T13:11:08.977Z"
   },
   {
    "duration": 16,
    "start_time": "2023-06-08T13:11:09.062Z"
   },
   {
    "duration": 31,
    "start_time": "2023-06-08T13:11:09.080Z"
   },
   {
    "duration": 118,
    "start_time": "2023-06-08T13:11:09.126Z"
   },
   {
    "duration": 9,
    "start_time": "2023-06-08T13:11:09.246Z"
   },
   {
    "duration": 346,
    "start_time": "2023-06-08T13:11:09.256Z"
   },
   {
    "duration": 252,
    "start_time": "2023-06-08T13:11:09.604Z"
   },
   {
    "duration": 221,
    "start_time": "2023-06-08T13:11:09.859Z"
   },
   {
    "duration": 194,
    "start_time": "2023-06-08T13:11:10.082Z"
   },
   {
    "duration": 264,
    "start_time": "2023-06-08T13:11:10.277Z"
   },
   {
    "duration": 193,
    "start_time": "2023-06-08T13:11:10.542Z"
   },
   {
    "duration": 188,
    "start_time": "2023-06-08T13:11:10.738Z"
   },
   {
    "duration": 181,
    "start_time": "2023-06-08T13:11:10.927Z"
   },
   {
    "duration": 152,
    "start_time": "2023-06-08T13:11:11.110Z"
   },
   {
    "duration": 198,
    "start_time": "2023-06-08T13:11:11.264Z"
   },
   {
    "duration": 274,
    "start_time": "2023-06-08T13:11:11.464Z"
   },
   {
    "duration": 279,
    "start_time": "2023-06-08T13:11:11.740Z"
   },
   {
    "duration": 191,
    "start_time": "2023-06-08T13:11:12.025Z"
   },
   {
    "duration": 279,
    "start_time": "2023-06-08T13:11:12.217Z"
   },
   {
    "duration": 172,
    "start_time": "2023-06-08T13:11:12.497Z"
   },
   {
    "duration": 315,
    "start_time": "2023-06-08T13:11:12.672Z"
   },
   {
    "duration": 115,
    "start_time": "2023-06-08T13:11:12.988Z"
   },
   {
    "duration": 176,
    "start_time": "2023-06-08T13:11:13.105Z"
   },
   {
    "duration": 188,
    "start_time": "2023-06-08T13:12:14.914Z"
   },
   {
    "duration": 204,
    "start_time": "2023-06-08T13:12:24.924Z"
   },
   {
    "duration": 195,
    "start_time": "2023-06-08T13:22:33.953Z"
   },
   {
    "duration": 255,
    "start_time": "2023-06-08T13:23:37.410Z"
   },
   {
    "duration": 163,
    "start_time": "2023-06-08T13:24:54.583Z"
   },
   {
    "duration": 301,
    "start_time": "2023-06-08T13:28:23.903Z"
   },
   {
    "duration": 87,
    "start_time": "2023-06-08T13:35:30.008Z"
   },
   {
    "duration": 308,
    "start_time": "2023-06-08T13:35:48.584Z"
   },
   {
    "duration": 259,
    "start_time": "2023-06-08T13:36:01.446Z"
   },
   {
    "duration": 245,
    "start_time": "2023-06-08T13:36:36.516Z"
   },
   {
    "duration": 332,
    "start_time": "2023-06-08T13:36:49.306Z"
   },
   {
    "duration": 64,
    "start_time": "2023-06-08T16:09:30.991Z"
   },
   {
    "duration": 999,
    "start_time": "2023-06-08T16:09:39.618Z"
   },
   {
    "duration": 2126,
    "start_time": "2023-06-08T16:09:40.619Z"
   },
   {
    "duration": 74,
    "start_time": "2023-06-08T16:09:42.747Z"
   },
   {
    "duration": 15,
    "start_time": "2023-06-08T16:09:42.822Z"
   },
   {
    "duration": 37,
    "start_time": "2023-06-08T16:09:42.839Z"
   },
   {
    "duration": 112,
    "start_time": "2023-06-08T16:09:42.878Z"
   },
   {
    "duration": 8,
    "start_time": "2023-06-08T16:09:42.992Z"
   },
   {
    "duration": 294,
    "start_time": "2023-06-08T16:09:43.001Z"
   },
   {
    "duration": 184,
    "start_time": "2023-06-08T16:09:43.298Z"
   },
   {
    "duration": 176,
    "start_time": "2023-06-08T16:09:43.484Z"
   },
   {
    "duration": 187,
    "start_time": "2023-06-08T16:09:43.662Z"
   },
   {
    "duration": 251,
    "start_time": "2023-06-08T16:09:43.851Z"
   },
   {
    "duration": 168,
    "start_time": "2023-06-08T16:09:44.104Z"
   },
   {
    "duration": 155,
    "start_time": "2023-06-08T16:09:44.275Z"
   },
   {
    "duration": 165,
    "start_time": "2023-06-08T16:09:44.432Z"
   },
   {
    "duration": 126,
    "start_time": "2023-06-08T16:09:44.599Z"
   },
   {
    "duration": 184,
    "start_time": "2023-06-08T16:09:44.727Z"
   },
   {
    "duration": 254,
    "start_time": "2023-06-08T16:09:44.912Z"
   },
   {
    "duration": 272,
    "start_time": "2023-06-08T16:09:45.168Z"
   },
   {
    "duration": 195,
    "start_time": "2023-06-08T16:09:45.442Z"
   },
   {
    "duration": 275,
    "start_time": "2023-06-08T16:09:45.639Z"
   },
   {
    "duration": 162,
    "start_time": "2023-06-08T16:09:45.916Z"
   },
   {
    "duration": 257,
    "start_time": "2023-06-08T16:09:46.080Z"
   },
   {
    "duration": 96,
    "start_time": "2023-06-08T16:09:46.339Z"
   },
   {
    "duration": 176,
    "start_time": "2023-06-08T16:09:46.436Z"
   },
   {
    "duration": 191,
    "start_time": "2023-06-08T16:09:46.613Z"
   },
   {
    "duration": 2,
    "start_time": "2023-06-08T16:09:46.805Z"
   },
   {
    "duration": 5,
    "start_time": "2023-06-08T16:09:46.809Z"
   },
   {
    "duration": 4,
    "start_time": "2023-06-08T16:09:46.815Z"
   },
   {
    "duration": 4,
    "start_time": "2023-06-08T16:09:46.820Z"
   },
   {
    "duration": 200,
    "start_time": "2023-06-08T16:13:28.810Z"
   },
   {
    "duration": 167,
    "start_time": "2023-06-08T16:15:41.553Z"
   },
   {
    "duration": 169,
    "start_time": "2023-06-08T16:19:49.889Z"
   },
   {
    "duration": 485,
    "start_time": "2023-06-08T16:22:22.846Z"
   },
   {
    "duration": 514,
    "start_time": "2023-06-08T16:22:31.402Z"
   },
   {
    "duration": 145,
    "start_time": "2023-06-08T16:22:46.770Z"
   },
   {
    "duration": 404,
    "start_time": "2023-06-08T16:23:00.654Z"
   },
   {
    "duration": 746,
    "start_time": "2023-06-08T16:25:06.309Z"
   },
   {
    "duration": 2292,
    "start_time": "2023-06-08T16:25:07.057Z"
   },
   {
    "duration": 77,
    "start_time": "2023-06-08T16:25:09.351Z"
   },
   {
    "duration": 27,
    "start_time": "2023-06-08T16:25:09.430Z"
   },
   {
    "duration": 23,
    "start_time": "2023-06-08T16:25:09.459Z"
   },
   {
    "duration": 119,
    "start_time": "2023-06-08T16:25:09.484Z"
   },
   {
    "duration": 9,
    "start_time": "2023-06-08T16:25:09.604Z"
   },
   {
    "duration": 288,
    "start_time": "2023-06-08T16:25:09.614Z"
   },
   {
    "duration": 185,
    "start_time": "2023-06-08T16:25:09.904Z"
   },
   {
    "duration": 173,
    "start_time": "2023-06-08T16:25:10.091Z"
   },
   {
    "duration": 180,
    "start_time": "2023-06-08T16:25:10.266Z"
   },
   {
    "duration": 273,
    "start_time": "2023-06-08T16:25:10.448Z"
   },
   {
    "duration": 180,
    "start_time": "2023-06-08T16:25:10.723Z"
   },
   {
    "duration": 171,
    "start_time": "2023-06-08T16:25:10.905Z"
   },
   {
    "duration": 162,
    "start_time": "2023-06-08T16:25:11.078Z"
   },
   {
    "duration": 133,
    "start_time": "2023-06-08T16:25:11.242Z"
   },
   {
    "duration": 175,
    "start_time": "2023-06-08T16:25:11.377Z"
   },
   {
    "duration": 248,
    "start_time": "2023-06-08T16:25:11.556Z"
   },
   {
    "duration": 266,
    "start_time": "2023-06-08T16:25:11.806Z"
   },
   {
    "duration": 182,
    "start_time": "2023-06-08T16:25:12.074Z"
   },
   {
    "duration": 276,
    "start_time": "2023-06-08T16:25:12.258Z"
   },
   {
    "duration": 162,
    "start_time": "2023-06-08T16:25:12.536Z"
   },
   {
    "duration": 267,
    "start_time": "2023-06-08T16:25:12.700Z"
   },
   {
    "duration": 105,
    "start_time": "2023-06-08T16:25:12.969Z"
   },
   {
    "duration": 194,
    "start_time": "2023-06-08T16:25:13.076Z"
   },
   {
    "duration": 190,
    "start_time": "2023-06-08T16:25:13.272Z"
   },
   {
    "duration": 171,
    "start_time": "2023-06-08T16:25:13.464Z"
   },
   {
    "duration": 183,
    "start_time": "2023-06-08T16:25:13.637Z"
   },
   {
    "duration": 426,
    "start_time": "2023-06-08T16:25:13.822Z"
   },
   {
    "duration": 0,
    "start_time": "2023-06-08T16:25:14.250Z"
   },
   {
    "duration": 373,
    "start_time": "2023-06-08T16:25:56.196Z"
   },
   {
    "duration": 469,
    "start_time": "2023-06-08T16:27:19.463Z"
   },
   {
    "duration": 375,
    "start_time": "2023-06-08T16:27:42.900Z"
   },
   {
    "duration": 141,
    "start_time": "2023-06-08T16:28:09.736Z"
   },
   {
    "duration": 150,
    "start_time": "2023-06-08T16:28:50.407Z"
   },
   {
    "duration": 169,
    "start_time": "2023-06-08T16:39:55.642Z"
   },
   {
    "duration": 170,
    "start_time": "2023-06-08T16:40:18.091Z"
   },
   {
    "duration": 755,
    "start_time": "2023-06-08T16:50:06.418Z"
   },
   {
    "duration": 762,
    "start_time": "2023-06-08T16:50:18.029Z"
   },
   {
    "duration": 211,
    "start_time": "2023-06-08T16:50:26.269Z"
   },
   {
    "duration": 171,
    "start_time": "2023-06-08T16:52:20.155Z"
   },
   {
    "duration": 512,
    "start_time": "2023-06-08T16:53:36.522Z"
   },
   {
    "duration": 11,
    "start_time": "2023-06-08T17:12:41.808Z"
   },
   {
    "duration": 10,
    "start_time": "2023-06-08T17:13:23.530Z"
   },
   {
    "duration": 5,
    "start_time": "2023-06-08T17:14:57.010Z"
   },
   {
    "duration": 6,
    "start_time": "2023-06-08T17:15:00.058Z"
   },
   {
    "duration": 20,
    "start_time": "2023-06-08T17:27:56.147Z"
   },
   {
    "duration": 26,
    "start_time": "2023-06-08T17:28:02.618Z"
   },
   {
    "duration": 28,
    "start_time": "2023-06-08T17:28:16.802Z"
   },
   {
    "duration": 176,
    "start_time": "2023-06-08T17:30:27.922Z"
   },
   {
    "duration": 29,
    "start_time": "2023-06-08T17:31:00.677Z"
   },
   {
    "duration": 46,
    "start_time": "2023-06-08T17:31:23.635Z"
   },
   {
    "duration": 42,
    "start_time": "2023-06-08T17:32:40.335Z"
   },
   {
    "duration": 44,
    "start_time": "2023-06-08T17:33:07.624Z"
   },
   {
    "duration": 25,
    "start_time": "2023-06-08T17:34:44.034Z"
   },
   {
    "duration": 26,
    "start_time": "2023-06-08T17:35:49.094Z"
   },
   {
    "duration": 23,
    "start_time": "2023-06-08T17:36:04.921Z"
   },
   {
    "duration": 53,
    "start_time": "2023-06-08T17:37:09.953Z"
   },
   {
    "duration": 20,
    "start_time": "2023-06-08T17:37:16.043Z"
   },
   {
    "duration": 20,
    "start_time": "2023-06-08T17:37:19.048Z"
   },
   {
    "duration": 779,
    "start_time": "2023-06-08T17:37:31.374Z"
   },
   {
    "duration": 2153,
    "start_time": "2023-06-08T17:37:32.156Z"
   },
   {
    "duration": 77,
    "start_time": "2023-06-08T17:37:34.311Z"
   },
   {
    "duration": 15,
    "start_time": "2023-06-08T17:37:34.389Z"
   },
   {
    "duration": 24,
    "start_time": "2023-06-08T17:37:34.407Z"
   },
   {
    "duration": 128,
    "start_time": "2023-06-08T17:37:34.433Z"
   },
   {
    "duration": 8,
    "start_time": "2023-06-08T17:37:34.563Z"
   },
   {
    "duration": 288,
    "start_time": "2023-06-08T17:37:34.573Z"
   },
   {
    "duration": 171,
    "start_time": "2023-06-08T17:37:34.863Z"
   },
   {
    "duration": 179,
    "start_time": "2023-06-08T17:37:35.036Z"
   },
   {
    "duration": 190,
    "start_time": "2023-06-08T17:37:35.217Z"
   },
   {
    "duration": 269,
    "start_time": "2023-06-08T17:37:35.410Z"
   },
   {
    "duration": 169,
    "start_time": "2023-06-08T17:37:35.681Z"
   },
   {
    "duration": 166,
    "start_time": "2023-06-08T17:37:35.857Z"
   },
   {
    "duration": 168,
    "start_time": "2023-06-08T17:37:36.025Z"
   },
   {
    "duration": 154,
    "start_time": "2023-06-08T17:37:36.195Z"
   },
   {
    "duration": 185,
    "start_time": "2023-06-08T17:37:36.356Z"
   },
   {
    "duration": 257,
    "start_time": "2023-06-08T17:37:36.543Z"
   },
   {
    "duration": 267,
    "start_time": "2023-06-08T17:37:36.803Z"
   },
   {
    "duration": 194,
    "start_time": "2023-06-08T17:37:37.072Z"
   },
   {
    "duration": 298,
    "start_time": "2023-06-08T17:37:37.268Z"
   },
   {
    "duration": 171,
    "start_time": "2023-06-08T17:37:37.568Z"
   },
   {
    "duration": 268,
    "start_time": "2023-06-08T17:37:37.741Z"
   },
   {
    "duration": 101,
    "start_time": "2023-06-08T17:37:38.011Z"
   },
   {
    "duration": 186,
    "start_time": "2023-06-08T17:37:38.114Z"
   },
   {
    "duration": 209,
    "start_time": "2023-06-08T17:37:38.302Z"
   },
   {
    "duration": 174,
    "start_time": "2023-06-08T17:37:38.513Z"
   },
   {
    "duration": 211,
    "start_time": "2023-06-08T17:37:38.688Z"
   },
   {
    "duration": 234,
    "start_time": "2023-06-08T17:37:38.901Z"
   },
   {
    "duration": 628,
    "start_time": "2023-06-08T17:37:39.137Z"
   },
   {
    "duration": 19,
    "start_time": "2023-06-08T17:37:39.766Z"
   },
   {
    "duration": 20,
    "start_time": "2023-06-08T17:38:18.720Z"
   },
   {
    "duration": 24,
    "start_time": "2023-06-08T17:38:26.572Z"
   },
   {
    "duration": 183,
    "start_time": "2023-06-08T17:49:30.667Z"
   },
   {
    "duration": 189,
    "start_time": "2023-06-08T17:49:50.039Z"
   },
   {
    "duration": 183,
    "start_time": "2023-06-08T17:50:28.452Z"
   },
   {
    "duration": 220,
    "start_time": "2023-06-08T17:51:30.193Z"
   },
   {
    "duration": 220,
    "start_time": "2023-06-08T17:52:05.416Z"
   },
   {
    "duration": 806,
    "start_time": "2023-06-08T17:52:15.290Z"
   },
   {
    "duration": 40,
    "start_time": "2023-06-08T17:52:33.451Z"
   },
   {
    "duration": 780,
    "start_time": "2023-06-08T17:53:00.322Z"
   },
   {
    "duration": 230,
    "start_time": "2023-06-08T17:53:07.518Z"
   },
   {
    "duration": 208,
    "start_time": "2023-06-08T17:53:19.426Z"
   },
   {
    "duration": 302,
    "start_time": "2023-06-08T17:53:23.045Z"
   },
   {
    "duration": 231,
    "start_time": "2023-06-08T17:54:16.189Z"
   },
   {
    "duration": 245,
    "start_time": "2023-06-08T17:54:32.538Z"
   },
   {
    "duration": 242,
    "start_time": "2023-06-08T17:54:58.956Z"
   },
   {
    "duration": 207,
    "start_time": "2023-06-08T17:56:11.881Z"
   },
   {
    "duration": 335,
    "start_time": "2023-06-08T18:18:54.086Z"
   },
   {
    "duration": 250,
    "start_time": "2023-06-08T18:19:28.855Z"
   },
   {
    "duration": 29,
    "start_time": "2023-06-08T18:19:35.869Z"
   },
   {
    "duration": 178,
    "start_time": "2023-06-08T18:20:39.097Z"
   },
   {
    "duration": 306,
    "start_time": "2023-06-08T18:22:01.201Z"
   },
   {
    "duration": 178,
    "start_time": "2023-06-08T18:22:22.872Z"
   },
   {
    "duration": 192,
    "start_time": "2023-06-08T18:28:20.916Z"
   },
   {
    "duration": 107,
    "start_time": "2023-06-08T18:29:01.485Z"
   },
   {
    "duration": 108,
    "start_time": "2023-06-08T18:30:10.190Z"
   },
   {
    "duration": 734,
    "start_time": "2023-06-08T18:30:17.211Z"
   },
   {
    "duration": 2249,
    "start_time": "2023-06-08T18:30:17.948Z"
   },
   {
    "duration": 75,
    "start_time": "2023-06-08T18:30:20.199Z"
   },
   {
    "duration": 14,
    "start_time": "2023-06-08T18:30:20.276Z"
   },
   {
    "duration": 29,
    "start_time": "2023-06-08T18:30:20.293Z"
   },
   {
    "duration": 119,
    "start_time": "2023-06-08T18:30:20.324Z"
   },
   {
    "duration": 12,
    "start_time": "2023-06-08T18:30:20.445Z"
   },
   {
    "duration": 283,
    "start_time": "2023-06-08T18:30:20.458Z"
   },
   {
    "duration": 188,
    "start_time": "2023-06-08T18:30:20.742Z"
   },
   {
    "duration": 190,
    "start_time": "2023-06-08T18:30:20.932Z"
   },
   {
    "duration": 193,
    "start_time": "2023-06-08T18:30:21.123Z"
   },
   {
    "duration": 260,
    "start_time": "2023-06-08T18:30:21.318Z"
   },
   {
    "duration": 170,
    "start_time": "2023-06-08T18:30:21.580Z"
   },
   {
    "duration": 167,
    "start_time": "2023-06-08T18:30:21.758Z"
   },
   {
    "duration": 167,
    "start_time": "2023-06-08T18:30:21.928Z"
   },
   {
    "duration": 135,
    "start_time": "2023-06-08T18:30:22.097Z"
   },
   {
    "duration": 180,
    "start_time": "2023-06-08T18:30:22.234Z"
   },
   {
    "duration": 252,
    "start_time": "2023-06-08T18:30:22.415Z"
   },
   {
    "duration": 267,
    "start_time": "2023-06-08T18:30:22.669Z"
   },
   {
    "duration": 181,
    "start_time": "2023-06-08T18:30:22.937Z"
   },
   {
    "duration": 282,
    "start_time": "2023-06-08T18:30:23.120Z"
   },
   {
    "duration": 163,
    "start_time": "2023-06-08T18:30:23.404Z"
   },
   {
    "duration": 272,
    "start_time": "2023-06-08T18:30:23.568Z"
   },
   {
    "duration": 97,
    "start_time": "2023-06-08T18:30:23.841Z"
   },
   {
    "duration": 181,
    "start_time": "2023-06-08T18:30:23.940Z"
   },
   {
    "duration": 206,
    "start_time": "2023-06-08T18:30:24.122Z"
   },
   {
    "duration": 169,
    "start_time": "2023-06-08T18:30:24.330Z"
   },
   {
    "duration": 175,
    "start_time": "2023-06-08T18:30:24.501Z"
   },
   {
    "duration": 165,
    "start_time": "2023-06-08T18:30:24.678Z"
   },
   {
    "duration": 626,
    "start_time": "2023-06-08T18:30:24.844Z"
   },
   {
    "duration": 205,
    "start_time": "2023-06-08T18:30:25.472Z"
   },
   {
    "duration": 106,
    "start_time": "2023-06-08T18:30:25.678Z"
   },
   {
    "duration": 118,
    "start_time": "2023-06-08T18:31:31.571Z"
   },
   {
    "duration": 179,
    "start_time": "2023-06-08T18:32:11.310Z"
   },
   {
    "duration": 192,
    "start_time": "2023-06-08T18:32:39.945Z"
   },
   {
    "duration": 33,
    "start_time": "2023-06-08T18:37:14.501Z"
   },
   {
    "duration": 192,
    "start_time": "2023-06-08T18:38:20.731Z"
   },
   {
    "duration": 175,
    "start_time": "2023-06-08T18:38:45.818Z"
   },
   {
    "duration": 210,
    "start_time": "2023-06-08T18:39:23.923Z"
   },
   {
    "duration": 1043,
    "start_time": "2023-06-08T20:20:33.043Z"
   },
   {
    "duration": 1917,
    "start_time": "2023-06-08T20:20:34.087Z"
   },
   {
    "duration": 83,
    "start_time": "2023-06-08T20:20:36.006Z"
   },
   {
    "duration": 13,
    "start_time": "2023-06-08T20:20:36.091Z"
   },
   {
    "duration": 37,
    "start_time": "2023-06-08T20:20:36.106Z"
   },
   {
    "duration": 121,
    "start_time": "2023-06-08T20:20:36.145Z"
   },
   {
    "duration": 8,
    "start_time": "2023-06-08T20:20:36.267Z"
   },
   {
    "duration": 361,
    "start_time": "2023-06-08T20:20:36.276Z"
   },
   {
    "duration": 169,
    "start_time": "2023-06-08T20:20:36.639Z"
   },
   {
    "duration": 178,
    "start_time": "2023-06-08T20:20:36.815Z"
   },
   {
    "duration": 176,
    "start_time": "2023-06-08T20:20:36.994Z"
   },
   {
    "duration": 212,
    "start_time": "2023-06-08T20:20:37.171Z"
   },
   {
    "duration": 180,
    "start_time": "2023-06-08T20:20:37.385Z"
   },
   {
    "duration": 169,
    "start_time": "2023-06-08T20:20:37.569Z"
   },
   {
    "duration": 155,
    "start_time": "2023-06-08T20:20:37.739Z"
   },
   {
    "duration": 137,
    "start_time": "2023-06-08T20:20:37.895Z"
   },
   {
    "duration": 178,
    "start_time": "2023-06-08T20:20:38.033Z"
   },
   {
    "duration": 236,
    "start_time": "2023-06-08T20:20:38.213Z"
   },
   {
    "duration": 295,
    "start_time": "2023-06-08T20:20:38.451Z"
   },
   {
    "duration": 153,
    "start_time": "2023-06-08T20:20:38.748Z"
   },
   {
    "duration": 203,
    "start_time": "2023-06-08T20:20:38.902Z"
   },
   {
    "duration": 152,
    "start_time": "2023-06-08T20:20:39.107Z"
   },
   {
    "duration": 227,
    "start_time": "2023-06-08T20:20:39.260Z"
   },
   {
    "duration": 101,
    "start_time": "2023-06-08T20:20:39.489Z"
   },
   {
    "duration": 169,
    "start_time": "2023-06-08T20:20:39.591Z"
   },
   {
    "duration": 186,
    "start_time": "2023-06-08T20:20:39.762Z"
   },
   {
    "duration": 190,
    "start_time": "2023-06-08T20:20:39.950Z"
   },
   {
    "duration": 162,
    "start_time": "2023-06-08T20:20:40.142Z"
   },
   {
    "duration": 148,
    "start_time": "2023-06-08T20:20:40.306Z"
   },
   {
    "duration": 609,
    "start_time": "2023-06-08T20:20:40.456Z"
   },
   {
    "duration": 216,
    "start_time": "2023-06-08T20:20:41.067Z"
   },
   {
    "duration": 210,
    "start_time": "2023-06-08T20:20:41.284Z"
   },
   {
    "duration": 14,
    "start_time": "2023-06-08T20:22:07.612Z"
   },
   {
    "duration": 11,
    "start_time": "2023-06-08T20:22:21.596Z"
   },
   {
    "duration": 65,
    "start_time": "2023-06-08T20:22:24.748Z"
   },
   {
    "duration": 247,
    "start_time": "2023-06-08T20:23:15.485Z"
   },
   {
    "duration": 7,
    "start_time": "2023-06-08T20:23:25.937Z"
   },
   {
    "duration": 19,
    "start_time": "2023-06-08T20:24:42.864Z"
   },
   {
    "duration": 52,
    "start_time": "2023-06-09T11:02:55.288Z"
   },
   {
    "duration": 981,
    "start_time": "2023-06-09T11:03:03.598Z"
   },
   {
    "duration": 2229,
    "start_time": "2023-06-09T11:03:04.581Z"
   },
   {
    "duration": 78,
    "start_time": "2023-06-09T11:03:06.812Z"
   },
   {
    "duration": 15,
    "start_time": "2023-06-09T11:03:06.891Z"
   },
   {
    "duration": 20,
    "start_time": "2023-06-09T11:03:06.908Z"
   },
   {
    "duration": 130,
    "start_time": "2023-06-09T11:03:06.930Z"
   },
   {
    "duration": 8,
    "start_time": "2023-06-09T11:03:07.062Z"
   },
   {
    "duration": 245,
    "start_time": "2023-06-09T11:03:07.071Z"
   },
   {
    "duration": 317,
    "start_time": "2023-06-09T11:03:07.318Z"
   },
   {
    "duration": 164,
    "start_time": "2023-06-09T11:03:07.637Z"
   },
   {
    "duration": 183,
    "start_time": "2023-06-09T11:03:07.802Z"
   },
   {
    "duration": 245,
    "start_time": "2023-06-09T11:03:07.987Z"
   },
   {
    "duration": 156,
    "start_time": "2023-06-09T11:03:08.234Z"
   },
   {
    "duration": 168,
    "start_time": "2023-06-09T11:03:08.393Z"
   },
   {
    "duration": 170,
    "start_time": "2023-06-09T11:03:08.562Z"
   },
   {
    "duration": 171,
    "start_time": "2023-06-09T11:03:08.733Z"
   },
   {
    "duration": 126,
    "start_time": "2023-06-09T11:03:08.906Z"
   },
   {
    "duration": 196,
    "start_time": "2023-06-09T11:03:09.033Z"
   },
   {
    "duration": 286,
    "start_time": "2023-06-09T11:03:09.230Z"
   },
   {
    "duration": 283,
    "start_time": "2023-06-09T11:03:09.517Z"
   },
   {
    "duration": 297,
    "start_time": "2023-06-09T11:03:09.802Z"
   },
   {
    "duration": 171,
    "start_time": "2023-06-09T11:03:10.102Z"
   },
   {
    "duration": 183,
    "start_time": "2023-06-09T11:03:10.275Z"
   },
   {
    "duration": 269,
    "start_time": "2023-06-09T11:03:10.459Z"
   },
   {
    "duration": 102,
    "start_time": "2023-06-09T11:03:10.730Z"
   },
   {
    "duration": 195,
    "start_time": "2023-06-09T11:03:10.833Z"
   },
   {
    "duration": 207,
    "start_time": "2023-06-09T11:03:11.030Z"
   },
   {
    "duration": 208,
    "start_time": "2023-06-09T11:03:11.238Z"
   },
   {
    "duration": 183,
    "start_time": "2023-06-09T11:03:11.453Z"
   },
   {
    "duration": 168,
    "start_time": "2023-06-09T11:03:11.638Z"
   },
   {
    "duration": 705,
    "start_time": "2023-06-09T11:03:11.808Z"
   },
   {
    "duration": 220,
    "start_time": "2023-06-09T11:03:12.516Z"
   },
   {
    "duration": 216,
    "start_time": "2023-06-09T11:03:12.738Z"
   },
   {
    "duration": 2907,
    "start_time": "2023-06-09T11:05:47.703Z"
   },
   {
    "duration": 157,
    "start_time": "2023-06-09T11:08:01.349Z"
   },
   {
    "duration": 496,
    "start_time": "2023-06-09T11:08:13.105Z"
   },
   {
    "duration": 191,
    "start_time": "2023-06-09T11:08:37.010Z"
   },
   {
    "duration": 178,
    "start_time": "2023-06-09T11:08:53.451Z"
   },
   {
    "duration": 20,
    "start_time": "2023-06-09T11:12:46.654Z"
   },
   {
    "duration": 251,
    "start_time": "2023-06-09T11:12:50.796Z"
   },
   {
    "duration": 180,
    "start_time": "2023-06-09T11:24:09.675Z"
   },
   {
    "duration": 175,
    "start_time": "2023-06-09T11:24:16.996Z"
   },
   {
    "duration": 155,
    "start_time": "2023-06-09T11:24:30.181Z"
   },
   {
    "duration": 169,
    "start_time": "2023-06-09T11:24:37.275Z"
   },
   {
    "duration": 49,
    "start_time": "2023-06-09T11:26:37.932Z"
   },
   {
    "duration": 20,
    "start_time": "2023-06-09T11:26:45.517Z"
   },
   {
    "duration": 168,
    "start_time": "2023-06-09T11:27:45.345Z"
   },
   {
    "duration": 166,
    "start_time": "2023-06-09T11:27:52.365Z"
   },
   {
    "duration": 171,
    "start_time": "2023-06-09T11:27:59.574Z"
   },
   {
    "duration": 23,
    "start_time": "2023-06-09T11:29:10.120Z"
   },
   {
    "duration": 117,
    "start_time": "2023-06-09T11:29:19.718Z"
   },
   {
    "duration": 12,
    "start_time": "2023-06-09T11:29:27.390Z"
   },
   {
    "duration": 149,
    "start_time": "2023-06-09T11:31:22.807Z"
   },
   {
    "duration": 158,
    "start_time": "2023-06-09T11:31:48.499Z"
   },
   {
    "duration": 234,
    "start_time": "2023-06-09T11:32:01.688Z"
   },
   {
    "duration": 175,
    "start_time": "2023-06-09T11:32:14.352Z"
   },
   {
    "duration": 806,
    "start_time": "2023-06-09T11:32:23.721Z"
   },
   {
    "duration": 2221,
    "start_time": "2023-06-09T11:32:24.530Z"
   },
   {
    "duration": 78,
    "start_time": "2023-06-09T11:32:26.754Z"
   },
   {
    "duration": 33,
    "start_time": "2023-06-09T11:32:26.834Z"
   },
   {
    "duration": 27,
    "start_time": "2023-06-09T11:32:26.871Z"
   },
   {
    "duration": 121,
    "start_time": "2023-06-09T11:32:26.900Z"
   },
   {
    "duration": 8,
    "start_time": "2023-06-09T11:32:27.023Z"
   },
   {
    "duration": 251,
    "start_time": "2023-06-09T11:32:27.033Z"
   },
   {
    "duration": 320,
    "start_time": "2023-06-09T11:32:27.286Z"
   },
   {
    "duration": 186,
    "start_time": "2023-06-09T11:32:27.608Z"
   },
   {
    "duration": 170,
    "start_time": "2023-06-09T11:32:27.796Z"
   },
   {
    "duration": 276,
    "start_time": "2023-06-09T11:32:27.968Z"
   },
   {
    "duration": 160,
    "start_time": "2023-06-09T11:32:28.246Z"
   },
   {
    "duration": 174,
    "start_time": "2023-06-09T11:32:28.409Z"
   },
   {
    "duration": 170,
    "start_time": "2023-06-09T11:32:28.584Z"
   },
   {
    "duration": 163,
    "start_time": "2023-06-09T11:32:28.755Z"
   },
   {
    "duration": 142,
    "start_time": "2023-06-09T11:32:28.920Z"
   },
   {
    "duration": 175,
    "start_time": "2023-06-09T11:32:29.064Z"
   },
   {
    "duration": 267,
    "start_time": "2023-06-09T11:32:29.240Z"
   },
   {
    "duration": 262,
    "start_time": "2023-06-09T11:32:29.509Z"
   },
   {
    "duration": 261,
    "start_time": "2023-06-09T11:32:29.772Z"
   },
   {
    "duration": 168,
    "start_time": "2023-06-09T11:32:30.035Z"
   },
   {
    "duration": 168,
    "start_time": "2023-06-09T11:32:30.204Z"
   },
   {
    "duration": 257,
    "start_time": "2023-06-09T11:32:30.373Z"
   },
   {
    "duration": 104,
    "start_time": "2023-06-09T11:32:30.631Z"
   },
   {
    "duration": 173,
    "start_time": "2023-06-09T11:32:30.737Z"
   },
   {
    "duration": 190,
    "start_time": "2023-06-09T11:32:30.912Z"
   },
   {
    "duration": 177,
    "start_time": "2023-06-09T11:32:31.104Z"
   },
   {
    "duration": 174,
    "start_time": "2023-06-09T11:32:31.282Z"
   },
   {
    "duration": 161,
    "start_time": "2023-06-09T11:32:31.458Z"
   },
   {
    "duration": 539,
    "start_time": "2023-06-09T11:32:31.620Z"
   },
   {
    "duration": 207,
    "start_time": "2023-06-09T11:32:32.161Z"
   },
   {
    "duration": 206,
    "start_time": "2023-06-09T11:32:32.370Z"
   },
   {
    "duration": 156,
    "start_time": "2023-06-09T11:33:35.632Z"
   },
   {
    "duration": 770,
    "start_time": "2023-06-09T11:33:47.871Z"
   },
   {
    "duration": 2116,
    "start_time": "2023-06-09T11:33:48.643Z"
   },
   {
    "duration": 89,
    "start_time": "2023-06-09T11:33:50.761Z"
   },
   {
    "duration": 23,
    "start_time": "2023-06-09T11:33:50.855Z"
   },
   {
    "duration": 37,
    "start_time": "2023-06-09T11:33:50.882Z"
   },
   {
    "duration": 134,
    "start_time": "2023-06-09T11:33:50.921Z"
   },
   {
    "duration": 9,
    "start_time": "2023-06-09T11:33:51.056Z"
   },
   {
    "duration": 240,
    "start_time": "2023-06-09T11:33:51.067Z"
   },
   {
    "duration": 278,
    "start_time": "2023-06-09T11:33:51.309Z"
   },
   {
    "duration": 182,
    "start_time": "2023-06-09T11:33:51.589Z"
   },
   {
    "duration": 170,
    "start_time": "2023-06-09T11:33:51.773Z"
   },
   {
    "duration": 272,
    "start_time": "2023-06-09T11:33:51.945Z"
   },
   {
    "duration": 167,
    "start_time": "2023-06-09T11:33:52.218Z"
   },
   {
    "duration": 187,
    "start_time": "2023-06-09T11:33:52.388Z"
   },
   {
    "duration": 170,
    "start_time": "2023-06-09T11:33:52.577Z"
   },
   {
    "duration": 164,
    "start_time": "2023-06-09T11:33:52.748Z"
   },
   {
    "duration": 132,
    "start_time": "2023-06-09T11:33:52.914Z"
   },
   {
    "duration": 184,
    "start_time": "2023-06-09T11:33:53.048Z"
   },
   {
    "duration": 266,
    "start_time": "2023-06-09T11:33:53.234Z"
   },
   {
    "duration": 256,
    "start_time": "2023-06-09T11:33:53.502Z"
   },
   {
    "duration": 242,
    "start_time": "2023-06-09T11:33:53.760Z"
   },
   {
    "duration": 151,
    "start_time": "2023-06-09T11:33:54.003Z"
   },
   {
    "duration": 155,
    "start_time": "2023-06-09T11:33:54.156Z"
   },
   {
    "duration": 263,
    "start_time": "2023-06-09T11:33:54.313Z"
   },
   {
    "duration": 95,
    "start_time": "2023-06-09T11:33:54.578Z"
   },
   {
    "duration": 166,
    "start_time": "2023-06-09T11:33:54.675Z"
   },
   {
    "duration": 190,
    "start_time": "2023-06-09T11:33:54.843Z"
   },
   {
    "duration": 176,
    "start_time": "2023-06-09T11:33:55.035Z"
   },
   {
    "duration": 177,
    "start_time": "2023-06-09T11:33:55.213Z"
   },
   {
    "duration": 161,
    "start_time": "2023-06-09T11:33:55.393Z"
   },
   {
    "duration": 564,
    "start_time": "2023-06-09T11:33:55.556Z"
   },
   {
    "duration": 208,
    "start_time": "2023-06-09T11:33:56.123Z"
   },
   {
    "duration": 224,
    "start_time": "2023-06-09T11:33:56.333Z"
   },
   {
    "duration": 150,
    "start_time": "2023-06-09T11:35:06.027Z"
   },
   {
    "duration": 803,
    "start_time": "2023-06-09T11:35:13.914Z"
   },
   {
    "duration": 2164,
    "start_time": "2023-06-09T11:35:14.719Z"
   },
   {
    "duration": 76,
    "start_time": "2023-06-09T11:35:16.884Z"
   },
   {
    "duration": 15,
    "start_time": "2023-06-09T11:35:16.962Z"
   },
   {
    "duration": 26,
    "start_time": "2023-06-09T11:35:16.979Z"
   },
   {
    "duration": 128,
    "start_time": "2023-06-09T11:35:17.007Z"
   },
   {
    "duration": 9,
    "start_time": "2023-06-09T11:35:17.136Z"
   },
   {
    "duration": 253,
    "start_time": "2023-06-09T11:35:17.153Z"
   },
   {
    "duration": 342,
    "start_time": "2023-06-09T11:35:17.409Z"
   },
   {
    "duration": 192,
    "start_time": "2023-06-09T11:35:17.755Z"
   },
   {
    "duration": 179,
    "start_time": "2023-06-09T11:35:17.953Z"
   },
   {
    "duration": 293,
    "start_time": "2023-06-09T11:35:18.134Z"
   },
   {
    "duration": 154,
    "start_time": "2023-06-09T11:35:18.429Z"
   },
   {
    "duration": 200,
    "start_time": "2023-06-09T11:35:18.585Z"
   },
   {
    "duration": 173,
    "start_time": "2023-06-09T11:35:18.787Z"
   },
   {
    "duration": 178,
    "start_time": "2023-06-09T11:35:18.962Z"
   },
   {
    "duration": 140,
    "start_time": "2023-06-09T11:35:19.142Z"
   },
   {
    "duration": 213,
    "start_time": "2023-06-09T11:35:19.284Z"
   },
   {
    "duration": 300,
    "start_time": "2023-06-09T11:35:19.499Z"
   },
   {
    "duration": 284,
    "start_time": "2023-06-09T11:35:19.801Z"
   },
   {
    "duration": 260,
    "start_time": "2023-06-09T11:35:20.087Z"
   },
   {
    "duration": 158,
    "start_time": "2023-06-09T11:35:20.353Z"
   },
   {
    "duration": 163,
    "start_time": "2023-06-09T11:35:20.512Z"
   },
   {
    "duration": 268,
    "start_time": "2023-06-09T11:35:20.676Z"
   },
   {
    "duration": 112,
    "start_time": "2023-06-09T11:35:20.946Z"
   },
   {
    "duration": 179,
    "start_time": "2023-06-09T11:35:21.060Z"
   },
   {
    "duration": 175,
    "start_time": "2023-06-09T11:35:21.241Z"
   },
   {
    "duration": 172,
    "start_time": "2023-06-09T11:35:21.419Z"
   },
   {
    "duration": 181,
    "start_time": "2023-06-09T11:35:21.592Z"
   },
   {
    "duration": 184,
    "start_time": "2023-06-09T11:35:21.775Z"
   },
   {
    "duration": 578,
    "start_time": "2023-06-09T11:35:21.961Z"
   },
   {
    "duration": 210,
    "start_time": "2023-06-09T11:35:22.541Z"
   },
   {
    "duration": 201,
    "start_time": "2023-06-09T11:35:22.753Z"
   },
   {
    "duration": 180,
    "start_time": "2023-06-09T11:38:49.639Z"
   },
   {
    "duration": 819,
    "start_time": "2023-06-09T11:38:57.537Z"
   },
   {
    "duration": 2264,
    "start_time": "2023-06-09T11:38:58.359Z"
   },
   {
    "duration": 83,
    "start_time": "2023-06-09T11:39:00.624Z"
   },
   {
    "duration": 14,
    "start_time": "2023-06-09T11:39:00.709Z"
   },
   {
    "duration": 38,
    "start_time": "2023-06-09T11:39:00.725Z"
   },
   {
    "duration": 114,
    "start_time": "2023-06-09T11:39:00.766Z"
   },
   {
    "duration": 9,
    "start_time": "2023-06-09T11:39:00.881Z"
   },
   {
    "duration": 283,
    "start_time": "2023-06-09T11:39:00.891Z"
   },
   {
    "duration": 282,
    "start_time": "2023-06-09T11:39:01.176Z"
   },
   {
    "duration": 198,
    "start_time": "2023-06-09T11:39:01.460Z"
   },
   {
    "duration": 181,
    "start_time": "2023-06-09T11:39:01.660Z"
   },
   {
    "duration": 287,
    "start_time": "2023-06-09T11:39:01.843Z"
   },
   {
    "duration": 160,
    "start_time": "2023-06-09T11:39:02.132Z"
   },
   {
    "duration": 173,
    "start_time": "2023-06-09T11:39:02.295Z"
   },
   {
    "duration": 168,
    "start_time": "2023-06-09T11:39:02.470Z"
   },
   {
    "duration": 162,
    "start_time": "2023-06-09T11:39:02.640Z"
   },
   {
    "duration": 131,
    "start_time": "2023-06-09T11:39:02.804Z"
   },
   {
    "duration": 172,
    "start_time": "2023-06-09T11:39:02.937Z"
   },
   {
    "duration": 269,
    "start_time": "2023-06-09T11:39:03.111Z"
   },
   {
    "duration": 273,
    "start_time": "2023-06-09T11:39:03.382Z"
   },
   {
    "duration": 251,
    "start_time": "2023-06-09T11:39:03.657Z"
   },
   {
    "duration": 148,
    "start_time": "2023-06-09T11:39:03.910Z"
   },
   {
    "duration": 155,
    "start_time": "2023-06-09T11:39:04.060Z"
   },
   {
    "duration": 260,
    "start_time": "2023-06-09T11:39:04.217Z"
   },
   {
    "duration": 105,
    "start_time": "2023-06-09T11:39:04.479Z"
   },
   {
    "duration": 170,
    "start_time": "2023-06-09T11:39:04.586Z"
   },
   {
    "duration": 179,
    "start_time": "2023-06-09T11:39:04.757Z"
   },
   {
    "duration": 159,
    "start_time": "2023-06-09T11:39:04.938Z"
   },
   {
    "duration": 162,
    "start_time": "2023-06-09T11:39:05.099Z"
   },
   {
    "duration": 161,
    "start_time": "2023-06-09T11:39:05.263Z"
   },
   {
    "duration": 560,
    "start_time": "2023-06-09T11:39:05.426Z"
   },
   {
    "duration": 195,
    "start_time": "2023-06-09T11:39:05.988Z"
   },
   {
    "duration": 185,
    "start_time": "2023-06-09T11:39:06.185Z"
   },
   {
    "duration": 29,
    "start_time": "2023-06-09T11:42:58.105Z"
   },
   {
    "duration": 113,
    "start_time": "2023-06-09T11:43:11.018Z"
   },
   {
    "duration": 34,
    "start_time": "2023-06-09T11:44:23.746Z"
   },
   {
    "duration": 23,
    "start_time": "2023-06-09T11:44:28.210Z"
   },
   {
    "duration": 27,
    "start_time": "2023-06-09T11:44:32.487Z"
   },
   {
    "duration": 820,
    "start_time": "2023-06-09T11:44:40.106Z"
   },
   {
    "duration": 2174,
    "start_time": "2023-06-09T11:44:40.929Z"
   },
   {
    "duration": 77,
    "start_time": "2023-06-09T11:44:43.104Z"
   },
   {
    "duration": 17,
    "start_time": "2023-06-09T11:44:43.183Z"
   },
   {
    "duration": 33,
    "start_time": "2023-06-09T11:44:43.202Z"
   },
   {
    "duration": 108,
    "start_time": "2023-06-09T11:44:43.254Z"
   },
   {
    "duration": 8,
    "start_time": "2023-06-09T11:44:43.364Z"
   },
   {
    "duration": 243,
    "start_time": "2023-06-09T11:44:43.374Z"
   },
   {
    "duration": 308,
    "start_time": "2023-06-09T11:44:43.619Z"
   },
   {
    "duration": 185,
    "start_time": "2023-06-09T11:44:43.930Z"
   },
   {
    "duration": 183,
    "start_time": "2023-06-09T11:44:44.116Z"
   },
   {
    "duration": 293,
    "start_time": "2023-06-09T11:44:44.301Z"
   },
   {
    "duration": 176,
    "start_time": "2023-06-09T11:44:44.596Z"
   },
   {
    "duration": 182,
    "start_time": "2023-06-09T11:44:44.774Z"
   },
   {
    "duration": 210,
    "start_time": "2023-06-09T11:44:44.958Z"
   },
   {
    "duration": 171,
    "start_time": "2023-06-09T11:44:45.169Z"
   },
   {
    "duration": 121,
    "start_time": "2023-06-09T11:44:45.342Z"
   },
   {
    "duration": 197,
    "start_time": "2023-06-09T11:44:45.465Z"
   },
   {
    "duration": 284,
    "start_time": "2023-06-09T11:44:45.664Z"
   },
   {
    "duration": 290,
    "start_time": "2023-06-09T11:44:45.953Z"
   },
   {
    "duration": 286,
    "start_time": "2023-06-09T11:44:46.244Z"
   },
   {
    "duration": 179,
    "start_time": "2023-06-09T11:44:46.531Z"
   },
   {
    "duration": 176,
    "start_time": "2023-06-09T11:44:46.711Z"
   },
   {
    "duration": 265,
    "start_time": "2023-06-09T11:44:46.889Z"
   },
   {
    "duration": 106,
    "start_time": "2023-06-09T11:44:47.156Z"
   },
   {
    "duration": 245,
    "start_time": "2023-06-09T11:44:47.264Z"
   },
   {
    "duration": 249,
    "start_time": "2023-06-09T11:44:47.511Z"
   },
   {
    "duration": 191,
    "start_time": "2023-06-09T11:44:47.764Z"
   },
   {
    "duration": 186,
    "start_time": "2023-06-09T11:44:47.958Z"
   },
   {
    "duration": 160,
    "start_time": "2023-06-09T11:44:48.146Z"
   },
   {
    "duration": 591,
    "start_time": "2023-06-09T11:44:48.308Z"
   },
   {
    "duration": 199,
    "start_time": "2023-06-09T11:44:48.901Z"
   },
   {
    "duration": 222,
    "start_time": "2023-06-09T11:44:49.102Z"
   },
   {
    "duration": 96,
    "start_time": "2023-06-09T11:57:30.344Z"
   },
   {
    "duration": 94,
    "start_time": "2023-06-09T11:57:41.398Z"
   },
   {
    "duration": 267,
    "start_time": "2023-06-09T11:57:55.732Z"
   },
   {
    "duration": 262,
    "start_time": "2023-06-09T11:58:15.562Z"
   },
   {
    "duration": 586,
    "start_time": "2023-06-09T12:23:51.494Z"
   },
   {
    "duration": 557,
    "start_time": "2023-06-09T12:24:15.468Z"
   },
   {
    "duration": 563,
    "start_time": "2023-06-09T12:25:05.102Z"
   },
   {
    "duration": 514,
    "start_time": "2023-06-09T12:25:18.274Z"
   },
   {
    "duration": 802,
    "start_time": "2023-06-09T12:29:47.091Z"
   },
   {
    "duration": 2180,
    "start_time": "2023-06-09T12:29:47.895Z"
   },
   {
    "duration": 77,
    "start_time": "2023-06-09T12:29:50.076Z"
   },
   {
    "duration": 19,
    "start_time": "2023-06-09T12:29:50.155Z"
   },
   {
    "duration": 58,
    "start_time": "2023-06-09T12:29:50.177Z"
   },
   {
    "duration": 104,
    "start_time": "2023-06-09T12:29:50.237Z"
   },
   {
    "duration": 26,
    "start_time": "2023-06-09T12:29:50.343Z"
   },
   {
    "duration": 262,
    "start_time": "2023-06-09T12:29:50.371Z"
   },
   {
    "duration": 300,
    "start_time": "2023-06-09T12:29:50.635Z"
   },
   {
    "duration": 210,
    "start_time": "2023-06-09T12:29:50.937Z"
   },
   {
    "duration": 185,
    "start_time": "2023-06-09T12:29:51.148Z"
   },
   {
    "duration": 282,
    "start_time": "2023-06-09T12:29:51.334Z"
   },
   {
    "duration": 171,
    "start_time": "2023-06-09T12:29:51.618Z"
   },
   {
    "duration": 183,
    "start_time": "2023-06-09T12:29:51.793Z"
   },
   {
    "duration": 165,
    "start_time": "2023-06-09T12:29:51.978Z"
   },
   {
    "duration": 166,
    "start_time": "2023-06-09T12:29:52.146Z"
   },
   {
    "duration": 134,
    "start_time": "2023-06-09T12:29:52.314Z"
   },
   {
    "duration": 196,
    "start_time": "2023-06-09T12:29:52.459Z"
   },
   {
    "duration": 278,
    "start_time": "2023-06-09T12:29:52.660Z"
   },
   {
    "duration": 280,
    "start_time": "2023-06-09T12:29:52.940Z"
   },
   {
    "duration": 257,
    "start_time": "2023-06-09T12:29:53.222Z"
   },
   {
    "duration": 159,
    "start_time": "2023-06-09T12:29:53.481Z"
   },
   {
    "duration": 174,
    "start_time": "2023-06-09T12:29:53.642Z"
   },
   {
    "duration": 270,
    "start_time": "2023-06-09T12:29:53.817Z"
   },
   {
    "duration": 111,
    "start_time": "2023-06-09T12:29:54.088Z"
   },
   {
    "duration": 203,
    "start_time": "2023-06-09T12:29:54.200Z"
   },
   {
    "duration": 204,
    "start_time": "2023-06-09T12:29:54.405Z"
   },
   {
    "duration": 196,
    "start_time": "2023-06-09T12:29:54.610Z"
   },
   {
    "duration": 203,
    "start_time": "2023-06-09T12:29:54.808Z"
   },
   {
    "duration": 178,
    "start_time": "2023-06-09T12:29:55.013Z"
   },
   {
    "duration": 582,
    "start_time": "2023-06-09T12:29:55.193Z"
   },
   {
    "duration": 208,
    "start_time": "2023-06-09T12:29:55.777Z"
   },
   {
    "duration": 185,
    "start_time": "2023-06-09T12:29:55.987Z"
   },
   {
    "duration": 753,
    "start_time": "2023-06-09T12:53:06.670Z"
   },
   {
    "duration": 2110,
    "start_time": "2023-06-09T12:53:07.425Z"
   },
   {
    "duration": 77,
    "start_time": "2023-06-09T12:53:09.537Z"
   },
   {
    "duration": 15,
    "start_time": "2023-06-09T12:53:09.616Z"
   },
   {
    "duration": 40,
    "start_time": "2023-06-09T12:53:09.633Z"
   },
   {
    "duration": 113,
    "start_time": "2023-06-09T12:53:09.675Z"
   },
   {
    "duration": 8,
    "start_time": "2023-06-09T12:53:09.790Z"
   },
   {
    "duration": 245,
    "start_time": "2023-06-09T12:53:09.799Z"
   },
   {
    "duration": 285,
    "start_time": "2023-06-09T12:53:10.046Z"
   },
   {
    "duration": 197,
    "start_time": "2023-06-09T12:53:10.332Z"
   },
   {
    "duration": 173,
    "start_time": "2023-06-09T12:53:10.530Z"
   },
   {
    "duration": 285,
    "start_time": "2023-06-09T12:53:10.704Z"
   },
   {
    "duration": 180,
    "start_time": "2023-06-09T12:53:10.991Z"
   },
   {
    "duration": 182,
    "start_time": "2023-06-09T12:53:11.174Z"
   },
   {
    "duration": 169,
    "start_time": "2023-06-09T12:53:11.358Z"
   },
   {
    "duration": 167,
    "start_time": "2023-06-09T12:53:11.529Z"
   },
   {
    "duration": 128,
    "start_time": "2023-06-09T12:53:11.697Z"
   },
   {
    "duration": 196,
    "start_time": "2023-06-09T12:53:11.827Z"
   },
   {
    "duration": 289,
    "start_time": "2023-06-09T12:53:12.024Z"
   },
   {
    "duration": 276,
    "start_time": "2023-06-09T12:53:12.315Z"
   },
   {
    "duration": 267,
    "start_time": "2023-06-09T12:53:12.593Z"
   },
   {
    "duration": 162,
    "start_time": "2023-06-09T12:53:12.863Z"
   },
   {
    "duration": 175,
    "start_time": "2023-06-09T12:53:13.027Z"
   },
   {
    "duration": 285,
    "start_time": "2023-06-09T12:53:13.204Z"
   },
   {
    "duration": 114,
    "start_time": "2023-06-09T12:53:13.491Z"
   },
   {
    "duration": 199,
    "start_time": "2023-06-09T12:53:13.607Z"
   },
   {
    "duration": 192,
    "start_time": "2023-06-09T12:53:13.808Z"
   },
   {
    "duration": 189,
    "start_time": "2023-06-09T12:53:14.002Z"
   },
   {
    "duration": 183,
    "start_time": "2023-06-09T12:53:14.193Z"
   },
   {
    "duration": 171,
    "start_time": "2023-06-09T12:53:14.378Z"
   },
   {
    "duration": 587,
    "start_time": "2023-06-09T12:53:14.553Z"
   },
   {
    "duration": 209,
    "start_time": "2023-06-09T12:53:15.142Z"
   },
   {
    "duration": 205,
    "start_time": "2023-06-09T12:53:15.354Z"
   },
   {
    "duration": 733,
    "start_time": "2023-06-09T15:15:28.776Z"
   },
   {
    "duration": 1950,
    "start_time": "2023-06-09T15:15:29.511Z"
   },
   {
    "duration": 82,
    "start_time": "2023-06-09T15:15:31.462Z"
   },
   {
    "duration": 14,
    "start_time": "2023-06-09T15:15:31.546Z"
   },
   {
    "duration": 41,
    "start_time": "2023-06-09T15:15:31.562Z"
   },
   {
    "duration": 96,
    "start_time": "2023-06-09T15:15:31.605Z"
   },
   {
    "duration": 14,
    "start_time": "2023-06-09T15:15:31.702Z"
   },
   {
    "duration": 259,
    "start_time": "2023-06-09T15:15:31.717Z"
   },
   {
    "duration": 289,
    "start_time": "2023-06-09T15:15:31.978Z"
   },
   {
    "duration": 169,
    "start_time": "2023-06-09T15:15:32.276Z"
   },
   {
    "duration": 146,
    "start_time": "2023-06-09T15:15:32.446Z"
   },
   {
    "duration": 225,
    "start_time": "2023-06-09T15:15:32.593Z"
   },
   {
    "duration": 176,
    "start_time": "2023-06-09T15:15:32.820Z"
   },
   {
    "duration": 173,
    "start_time": "2023-06-09T15:15:32.998Z"
   },
   {
    "duration": 161,
    "start_time": "2023-06-09T15:15:33.173Z"
   },
   {
    "duration": 150,
    "start_time": "2023-06-09T15:15:33.335Z"
   },
   {
    "duration": 103,
    "start_time": "2023-06-09T15:15:33.486Z"
   },
   {
    "duration": 184,
    "start_time": "2023-06-09T15:15:33.590Z"
   },
   {
    "duration": 298,
    "start_time": "2023-06-09T15:15:33.776Z"
   },
   {
    "duration": 266,
    "start_time": "2023-06-09T15:15:34.077Z"
   },
   {
    "duration": 220,
    "start_time": "2023-06-09T15:15:34.344Z"
   },
   {
    "duration": 144,
    "start_time": "2023-06-09T15:15:34.565Z"
   },
   {
    "duration": 147,
    "start_time": "2023-06-09T15:15:34.715Z"
   },
   {
    "duration": 236,
    "start_time": "2023-06-09T15:15:34.863Z"
   },
   {
    "duration": 92,
    "start_time": "2023-06-09T15:15:35.101Z"
   },
   {
    "duration": 194,
    "start_time": "2023-06-09T15:15:35.194Z"
   },
   {
    "duration": 211,
    "start_time": "2023-06-09T15:15:35.391Z"
   },
   {
    "duration": 182,
    "start_time": "2023-06-09T15:15:35.605Z"
   },
   {
    "duration": 202,
    "start_time": "2023-06-09T15:15:35.788Z"
   },
   {
    "duration": 155,
    "start_time": "2023-06-09T15:15:35.991Z"
   },
   {
    "duration": 504,
    "start_time": "2023-06-09T15:15:36.149Z"
   },
   {
    "duration": 199,
    "start_time": "2023-06-09T15:15:36.654Z"
   },
   {
    "duration": 188,
    "start_time": "2023-06-09T15:15:36.854Z"
   }
  ],
  "kernelspec": {
   "display_name": "Python 3 (ipykernel)",
   "language": "python",
   "name": "python3"
  },
  "language_info": {
   "codemirror_mode": {
    "name": "ipython",
    "version": 3
   },
   "file_extension": ".py",
   "mimetype": "text/x-python",
   "name": "python",
   "nbconvert_exporter": "python",
   "pygments_lexer": "ipython3",
   "version": "3.10.9"
  },
  "toc": {
   "base_numbering": 1,
   "nav_menu": {},
   "number_sections": true,
   "sideBar": true,
   "skip_h1_title": true,
   "title_cell": "Table of Contents",
   "title_sidebar": "Contents",
   "toc_cell": false,
   "toc_position": {},
   "toc_section_display": true,
   "toc_window_display": false
  }
 },
 "nbformat": 4,
 "nbformat_minor": 2
}
