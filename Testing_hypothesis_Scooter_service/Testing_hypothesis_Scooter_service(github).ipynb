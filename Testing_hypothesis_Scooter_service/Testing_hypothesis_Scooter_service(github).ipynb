{
 "cells": [
  {
   "cell_type": "markdown",
   "id": "2b8d3373",
   "metadata": {},
   "source": [
    "   # Анализ показателей поездок сервиса аренды самокатов GoFast\n",
    "\n",
    "В основных данных есть информация о пользователях, их поездках и подписках:\n",
    "\n",
    " 1. Пользователи: \n",
    "  - **user_id** - уникальный идентификатор пользователя\n",
    "  - **name** - имя пользователя\n",
    "  - **age** - возраст\n",
    "  - **city** - город\n",
    "  - **subscription_type** - тип подписки (free, ultra)\n",
    " 2. Поездки:\n",
    "  - **user_id** - уникальный идентификатор пользователя\n",
    "  - **distance** - расстояние, которое пользователь проехал в текущей сессии (в метрах)\n",
    "  - **duration** - продолжительность сессии (в минутах) — время с того момента, как пользователь нажал кнопку «Начать поездку» до момента, как он нажал кнопку «Завершить поездку»\n",
    "  - **date** - дата совершения поездки\n",
    " 3. Подписки:\n",
    "  - **subscription_type** - тип подписки\n",
    "  - **minute_price** - стоимость одной минуты поездки по данной подписке\n",
    "  - **start_ride_price** - стоимость начала поездки\n",
    "  - **subscription_fee** - стоимость ежемесячного платежа"
   ]
  },
  {
   "cell_type": "code",
   "execution_count": 1,
   "id": "c4148d38",
   "metadata": {},
   "outputs": [],
   "source": [
    "import matplotlib.pyplot as plt\n",
    "from scipy import stats as st\n",
    "import numpy as np\n",
    "import pandas as pd"
   ]
  },
  {
   "cell_type": "code",
   "execution_count": 2,
   "id": "f695eef9",
   "metadata": {},
   "outputs": [],
   "source": [
    "try:\n",
    "    data_users = pd.read_csv('/datasets/data1.csv')\n",
    "    data_rides = pd.read_csv('/datasets/data2.csv')\n",
    "    data_subscriptions = pd.read_csv('/datasets/data3.csv')\n",
    "except:\n",
    "    data_users = pd.read_csv('https://code.s3.yandex.net/datasets/data1.csv')\n",
    "    data_rides = pd.read_csv('https://code.s3.yandex.net/datasets/data2.csv')\n",
    "    data_subscriptions = pd.read_csv('https://code.s3.yandex.net/datasets/data3.csv')\n"
   ]
  },
  {
   "cell_type": "markdown",
   "id": "46d3b33a",
   "metadata": {},
   "source": [
    "#### Шаг 1. Загрузка данных"
   ]
  },
  {
   "cell_type": "code",
   "execution_count": 3,
   "id": "b9a600c8",
   "metadata": {},
   "outputs": [
    {
     "name": "stdout",
     "output_type": "stream",
     "text": [
      "<class 'pandas.core.frame.DataFrame'>\n",
      "RangeIndex: 1565 entries, 0 to 1564\n",
      "Data columns (total 5 columns):\n",
      " #   Column             Non-Null Count  Dtype \n",
      "---  ------             --------------  ----- \n",
      " 0   user_id            1565 non-null   int64 \n",
      " 1   name               1565 non-null   object\n",
      " 2   age                1565 non-null   int64 \n",
      " 3   city               1565 non-null   object\n",
      " 4   subscription_type  1565 non-null   object\n",
      "dtypes: int64(2), object(3)\n",
      "memory usage: 61.3+ KB\n"
     ]
    },
    {
     "data": {
      "text/html": [
       "<div>\n",
       "<style scoped>\n",
       "    .dataframe tbody tr th:only-of-type {\n",
       "        vertical-align: middle;\n",
       "    }\n",
       "\n",
       "    .dataframe tbody tr th {\n",
       "        vertical-align: top;\n",
       "    }\n",
       "\n",
       "    .dataframe thead th {\n",
       "        text-align: right;\n",
       "    }\n",
       "</style>\n",
       "<table border=\"1\" class=\"dataframe\">\n",
       "  <thead>\n",
       "    <tr style=\"text-align: right;\">\n",
       "      <th></th>\n",
       "      <th>user_id</th>\n",
       "      <th>name</th>\n",
       "      <th>age</th>\n",
       "      <th>city</th>\n",
       "      <th>subscription_type</th>\n",
       "    </tr>\n",
       "  </thead>\n",
       "  <tbody>\n",
       "    <tr>\n",
       "      <th>0</th>\n",
       "      <td>1</td>\n",
       "      <td>Кира</td>\n",
       "      <td>22</td>\n",
       "      <td>Тюмень</td>\n",
       "      <td>ultra</td>\n",
       "    </tr>\n",
       "    <tr>\n",
       "      <th>1</th>\n",
       "      <td>2</td>\n",
       "      <td>Станислав</td>\n",
       "      <td>31</td>\n",
       "      <td>Омск</td>\n",
       "      <td>ultra</td>\n",
       "    </tr>\n",
       "    <tr>\n",
       "      <th>2</th>\n",
       "      <td>3</td>\n",
       "      <td>Алексей</td>\n",
       "      <td>20</td>\n",
       "      <td>Москва</td>\n",
       "      <td>ultra</td>\n",
       "    </tr>\n",
       "    <tr>\n",
       "      <th>3</th>\n",
       "      <td>4</td>\n",
       "      <td>Константин</td>\n",
       "      <td>26</td>\n",
       "      <td>Ростов-на-Дону</td>\n",
       "      <td>ultra</td>\n",
       "    </tr>\n",
       "    <tr>\n",
       "      <th>4</th>\n",
       "      <td>5</td>\n",
       "      <td>Адель</td>\n",
       "      <td>28</td>\n",
       "      <td>Омск</td>\n",
       "      <td>ultra</td>\n",
       "    </tr>\n",
       "    <tr>\n",
       "      <th>5</th>\n",
       "      <td>6</td>\n",
       "      <td>Регина</td>\n",
       "      <td>25</td>\n",
       "      <td>Краснодар</td>\n",
       "      <td>ultra</td>\n",
       "    </tr>\n",
       "    <tr>\n",
       "      <th>6</th>\n",
       "      <td>7</td>\n",
       "      <td>Игорь</td>\n",
       "      <td>23</td>\n",
       "      <td>Омск</td>\n",
       "      <td>ultra</td>\n",
       "    </tr>\n",
       "    <tr>\n",
       "      <th>7</th>\n",
       "      <td>8</td>\n",
       "      <td>Юрий</td>\n",
       "      <td>23</td>\n",
       "      <td>Краснодар</td>\n",
       "      <td>ultra</td>\n",
       "    </tr>\n",
       "    <tr>\n",
       "      <th>8</th>\n",
       "      <td>9</td>\n",
       "      <td>Ян</td>\n",
       "      <td>21</td>\n",
       "      <td>Пятигорск</td>\n",
       "      <td>ultra</td>\n",
       "    </tr>\n",
       "    <tr>\n",
       "      <th>9</th>\n",
       "      <td>10</td>\n",
       "      <td>Валерий</td>\n",
       "      <td>18</td>\n",
       "      <td>Екатеринбург</td>\n",
       "      <td>ultra</td>\n",
       "    </tr>\n",
       "    <tr>\n",
       "      <th>10</th>\n",
       "      <td>11</td>\n",
       "      <td>Агата</td>\n",
       "      <td>31</td>\n",
       "      <td>Краснодар</td>\n",
       "      <td>ultra</td>\n",
       "    </tr>\n",
       "    <tr>\n",
       "      <th>11</th>\n",
       "      <td>12</td>\n",
       "      <td>Марк</td>\n",
       "      <td>27</td>\n",
       "      <td>Тюмень</td>\n",
       "      <td>ultra</td>\n",
       "    </tr>\n",
       "    <tr>\n",
       "      <th>12</th>\n",
       "      <td>13</td>\n",
       "      <td>Ева</td>\n",
       "      <td>24</td>\n",
       "      <td>Краснодар</td>\n",
       "      <td>ultra</td>\n",
       "    </tr>\n",
       "    <tr>\n",
       "      <th>13</th>\n",
       "      <td>14</td>\n",
       "      <td>Антонина</td>\n",
       "      <td>18</td>\n",
       "      <td>Пятигорск</td>\n",
       "      <td>ultra</td>\n",
       "    </tr>\n",
       "    <tr>\n",
       "      <th>14</th>\n",
       "      <td>15</td>\n",
       "      <td>Валерия</td>\n",
       "      <td>24</td>\n",
       "      <td>Тюмень</td>\n",
       "      <td>ultra</td>\n",
       "    </tr>\n",
       "    <tr>\n",
       "      <th>15</th>\n",
       "      <td>16</td>\n",
       "      <td>Амалия</td>\n",
       "      <td>27</td>\n",
       "      <td>Краснодар</td>\n",
       "      <td>ultra</td>\n",
       "    </tr>\n",
       "    <tr>\n",
       "      <th>16</th>\n",
       "      <td>17</td>\n",
       "      <td>Даниил</td>\n",
       "      <td>29</td>\n",
       "      <td>Москва</td>\n",
       "      <td>ultra</td>\n",
       "    </tr>\n",
       "    <tr>\n",
       "      <th>17</th>\n",
       "      <td>18</td>\n",
       "      <td>Аделина</td>\n",
       "      <td>24</td>\n",
       "      <td>Сочи</td>\n",
       "      <td>ultra</td>\n",
       "    </tr>\n",
       "    <tr>\n",
       "      <th>18</th>\n",
       "      <td>19</td>\n",
       "      <td>Регина</td>\n",
       "      <td>32</td>\n",
       "      <td>Тюмень</td>\n",
       "      <td>ultra</td>\n",
       "    </tr>\n",
       "    <tr>\n",
       "      <th>19</th>\n",
       "      <td>20</td>\n",
       "      <td>Игорь</td>\n",
       "      <td>23</td>\n",
       "      <td>Омск</td>\n",
       "      <td>ultra</td>\n",
       "    </tr>\n",
       "  </tbody>\n",
       "</table>\n",
       "</div>"
      ],
      "text/plain": [
       "    user_id        name  age            city subscription_type\n",
       "0         1        Кира   22          Тюмень             ultra\n",
       "1         2   Станислав   31            Омск             ultra\n",
       "2         3     Алексей   20          Москва             ultra\n",
       "3         4  Константин   26  Ростов-на-Дону             ultra\n",
       "4         5       Адель   28            Омск             ultra\n",
       "5         6      Регина   25       Краснодар             ultra\n",
       "6         7       Игорь   23            Омск             ultra\n",
       "7         8        Юрий   23       Краснодар             ultra\n",
       "8         9          Ян   21       Пятигорск             ultra\n",
       "9        10     Валерий   18    Екатеринбург             ultra\n",
       "10       11       Агата   31       Краснодар             ultra\n",
       "11       12        Марк   27          Тюмень             ultra\n",
       "12       13         Ева   24       Краснодар             ultra\n",
       "13       14    Антонина   18       Пятигорск             ultra\n",
       "14       15     Валерия   24          Тюмень             ultra\n",
       "15       16      Амалия   27       Краснодар             ultra\n",
       "16       17      Даниил   29          Москва             ultra\n",
       "17       18     Аделина   24            Сочи             ultra\n",
       "18       19      Регина   32          Тюмень             ultra\n",
       "19       20       Игорь   23            Омск             ultra"
      ]
     },
     "execution_count": 3,
     "metadata": {},
     "output_type": "execute_result"
    }
   ],
   "source": [
    "data_users.info()\n",
    "data_users.head(20)"
   ]
  },
  {
   "cell_type": "code",
   "execution_count": 4,
   "id": "6d047f86",
   "metadata": {},
   "outputs": [
    {
     "name": "stdout",
     "output_type": "stream",
     "text": [
      "<class 'pandas.core.frame.DataFrame'>\n",
      "RangeIndex: 18068 entries, 0 to 18067\n",
      "Data columns (total 4 columns):\n",
      " #   Column    Non-Null Count  Dtype  \n",
      "---  ------    --------------  -----  \n",
      " 0   user_id   18068 non-null  int64  \n",
      " 1   distance  18068 non-null  float64\n",
      " 2   duration  18068 non-null  float64\n",
      " 3   date      18068 non-null  object \n",
      "dtypes: float64(2), int64(1), object(1)\n",
      "memory usage: 564.8+ KB\n"
     ]
    },
    {
     "data": {
      "text/html": [
       "<div>\n",
       "<style scoped>\n",
       "    .dataframe tbody tr th:only-of-type {\n",
       "        vertical-align: middle;\n",
       "    }\n",
       "\n",
       "    .dataframe tbody tr th {\n",
       "        vertical-align: top;\n",
       "    }\n",
       "\n",
       "    .dataframe thead th {\n",
       "        text-align: right;\n",
       "    }\n",
       "</style>\n",
       "<table border=\"1\" class=\"dataframe\">\n",
       "  <thead>\n",
       "    <tr style=\"text-align: right;\">\n",
       "      <th></th>\n",
       "      <th>user_id</th>\n",
       "      <th>distance</th>\n",
       "      <th>duration</th>\n",
       "      <th>date</th>\n",
       "    </tr>\n",
       "  </thead>\n",
       "  <tbody>\n",
       "    <tr>\n",
       "      <th>0</th>\n",
       "      <td>1</td>\n",
       "      <td>4409.919140</td>\n",
       "      <td>25.599769</td>\n",
       "      <td>2021-01-01</td>\n",
       "    </tr>\n",
       "    <tr>\n",
       "      <th>1</th>\n",
       "      <td>1</td>\n",
       "      <td>2617.592153</td>\n",
       "      <td>15.816871</td>\n",
       "      <td>2021-01-18</td>\n",
       "    </tr>\n",
       "    <tr>\n",
       "      <th>2</th>\n",
       "      <td>1</td>\n",
       "      <td>754.159807</td>\n",
       "      <td>6.232113</td>\n",
       "      <td>2021-04-20</td>\n",
       "    </tr>\n",
       "    <tr>\n",
       "      <th>3</th>\n",
       "      <td>1</td>\n",
       "      <td>2694.783254</td>\n",
       "      <td>18.511000</td>\n",
       "      <td>2021-08-11</td>\n",
       "    </tr>\n",
       "    <tr>\n",
       "      <th>4</th>\n",
       "      <td>1</td>\n",
       "      <td>4028.687306</td>\n",
       "      <td>26.265803</td>\n",
       "      <td>2021-08-28</td>\n",
       "    </tr>\n",
       "    <tr>\n",
       "      <th>5</th>\n",
       "      <td>1</td>\n",
       "      <td>2770.890808</td>\n",
       "      <td>16.650138</td>\n",
       "      <td>2021-10-09</td>\n",
       "    </tr>\n",
       "    <tr>\n",
       "      <th>6</th>\n",
       "      <td>1</td>\n",
       "      <td>3039.020292</td>\n",
       "      <td>14.927879</td>\n",
       "      <td>2021-10-19</td>\n",
       "    </tr>\n",
       "    <tr>\n",
       "      <th>7</th>\n",
       "      <td>1</td>\n",
       "      <td>2842.118050</td>\n",
       "      <td>23.117468</td>\n",
       "      <td>2021-11-06</td>\n",
       "    </tr>\n",
       "    <tr>\n",
       "      <th>8</th>\n",
       "      <td>1</td>\n",
       "      <td>3412.690668</td>\n",
       "      <td>15.238072</td>\n",
       "      <td>2021-11-14</td>\n",
       "    </tr>\n",
       "    <tr>\n",
       "      <th>9</th>\n",
       "      <td>1</td>\n",
       "      <td>748.690645</td>\n",
       "      <td>15.041884</td>\n",
       "      <td>2021-11-22</td>\n",
       "    </tr>\n",
       "    <tr>\n",
       "      <th>10</th>\n",
       "      <td>1</td>\n",
       "      <td>4031.020195</td>\n",
       "      <td>17.674448</td>\n",
       "      <td>2021-12-14</td>\n",
       "    </tr>\n",
       "    <tr>\n",
       "      <th>11</th>\n",
       "      <td>1</td>\n",
       "      <td>2720.609748</td>\n",
       "      <td>9.529463</td>\n",
       "      <td>2021-12-22</td>\n",
       "    </tr>\n",
       "    <tr>\n",
       "      <th>12</th>\n",
       "      <td>2</td>\n",
       "      <td>3105.086678</td>\n",
       "      <td>24.307514</td>\n",
       "      <td>2021-03-15</td>\n",
       "    </tr>\n",
       "    <tr>\n",
       "      <th>13</th>\n",
       "      <td>2</td>\n",
       "      <td>3053.519401</td>\n",
       "      <td>11.543256</td>\n",
       "      <td>2021-03-18</td>\n",
       "    </tr>\n",
       "    <tr>\n",
       "      <th>14</th>\n",
       "      <td>2</td>\n",
       "      <td>4029.116927</td>\n",
       "      <td>25.109188</td>\n",
       "      <td>2021-03-23</td>\n",
       "    </tr>\n",
       "    <tr>\n",
       "      <th>15</th>\n",
       "      <td>2</td>\n",
       "      <td>2805.786329</td>\n",
       "      <td>20.652145</td>\n",
       "      <td>2021-04-08</td>\n",
       "    </tr>\n",
       "    <tr>\n",
       "      <th>16</th>\n",
       "      <td>2</td>\n",
       "      <td>3358.595495</td>\n",
       "      <td>18.396489</td>\n",
       "      <td>2021-04-13</td>\n",
       "    </tr>\n",
       "    <tr>\n",
       "      <th>17</th>\n",
       "      <td>2</td>\n",
       "      <td>3255.338202</td>\n",
       "      <td>13.851127</td>\n",
       "      <td>2021-06-20</td>\n",
       "    </tr>\n",
       "    <tr>\n",
       "      <th>18</th>\n",
       "      <td>2</td>\n",
       "      <td>3942.817648</td>\n",
       "      <td>20.142725</td>\n",
       "      <td>2021-07-02</td>\n",
       "    </tr>\n",
       "    <tr>\n",
       "      <th>19</th>\n",
       "      <td>2</td>\n",
       "      <td>2837.905316</td>\n",
       "      <td>26.027432</td>\n",
       "      <td>2021-07-18</td>\n",
       "    </tr>\n",
       "  </tbody>\n",
       "</table>\n",
       "</div>"
      ],
      "text/plain": [
       "    user_id     distance   duration        date\n",
       "0         1  4409.919140  25.599769  2021-01-01\n",
       "1         1  2617.592153  15.816871  2021-01-18\n",
       "2         1   754.159807   6.232113  2021-04-20\n",
       "3         1  2694.783254  18.511000  2021-08-11\n",
       "4         1  4028.687306  26.265803  2021-08-28\n",
       "5         1  2770.890808  16.650138  2021-10-09\n",
       "6         1  3039.020292  14.927879  2021-10-19\n",
       "7         1  2842.118050  23.117468  2021-11-06\n",
       "8         1  3412.690668  15.238072  2021-11-14\n",
       "9         1   748.690645  15.041884  2021-11-22\n",
       "10        1  4031.020195  17.674448  2021-12-14\n",
       "11        1  2720.609748   9.529463  2021-12-22\n",
       "12        2  3105.086678  24.307514  2021-03-15\n",
       "13        2  3053.519401  11.543256  2021-03-18\n",
       "14        2  4029.116927  25.109188  2021-03-23\n",
       "15        2  2805.786329  20.652145  2021-04-08\n",
       "16        2  3358.595495  18.396489  2021-04-13\n",
       "17        2  3255.338202  13.851127  2021-06-20\n",
       "18        2  3942.817648  20.142725  2021-07-02\n",
       "19        2  2837.905316  26.027432  2021-07-18"
      ]
     },
     "execution_count": 4,
     "metadata": {},
     "output_type": "execute_result"
    }
   ],
   "source": [
    "data_rides.info()\n",
    "data_rides.head(20)"
   ]
  },
  {
   "cell_type": "code",
   "execution_count": 5,
   "id": "0d0abc30",
   "metadata": {},
   "outputs": [
    {
     "data": {
      "text/html": [
       "<div>\n",
       "<style scoped>\n",
       "    .dataframe tbody tr th:only-of-type {\n",
       "        vertical-align: middle;\n",
       "    }\n",
       "\n",
       "    .dataframe tbody tr th {\n",
       "        vertical-align: top;\n",
       "    }\n",
       "\n",
       "    .dataframe thead th {\n",
       "        text-align: right;\n",
       "    }\n",
       "</style>\n",
       "<table border=\"1\" class=\"dataframe\">\n",
       "  <thead>\n",
       "    <tr style=\"text-align: right;\">\n",
       "      <th></th>\n",
       "      <th>subscription_type</th>\n",
       "      <th>minute_price</th>\n",
       "      <th>start_ride_price</th>\n",
       "      <th>subscription_fee</th>\n",
       "    </tr>\n",
       "  </thead>\n",
       "  <tbody>\n",
       "    <tr>\n",
       "      <th>0</th>\n",
       "      <td>free</td>\n",
       "      <td>8</td>\n",
       "      <td>50</td>\n",
       "      <td>0</td>\n",
       "    </tr>\n",
       "    <tr>\n",
       "      <th>1</th>\n",
       "      <td>ultra</td>\n",
       "      <td>6</td>\n",
       "      <td>0</td>\n",
       "      <td>199</td>\n",
       "    </tr>\n",
       "  </tbody>\n",
       "</table>\n",
       "</div>"
      ],
      "text/plain": [
       "  subscription_type  minute_price  start_ride_price  subscription_fee\n",
       "0              free             8                50                 0\n",
       "1             ultra             6                 0               199"
      ]
     },
     "execution_count": 5,
     "metadata": {},
     "output_type": "execute_result"
    }
   ],
   "source": [
    "data_subscriptions"
   ]
  },
  {
   "cell_type": "markdown",
   "id": "397bd810",
   "metadata": {},
   "source": [
    "***Вывод:***\n",
    "\n",
    "В этой части мы изучили общую информацию о трех датасетах. Выяснили, какой объем данных имеется, какие показатели есть в таблице, типы столбцов. Пропусков в данных нет. На основании этой информации будем обрабатывать данные ниже."
   ]
  },
  {
   "cell_type": "markdown",
   "id": "31f5a3ba",
   "metadata": {},
   "source": [
    "#### Шаг 2. Предобработка данных"
   ]
  },
  {
   "cell_type": "code",
   "execution_count": 6,
   "id": "e51f7ca5",
   "metadata": {},
   "outputs": [
    {
     "data": {
      "text/html": [
       "<div>\n",
       "<style scoped>\n",
       "    .dataframe tbody tr th:only-of-type {\n",
       "        vertical-align: middle;\n",
       "    }\n",
       "\n",
       "    .dataframe tbody tr th {\n",
       "        vertical-align: top;\n",
       "    }\n",
       "\n",
       "    .dataframe thead th {\n",
       "        text-align: right;\n",
       "    }\n",
       "</style>\n",
       "<table border=\"1\" class=\"dataframe\">\n",
       "  <thead>\n",
       "    <tr style=\"text-align: right;\">\n",
       "      <th></th>\n",
       "      <th>user_id</th>\n",
       "      <th>distance</th>\n",
       "      <th>duration</th>\n",
       "      <th>date</th>\n",
       "      <th>month</th>\n",
       "    </tr>\n",
       "  </thead>\n",
       "  <tbody>\n",
       "    <tr>\n",
       "      <th>0</th>\n",
       "      <td>1</td>\n",
       "      <td>4409.919140</td>\n",
       "      <td>25.599769</td>\n",
       "      <td>2021-01-01</td>\n",
       "      <td>1</td>\n",
       "    </tr>\n",
       "    <tr>\n",
       "      <th>1</th>\n",
       "      <td>1</td>\n",
       "      <td>2617.592153</td>\n",
       "      <td>15.816871</td>\n",
       "      <td>2021-01-18</td>\n",
       "      <td>1</td>\n",
       "    </tr>\n",
       "    <tr>\n",
       "      <th>2</th>\n",
       "      <td>1</td>\n",
       "      <td>754.159807</td>\n",
       "      <td>6.232113</td>\n",
       "      <td>2021-04-20</td>\n",
       "      <td>4</td>\n",
       "    </tr>\n",
       "    <tr>\n",
       "      <th>3</th>\n",
       "      <td>1</td>\n",
       "      <td>2694.783254</td>\n",
       "      <td>18.511000</td>\n",
       "      <td>2021-08-11</td>\n",
       "      <td>8</td>\n",
       "    </tr>\n",
       "    <tr>\n",
       "      <th>4</th>\n",
       "      <td>1</td>\n",
       "      <td>4028.687306</td>\n",
       "      <td>26.265803</td>\n",
       "      <td>2021-08-28</td>\n",
       "      <td>8</td>\n",
       "    </tr>\n",
       "  </tbody>\n",
       "</table>\n",
       "</div>"
      ],
      "text/plain": [
       "   user_id     distance   duration       date  month\n",
       "0        1  4409.919140  25.599769 2021-01-01      1\n",
       "1        1  2617.592153  15.816871 2021-01-18      1\n",
       "2        1   754.159807   6.232113 2021-04-20      4\n",
       "3        1  2694.783254  18.511000 2021-08-11      8\n",
       "4        1  4028.687306  26.265803 2021-08-28      8"
      ]
     },
     "execution_count": 6,
     "metadata": {},
     "output_type": "execute_result"
    }
   ],
   "source": [
    "# Меняем тип столбца даты в data_rides, добавляем столбец\n",
    "data_rides['date'] = pd.to_datetime(data_rides['date'], format='%Y-%m-%d')\n",
    "data_rides['month'] = data_rides['date'].dt.month\n",
    "data_rides.head()"
   ]
  },
  {
   "cell_type": "code",
   "execution_count": 7,
   "id": "744a9397",
   "metadata": {},
   "outputs": [
    {
     "data": {
      "text/plain": [
       "user_id     0\n",
       "distance    0\n",
       "duration    0\n",
       "date        0\n",
       "month       0\n",
       "dtype: int64"
      ]
     },
     "execution_count": 7,
     "metadata": {},
     "output_type": "execute_result"
    }
   ],
   "source": [
    "data_users.isna().sum()\n",
    "data_rides.isna().sum()"
   ]
  },
  {
   "cell_type": "code",
   "execution_count": 8,
   "id": "143d9e24",
   "metadata": {},
   "outputs": [
    {
     "data": {
      "text/plain": [
       "31"
      ]
     },
     "execution_count": 8,
     "metadata": {},
     "output_type": "execute_result"
    }
   ],
   "source": [
    "# Удаляем дубликаты\n",
    "data_users.duplicated().sum()"
   ]
  },
  {
   "cell_type": "code",
   "execution_count": 9,
   "id": "233c7158",
   "metadata": {},
   "outputs": [
    {
     "data": {
      "text/plain": [
       "0"
      ]
     },
     "execution_count": 9,
     "metadata": {},
     "output_type": "execute_result"
    }
   ],
   "source": [
    "data_users = data_users.drop_duplicates().reset_index(drop=True)\n",
    "data_users.duplicated().sum()"
   ]
  },
  {
   "cell_type": "code",
   "execution_count": 10,
   "id": "e2f787db",
   "metadata": {},
   "outputs": [
    {
     "data": {
      "text/html": [
       "<div>\n",
       "<style scoped>\n",
       "    .dataframe tbody tr th:only-of-type {\n",
       "        vertical-align: middle;\n",
       "    }\n",
       "\n",
       "    .dataframe tbody tr th {\n",
       "        vertical-align: top;\n",
       "    }\n",
       "\n",
       "    .dataframe thead th {\n",
       "        text-align: right;\n",
       "    }\n",
       "</style>\n",
       "<table border=\"1\" class=\"dataframe\">\n",
       "  <thead>\n",
       "    <tr style=\"text-align: right;\">\n",
       "      <th></th>\n",
       "      <th>user_id</th>\n",
       "      <th>distance</th>\n",
       "      <th>duration</th>\n",
       "      <th>date</th>\n",
       "      <th>month</th>\n",
       "    </tr>\n",
       "  </thead>\n",
       "  <tbody>\n",
       "    <tr>\n",
       "      <th>0</th>\n",
       "      <td>1</td>\n",
       "      <td>4409.919140</td>\n",
       "      <td>25.599769</td>\n",
       "      <td>2021-01-01</td>\n",
       "      <td>1</td>\n",
       "    </tr>\n",
       "    <tr>\n",
       "      <th>1</th>\n",
       "      <td>1</td>\n",
       "      <td>2617.592153</td>\n",
       "      <td>15.816871</td>\n",
       "      <td>2021-01-18</td>\n",
       "      <td>1</td>\n",
       "    </tr>\n",
       "    <tr>\n",
       "      <th>2</th>\n",
       "      <td>1</td>\n",
       "      <td>754.159807</td>\n",
       "      <td>6.232113</td>\n",
       "      <td>2021-04-20</td>\n",
       "      <td>4</td>\n",
       "    </tr>\n",
       "    <tr>\n",
       "      <th>3</th>\n",
       "      <td>1</td>\n",
       "      <td>2694.783254</td>\n",
       "      <td>18.511000</td>\n",
       "      <td>2021-08-11</td>\n",
       "      <td>8</td>\n",
       "    </tr>\n",
       "    <tr>\n",
       "      <th>4</th>\n",
       "      <td>1</td>\n",
       "      <td>4028.687306</td>\n",
       "      <td>26.265803</td>\n",
       "      <td>2021-08-28</td>\n",
       "      <td>8</td>\n",
       "    </tr>\n",
       "    <tr>\n",
       "      <th>...</th>\n",
       "      <td>...</td>\n",
       "      <td>...</td>\n",
       "      <td>...</td>\n",
       "      <td>...</td>\n",
       "      <td>...</td>\n",
       "    </tr>\n",
       "    <tr>\n",
       "      <th>18063</th>\n",
       "      <td>1534</td>\n",
       "      <td>3781.098080</td>\n",
       "      <td>19.822962</td>\n",
       "      <td>2021-11-04</td>\n",
       "      <td>11</td>\n",
       "    </tr>\n",
       "    <tr>\n",
       "      <th>18064</th>\n",
       "      <td>1534</td>\n",
       "      <td>2840.423057</td>\n",
       "      <td>21.409799</td>\n",
       "      <td>2021-11-16</td>\n",
       "      <td>11</td>\n",
       "    </tr>\n",
       "    <tr>\n",
       "      <th>18065</th>\n",
       "      <td>1534</td>\n",
       "      <td>3826.185507</td>\n",
       "      <td>18.435051</td>\n",
       "      <td>2021-11-18</td>\n",
       "      <td>11</td>\n",
       "    </tr>\n",
       "    <tr>\n",
       "      <th>18066</th>\n",
       "      <td>1534</td>\n",
       "      <td>2902.308661</td>\n",
       "      <td>16.674362</td>\n",
       "      <td>2021-11-27</td>\n",
       "      <td>11</td>\n",
       "    </tr>\n",
       "    <tr>\n",
       "      <th>18067</th>\n",
       "      <td>1534</td>\n",
       "      <td>2371.711192</td>\n",
       "      <td>15.893917</td>\n",
       "      <td>2021-12-29</td>\n",
       "      <td>12</td>\n",
       "    </tr>\n",
       "  </tbody>\n",
       "</table>\n",
       "<p>17973 rows × 5 columns</p>\n",
       "</div>"
      ],
      "text/plain": [
       "       user_id     distance   duration       date  month\n",
       "0            1  4409.919140  25.599769 2021-01-01      1\n",
       "1            1  2617.592153  15.816871 2021-01-18      1\n",
       "2            1   754.159807   6.232113 2021-04-20      4\n",
       "3            1  2694.783254  18.511000 2021-08-11      8\n",
       "4            1  4028.687306  26.265803 2021-08-28      8\n",
       "...        ...          ...        ...        ...    ...\n",
       "18063     1534  3781.098080  19.822962 2021-11-04     11\n",
       "18064     1534  2840.423057  21.409799 2021-11-16     11\n",
       "18065     1534  3826.185507  18.435051 2021-11-18     11\n",
       "18066     1534  2902.308661  16.674362 2021-11-27     11\n",
       "18067     1534  2371.711192  15.893917 2021-12-29     12\n",
       "\n",
       "[17973 rows x 5 columns]"
      ]
     },
     "execution_count": 10,
     "metadata": {},
     "output_type": "execute_result"
    }
   ],
   "source": [
    "data_rides = data_rides.query('duration > 1 or duration.isna()')\n",
    "data_rides"
   ]
  },
  {
   "cell_type": "markdown",
   "id": "6efde82f",
   "metadata": {},
   "source": [
    "***Вывод:***\n",
    "\n",
    " - В ходе предобработки данные были проверены на дубликаты, в датасете data_users - удалены. \n",
    " - В датасете data_rides столбец date приведен к типу datetime, и создан отдельный столбец month для дальнейшей работы\n",
    " - Удалены строки с аномальными значениями - временем поездки меньше минуты"
   ]
  },
  {
   "cell_type": "markdown",
   "id": "8f0ce7a6",
   "metadata": {},
   "source": [
    "#### Шаг 3. Исследовательский анализ данных"
   ]
  },
  {
   "cell_type": "code",
   "execution_count": 11,
   "id": "be6f5ce9",
   "metadata": {},
   "outputs": [
    {
     "data": {
      "text/html": [
       "<div>\n",
       "<style scoped>\n",
       "    .dataframe tbody tr th:only-of-type {\n",
       "        vertical-align: middle;\n",
       "    }\n",
       "\n",
       "    .dataframe tbody tr th {\n",
       "        vertical-align: top;\n",
       "    }\n",
       "\n",
       "    .dataframe thead th {\n",
       "        text-align: right;\n",
       "    }\n",
       "</style>\n",
       "<table border=\"1\" class=\"dataframe\">\n",
       "  <thead>\n",
       "    <tr style=\"text-align: right;\">\n",
       "      <th></th>\n",
       "      <th>user_id</th>\n",
       "    </tr>\n",
       "    <tr>\n",
       "      <th>city</th>\n",
       "      <th></th>\n",
       "    </tr>\n",
       "  </thead>\n",
       "  <tbody>\n",
       "    <tr>\n",
       "      <th>Москва</th>\n",
       "      <td>168</td>\n",
       "    </tr>\n",
       "    <tr>\n",
       "      <th>Тюмень</th>\n",
       "      <td>180</td>\n",
       "    </tr>\n",
       "    <tr>\n",
       "      <th>Омск</th>\n",
       "      <td>183</td>\n",
       "    </tr>\n",
       "    <tr>\n",
       "      <th>Сочи</th>\n",
       "      <td>189</td>\n",
       "    </tr>\n",
       "    <tr>\n",
       "      <th>Краснодар</th>\n",
       "      <td>193</td>\n",
       "    </tr>\n",
       "    <tr>\n",
       "      <th>Ростов-на-Дону</th>\n",
       "      <td>198</td>\n",
       "    </tr>\n",
       "    <tr>\n",
       "      <th>Екатеринбург</th>\n",
       "      <td>204</td>\n",
       "    </tr>\n",
       "    <tr>\n",
       "      <th>Пятигорск</th>\n",
       "      <td>219</td>\n",
       "    </tr>\n",
       "  </tbody>\n",
       "</table>\n",
       "</div>"
      ],
      "text/plain": [
       "                user_id\n",
       "city                   \n",
       "Москва              168\n",
       "Тюмень              180\n",
       "Омск                183\n",
       "Сочи                189\n",
       "Краснодар           193\n",
       "Ростов-на-Дону      198\n",
       "Екатеринбург        204\n",
       "Пятигорск           219"
      ]
     },
     "metadata": {},
     "output_type": "display_data"
    },
    {
     "data": {
      "image/png": "[encoded data removed]",
      "text/plain": [
       "<Figure size 1200x600 with 1 Axes>"
      ]
     },
     "metadata": {},
     "output_type": "display_data"
    }
   ],
   "source": [
    "# Частота встречаемости городов\n",
    "\n",
    "cities = data_users.pivot_table(index='city', values='user_id', aggfunc='count').sort_values('user_id')\n",
    "display(cities)\n",
    "cities.plot(grid=True, kind='barh', figsize=(12, 6), color='#00B358');\n",
    "plt.xlabel('Количество пользователей');\n",
    "plt.ylabel('Город');\n",
    "plt.title('Частота встречаемости городов');"
   ]
  },
  {
   "cell_type": "markdown",
   "id": "cc58966a",
   "metadata": {},
   "source": [
    " - Данные собраны из 8 городов\n",
    " - Самый частовстречающийся город - Пятигорск, значит там совершается самое большое число поездок на самокатах GoFast"
   ]
  },
  {
   "cell_type": "code",
   "execution_count": 12,
   "id": "e8b47447",
   "metadata": {},
   "outputs": [
    {
     "data": {
      "image/png": "[encoded data removed]",
      "text/plain": [
       "<Figure size 600x600 with 1 Axes>"
      ]
     },
     "metadata": {},
     "output_type": "display_data"
    }
   ],
   "source": [
    "# Соотношение пользователей с подпиской и без подписки\n",
    "\n",
    "data_users['subscription_type'].value_counts().plot(grid=True, kind='pie', \\\n",
    "                                                    title='Соотношение пользователей с подпиской и без подписки', \\\n",
    "                                                    label='Тип подписки', \\\n",
    "                                                    labels=['без подписки', 'Ultra'], \\\n",
    "                                                    figsize=(6, 6), autopct='%1.0f%%', colors=['#00B25C', '#35D4A4']);"
   ]
  },
  {
   "cell_type": "markdown",
   "id": "912cfa6b",
   "metadata": {},
   "source": [
    " - Без подписки (54%) несколько больше пользователей, чем с подпиской (46%)"
   ]
  },
  {
   "cell_type": "code",
   "execution_count": 13,
   "id": "98c03f78",
   "metadata": {},
   "outputs": [
    {
     "name": "stdout",
     "output_type": "stream",
     "text": [
      "count    1534.000000\n",
      "mean       24.903520\n",
      "std         4.572367\n",
      "min        12.000000\n",
      "25%        22.000000\n",
      "50%        25.000000\n",
      "75%        28.000000\n",
      "max        43.000000\n",
      "Name: age, dtype: float64\n"
     ]
    },
    {
     "data": {
      "image/png": "[encoded data removed]",
      "text/plain": [
       "<Figure size 1200x600 with 1 Axes>"
      ]
     },
     "metadata": {},
     "output_type": "display_data"
    }
   ],
   "source": [
    "# Возраст пользователей\n",
    "\n",
    "print(data_users['age'].describe())\n",
    "data_users['age'].plot(bins=25, grid=True, kind='hist', figsize=(12, 6), color='#00B358');"
   ]
  },
  {
   "cell_type": "markdown",
   "id": "54d752bd",
   "metadata": {},
   "source": [
    " - Средний возраст пользователей самокатами - 25 лет\n",
    " - На графике мы видим, что самый частовстречающийся возраст это 23 и 27 лет"
   ]
  },
  {
   "cell_type": "code",
   "execution_count": 14,
   "id": "616fcc9d",
   "metadata": {},
   "outputs": [
    {
     "data": {
      "text/html": [
       "<div>\n",
       "<style scoped>\n",
       "    .dataframe tbody tr th:only-of-type {\n",
       "        vertical-align: middle;\n",
       "    }\n",
       "\n",
       "    .dataframe tbody tr th {\n",
       "        vertical-align: top;\n",
       "    }\n",
       "\n",
       "    .dataframe thead th {\n",
       "        text-align: right;\n",
       "    }\n",
       "</style>\n",
       "<table border=\"1\" class=\"dataframe\">\n",
       "  <thead>\n",
       "    <tr style=\"text-align: right;\">\n",
       "      <th></th>\n",
       "      <th>distance</th>\n",
       "    </tr>\n",
       "  </thead>\n",
       "  <tbody>\n",
       "    <tr>\n",
       "      <th>count</th>\n",
       "      <td>1534.000000</td>\n",
       "    </tr>\n",
       "    <tr>\n",
       "      <th>mean</th>\n",
       "      <td>3127.331593</td>\n",
       "    </tr>\n",
       "    <tr>\n",
       "      <th>std</th>\n",
       "      <td>345.475529</td>\n",
       "    </tr>\n",
       "    <tr>\n",
       "      <th>min</th>\n",
       "      <td>1234.763317</td>\n",
       "    </tr>\n",
       "    <tr>\n",
       "      <th>25%</th>\n",
       "      <td>2909.353325</td>\n",
       "    </tr>\n",
       "    <tr>\n",
       "      <th>50%</th>\n",
       "      <td>3127.112770</td>\n",
       "    </tr>\n",
       "    <tr>\n",
       "      <th>75%</th>\n",
       "      <td>3335.761246</td>\n",
       "    </tr>\n",
       "    <tr>\n",
       "      <th>max</th>\n",
       "      <td>4395.430303</td>\n",
       "    </tr>\n",
       "  </tbody>\n",
       "</table>\n",
       "</div>"
      ],
      "text/plain": [
       "          distance\n",
       "count  1534.000000\n",
       "mean   3127.331593\n",
       "std     345.475529\n",
       "min    1234.763317\n",
       "25%    2909.353325\n",
       "50%    3127.112770\n",
       "75%    3335.761246\n",
       "max    4395.430303"
      ]
     },
     "execution_count": 14,
     "metadata": {},
     "output_type": "execute_result"
    },
    {
     "data": {
      "image/png": "[encoded data removed]",
      "text/plain": [
       "<Figure size 1200x600 with 1 Axes>"
      ]
     },
     "metadata": {},
     "output_type": "display_data"
    }
   ],
   "source": [
    "# Расстояние, которое пользователь преодолел за одну поездку\n",
    "# сделаем сводную таблицу по медиане поездок одного пользователя (группируем по пользователю)\n",
    "\n",
    "data_rides['distance'].plot(grid=True, bins=100, kind='hist', figsize=(12, 6), color='#00B358');\n",
    "plt.title('Расстояние одной поездки');\n",
    "plt.xlabel('Расстояние в метрах');\n",
    "plt.ylabel('Кол-во пользователей');\n",
    "data_rides_distance = data_rides.pivot_table(index='user_id', values='distance', aggfunc='median')\n",
    "data_rides_distance.describe()"
   ]
  },
  {
   "cell_type": "markdown",
   "id": "7cff7c0a",
   "metadata": {},
   "source": [
    " - Значение медианы около 3130 метров\n",
    " - Большая часть поездок это поездки на расстояние от 2900 до 3350 метров\n",
    " - Есть небольшой пик поездок около 700 метров"
   ]
  },
  {
   "cell_type": "code",
   "execution_count": 15,
   "id": "a4d67aee",
   "metadata": {},
   "outputs": [
    {
     "data": {
      "text/html": [
       "<div>\n",
       "<style scoped>\n",
       "    .dataframe tbody tr th:only-of-type {\n",
       "        vertical-align: middle;\n",
       "    }\n",
       "\n",
       "    .dataframe tbody tr th {\n",
       "        vertical-align: top;\n",
       "    }\n",
       "\n",
       "    .dataframe thead th {\n",
       "        text-align: right;\n",
       "    }\n",
       "</style>\n",
       "<table border=\"1\" class=\"dataframe\">\n",
       "  <thead>\n",
       "    <tr style=\"text-align: right;\">\n",
       "      <th></th>\n",
       "      <th>duration</th>\n",
       "    </tr>\n",
       "  </thead>\n",
       "  <tbody>\n",
       "    <tr>\n",
       "      <th>count</th>\n",
       "      <td>1534.000000</td>\n",
       "    </tr>\n",
       "    <tr>\n",
       "      <th>mean</th>\n",
       "      <td>17.764891</td>\n",
       "    </tr>\n",
       "    <tr>\n",
       "      <th>std</th>\n",
       "      <td>2.315473</td>\n",
       "    </tr>\n",
       "    <tr>\n",
       "      <th>min</th>\n",
       "      <td>10.711378</td>\n",
       "    </tr>\n",
       "    <tr>\n",
       "      <th>25%</th>\n",
       "      <td>16.222831</td>\n",
       "    </tr>\n",
       "    <tr>\n",
       "      <th>50%</th>\n",
       "      <td>17.776070</td>\n",
       "    </tr>\n",
       "    <tr>\n",
       "      <th>75%</th>\n",
       "      <td>19.234036</td>\n",
       "    </tr>\n",
       "    <tr>\n",
       "      <th>max</th>\n",
       "      <td>29.983174</td>\n",
       "    </tr>\n",
       "  </tbody>\n",
       "</table>\n",
       "</div>"
      ],
      "text/plain": [
       "          duration\n",
       "count  1534.000000\n",
       "mean     17.764891\n",
       "std       2.315473\n",
       "min      10.711378\n",
       "25%      16.222831\n",
       "50%      17.776070\n",
       "75%      19.234036\n",
       "max      29.983174"
      ]
     },
     "execution_count": 15,
     "metadata": {},
     "output_type": "execute_result"
    },
    {
     "data": {
      "image/png": "[encoded data removed]",
      "text/plain": [
       "<Figure size 1200x600 with 1 Axes>"
      ]
     },
     "metadata": {},
     "output_type": "display_data"
    }
   ],
   "source": [
    "# Продолжительность поездок\n",
    "\n",
    "data_rides['duration'].plot(grid=True, bins=100, kind='hist', figsize=(12, 6), color='#00B358');\n",
    "plt.title('Продолжительность одной поездки');\n",
    "plt.xlabel('Продолжительность в минутах');\n",
    "plt.ylabel('Кол-во пользователей');\n",
    "\n",
    "data_rides_duration = data_rides.pivot_table(index='user_id', values='duration', aggfunc='median')\n",
    "data_rides_duration.describe()"
   ]
  },
  {
   "cell_type": "markdown",
   "id": "93d09d90",
   "metadata": {},
   "source": [
    " - Большая часть поездок длится от 10 до 25 минут\n",
    " - В среднем на одну поездку уходит 17.5 минут"
   ]
  },
  {
   "cell_type": "markdown",
   "id": "f287f83b",
   "metadata": {},
   "source": [
    "#### Шаг 4. Объединение данных"
   ]
  },
  {
   "cell_type": "code",
   "execution_count": 16,
   "id": "40c97e1b",
   "metadata": {
    "scrolled": true
   },
   "outputs": [
    {
     "data": {
      "text/html": [
       "<div>\n",
       "<style scoped>\n",
       "    .dataframe tbody tr th:only-of-type {\n",
       "        vertical-align: middle;\n",
       "    }\n",
       "\n",
       "    .dataframe tbody tr th {\n",
       "        vertical-align: top;\n",
       "    }\n",
       "\n",
       "    .dataframe thead th {\n",
       "        text-align: right;\n",
       "    }\n",
       "</style>\n",
       "<table border=\"1\" class=\"dataframe\">\n",
       "  <thead>\n",
       "    <tr style=\"text-align: right;\">\n",
       "      <th></th>\n",
       "      <th>user_id</th>\n",
       "      <th>name</th>\n",
       "      <th>age</th>\n",
       "      <th>city</th>\n",
       "      <th>subscription_type</th>\n",
       "      <th>distance</th>\n",
       "      <th>duration</th>\n",
       "      <th>date</th>\n",
       "      <th>month</th>\n",
       "      <th>minute_price</th>\n",
       "      <th>start_ride_price</th>\n",
       "      <th>subscription_fee</th>\n",
       "    </tr>\n",
       "  </thead>\n",
       "  <tbody>\n",
       "    <tr>\n",
       "      <th>0</th>\n",
       "      <td>1</td>\n",
       "      <td>Кира</td>\n",
       "      <td>22</td>\n",
       "      <td>Тюмень</td>\n",
       "      <td>ultra</td>\n",
       "      <td>4409.919140</td>\n",
       "      <td>26.0</td>\n",
       "      <td>2021-01-01</td>\n",
       "      <td>1</td>\n",
       "      <td>6</td>\n",
       "      <td>0</td>\n",
       "      <td>199</td>\n",
       "    </tr>\n",
       "    <tr>\n",
       "      <th>1</th>\n",
       "      <td>1</td>\n",
       "      <td>Кира</td>\n",
       "      <td>22</td>\n",
       "      <td>Тюмень</td>\n",
       "      <td>ultra</td>\n",
       "      <td>2617.592153</td>\n",
       "      <td>16.0</td>\n",
       "      <td>2021-01-18</td>\n",
       "      <td>1</td>\n",
       "      <td>6</td>\n",
       "      <td>0</td>\n",
       "      <td>199</td>\n",
       "    </tr>\n",
       "    <tr>\n",
       "      <th>2</th>\n",
       "      <td>1</td>\n",
       "      <td>Кира</td>\n",
       "      <td>22</td>\n",
       "      <td>Тюмень</td>\n",
       "      <td>ultra</td>\n",
       "      <td>754.159807</td>\n",
       "      <td>7.0</td>\n",
       "      <td>2021-04-20</td>\n",
       "      <td>4</td>\n",
       "      <td>6</td>\n",
       "      <td>0</td>\n",
       "      <td>199</td>\n",
       "    </tr>\n",
       "    <tr>\n",
       "      <th>3</th>\n",
       "      <td>1</td>\n",
       "      <td>Кира</td>\n",
       "      <td>22</td>\n",
       "      <td>Тюмень</td>\n",
       "      <td>ultra</td>\n",
       "      <td>2694.783254</td>\n",
       "      <td>19.0</td>\n",
       "      <td>2021-08-11</td>\n",
       "      <td>8</td>\n",
       "      <td>6</td>\n",
       "      <td>0</td>\n",
       "      <td>199</td>\n",
       "    </tr>\n",
       "    <tr>\n",
       "      <th>4</th>\n",
       "      <td>1</td>\n",
       "      <td>Кира</td>\n",
       "      <td>22</td>\n",
       "      <td>Тюмень</td>\n",
       "      <td>ultra</td>\n",
       "      <td>4028.687306</td>\n",
       "      <td>27.0</td>\n",
       "      <td>2021-08-28</td>\n",
       "      <td>8</td>\n",
       "      <td>6</td>\n",
       "      <td>0</td>\n",
       "      <td>199</td>\n",
       "    </tr>\n",
       "    <tr>\n",
       "      <th>5</th>\n",
       "      <td>1</td>\n",
       "      <td>Кира</td>\n",
       "      <td>22</td>\n",
       "      <td>Тюмень</td>\n",
       "      <td>ultra</td>\n",
       "      <td>2770.890808</td>\n",
       "      <td>17.0</td>\n",
       "      <td>2021-10-09</td>\n",
       "      <td>10</td>\n",
       "      <td>6</td>\n",
       "      <td>0</td>\n",
       "      <td>199</td>\n",
       "    </tr>\n",
       "    <tr>\n",
       "      <th>6</th>\n",
       "      <td>1</td>\n",
       "      <td>Кира</td>\n",
       "      <td>22</td>\n",
       "      <td>Тюмень</td>\n",
       "      <td>ultra</td>\n",
       "      <td>3039.020292</td>\n",
       "      <td>15.0</td>\n",
       "      <td>2021-10-19</td>\n",
       "      <td>10</td>\n",
       "      <td>6</td>\n",
       "      <td>0</td>\n",
       "      <td>199</td>\n",
       "    </tr>\n",
       "    <tr>\n",
       "      <th>7</th>\n",
       "      <td>1</td>\n",
       "      <td>Кира</td>\n",
       "      <td>22</td>\n",
       "      <td>Тюмень</td>\n",
       "      <td>ultra</td>\n",
       "      <td>2842.118050</td>\n",
       "      <td>24.0</td>\n",
       "      <td>2021-11-06</td>\n",
       "      <td>11</td>\n",
       "      <td>6</td>\n",
       "      <td>0</td>\n",
       "      <td>199</td>\n",
       "    </tr>\n",
       "    <tr>\n",
       "      <th>8</th>\n",
       "      <td>1</td>\n",
       "      <td>Кира</td>\n",
       "      <td>22</td>\n",
       "      <td>Тюмень</td>\n",
       "      <td>ultra</td>\n",
       "      <td>3412.690668</td>\n",
       "      <td>16.0</td>\n",
       "      <td>2021-11-14</td>\n",
       "      <td>11</td>\n",
       "      <td>6</td>\n",
       "      <td>0</td>\n",
       "      <td>199</td>\n",
       "    </tr>\n",
       "    <tr>\n",
       "      <th>9</th>\n",
       "      <td>1</td>\n",
       "      <td>Кира</td>\n",
       "      <td>22</td>\n",
       "      <td>Тюмень</td>\n",
       "      <td>ultra</td>\n",
       "      <td>748.690645</td>\n",
       "      <td>16.0</td>\n",
       "      <td>2021-11-22</td>\n",
       "      <td>11</td>\n",
       "      <td>6</td>\n",
       "      <td>0</td>\n",
       "      <td>199</td>\n",
       "    </tr>\n",
       "    <tr>\n",
       "      <th>10</th>\n",
       "      <td>1</td>\n",
       "      <td>Кира</td>\n",
       "      <td>22</td>\n",
       "      <td>Тюмень</td>\n",
       "      <td>ultra</td>\n",
       "      <td>4031.020195</td>\n",
       "      <td>18.0</td>\n",
       "      <td>2021-12-14</td>\n",
       "      <td>12</td>\n",
       "      <td>6</td>\n",
       "      <td>0</td>\n",
       "      <td>199</td>\n",
       "    </tr>\n",
       "    <tr>\n",
       "      <th>11</th>\n",
       "      <td>1</td>\n",
       "      <td>Кира</td>\n",
       "      <td>22</td>\n",
       "      <td>Тюмень</td>\n",
       "      <td>ultra</td>\n",
       "      <td>2720.609748</td>\n",
       "      <td>10.0</td>\n",
       "      <td>2021-12-22</td>\n",
       "      <td>12</td>\n",
       "      <td>6</td>\n",
       "      <td>0</td>\n",
       "      <td>199</td>\n",
       "    </tr>\n",
       "    <tr>\n",
       "      <th>12</th>\n",
       "      <td>2</td>\n",
       "      <td>Станислав</td>\n",
       "      <td>31</td>\n",
       "      <td>Омск</td>\n",
       "      <td>ultra</td>\n",
       "      <td>3105.086678</td>\n",
       "      <td>25.0</td>\n",
       "      <td>2021-03-15</td>\n",
       "      <td>3</td>\n",
       "      <td>6</td>\n",
       "      <td>0</td>\n",
       "      <td>199</td>\n",
       "    </tr>\n",
       "    <tr>\n",
       "      <th>13</th>\n",
       "      <td>2</td>\n",
       "      <td>Станислав</td>\n",
       "      <td>31</td>\n",
       "      <td>Омск</td>\n",
       "      <td>ultra</td>\n",
       "      <td>3053.519401</td>\n",
       "      <td>12.0</td>\n",
       "      <td>2021-03-18</td>\n",
       "      <td>3</td>\n",
       "      <td>6</td>\n",
       "      <td>0</td>\n",
       "      <td>199</td>\n",
       "    </tr>\n",
       "    <tr>\n",
       "      <th>14</th>\n",
       "      <td>2</td>\n",
       "      <td>Станислав</td>\n",
       "      <td>31</td>\n",
       "      <td>Омск</td>\n",
       "      <td>ultra</td>\n",
       "      <td>4029.116927</td>\n",
       "      <td>26.0</td>\n",
       "      <td>2021-03-23</td>\n",
       "      <td>3</td>\n",
       "      <td>6</td>\n",
       "      <td>0</td>\n",
       "      <td>199</td>\n",
       "    </tr>\n",
       "    <tr>\n",
       "      <th>15</th>\n",
       "      <td>2</td>\n",
       "      <td>Станислав</td>\n",
       "      <td>31</td>\n",
       "      <td>Омск</td>\n",
       "      <td>ultra</td>\n",
       "      <td>2805.786329</td>\n",
       "      <td>21.0</td>\n",
       "      <td>2021-04-08</td>\n",
       "      <td>4</td>\n",
       "      <td>6</td>\n",
       "      <td>0</td>\n",
       "      <td>199</td>\n",
       "    </tr>\n",
       "    <tr>\n",
       "      <th>16</th>\n",
       "      <td>2</td>\n",
       "      <td>Станислав</td>\n",
       "      <td>31</td>\n",
       "      <td>Омск</td>\n",
       "      <td>ultra</td>\n",
       "      <td>3358.595495</td>\n",
       "      <td>19.0</td>\n",
       "      <td>2021-04-13</td>\n",
       "      <td>4</td>\n",
       "      <td>6</td>\n",
       "      <td>0</td>\n",
       "      <td>199</td>\n",
       "    </tr>\n",
       "    <tr>\n",
       "      <th>17</th>\n",
       "      <td>2</td>\n",
       "      <td>Станислав</td>\n",
       "      <td>31</td>\n",
       "      <td>Омск</td>\n",
       "      <td>ultra</td>\n",
       "      <td>3255.338202</td>\n",
       "      <td>14.0</td>\n",
       "      <td>2021-06-20</td>\n",
       "      <td>6</td>\n",
       "      <td>6</td>\n",
       "      <td>0</td>\n",
       "      <td>199</td>\n",
       "    </tr>\n",
       "    <tr>\n",
       "      <th>18</th>\n",
       "      <td>2</td>\n",
       "      <td>Станислав</td>\n",
       "      <td>31</td>\n",
       "      <td>Омск</td>\n",
       "      <td>ultra</td>\n",
       "      <td>3942.817648</td>\n",
       "      <td>21.0</td>\n",
       "      <td>2021-07-02</td>\n",
       "      <td>7</td>\n",
       "      <td>6</td>\n",
       "      <td>0</td>\n",
       "      <td>199</td>\n",
       "    </tr>\n",
       "    <tr>\n",
       "      <th>19</th>\n",
       "      <td>2</td>\n",
       "      <td>Станислав</td>\n",
       "      <td>31</td>\n",
       "      <td>Омск</td>\n",
       "      <td>ultra</td>\n",
       "      <td>2837.905316</td>\n",
       "      <td>27.0</td>\n",
       "      <td>2021-07-18</td>\n",
       "      <td>7</td>\n",
       "      <td>6</td>\n",
       "      <td>0</td>\n",
       "      <td>199</td>\n",
       "    </tr>\n",
       "  </tbody>\n",
       "</table>\n",
       "</div>"
      ],
      "text/plain": [
       "    user_id       name  age    city subscription_type     distance  duration  \\\n",
       "0         1       Кира   22  Тюмень             ultra  4409.919140      26.0   \n",
       "1         1       Кира   22  Тюмень             ultra  2617.592153      16.0   \n",
       "2         1       Кира   22  Тюмень             ultra   754.159807       7.0   \n",
       "3         1       Кира   22  Тюмень             ultra  2694.783254      19.0   \n",
       "4         1       Кира   22  Тюмень             ultra  4028.687306      27.0   \n",
       "5         1       Кира   22  Тюмень             ultra  2770.890808      17.0   \n",
       "6         1       Кира   22  Тюмень             ultra  3039.020292      15.0   \n",
       "7         1       Кира   22  Тюмень             ultra  2842.118050      24.0   \n",
       "8         1       Кира   22  Тюмень             ultra  3412.690668      16.0   \n",
       "9         1       Кира   22  Тюмень             ultra   748.690645      16.0   \n",
       "10        1       Кира   22  Тюмень             ultra  4031.020195      18.0   \n",
       "11        1       Кира   22  Тюмень             ultra  2720.609748      10.0   \n",
       "12        2  Станислав   31    Омск             ultra  3105.086678      25.0   \n",
       "13        2  Станислав   31    Омск             ultra  3053.519401      12.0   \n",
       "14        2  Станислав   31    Омск             ultra  4029.116927      26.0   \n",
       "15        2  Станислав   31    Омск             ultra  2805.786329      21.0   \n",
       "16        2  Станислав   31    Омск             ultra  3358.595495      19.0   \n",
       "17        2  Станислав   31    Омск             ultra  3255.338202      14.0   \n",
       "18        2  Станислав   31    Омск             ultra  3942.817648      21.0   \n",
       "19        2  Станислав   31    Омск             ultra  2837.905316      27.0   \n",
       "\n",
       "         date  month  minute_price  start_ride_price  subscription_fee  \n",
       "0  2021-01-01      1             6                 0               199  \n",
       "1  2021-01-18      1             6                 0               199  \n",
       "2  2021-04-20      4             6                 0               199  \n",
       "3  2021-08-11      8             6                 0               199  \n",
       "4  2021-08-28      8             6                 0               199  \n",
       "5  2021-10-09     10             6                 0               199  \n",
       "6  2021-10-19     10             6                 0               199  \n",
       "7  2021-11-06     11             6                 0               199  \n",
       "8  2021-11-14     11             6                 0               199  \n",
       "9  2021-11-22     11             6                 0               199  \n",
       "10 2021-12-14     12             6                 0               199  \n",
       "11 2021-12-22     12             6                 0               199  \n",
       "12 2021-03-15      3             6                 0               199  \n",
       "13 2021-03-18      3             6                 0               199  \n",
       "14 2021-03-23      3             6                 0               199  \n",
       "15 2021-04-08      4             6                 0               199  \n",
       "16 2021-04-13      4             6                 0               199  \n",
       "17 2021-06-20      6             6                 0               199  \n",
       "18 2021-07-02      7             6                 0               199  \n",
       "19 2021-07-18      7             6                 0               199  "
      ]
     },
     "execution_count": 16,
     "metadata": {},
     "output_type": "execute_result"
    }
   ],
   "source": [
    "# Объединяем по очереди все таблицы, проверяем\n",
    "\n",
    "data = data_users.merge(data_rides, on='user_id', how='left')\n",
    "data = data.merge(data_subscriptions, on='subscription_type', how='left')\n",
    "data['duration'] = np.ceil(data['duration'])\n",
    "data.head(20)"
   ]
  },
  {
   "cell_type": "code",
   "execution_count": 17,
   "id": "a8bef785",
   "metadata": {},
   "outputs": [],
   "source": [
    "# Создаем 2 отдельных датафрейма для пользователей с подпиской и без\n",
    "\n",
    "data_free = data.query('subscription_type == \"free\"').reset_index(drop=True)\n",
    "data_ultra = data.query('subscription_type == \"ultra\"')"
   ]
  },
  {
   "cell_type": "code",
   "execution_count": 18,
   "id": "c4bdf505",
   "metadata": {},
   "outputs": [
    {
     "data": {
      "image/png": "[encoded data removed]",
      "text/plain": [
       "<Figure size 1200x600 with 1 Axes>"
      ]
     },
     "metadata": {},
     "output_type": "display_data"
    }
   ],
   "source": [
    "# Расстояния с подпиской и без подписки\n",
    "\n",
    "data_free['distance'].plot(grid=True, bins=100, kind='hist', figsize=(12, 6), color='#1240AB');\n",
    "data_ultra['distance'].plot(grid=True, bins=100, kind='hist', figsize=(12, 6), color='#FF9400');\n",
    "plt.title('Расстояние одной поездки');\n",
    "plt.legend(['Без подписки', 'С подпиской']);\n",
    "plt.xlabel('Расстояние в метрах');\n",
    "plt.ylabel('Кол-во пользователей');"
   ]
  },
  {
   "cell_type": "markdown",
   "id": "e30445b1",
   "metadata": {},
   "source": [
    " - Для тех, кто использует самокаты без подписки, характерны расстояния от 2000 до 4500 м\n",
    " - Те, кто пользуется подпиской, обычно проезжают от 2500 до 4500 м\n",
    " - Для пользователей без подписки пик на графике приходится на меньших расстояниях (2500 м), чем для тех, у кого есть подписка (3100 м)\n",
    "  - т.е. самое большое количество пользователей без подписки проезжают меньше, чем пользователей с подпиской\n"
   ]
  },
  {
   "cell_type": "code",
   "execution_count": 19,
   "id": "a7906c9b",
   "metadata": {},
   "outputs": [
    {
     "data": {
      "image/png": "[encoded data removed]",
      "text/plain": [
       "<Figure size 1200x600 with 1 Axes>"
      ]
     },
     "metadata": {},
     "output_type": "display_data"
    }
   ],
   "source": [
    "# Время с подпиской и без подписки\n",
    "\n",
    "data_free['duration'].plot(grid=True, bins=50, kind='hist', figsize=(12, 6), color='#1240AB');\n",
    "data_ultra['duration'].plot(grid=True, bins=50, kind='hist', figsize=(12, 6), color='#FF9400');\n",
    "plt.title('Продолжительность одной поездки');\n",
    "plt.legend(['Без подписки', 'С подпиской']);\n",
    "plt.xlabel('Время в минутах');\n",
    "plt.ylabel('Кол-во пользователей');"
   ]
  },
  {
   "cell_type": "markdown",
   "id": "490088fa",
   "metadata": {},
   "source": [
    " - Для тех, кто использует самокаты без подписки, типичная продолжительность поездки 13-25 мин\n",
    " - Пользователи с подпиской в среднем тратят на поездку от 14 до 25 мин, есть несколько значений больше 35 мин\n",
    " - В целом график времени поездок без подписки смещен немного влево относительно графика времени с подписками, можно предположить, что без подписки пользователи тратят меньше времени на поездку"
   ]
  },
  {
   "cell_type": "markdown",
   "id": "0163a089",
   "metadata": {},
   "source": [
    "#### Шаг 5. Подсчёт выручки"
   ]
  },
  {
   "cell_type": "code",
   "execution_count": 20,
   "id": "fe725432",
   "metadata": {},
   "outputs": [
    {
     "data": {
      "text/html": [
       "<div>\n",
       "<style scoped>\n",
       "    .dataframe tbody tr th:only-of-type {\n",
       "        vertical-align: middle;\n",
       "    }\n",
       "\n",
       "    .dataframe tbody tr th {\n",
       "        vertical-align: top;\n",
       "    }\n",
       "\n",
       "    .dataframe thead th {\n",
       "        text-align: right;\n",
       "    }\n",
       "</style>\n",
       "<table border=\"1\" class=\"dataframe\">\n",
       "  <thead>\n",
       "    <tr style=\"text-align: right;\">\n",
       "      <th></th>\n",
       "      <th></th>\n",
       "      <th>distance</th>\n",
       "      <th>time_per_month</th>\n",
       "      <th>count</th>\n",
       "      <th>subscription_fee</th>\n",
       "      <th>minute_price</th>\n",
       "      <th>start_ride_price</th>\n",
       "      <th>subscription_type</th>\n",
       "    </tr>\n",
       "    <tr>\n",
       "      <th>user_id</th>\n",
       "      <th>month</th>\n",
       "      <th></th>\n",
       "      <th></th>\n",
       "      <th></th>\n",
       "      <th></th>\n",
       "      <th></th>\n",
       "      <th></th>\n",
       "      <th></th>\n",
       "    </tr>\n",
       "  </thead>\n",
       "  <tbody>\n",
       "    <tr>\n",
       "      <th rowspan=\"5\" valign=\"top\">1</th>\n",
       "      <th>1</th>\n",
       "      <td>7027.511294</td>\n",
       "      <td>42.0</td>\n",
       "      <td>2</td>\n",
       "      <td>199</td>\n",
       "      <td>6</td>\n",
       "      <td>0</td>\n",
       "      <td>ultra</td>\n",
       "    </tr>\n",
       "    <tr>\n",
       "      <th>4</th>\n",
       "      <td>754.159807</td>\n",
       "      <td>7.0</td>\n",
       "      <td>1</td>\n",
       "      <td>199</td>\n",
       "      <td>6</td>\n",
       "      <td>0</td>\n",
       "      <td>ultra</td>\n",
       "    </tr>\n",
       "    <tr>\n",
       "      <th>8</th>\n",
       "      <td>6723.470560</td>\n",
       "      <td>46.0</td>\n",
       "      <td>2</td>\n",
       "      <td>199</td>\n",
       "      <td>6</td>\n",
       "      <td>0</td>\n",
       "      <td>ultra</td>\n",
       "    </tr>\n",
       "    <tr>\n",
       "      <th>10</th>\n",
       "      <td>5809.911100</td>\n",
       "      <td>32.0</td>\n",
       "      <td>2</td>\n",
       "      <td>199</td>\n",
       "      <td>6</td>\n",
       "      <td>0</td>\n",
       "      <td>ultra</td>\n",
       "    </tr>\n",
       "    <tr>\n",
       "      <th>11</th>\n",
       "      <td>7003.499363</td>\n",
       "      <td>56.0</td>\n",
       "      <td>3</td>\n",
       "      <td>199</td>\n",
       "      <td>6</td>\n",
       "      <td>0</td>\n",
       "      <td>ultra</td>\n",
       "    </tr>\n",
       "    <tr>\n",
       "      <th>...</th>\n",
       "      <th>...</th>\n",
       "      <td>...</td>\n",
       "      <td>...</td>\n",
       "      <td>...</td>\n",
       "      <td>...</td>\n",
       "      <td>...</td>\n",
       "      <td>...</td>\n",
       "      <td>...</td>\n",
       "    </tr>\n",
       "    <tr>\n",
       "      <th rowspan=\"5\" valign=\"top\">1534</th>\n",
       "      <th>6</th>\n",
       "      <td>3409.468534</td>\n",
       "      <td>26.0</td>\n",
       "      <td>2</td>\n",
       "      <td>0</td>\n",
       "      <td>8</td>\n",
       "      <td>50</td>\n",
       "      <td>free</td>\n",
       "    </tr>\n",
       "    <tr>\n",
       "      <th>8</th>\n",
       "      <td>7622.453034</td>\n",
       "      <td>48.0</td>\n",
       "      <td>2</td>\n",
       "      <td>0</td>\n",
       "      <td>8</td>\n",
       "      <td>50</td>\n",
       "      <td>free</td>\n",
       "    </tr>\n",
       "    <tr>\n",
       "      <th>9</th>\n",
       "      <td>4928.173852</td>\n",
       "      <td>23.0</td>\n",
       "      <td>1</td>\n",
       "      <td>0</td>\n",
       "      <td>8</td>\n",
       "      <td>50</td>\n",
       "      <td>free</td>\n",
       "    </tr>\n",
       "    <tr>\n",
       "      <th>11</th>\n",
       "      <td>13350.015305</td>\n",
       "      <td>78.0</td>\n",
       "      <td>4</td>\n",
       "      <td>0</td>\n",
       "      <td>8</td>\n",
       "      <td>50</td>\n",
       "      <td>free</td>\n",
       "    </tr>\n",
       "    <tr>\n",
       "      <th>12</th>\n",
       "      <td>2371.711192</td>\n",
       "      <td>16.0</td>\n",
       "      <td>1</td>\n",
       "      <td>0</td>\n",
       "      <td>8</td>\n",
       "      <td>50</td>\n",
       "      <td>free</td>\n",
       "    </tr>\n",
       "  </tbody>\n",
       "</table>\n",
       "<p>11300 rows × 7 columns</p>\n",
       "</div>"
      ],
      "text/plain": [
       "                   distance  time_per_month  count  subscription_fee  \\\n",
       "user_id month                                                          \n",
       "1       1       7027.511294            42.0      2               199   \n",
       "        4        754.159807             7.0      1               199   \n",
       "        8       6723.470560            46.0      2               199   \n",
       "        10      5809.911100            32.0      2               199   \n",
       "        11      7003.499363            56.0      3               199   \n",
       "...                     ...             ...    ...               ...   \n",
       "1534    6       3409.468534            26.0      2                 0   \n",
       "        8       7622.453034            48.0      2                 0   \n",
       "        9       4928.173852            23.0      1                 0   \n",
       "        11     13350.015305            78.0      4                 0   \n",
       "        12      2371.711192            16.0      1                 0   \n",
       "\n",
       "               minute_price  start_ride_price subscription_type  \n",
       "user_id month                                                    \n",
       "1       1                 6                 0             ultra  \n",
       "        4                 6                 0             ultra  \n",
       "        8                 6                 0             ultra  \n",
       "        10                6                 0             ultra  \n",
       "        11                6                 0             ultra  \n",
       "...                     ...               ...               ...  \n",
       "1534    6                 8                50              free  \n",
       "        8                 8                50              free  \n",
       "        9                 8                50              free  \n",
       "        11                8                50              free  \n",
       "        12                8                50              free  \n",
       "\n",
       "[11300 rows x 7 columns]"
      ]
     },
     "execution_count": 20,
     "metadata": {},
     "output_type": "execute_result"
    }
   ],
   "source": [
    "# Создаем общий датафрейм с суммарным расстоянием, кол-вом поездок и суммарным временем для каждого пользователя по месяцам\n",
    "\n",
    "data_merged = (\n",
    "    data.groupby(['user_id', 'month'])\n",
    "    .agg({'distance':'sum', 'duration':['sum', 'count'], \n",
    "    'subscription_fee':'first', 'minute_price':'first', 'start_ride_price':'first', 'subscription_type':'first'})\n",
    ")\n",
    "\n",
    "data_merged.columns = ('distance', 'time_per_month', 'count', 'subscription_fee', 'minute_price', 'start_ride_price', 'subscription_type')\n",
    "data_merged"
   ]
  },
  {
   "cell_type": "code",
   "execution_count": 21,
   "id": "2f0b7dd8",
   "metadata": {},
   "outputs": [
    {
     "data": {
      "text/html": [
       "<div>\n",
       "<style scoped>\n",
       "    .dataframe tbody tr th:only-of-type {\n",
       "        vertical-align: middle;\n",
       "    }\n",
       "\n",
       "    .dataframe tbody tr th {\n",
       "        vertical-align: top;\n",
       "    }\n",
       "\n",
       "    .dataframe thead th {\n",
       "        text-align: right;\n",
       "    }\n",
       "</style>\n",
       "<table border=\"1\" class=\"dataframe\">\n",
       "  <thead>\n",
       "    <tr style=\"text-align: right;\">\n",
       "      <th></th>\n",
       "      <th></th>\n",
       "      <th>distance</th>\n",
       "      <th>time_per_month</th>\n",
       "      <th>count</th>\n",
       "      <th>subscription_fee</th>\n",
       "      <th>minute_price</th>\n",
       "      <th>start_ride_price</th>\n",
       "      <th>subscription_type</th>\n",
       "      <th>month_income</th>\n",
       "    </tr>\n",
       "    <tr>\n",
       "      <th>user_id</th>\n",
       "      <th>month</th>\n",
       "      <th></th>\n",
       "      <th></th>\n",
       "      <th></th>\n",
       "      <th></th>\n",
       "      <th></th>\n",
       "      <th></th>\n",
       "      <th></th>\n",
       "      <th></th>\n",
       "    </tr>\n",
       "  </thead>\n",
       "  <tbody>\n",
       "    <tr>\n",
       "      <th rowspan=\"5\" valign=\"top\">1</th>\n",
       "      <th>1</th>\n",
       "      <td>7027.511294</td>\n",
       "      <td>42.0</td>\n",
       "      <td>2</td>\n",
       "      <td>199</td>\n",
       "      <td>6</td>\n",
       "      <td>0</td>\n",
       "      <td>ultra</td>\n",
       "      <td>451.0</td>\n",
       "    </tr>\n",
       "    <tr>\n",
       "      <th>4</th>\n",
       "      <td>754.159807</td>\n",
       "      <td>7.0</td>\n",
       "      <td>1</td>\n",
       "      <td>199</td>\n",
       "      <td>6</td>\n",
       "      <td>0</td>\n",
       "      <td>ultra</td>\n",
       "      <td>241.0</td>\n",
       "    </tr>\n",
       "    <tr>\n",
       "      <th>8</th>\n",
       "      <td>6723.470560</td>\n",
       "      <td>46.0</td>\n",
       "      <td>2</td>\n",
       "      <td>199</td>\n",
       "      <td>6</td>\n",
       "      <td>0</td>\n",
       "      <td>ultra</td>\n",
       "      <td>475.0</td>\n",
       "    </tr>\n",
       "    <tr>\n",
       "      <th>10</th>\n",
       "      <td>5809.911100</td>\n",
       "      <td>32.0</td>\n",
       "      <td>2</td>\n",
       "      <td>199</td>\n",
       "      <td>6</td>\n",
       "      <td>0</td>\n",
       "      <td>ultra</td>\n",
       "      <td>391.0</td>\n",
       "    </tr>\n",
       "    <tr>\n",
       "      <th>11</th>\n",
       "      <td>7003.499363</td>\n",
       "      <td>56.0</td>\n",
       "      <td>3</td>\n",
       "      <td>199</td>\n",
       "      <td>6</td>\n",
       "      <td>0</td>\n",
       "      <td>ultra</td>\n",
       "      <td>535.0</td>\n",
       "    </tr>\n",
       "    <tr>\n",
       "      <th>...</th>\n",
       "      <th>...</th>\n",
       "      <td>...</td>\n",
       "      <td>...</td>\n",
       "      <td>...</td>\n",
       "      <td>...</td>\n",
       "      <td>...</td>\n",
       "      <td>...</td>\n",
       "      <td>...</td>\n",
       "      <td>...</td>\n",
       "    </tr>\n",
       "    <tr>\n",
       "      <th rowspan=\"5\" valign=\"top\">1534</th>\n",
       "      <th>6</th>\n",
       "      <td>3409.468534</td>\n",
       "      <td>26.0</td>\n",
       "      <td>2</td>\n",
       "      <td>0</td>\n",
       "      <td>8</td>\n",
       "      <td>50</td>\n",
       "      <td>free</td>\n",
       "      <td>308.0</td>\n",
       "    </tr>\n",
       "    <tr>\n",
       "      <th>8</th>\n",
       "      <td>7622.453034</td>\n",
       "      <td>48.0</td>\n",
       "      <td>2</td>\n",
       "      <td>0</td>\n",
       "      <td>8</td>\n",
       "      <td>50</td>\n",
       "      <td>free</td>\n",
       "      <td>484.0</td>\n",
       "    </tr>\n",
       "    <tr>\n",
       "      <th>9</th>\n",
       "      <td>4928.173852</td>\n",
       "      <td>23.0</td>\n",
       "      <td>1</td>\n",
       "      <td>0</td>\n",
       "      <td>8</td>\n",
       "      <td>50</td>\n",
       "      <td>free</td>\n",
       "      <td>234.0</td>\n",
       "    </tr>\n",
       "    <tr>\n",
       "      <th>11</th>\n",
       "      <td>13350.015305</td>\n",
       "      <td>78.0</td>\n",
       "      <td>4</td>\n",
       "      <td>0</td>\n",
       "      <td>8</td>\n",
       "      <td>50</td>\n",
       "      <td>free</td>\n",
       "      <td>824.0</td>\n",
       "    </tr>\n",
       "    <tr>\n",
       "      <th>12</th>\n",
       "      <td>2371.711192</td>\n",
       "      <td>16.0</td>\n",
       "      <td>1</td>\n",
       "      <td>0</td>\n",
       "      <td>8</td>\n",
       "      <td>50</td>\n",
       "      <td>free</td>\n",
       "      <td>178.0</td>\n",
       "    </tr>\n",
       "  </tbody>\n",
       "</table>\n",
       "<p>11300 rows × 8 columns</p>\n",
       "</div>"
      ],
      "text/plain": [
       "                   distance  time_per_month  count  subscription_fee  \\\n",
       "user_id month                                                          \n",
       "1       1       7027.511294            42.0      2               199   \n",
       "        4        754.159807             7.0      1               199   \n",
       "        8       6723.470560            46.0      2               199   \n",
       "        10      5809.911100            32.0      2               199   \n",
       "        11      7003.499363            56.0      3               199   \n",
       "...                     ...             ...    ...               ...   \n",
       "1534    6       3409.468534            26.0      2                 0   \n",
       "        8       7622.453034            48.0      2                 0   \n",
       "        9       4928.173852            23.0      1                 0   \n",
       "        11     13350.015305            78.0      4                 0   \n",
       "        12      2371.711192            16.0      1                 0   \n",
       "\n",
       "               minute_price  start_ride_price subscription_type  month_income  \n",
       "user_id month                                                                  \n",
       "1       1                 6                 0             ultra         451.0  \n",
       "        4                 6                 0             ultra         241.0  \n",
       "        8                 6                 0             ultra         475.0  \n",
       "        10                6                 0             ultra         391.0  \n",
       "        11                6                 0             ultra         535.0  \n",
       "...                     ...               ...               ...           ...  \n",
       "1534    6                 8                50              free         308.0  \n",
       "        8                 8                50              free         484.0  \n",
       "        9                 8                50              free         234.0  \n",
       "        11                8                50              free         824.0  \n",
       "        12                8                50              free         178.0  \n",
       "\n",
       "[11300 rows x 8 columns]"
      ]
     },
     "execution_count": 21,
     "metadata": {},
     "output_type": "execute_result"
    }
   ],
   "source": [
    "data_merged['month_income'] = (\n",
    "    data_merged['subscription_fee'] + \n",
    "    (data_merged['time_per_month']*data_merged['minute_price']) \n",
    "    + (data_merged['count']*data_merged['start_ride_price'])\n",
    ")\n",
    "\n",
    "data_merged"
   ]
  },
  {
   "cell_type": "markdown",
   "id": "d3f3d762",
   "metadata": {},
   "source": [
    "#### Шаг 6. Проверка гипотез"
   ]
  },
  {
   "cell_type": "markdown",
   "id": "ce570448",
   "metadata": {},
   "source": [
    " 1. Проверяем гипотезу: тратят ли пользователи с подпиской больше времени на поездки?\n",
    " \n",
    " - H0: средняя продолжительность поездки с подпиской равна средней продолжительности поезки без подписки\n",
    " - H1: средняя продолжительность поездки с подпиской больше средней продолжительности поезки без подписки\n",
    " \n",
    "    - H0: data_ultra_duration = data_free_duration\n",
    "    - H1: data_ultra_duration > data_free_duration"
   ]
  },
  {
   "cell_type": "code",
   "execution_count": 22,
   "id": "a72836e8",
   "metadata": {},
   "outputs": [
    {
     "name": "stdout",
     "output_type": "stream",
     "text": [
      "p-value: [9.79684554e-17]\n",
      "Отвергаем нулевую гипотезу\n"
     ]
    }
   ],
   "source": [
    "data_ultra_duration = data_ultra.pivot_table(index='user_id', values='duration', aggfunc='median')\n",
    "data_free_duration = data_free.pivot_table(index='user_id', values='duration', aggfunc='median')\n",
    "\n",
    "alpha = 0.05\n",
    "results = st.ttest_ind(data_ultra_duration, data_free_duration, alternative='greater', equal_var=False)\n",
    "\n",
    "print(f'p-value: {results.pvalue}')\n",
    "\n",
    "if results.pvalue < alpha:\n",
    "    print('Отвергаем нулевую гипотезу')\n",
    "else:\n",
    "    print('Нет оснований отвергнуть нулевую гипотезу')"
   ]
  },
  {
   "cell_type": "markdown",
   "id": "b5dd4118",
   "metadata": {},
   "source": [
    " - Pvalue очень маленький\n",
    " - Есть основания говорить, что пользователи с подпиской тратят больше времени на поездки"
   ]
  },
  {
   "cell_type": "markdown",
   "id": "9bcd4d89",
   "metadata": {},
   "source": [
    " 2. Проверяем гипотезу: расстояние, которое проезжают пользователи с подпиской за одну поездку, не превышает 3130 метров\n",
    " \n",
    " - H0: среднее расстояние поездки с подпиской равно 3130 м.\n",
    " - H1: среднее расстояние поездки с подпиской больше 3130 м.\n",
    " \n",
    "    - H0: data_ultra_distance = 3130\n",
    "    - H1: data_ultra_distance > 3130"
   ]
  },
  {
   "cell_type": "code",
   "execution_count": 23,
   "id": "0d22687a",
   "metadata": {},
   "outputs": [
    {
     "name": "stdout",
     "output_type": "stream",
     "text": [
      "p-значение: 0.9195368847849785\n",
      "Не получилось отвергнуть нулевую гипотезу\n"
     ]
    }
   ],
   "source": [
    "data_free_distance = data.query('subscription_type == \"free\"')['distance']\n",
    "data_ultra_distance = data.query('subscription_type == \"ultra\"')['distance']\n",
    "\n",
    "optimal_value = 3130\n",
    "alpha = 0.01\n",
    "results = st.ttest_1samp(data_ultra_distance, optimal_value, alternative='greater')\n",
    "\n",
    "print('p-значение:', results.pvalue)\n",
    "\n",
    "if results.pvalue < alpha:\n",
    "    print('Отвергаем нулевую гипотезу')\n",
    "else:\n",
    "    print('Не получилось отвергнуть нулевую гипотезу')"
   ]
  },
  {
   "cell_type": "markdown",
   "id": "ae67d4af",
   "metadata": {},
   "source": [
    " - P-value равен примерно 0.919, нулевую гипотезу не отвергаем\n",
    " - Есть основания говорить, что среднее расстояние, которое проезжают пользователи с подпиской статистически значимо не отличается от 3130 метров"
   ]
  },
  {
   "cell_type": "markdown",
   "id": "1864bce5",
   "metadata": {},
   "source": [
    " 3. Проверяем гипотезу: будет ли помесячная выручка от пользователей с подпиской по месяцам выше, чем выручка от пользователей без подписки\n",
    " - H0: ultra_income = free_income\n",
    " - H1: ultra_income > free_income\n",
    "   - H0: ежемесячная выручка от пользователей с подпиской равна ежемесячной выручке от пользователей без подписки\n",
    "   - H1: ежемесячная выручка от пользователей с подпиской больше ежемесячной выручки от пользователей без подписки "
   ]
  },
  {
   "cell_type": "code",
   "execution_count": 24,
   "id": "264e4344",
   "metadata": {},
   "outputs": [
    {
     "name": "stdout",
     "output_type": "stream",
     "text": [
      "Средняя помечясная выручка с подпиской: 362.7921906022502\n",
      "Средняя помечясная выручка без подписки: 329.3326437121324\n",
      "p-value: 2.4970242872858465e-38\n",
      "Отвергаем нулевую гипотезу\n"
     ]
    }
   ],
   "source": [
    "ultra_income = data_merged.query('subscription_type == \"ultra\"')['month_income']\n",
    "free_income = data_merged.query('subscription_type == \"free\"')['month_income']\n",
    "print('Средняя помечясная выручка с подпиской:', ultra_income.mean())\n",
    "print('Средняя помечясная выручка без подписки:', free_income.mean())\n",
    "\n",
    "alpha = 0.01\n",
    "results = st.ttest_ind(ultra_income, free_income, alternative='greater', equal_var=False)\n",
    "\n",
    "print(f'p-value: {results.pvalue}')\n",
    "\n",
    "if results.pvalue < alpha:\n",
    "    print('Отвергаем нулевую гипотезу')\n",
    "else:\n",
    "    print('Нет оснований отвергнуть нулевую гипотезу')"
   ]
  },
  {
   "cell_type": "markdown",
   "id": "a8d708fc",
   "metadata": {},
   "source": [
    " - P-value очень маленький, нулевую гипотезу отвергаем\n",
    " - Есть основания говорить, что ежемесячная выручка от пользователей с подпиской больше ежемесячной выручки от пользователей без подписки"
   ]
  },
  {
   "cell_type": "markdown",
   "id": "d600bd53",
   "metadata": {},
   "source": [
    "***Задание 6.4***\n",
    "\n",
    "Представьте такую ситуацию: техническая команда сервиса обновила сервера, с которыми взаимодействует мобильное приложение. Она надеется, что из-за этого количество обращений в техподдержку значимо снизилось. Некоторый файл содержит для каждого пользователя данные о количестве обращений до обновления и после него. Какой тест вам понадобился бы для проверки этой гипотезы?\n",
    "\n",
    " - Здесь мы будем проверять гипотезу о равенстве средних для зависимых (до и после) выборок. \n",
    "   Соответственно нам подойдет метод scipy.stats.ttest_rel() "
   ]
  },
  {
   "cell_type": "markdown",
   "id": "d16483ac",
   "metadata": {},
   "source": [
    "***Вывод:***\n",
    "\n",
    "В ходе исследования было проверено три гипотезы:\n",
    "\n",
    " - Тратят ли пользователи с подпиской больше времени на поездки? Результат: есть основания говорить, что пользователи с подпиской тратят больше времени на поездки\n",
    " \n",
    " - Расстояние, которое проезжают пользователи с подпиской за одну поездку, не превышает 3130 метров. Результат: среднее расстояние, которые проезжают пользователи с подпиской за поездку статистически значимо не отличается от оптимального растояния 3130 метров\n",
    " \n",
    " - Помесячная выручка от пользователей с подпиской по месяцам выше, чем выручка от пользователей без подписки. Результат: есть основания говорить, что ежемесячная выручка от пользователей с подпиской больше ежемесячной выручки от пользователей без подписки"
   ]
  },
  {
   "cell_type": "markdown",
   "id": "decfa5ff",
   "metadata": {},
   "source": [
    "#### Шаг 7. Распределения"
   ]
  },
  {
   "cell_type": "code",
   "execution_count": 25,
   "id": "c9d9cacd",
   "metadata": {},
   "outputs": [],
   "source": [
    "from scipy.stats import binom\n",
    "from math import factorial\n",
    "from matplotlib.pyplot import figure\n",
    "from numpy import random\n",
    "import seaborn as sns"
   ]
  },
  {
   "cell_type": "markdown",
   "id": "353b609f",
   "metadata": {},
   "source": [
    " - Вероятность не выполнить план должна быть 5%, значит вероятность выполнить план должна быть 95% и более"
   ]
  },
  {
   "cell_type": "code",
   "execution_count": 31,
   "id": "1e24a299",
   "metadata": {},
   "outputs": [
    {
     "data": {
      "text/plain": [
       "0.9577078390671807"
      ]
     },
     "execution_count": 31,
     "metadata": {},
     "output_type": "execute_result"
    }
   ],
   "source": [
    "# Подбираем n-значение такое, чтобы prob была равна примерно 95% \n",
    "\n",
    "prob = 1 - st.binom.cdf(100, 1180, 0.1)\n",
    "prob"
   ]
  },
  {
   "cell_type": "code",
   "execution_count": null,
   "id": "32f614b6",
   "metadata": {},
   "outputs": [],
   "source": [
    "n = 1180 \n",
    "p = 0.1 \n",
    "\n",
    "distr = []\n",
    "\n",
    "for k in range(0, n + 1):\n",
    "    current_value = binom.pmf(k, n, p)\n",
    "    distr.append(current_value)\n",
    "    \n",
    "plt.figure(figsize=(15, 10));\n",
    "plt.grid(True);\n",
    "plt.bar(range(0, n + 1), distr);"
   ]
  },
  {
   "cell_type": "markdown",
   "id": "43e63ecc",
   "metadata": {},
   "source": [
    "***Вывод***\n",
    "\n",
    "Чтобы получить 100 клиентов, продливших подписку, нужно разослать 1180 и больше промокодов"
   ]
  },
  {
   "cell_type": "markdown",
   "id": "fdd8cad3",
   "metadata": {},
   "source": [
    "P.S. С визуализацией распределения у меня возникли сложности, не могу понять, как построить график, если известно k, и нужно ли это вообще"
   ]
  },
  {
   "cell_type": "code",
   "execution_count": null,
   "id": "e274f373",
   "metadata": {},
   "outputs": [],
   "source": [
    "n = 1180 \n",
    "p = 0.1 \n",
    "\n",
    "distr = []\n",
    "\n",
    "# Значения для оси x (количество успехов)\n",
    "x = range(n + 1)\n",
    "\n",
    "# Значения для оси y (вероятность)\n",
    "y = binom.pmf(x, n, p)\n",
    "\n",
    "    \n",
    "plt.figure(figsize=(15, 10));\n",
    "plt.grid(True);\n",
    "plt.bar(x=x, height=y)\n",
    ";"
   ]
  }
 ],
 "metadata": {
  "ExecuteTimeLog": [
   {
    "duration": 57,
    "start_time": "2023-06-19T10:40:03.705Z"
   },
   {
    "duration": 1679,
    "start_time": "2023-06-19T10:41:54.015Z"
   },
   {
    "duration": 26,
    "start_time": "2023-06-19T10:41:55.696Z"
   },
   {
    "duration": 17,
    "start_time": "2023-06-19T10:42:17.300Z"
   },
   {
    "duration": 9,
    "start_time": "2023-06-19T10:42:31.503Z"
   },
   {
    "duration": 13,
    "start_time": "2023-06-19T10:45:26.854Z"
   },
   {
    "duration": 23,
    "start_time": "2023-06-19T10:46:19.732Z"
   },
   {
    "duration": 18,
    "start_time": "2023-06-19T10:47:10.342Z"
   },
   {
    "duration": 15,
    "start_time": "2023-06-19T10:51:05.929Z"
   },
   {
    "duration": 20,
    "start_time": "2023-06-19T10:51:24.687Z"
   },
   {
    "duration": 16,
    "start_time": "2023-06-19T10:55:23.894Z"
   },
   {
    "duration": 22,
    "start_time": "2023-06-19T10:55:35.888Z"
   },
   {
    "duration": 6,
    "start_time": "2023-06-19T10:59:43.732Z"
   },
   {
    "duration": 9,
    "start_time": "2023-06-19T11:00:00.258Z"
   },
   {
    "duration": 11,
    "start_time": "2023-06-19T11:02:39.934Z"
   },
   {
    "duration": 8,
    "start_time": "2023-06-19T11:02:46.649Z"
   },
   {
    "duration": 11,
    "start_time": "2023-06-19T11:14:34.298Z"
   },
   {
    "duration": 10,
    "start_time": "2023-06-19T11:14:40.662Z"
   },
   {
    "duration": 7,
    "start_time": "2023-06-19T11:14:47.677Z"
   },
   {
    "duration": 6,
    "start_time": "2023-06-19T11:17:30.702Z"
   },
   {
    "duration": 10,
    "start_time": "2023-06-19T11:17:42.676Z"
   },
   {
    "duration": 7,
    "start_time": "2023-06-19T11:29:28.838Z"
   },
   {
    "duration": 130,
    "start_time": "2023-06-19T11:30:38.124Z"
   },
   {
    "duration": 212,
    "start_time": "2023-06-19T11:30:59.834Z"
   },
   {
    "duration": 170,
    "start_time": "2023-06-19T11:31:21.863Z"
   },
   {
    "duration": 208,
    "start_time": "2023-06-19T11:33:26.330Z"
   },
   {
    "duration": 177,
    "start_time": "2023-06-19T11:33:41.812Z"
   },
   {
    "duration": 170,
    "start_time": "2023-06-19T11:33:59.462Z"
   },
   {
    "duration": 132,
    "start_time": "2023-06-19T11:59:55.365Z"
   },
   {
    "duration": 21540,
    "start_time": "2023-06-19T12:03:58.435Z"
   },
   {
    "duration": 1324,
    "start_time": "2023-06-19T12:04:56.807Z"
   },
   {
    "duration": 31,
    "start_time": "2023-06-19T12:04:58.133Z"
   },
   {
    "duration": 33,
    "start_time": "2023-06-19T12:04:58.166Z"
   },
   {
    "duration": 20,
    "start_time": "2023-06-19T12:04:58.201Z"
   },
   {
    "duration": 28,
    "start_time": "2023-06-19T12:04:58.228Z"
   },
   {
    "duration": 10,
    "start_time": "2023-06-19T12:04:58.258Z"
   },
   {
    "duration": 20,
    "start_time": "2023-06-19T12:04:58.270Z"
   },
   {
    "duration": 13,
    "start_time": "2023-06-19T12:04:58.292Z"
   },
   {
    "duration": 206,
    "start_time": "2023-06-19T12:04:58.307Z"
   },
   {
    "duration": 139,
    "start_time": "2023-06-19T12:04:58.522Z"
   },
   {
    "duration": 21709,
    "start_time": "2023-06-19T12:04:58.663Z"
   },
   {
    "duration": 3,
    "start_time": "2023-06-19T12:05:20.374Z"
   },
   {
    "duration": 48,
    "start_time": "2023-06-19T12:05:20.379Z"
   },
   {
    "duration": 258,
    "start_time": "2023-06-19T12:06:05.871Z"
   },
   {
    "duration": 191,
    "start_time": "2023-06-19T12:06:38.331Z"
   },
   {
    "duration": 357,
    "start_time": "2023-06-19T12:12:50.778Z"
   },
   {
    "duration": 186,
    "start_time": "2023-06-19T12:13:06.317Z"
   },
   {
    "duration": 295,
    "start_time": "2023-06-19T12:13:11.539Z"
   },
   {
    "duration": 755,
    "start_time": "2023-06-19T12:42:49.741Z"
   },
   {
    "duration": 1086,
    "start_time": "2023-06-19T12:45:42.673Z"
   },
   {
    "duration": 61,
    "start_time": "2023-06-19T14:59:34.023Z"
   },
   {
    "duration": 1652,
    "start_time": "2023-06-19T14:59:48.048Z"
   },
   {
    "duration": 29,
    "start_time": "2023-06-19T14:59:49.703Z"
   },
   {
    "duration": 37,
    "start_time": "2023-06-19T14:59:49.734Z"
   },
   {
    "duration": 18,
    "start_time": "2023-06-19T14:59:49.775Z"
   },
   {
    "duration": 25,
    "start_time": "2023-06-19T14:59:49.795Z"
   },
   {
    "duration": 22,
    "start_time": "2023-06-19T14:59:49.822Z"
   },
   {
    "duration": 11,
    "start_time": "2023-06-19T14:59:49.847Z"
   },
   {
    "duration": 35,
    "start_time": "2023-06-19T14:59:49.861Z"
   },
   {
    "duration": 191,
    "start_time": "2023-06-19T14:59:49.898Z"
   },
   {
    "duration": 193,
    "start_time": "2023-06-19T14:59:50.092Z"
   },
   {
    "duration": 257,
    "start_time": "2023-06-19T14:59:50.288Z"
   },
   {
    "duration": 589,
    "start_time": "2023-06-19T14:59:50.555Z"
   },
   {
    "duration": 16,
    "start_time": "2023-06-19T14:59:51.146Z"
   },
   {
    "duration": 517,
    "start_time": "2023-06-19T15:02:58.133Z"
   },
   {
    "duration": 316,
    "start_time": "2023-06-19T15:04:25.067Z"
   },
   {
    "duration": 298,
    "start_time": "2023-06-19T15:05:14.916Z"
   },
   {
    "duration": 291,
    "start_time": "2023-06-19T15:06:01.894Z"
   },
   {
    "duration": 228,
    "start_time": "2023-06-19T15:07:27.352Z"
   },
   {
    "duration": 272,
    "start_time": "2023-06-19T15:07:57.919Z"
   },
   {
    "duration": 235,
    "start_time": "2023-06-19T15:09:18.319Z"
   },
   {
    "duration": 215,
    "start_time": "2023-06-19T15:10:22.736Z"
   },
   {
    "duration": 211,
    "start_time": "2023-06-19T15:10:46.827Z"
   },
   {
    "duration": 46,
    "start_time": "2023-06-20T09:07:32.947Z"
   },
   {
    "duration": 1577,
    "start_time": "2023-06-20T09:07:45.117Z"
   },
   {
    "duration": 22,
    "start_time": "2023-06-20T09:07:46.697Z"
   },
   {
    "duration": 37,
    "start_time": "2023-06-20T09:07:46.721Z"
   },
   {
    "duration": 18,
    "start_time": "2023-06-20T09:07:46.760Z"
   },
   {
    "duration": 35,
    "start_time": "2023-06-20T09:07:46.781Z"
   },
   {
    "duration": 25,
    "start_time": "2023-06-20T09:07:46.819Z"
   },
   {
    "duration": 8,
    "start_time": "2023-06-20T09:07:46.846Z"
   },
   {
    "duration": 27,
    "start_time": "2023-06-20T09:07:46.856Z"
   },
   {
    "duration": 197,
    "start_time": "2023-06-20T09:07:46.885Z"
   },
   {
    "duration": 156,
    "start_time": "2023-06-20T09:07:47.085Z"
   },
   {
    "duration": 206,
    "start_time": "2023-06-20T09:07:47.244Z"
   },
   {
    "duration": 239,
    "start_time": "2023-06-20T09:07:47.452Z"
   },
   {
    "duration": 234,
    "start_time": "2023-06-20T09:07:47.693Z"
   },
   {
    "duration": 11,
    "start_time": "2023-06-20T09:07:47.929Z"
   },
   {
    "duration": 19,
    "start_time": "2023-06-20T09:08:11.741Z"
   },
   {
    "duration": 99,
    "start_time": "2023-06-20T09:10:05.041Z"
   },
   {
    "duration": 16,
    "start_time": "2023-06-20T09:10:22.881Z"
   },
   {
    "duration": 24,
    "start_time": "2023-06-20T09:10:30.787Z"
   },
   {
    "duration": 26,
    "start_time": "2023-06-20T09:10:53.246Z"
   },
   {
    "duration": 26,
    "start_time": "2023-06-20T09:12:14.569Z"
   },
   {
    "duration": 28,
    "start_time": "2023-06-20T09:12:39.596Z"
   },
   {
    "duration": 29,
    "start_time": "2023-06-20T09:13:00.407Z"
   },
   {
    "duration": 33,
    "start_time": "2023-06-20T09:32:06.963Z"
   },
   {
    "duration": 1129,
    "start_time": "2023-06-20T09:32:26.727Z"
   },
   {
    "duration": 21,
    "start_time": "2023-06-20T09:32:27.858Z"
   },
   {
    "duration": 20,
    "start_time": "2023-06-20T09:32:27.880Z"
   },
   {
    "duration": 7,
    "start_time": "2023-06-20T09:32:27.902Z"
   },
   {
    "duration": 21,
    "start_time": "2023-06-20T09:32:27.911Z"
   },
   {
    "duration": 7,
    "start_time": "2023-06-20T09:32:27.933Z"
   },
   {
    "duration": 16,
    "start_time": "2023-06-20T09:32:27.941Z"
   },
   {
    "duration": 7,
    "start_time": "2023-06-20T09:32:27.976Z"
   },
   {
    "duration": 166,
    "start_time": "2023-06-20T09:32:27.985Z"
   },
   {
    "duration": 126,
    "start_time": "2023-06-20T09:32:28.153Z"
   },
   {
    "duration": 171,
    "start_time": "2023-06-20T09:32:28.281Z"
   },
   {
    "duration": 214,
    "start_time": "2023-06-20T09:32:28.454Z"
   },
   {
    "duration": 233,
    "start_time": "2023-06-20T09:32:28.671Z"
   },
   {
    "duration": 27,
    "start_time": "2023-06-20T09:32:28.907Z"
   },
   {
    "duration": 132,
    "start_time": "2023-06-20T09:32:28.935Z"
   },
   {
    "duration": 27,
    "start_time": "2023-06-20T09:33:53.101Z"
   },
   {
    "duration": 26,
    "start_time": "2023-06-20T09:33:57.024Z"
   },
   {
    "duration": 9,
    "start_time": "2023-06-20T09:42:27.122Z"
   },
   {
    "duration": 8,
    "start_time": "2023-06-20T09:42:31.736Z"
   },
   {
    "duration": 16,
    "start_time": "2023-06-20T09:42:45.385Z"
   },
   {
    "duration": 32,
    "start_time": "2023-06-20T09:43:15.736Z"
   },
   {
    "duration": 17,
    "start_time": "2023-06-20T09:43:28.577Z"
   },
   {
    "duration": 14,
    "start_time": "2023-06-20T09:44:07.093Z"
   },
   {
    "duration": 22,
    "start_time": "2023-06-20T09:44:45.465Z"
   },
   {
    "duration": 15,
    "start_time": "2023-06-20T09:47:21.099Z"
   },
   {
    "duration": 39,
    "start_time": "2023-06-20T09:47:42.491Z"
   },
   {
    "duration": 13,
    "start_time": "2023-06-20T09:47:55.645Z"
   },
   {
    "duration": 13,
    "start_time": "2023-06-20T09:48:03.834Z"
   },
   {
    "duration": 37,
    "start_time": "2023-06-20T09:48:28.210Z"
   },
   {
    "duration": 11,
    "start_time": "2023-06-20T09:49:01.305Z"
   },
   {
    "duration": 13,
    "start_time": "2023-06-20T09:49:59.831Z"
   },
   {
    "duration": 23,
    "start_time": "2023-06-20T09:50:12.277Z"
   },
   {
    "duration": 10,
    "start_time": "2023-06-20T09:50:24.615Z"
   },
   {
    "duration": 18,
    "start_time": "2023-06-20T09:50:39.115Z"
   },
   {
    "duration": 18,
    "start_time": "2023-06-20T09:50:48.690Z"
   },
   {
    "duration": 13,
    "start_time": "2023-06-20T09:51:44.144Z"
   },
   {
    "duration": 167,
    "start_time": "2023-06-20T09:54:48.401Z"
   },
   {
    "duration": 175,
    "start_time": "2023-06-20T09:58:43.236Z"
   },
   {
    "duration": 200,
    "start_time": "2023-06-20T10:01:33.189Z"
   },
   {
    "duration": 10537,
    "start_time": "2023-06-20T10:01:47.287Z"
   },
   {
    "duration": 196,
    "start_time": "2023-06-20T10:02:02.315Z"
   },
   {
    "duration": 195,
    "start_time": "2023-06-20T10:04:24.366Z"
   },
   {
    "duration": 195,
    "start_time": "2023-06-20T10:08:52.804Z"
   },
   {
    "duration": 6,
    "start_time": "2023-06-20T10:46:20.164Z"
   },
   {
    "duration": 6,
    "start_time": "2023-06-20T10:46:25.158Z"
   },
   {
    "duration": 5,
    "start_time": "2023-06-20T10:46:29.860Z"
   },
   {
    "duration": 8,
    "start_time": "2023-06-20T10:47:23.359Z"
   },
   {
    "duration": 15,
    "start_time": "2023-06-20T10:47:50.104Z"
   },
   {
    "duration": 15,
    "start_time": "2023-06-20T10:48:13.980Z"
   },
   {
    "duration": 21,
    "start_time": "2023-06-20T10:48:30.419Z"
   },
   {
    "duration": 17,
    "start_time": "2023-06-20T10:51:50.228Z"
   },
   {
    "duration": 106,
    "start_time": "2023-06-20T10:52:41.716Z"
   },
   {
    "duration": 30,
    "start_time": "2023-06-20T10:52:58.535Z"
   },
   {
    "duration": 17,
    "start_time": "2023-06-20T10:54:41.289Z"
   },
   {
    "duration": 1376,
    "start_time": "2023-06-20T10:56:35.401Z"
   },
   {
    "duration": 15,
    "start_time": "2023-06-20T10:58:18.315Z"
   },
   {
    "duration": 15,
    "start_time": "2023-06-20T10:58:24.095Z"
   },
   {
    "duration": 15,
    "start_time": "2023-06-20T10:58:27.292Z"
   },
   {
    "duration": 25,
    "start_time": "2023-06-20T10:58:36.996Z"
   },
   {
    "duration": 24,
    "start_time": "2023-06-20T11:00:01.834Z"
   },
   {
    "duration": 485,
    "start_time": "2023-06-20T11:01:09.303Z"
   },
   {
    "duration": 350,
    "start_time": "2023-06-20T11:01:26.199Z"
   },
   {
    "duration": 1104,
    "start_time": "2023-06-20T11:01:35.016Z"
   },
   {
    "duration": 20,
    "start_time": "2023-06-20T11:01:36.121Z"
   },
   {
    "duration": 16,
    "start_time": "2023-06-20T11:01:36.142Z"
   },
   {
    "duration": 22,
    "start_time": "2023-06-20T11:01:36.160Z"
   },
   {
    "duration": 28,
    "start_time": "2023-06-20T11:01:36.184Z"
   },
   {
    "duration": 21,
    "start_time": "2023-06-20T11:01:36.213Z"
   },
   {
    "duration": 30,
    "start_time": "2023-06-20T11:01:36.235Z"
   },
   {
    "duration": 28,
    "start_time": "2023-06-20T11:01:36.267Z"
   },
   {
    "duration": 199,
    "start_time": "2023-06-20T11:01:36.298Z"
   },
   {
    "duration": 117,
    "start_time": "2023-06-20T11:01:36.499Z"
   },
   {
    "duration": 170,
    "start_time": "2023-06-20T11:01:36.617Z"
   },
   {
    "duration": 203,
    "start_time": "2023-06-20T11:01:36.789Z"
   },
   {
    "duration": 216,
    "start_time": "2023-06-20T11:01:36.994Z"
   },
   {
    "duration": 28,
    "start_time": "2023-06-20T11:01:37.213Z"
   },
   {
    "duration": 12,
    "start_time": "2023-06-20T11:01:37.242Z"
   },
   {
    "duration": 199,
    "start_time": "2023-06-20T11:01:37.255Z"
   },
   {
    "duration": 167,
    "start_time": "2023-06-20T11:01:37.456Z"
   },
   {
    "duration": 189,
    "start_time": "2023-06-20T11:01:37.625Z"
   },
   {
    "duration": 193,
    "start_time": "2023-06-20T11:01:37.816Z"
   },
   {
    "duration": 556,
    "start_time": "2023-06-20T11:01:38.010Z"
   },
   {
    "duration": 25,
    "start_time": "2023-06-20T11:01:52.696Z"
   },
   {
    "duration": 23,
    "start_time": "2023-06-20T11:03:20.958Z"
   },
   {
    "duration": 175,
    "start_time": "2023-06-20T11:16:04.054Z"
   },
   {
    "duration": 17,
    "start_time": "2023-06-20T11:16:20.342Z"
   },
   {
    "duration": 15,
    "start_time": "2023-06-20T11:16:22.443Z"
   },
   {
    "duration": 16,
    "start_time": "2023-06-20T11:16:27.042Z"
   },
   {
    "duration": 17,
    "start_time": "2023-06-20T11:17:09.555Z"
   },
   {
    "duration": 1134,
    "start_time": "2023-06-20T11:17:22.318Z"
   },
   {
    "duration": 32,
    "start_time": "2023-06-20T11:17:23.454Z"
   },
   {
    "duration": 27,
    "start_time": "2023-06-20T11:17:23.488Z"
   },
   {
    "duration": 7,
    "start_time": "2023-06-20T11:17:23.517Z"
   },
   {
    "duration": 24,
    "start_time": "2023-06-20T11:17:23.526Z"
   },
   {
    "duration": 14,
    "start_time": "2023-06-20T11:17:23.551Z"
   },
   {
    "duration": 16,
    "start_time": "2023-06-20T11:17:23.566Z"
   },
   {
    "duration": 22,
    "start_time": "2023-06-20T11:17:23.584Z"
   },
   {
    "duration": 162,
    "start_time": "2023-06-20T11:17:23.608Z"
   },
   {
    "duration": 120,
    "start_time": "2023-06-20T11:17:23.776Z"
   },
   {
    "duration": 165,
    "start_time": "2023-06-20T11:17:23.898Z"
   },
   {
    "duration": 227,
    "start_time": "2023-06-20T11:17:24.064Z"
   },
   {
    "duration": 212,
    "start_time": "2023-06-20T11:17:24.293Z"
   },
   {
    "duration": 27,
    "start_time": "2023-06-20T11:17:24.507Z"
   },
   {
    "duration": 12,
    "start_time": "2023-06-20T11:17:24.536Z"
   },
   {
    "duration": 202,
    "start_time": "2023-06-20T11:17:24.550Z"
   },
   {
    "duration": 186,
    "start_time": "2023-06-20T11:17:24.754Z"
   },
   {
    "duration": 193,
    "start_time": "2023-06-20T11:17:24.942Z"
   },
   {
    "duration": 208,
    "start_time": "2023-06-20T11:17:25.137Z"
   },
   {
    "duration": 41,
    "start_time": "2023-06-20T11:17:25.347Z"
   },
   {
    "duration": 103,
    "start_time": "2023-06-20T11:17:25.389Z"
   },
   {
    "duration": 41,
    "start_time": "2023-06-20T11:19:46.148Z"
   },
   {
    "duration": 50,
    "start_time": "2023-06-20T11:19:57.892Z"
   },
   {
    "duration": 28,
    "start_time": "2023-06-20T11:21:05.695Z"
   },
   {
    "duration": 9,
    "start_time": "2023-06-20T11:21:33.590Z"
   },
   {
    "duration": 24,
    "start_time": "2023-06-20T11:21:40.198Z"
   },
   {
    "duration": 264,
    "start_time": "2023-06-20T11:24:47.089Z"
   },
   {
    "duration": 261,
    "start_time": "2023-06-20T11:31:01.666Z"
   },
   {
    "duration": 25,
    "start_time": "2023-06-20T11:31:18.843Z"
   },
   {
    "duration": 25,
    "start_time": "2023-06-20T11:49:36.208Z"
   },
   {
    "duration": 103,
    "start_time": "2023-06-20T11:49:44.738Z"
   },
   {
    "duration": 25,
    "start_time": "2023-06-20T11:53:30.599Z"
   },
   {
    "duration": 7,
    "start_time": "2023-06-20T11:58:08.484Z"
   },
   {
    "duration": 26,
    "start_time": "2023-06-20T11:58:23.134Z"
   },
   {
    "duration": 25,
    "start_time": "2023-06-20T11:59:07.044Z"
   },
   {
    "duration": 52,
    "start_time": "2023-06-20T12:01:42.135Z"
   },
   {
    "duration": 56,
    "start_time": "2023-06-20T12:03:31.404Z"
   },
   {
    "duration": 20,
    "start_time": "2023-06-20T12:21:31.170Z"
   },
   {
    "duration": 43,
    "start_time": "2023-06-20T12:30:29.709Z"
   },
   {
    "duration": 51,
    "start_time": "2023-06-20T12:32:13.970Z"
   },
   {
    "duration": 7,
    "start_time": "2023-06-20T13:12:24.044Z"
   },
   {
    "duration": 29,
    "start_time": "2023-06-20T13:12:34.118Z"
   },
   {
    "duration": 17,
    "start_time": "2023-06-20T13:13:31.073Z"
   },
   {
    "duration": 35,
    "start_time": "2023-06-20T13:15:10.396Z"
   },
   {
    "duration": 24,
    "start_time": "2023-06-20T13:15:15.548Z"
   },
   {
    "duration": 33,
    "start_time": "2023-06-20T13:15:18.107Z"
   },
   {
    "duration": 55,
    "start_time": "2023-06-20T13:16:54.492Z"
   },
   {
    "duration": 70,
    "start_time": "2023-06-20T13:29:30.102Z"
   },
   {
    "duration": 68,
    "start_time": "2023-06-20T13:29:56.196Z"
   },
   {
    "duration": 53,
    "start_time": "2023-06-20T13:31:51.031Z"
   },
   {
    "duration": 60,
    "start_time": "2023-06-20T13:33:49.466Z"
   },
   {
    "duration": 131,
    "start_time": "2023-06-20T13:49:13.158Z"
   },
   {
    "duration": 2372,
    "start_time": "2023-06-20T13:49:22.085Z"
   },
   {
    "duration": 0,
    "start_time": "2023-06-20T13:49:24.459Z"
   },
   {
    "duration": 46,
    "start_time": "2023-06-20T13:49:34.898Z"
   },
   {
    "duration": 49,
    "start_time": "2023-06-20T13:49:53.009Z"
   },
   {
    "duration": 56,
    "start_time": "2023-06-20T13:50:05.717Z"
   },
   {
    "duration": 19,
    "start_time": "2023-06-20T13:51:49.071Z"
   },
   {
    "duration": 19,
    "start_time": "2023-06-20T13:51:56.447Z"
   },
   {
    "duration": 50,
    "start_time": "2023-06-20T13:51:57.814Z"
   },
   {
    "duration": 52,
    "start_time": "2023-06-20T13:53:19.053Z"
   },
   {
    "duration": 57,
    "start_time": "2023-06-20T13:53:43.918Z"
   },
   {
    "duration": 49,
    "start_time": "2023-06-20T13:53:50.503Z"
   },
   {
    "duration": 10,
    "start_time": "2023-06-20T13:53:52.508Z"
   },
   {
    "duration": 30,
    "start_time": "2023-06-20T14:03:03.429Z"
   },
   {
    "duration": 30,
    "start_time": "2023-06-20T14:03:27.114Z"
   },
   {
    "duration": 27,
    "start_time": "2023-06-20T14:04:20.277Z"
   },
   {
    "duration": 29,
    "start_time": "2023-06-20T14:09:07.584Z"
   },
   {
    "duration": 28,
    "start_time": "2023-06-20T14:10:54.534Z"
   },
   {
    "duration": 29,
    "start_time": "2023-06-20T14:16:00.009Z"
   },
   {
    "duration": 19,
    "start_time": "2023-06-20T14:18:19.680Z"
   },
   {
    "duration": 22,
    "start_time": "2023-06-20T14:18:22.618Z"
   },
   {
    "duration": 29,
    "start_time": "2023-06-20T14:18:39.295Z"
   },
   {
    "duration": 23,
    "start_time": "2023-06-20T14:19:38.859Z"
   },
   {
    "duration": 17,
    "start_time": "2023-06-20T14:20:09.258Z"
   },
   {
    "duration": 19,
    "start_time": "2023-06-20T14:20:27.528Z"
   },
   {
    "duration": 1133,
    "start_time": "2023-06-20T14:20:36.318Z"
   },
   {
    "duration": 28,
    "start_time": "2023-06-20T14:20:37.453Z"
   },
   {
    "duration": 19,
    "start_time": "2023-06-20T14:20:37.483Z"
   },
   {
    "duration": 25,
    "start_time": "2023-06-20T14:20:37.505Z"
   },
   {
    "duration": 59,
    "start_time": "2023-06-20T14:20:37.532Z"
   },
   {
    "duration": 10,
    "start_time": "2023-06-20T14:20:37.593Z"
   },
   {
    "duration": 9,
    "start_time": "2023-06-20T14:20:37.605Z"
   },
   {
    "duration": 16,
    "start_time": "2023-06-20T14:20:37.615Z"
   },
   {
    "duration": 152,
    "start_time": "2023-06-20T14:20:37.633Z"
   },
   {
    "duration": 119,
    "start_time": "2023-06-20T14:20:37.789Z"
   },
   {
    "duration": 168,
    "start_time": "2023-06-20T14:20:37.910Z"
   },
   {
    "duration": 206,
    "start_time": "2023-06-20T14:20:38.080Z"
   },
   {
    "duration": 213,
    "start_time": "2023-06-20T14:20:38.288Z"
   },
   {
    "duration": 28,
    "start_time": "2023-06-20T14:20:38.503Z"
   },
   {
    "duration": 12,
    "start_time": "2023-06-20T14:20:38.533Z"
   },
   {
    "duration": 189,
    "start_time": "2023-06-20T14:20:38.546Z"
   },
   {
    "duration": 176,
    "start_time": "2023-06-20T14:20:38.736Z"
   },
   {
    "duration": 180,
    "start_time": "2023-06-20T14:20:38.913Z"
   },
   {
    "duration": 195,
    "start_time": "2023-06-20T14:20:39.094Z"
   },
   {
    "duration": 20,
    "start_time": "2023-06-20T14:20:39.291Z"
   },
   {
    "duration": 117,
    "start_time": "2023-06-20T14:20:39.313Z"
   },
   {
    "duration": 0,
    "start_time": "2023-06-20T14:20:39.432Z"
   },
   {
    "duration": 0,
    "start_time": "2023-06-20T14:20:39.433Z"
   },
   {
    "duration": 19,
    "start_time": "2023-06-20T14:22:10.818Z"
   },
   {
    "duration": 1199,
    "start_time": "2023-06-20T14:22:32.348Z"
   },
   {
    "duration": 20,
    "start_time": "2023-06-20T14:22:33.548Z"
   },
   {
    "duration": 24,
    "start_time": "2023-06-20T14:22:33.569Z"
   },
   {
    "duration": 8,
    "start_time": "2023-06-20T14:22:33.595Z"
   },
   {
    "duration": 21,
    "start_time": "2023-06-20T14:22:33.605Z"
   },
   {
    "duration": 21,
    "start_time": "2023-06-20T14:22:33.628Z"
   },
   {
    "duration": 7,
    "start_time": "2023-06-20T14:22:33.651Z"
   },
   {
    "duration": 8,
    "start_time": "2023-06-20T14:22:33.659Z"
   },
   {
    "duration": 156,
    "start_time": "2023-06-20T14:22:33.668Z"
   },
   {
    "duration": 148,
    "start_time": "2023-06-20T14:22:33.827Z"
   },
   {
    "duration": 170,
    "start_time": "2023-06-20T14:22:33.977Z"
   },
   {
    "duration": 201,
    "start_time": "2023-06-20T14:22:34.149Z"
   },
   {
    "duration": 208,
    "start_time": "2023-06-20T14:22:34.352Z"
   },
   {
    "duration": 35,
    "start_time": "2023-06-20T14:22:34.562Z"
   },
   {
    "duration": 12,
    "start_time": "2023-06-20T14:22:34.599Z"
   },
   {
    "duration": 182,
    "start_time": "2023-06-20T14:22:34.612Z"
   },
   {
    "duration": 169,
    "start_time": "2023-06-20T14:22:34.796Z"
   },
   {
    "duration": 191,
    "start_time": "2023-06-20T14:22:34.967Z"
   },
   {
    "duration": 205,
    "start_time": "2023-06-20T14:22:35.160Z"
   },
   {
    "duration": 19,
    "start_time": "2023-06-20T14:22:35.374Z"
   },
   {
    "duration": 107,
    "start_time": "2023-06-20T14:22:35.395Z"
   },
   {
    "duration": 0,
    "start_time": "2023-06-20T14:22:35.504Z"
   },
   {
    "duration": 0,
    "start_time": "2023-06-20T14:22:35.505Z"
   },
   {
    "duration": 23,
    "start_time": "2023-06-20T14:22:51.340Z"
   },
   {
    "duration": 19,
    "start_time": "2023-06-20T14:25:46.637Z"
   },
   {
    "duration": 15,
    "start_time": "2023-06-20T14:25:55.494Z"
   },
   {
    "duration": 14,
    "start_time": "2023-06-20T14:26:08.783Z"
   },
   {
    "duration": 15,
    "start_time": "2023-06-20T14:27:07.241Z"
   },
   {
    "duration": 35,
    "start_time": "2023-06-20T14:27:31.134Z"
   },
   {
    "duration": 33,
    "start_time": "2023-06-20T14:28:34.309Z"
   },
   {
    "duration": 111,
    "start_time": "2023-06-20T14:29:59.029Z"
   },
   {
    "duration": 22,
    "start_time": "2023-06-20T14:30:30.794Z"
   },
   {
    "duration": 21,
    "start_time": "2023-06-20T14:30:34.684Z"
   },
   {
    "duration": 42,
    "start_time": "2023-06-20T14:30:49.139Z"
   },
   {
    "duration": 46,
    "start_time": "2023-06-20T14:31:14.333Z"
   },
   {
    "duration": 35,
    "start_time": "2023-06-20T14:46:02.129Z"
   },
   {
    "duration": 33,
    "start_time": "2023-06-20T14:48:46.607Z"
   },
   {
    "duration": 49,
    "start_time": "2023-06-20T14:53:09.058Z"
   },
   {
    "duration": 423,
    "start_time": "2023-06-20T14:54:06.308Z"
   },
   {
    "duration": 28,
    "start_time": "2023-06-20T15:25:06.141Z"
   },
   {
    "duration": 20,
    "start_time": "2023-06-20T15:25:32.392Z"
   },
   {
    "duration": 49,
    "start_time": "2023-06-20T18:32:25.619Z"
   },
   {
    "duration": 1497,
    "start_time": "2023-06-20T18:32:32.998Z"
   },
   {
    "duration": 22,
    "start_time": "2023-06-20T18:32:34.498Z"
   },
   {
    "duration": 26,
    "start_time": "2023-06-20T18:32:34.521Z"
   },
   {
    "duration": 6,
    "start_time": "2023-06-20T18:32:34.549Z"
   },
   {
    "duration": 25,
    "start_time": "2023-06-20T18:32:34.557Z"
   },
   {
    "duration": 18,
    "start_time": "2023-06-20T18:32:34.584Z"
   },
   {
    "duration": 36,
    "start_time": "2023-06-20T18:32:34.604Z"
   },
   {
    "duration": 22,
    "start_time": "2023-06-20T18:32:34.642Z"
   },
   {
    "duration": 173,
    "start_time": "2023-06-20T18:32:34.665Z"
   },
   {
    "duration": 125,
    "start_time": "2023-06-20T18:32:34.840Z"
   },
   {
    "duration": 167,
    "start_time": "2023-06-20T18:32:34.966Z"
   },
   {
    "duration": 221,
    "start_time": "2023-06-20T18:32:35.135Z"
   },
   {
    "duration": 234,
    "start_time": "2023-06-20T18:32:35.357Z"
   },
   {
    "duration": 32,
    "start_time": "2023-06-20T18:32:35.594Z"
   },
   {
    "duration": 13,
    "start_time": "2023-06-20T18:32:35.628Z"
   },
   {
    "duration": 189,
    "start_time": "2023-06-20T18:32:35.644Z"
   },
   {
    "duration": 179,
    "start_time": "2023-06-20T18:32:35.835Z"
   },
   {
    "duration": 177,
    "start_time": "2023-06-20T18:32:36.016Z"
   },
   {
    "duration": 238,
    "start_time": "2023-06-20T18:32:36.196Z"
   },
   {
    "duration": 40,
    "start_time": "2023-06-20T18:32:36.436Z"
   },
   {
    "duration": 16,
    "start_time": "2023-06-20T18:32:36.478Z"
   },
   {
    "duration": 110,
    "start_time": "2023-06-20T18:32:36.496Z"
   },
   {
    "duration": 0,
    "start_time": "2023-06-20T18:32:36.608Z"
   },
   {
    "duration": 17,
    "start_time": "2023-06-20T18:32:48.952Z"
   },
   {
    "duration": 10,
    "start_time": "2023-06-20T18:32:50.609Z"
   },
   {
    "duration": 13,
    "start_time": "2023-06-20T18:32:54.158Z"
   },
   {
    "duration": 2566,
    "start_time": "2023-06-20T18:45:03.025Z"
   },
   {
    "duration": 1530,
    "start_time": "2023-06-20T18:45:24.242Z"
   },
   {
    "duration": 1146,
    "start_time": "2023-06-20T18:45:38.144Z"
   },
   {
    "duration": 20,
    "start_time": "2023-06-20T18:45:39.292Z"
   },
   {
    "duration": 16,
    "start_time": "2023-06-20T18:45:39.314Z"
   },
   {
    "duration": 6,
    "start_time": "2023-06-20T18:45:39.332Z"
   },
   {
    "duration": 17,
    "start_time": "2023-06-20T18:45:39.340Z"
   },
   {
    "duration": 8,
    "start_time": "2023-06-20T18:45:39.375Z"
   },
   {
    "duration": 6,
    "start_time": "2023-06-20T18:45:39.385Z"
   },
   {
    "duration": 13,
    "start_time": "2023-06-20T18:45:39.393Z"
   },
   {
    "duration": 182,
    "start_time": "2023-06-20T18:45:39.408Z"
   },
   {
    "duration": 120,
    "start_time": "2023-06-20T18:45:39.592Z"
   },
   {
    "duration": 183,
    "start_time": "2023-06-20T18:45:39.713Z"
   },
   {
    "duration": 205,
    "start_time": "2023-06-20T18:45:39.898Z"
   },
   {
    "duration": 207,
    "start_time": "2023-06-20T18:45:40.105Z"
   },
   {
    "duration": 28,
    "start_time": "2023-06-20T18:45:40.315Z"
   },
   {
    "duration": 36,
    "start_time": "2023-06-20T18:45:40.345Z"
   },
   {
    "duration": 170,
    "start_time": "2023-06-20T18:45:40.383Z"
   },
   {
    "duration": 175,
    "start_time": "2023-06-20T18:45:40.554Z"
   },
   {
    "duration": 178,
    "start_time": "2023-06-20T18:45:40.731Z"
   },
   {
    "duration": 191,
    "start_time": "2023-06-20T18:45:40.911Z"
   },
   {
    "duration": 23,
    "start_time": "2023-06-20T18:45:41.104Z"
   },
   {
    "duration": 1607,
    "start_time": "2023-06-20T18:45:41.129Z"
   },
   {
    "duration": 0,
    "start_time": "2023-06-20T18:45:42.738Z"
   },
   {
    "duration": 0,
    "start_time": "2023-06-20T18:45:42.739Z"
   },
   {
    "duration": 553,
    "start_time": "2023-06-20T18:57:37.168Z"
   },
   {
    "duration": 86,
    "start_time": "2023-06-20T19:25:42.545Z"
   },
   {
    "duration": 41,
    "start_time": "2023-06-20T19:26:05.312Z"
   },
   {
    "duration": 50,
    "start_time": "2023-06-20T19:26:12.603Z"
   },
   {
    "duration": 30,
    "start_time": "2023-06-20T19:27:07.517Z"
   },
   {
    "duration": 30,
    "start_time": "2023-06-20T19:28:44.005Z"
   },
   {
    "duration": 4,
    "start_time": "2023-06-20T19:34:23.259Z"
   },
   {
    "duration": 15,
    "start_time": "2023-06-20T19:34:32.102Z"
   },
   {
    "duration": 19,
    "start_time": "2023-06-20T19:35:00.953Z"
   },
   {
    "duration": 11,
    "start_time": "2023-06-20T19:35:26.158Z"
   },
   {
    "duration": 20,
    "start_time": "2023-06-20T19:35:34.194Z"
   },
   {
    "duration": 27,
    "start_time": "2023-06-20T20:01:29.130Z"
   },
   {
    "duration": 40,
    "start_time": "2023-06-20T20:01:33.980Z"
   },
   {
    "duration": 126,
    "start_time": "2023-06-20T20:02:55.451Z"
   },
   {
    "duration": 51,
    "start_time": "2023-06-20T20:03:09.965Z"
   },
   {
    "duration": 35,
    "start_time": "2023-06-20T20:04:03.301Z"
   },
   {
    "duration": 37,
    "start_time": "2023-06-20T20:04:19.312Z"
   },
   {
    "duration": 40,
    "start_time": "2023-06-20T20:04:39.205Z"
   },
   {
    "duration": 5,
    "start_time": "2023-06-20T20:10:39.860Z"
   },
   {
    "duration": 19,
    "start_time": "2023-06-20T20:10:48.748Z"
   },
   {
    "duration": 15,
    "start_time": "2023-06-20T20:12:13.805Z"
   },
   {
    "duration": 10,
    "start_time": "2023-06-20T20:12:46.067Z"
   },
   {
    "duration": 22,
    "start_time": "2023-06-20T20:12:57.207Z"
   },
   {
    "duration": 52,
    "start_time": "2023-06-21T08:55:14.348Z"
   },
   {
    "duration": 1546,
    "start_time": "2023-06-21T08:55:25.807Z"
   },
   {
    "duration": 23,
    "start_time": "2023-06-21T08:55:27.356Z"
   },
   {
    "duration": 24,
    "start_time": "2023-06-21T08:55:27.381Z"
   },
   {
    "duration": 10,
    "start_time": "2023-06-21T08:55:27.407Z"
   },
   {
    "duration": 31,
    "start_time": "2023-06-21T08:55:27.419Z"
   },
   {
    "duration": 16,
    "start_time": "2023-06-21T08:55:27.453Z"
   },
   {
    "duration": 26,
    "start_time": "2023-06-21T08:55:27.471Z"
   },
   {
    "duration": 22,
    "start_time": "2023-06-21T08:55:27.499Z"
   },
   {
    "duration": 177,
    "start_time": "2023-06-21T08:55:27.524Z"
   },
   {
    "duration": 122,
    "start_time": "2023-06-21T08:55:27.703Z"
   },
   {
    "duration": 166,
    "start_time": "2023-06-21T08:55:27.827Z"
   },
   {
    "duration": 219,
    "start_time": "2023-06-21T08:55:28.001Z"
   },
   {
    "duration": 228,
    "start_time": "2023-06-21T08:55:28.222Z"
   },
   {
    "duration": 30,
    "start_time": "2023-06-21T08:55:28.452Z"
   },
   {
    "duration": 28,
    "start_time": "2023-06-21T08:55:28.484Z"
   },
   {
    "duration": 199,
    "start_time": "2023-06-21T08:55:28.515Z"
   },
   {
    "duration": 181,
    "start_time": "2023-06-21T08:55:28.716Z"
   },
   {
    "duration": 198,
    "start_time": "2023-06-21T08:55:28.901Z"
   },
   {
    "duration": 226,
    "start_time": "2023-06-21T08:55:29.102Z"
   },
   {
    "duration": 129,
    "start_time": "2023-06-21T08:55:29.331Z"
   },
   {
    "duration": 17,
    "start_time": "2023-06-21T08:55:29.461Z"
   },
   {
    "duration": 102,
    "start_time": "2023-06-21T09:04:46.555Z"
   },
   {
    "duration": 93,
    "start_time": "2023-06-21T09:05:12.950Z"
   },
   {
    "duration": 34,
    "start_time": "2023-06-21T09:05:24.541Z"
   },
   {
    "duration": 1510,
    "start_time": "2023-06-21T09:05:49.638Z"
   },
   {
    "duration": 1414,
    "start_time": "2023-06-21T09:06:49.017Z"
   },
   {
    "duration": 31,
    "start_time": "2023-06-21T09:07:44.649Z"
   },
   {
    "duration": 614,
    "start_time": "2023-06-21T09:08:43.560Z"
   },
   {
    "duration": 29,
    "start_time": "2023-06-21T09:08:56.913Z"
   },
   {
    "duration": 36,
    "start_time": "2023-06-21T09:09:07.573Z"
   },
   {
    "duration": 22,
    "start_time": "2023-06-21T09:10:44.530Z"
   },
   {
    "duration": 34,
    "start_time": "2023-06-21T09:10:55.833Z"
   },
   {
    "duration": 16,
    "start_time": "2023-06-21T09:11:51.917Z"
   },
   {
    "duration": 13,
    "start_time": "2023-06-21T09:13:07.334Z"
   },
   {
    "duration": 17,
    "start_time": "2023-06-21T09:13:11.851Z"
   },
   {
    "duration": 19,
    "start_time": "2023-06-21T09:15:38.010Z"
   },
   {
    "duration": 21,
    "start_time": "2023-06-21T09:15:50.944Z"
   },
   {
    "duration": 15,
    "start_time": "2023-06-21T09:16:28.597Z"
   },
   {
    "duration": 15,
    "start_time": "2023-06-21T09:17:55.402Z"
   },
   {
    "duration": 10,
    "start_time": "2023-06-21T10:02:06.360Z"
   },
   {
    "duration": 5,
    "start_time": "2023-06-21T10:17:32.572Z"
   },
   {
    "duration": 6,
    "start_time": "2023-06-21T10:22:55.428Z"
   },
   {
    "duration": 6,
    "start_time": "2023-06-21T10:23:37.633Z"
   },
   {
    "duration": 6,
    "start_time": "2023-06-21T10:23:43.529Z"
   },
   {
    "duration": 7,
    "start_time": "2023-06-21T10:35:18.822Z"
   },
   {
    "duration": 6,
    "start_time": "2023-06-21T10:35:24.625Z"
   },
   {
    "duration": 7,
    "start_time": "2023-06-21T10:35:42.497Z"
   },
   {
    "duration": 9,
    "start_time": "2023-06-21T10:35:49.100Z"
   },
   {
    "duration": 6,
    "start_time": "2023-06-21T10:35:55.715Z"
   },
   {
    "duration": 8,
    "start_time": "2023-06-21T10:57:34.500Z"
   },
   {
    "duration": 6,
    "start_time": "2023-06-21T10:57:47.452Z"
   },
   {
    "duration": 7,
    "start_time": "2023-06-21T10:58:14.175Z"
   },
   {
    "duration": 14,
    "start_time": "2023-06-21T11:29:56.286Z"
   },
   {
    "duration": 6,
    "start_time": "2023-06-21T12:20:27.237Z"
   },
   {
    "duration": 10,
    "start_time": "2023-06-21T12:57:14.569Z"
   },
   {
    "duration": 11,
    "start_time": "2023-06-21T12:57:25.547Z"
   },
   {
    "duration": 8,
    "start_time": "2023-06-21T14:42:17.145Z"
   },
   {
    "duration": 57,
    "start_time": "2023-06-22T08:07:12.710Z"
   },
   {
    "duration": 2265,
    "start_time": "2023-06-22T08:07:20.802Z"
   },
   {
    "duration": 25,
    "start_time": "2023-06-22T08:07:23.070Z"
   },
   {
    "duration": 49,
    "start_time": "2023-06-22T08:07:23.098Z"
   },
   {
    "duration": 37,
    "start_time": "2023-06-22T08:07:23.150Z"
   },
   {
    "duration": 46,
    "start_time": "2023-06-22T08:07:23.189Z"
   },
   {
    "duration": 13,
    "start_time": "2023-06-22T08:07:23.236Z"
   },
   {
    "duration": 57,
    "start_time": "2023-06-22T08:07:23.251Z"
   },
   {
    "duration": 51,
    "start_time": "2023-06-22T08:07:23.309Z"
   },
   {
    "duration": 258,
    "start_time": "2023-06-22T08:07:23.362Z"
   },
   {
    "duration": 238,
    "start_time": "2023-06-22T08:07:23.623Z"
   },
   {
    "duration": 0,
    "start_time": "2023-06-22T08:07:23.863Z"
   },
   {
    "duration": 1,
    "start_time": "2023-06-22T08:07:23.864Z"
   },
   {
    "duration": 0,
    "start_time": "2023-06-22T08:07:23.870Z"
   },
   {
    "duration": 0,
    "start_time": "2023-06-22T08:07:23.871Z"
   },
   {
    "duration": 0,
    "start_time": "2023-06-22T08:07:23.872Z"
   },
   {
    "duration": 0,
    "start_time": "2023-06-22T08:07:23.873Z"
   },
   {
    "duration": 0,
    "start_time": "2023-06-22T08:07:23.875Z"
   },
   {
    "duration": 0,
    "start_time": "2023-06-22T08:07:23.876Z"
   },
   {
    "duration": 0,
    "start_time": "2023-06-22T08:07:23.876Z"
   },
   {
    "duration": 0,
    "start_time": "2023-06-22T08:07:23.877Z"
   },
   {
    "duration": 0,
    "start_time": "2023-06-22T08:07:23.878Z"
   },
   {
    "duration": 0,
    "start_time": "2023-06-22T08:07:23.879Z"
   },
   {
    "duration": 0,
    "start_time": "2023-06-22T08:07:23.881Z"
   },
   {
    "duration": 0,
    "start_time": "2023-06-22T08:07:23.881Z"
   },
   {
    "duration": 0,
    "start_time": "2023-06-22T08:07:23.882Z"
   },
   {
    "duration": 0,
    "start_time": "2023-06-22T08:07:23.884Z"
   },
   {
    "duration": 91,
    "start_time": "2023-06-22T08:07:44.310Z"
   },
   {
    "duration": 132,
    "start_time": "2023-06-22T08:09:17.206Z"
   },
   {
    "duration": 82,
    "start_time": "2023-06-22T08:09:32.808Z"
   },
   {
    "duration": 121,
    "start_time": "2023-06-22T08:10:34.465Z"
   },
   {
    "duration": 86,
    "start_time": "2023-06-22T08:11:10.807Z"
   },
   {
    "duration": 121,
    "start_time": "2023-06-22T08:14:34.831Z"
   },
   {
    "duration": 187,
    "start_time": "2023-06-22T08:15:00.102Z"
   },
   {
    "duration": 340,
    "start_time": "2023-06-22T08:15:06.517Z"
   },
   {
    "duration": 236,
    "start_time": "2023-06-22T08:15:12.620Z"
   },
   {
    "duration": 36,
    "start_time": "2023-06-22T08:15:19.256Z"
   },
   {
    "duration": 12,
    "start_time": "2023-06-22T08:15:34.799Z"
   },
   {
    "duration": 1785,
    "start_time": "2023-06-22T08:15:44.757Z"
   },
   {
    "duration": 26,
    "start_time": "2023-06-22T08:15:46.547Z"
   },
   {
    "duration": 163,
    "start_time": "2023-06-22T08:15:46.575Z"
   },
   {
    "duration": 142,
    "start_time": "2023-06-22T08:15:46.741Z"
   },
   {
    "duration": 195,
    "start_time": "2023-06-22T08:15:46.886Z"
   },
   {
    "duration": 124,
    "start_time": "2023-06-22T08:15:47.083Z"
   },
   {
    "duration": 39,
    "start_time": "2023-06-22T08:15:47.209Z"
   },
   {
    "duration": 33,
    "start_time": "2023-06-22T08:15:47.250Z"
   },
   {
    "duration": 189,
    "start_time": "2023-06-22T08:15:47.285Z"
   },
   {
    "duration": 152,
    "start_time": "2023-06-22T08:15:47.476Z"
   },
   {
    "duration": 232,
    "start_time": "2023-06-22T08:15:47.630Z"
   },
   {
    "duration": 262,
    "start_time": "2023-06-22T08:15:47.864Z"
   },
   {
    "duration": 309,
    "start_time": "2023-06-22T08:15:48.128Z"
   },
   {
    "duration": 53,
    "start_time": "2023-06-22T08:15:48.441Z"
   },
   {
    "duration": 205,
    "start_time": "2023-06-22T08:15:48.496Z"
   },
   {
    "duration": 326,
    "start_time": "2023-06-22T08:15:48.702Z"
   },
   {
    "duration": 256,
    "start_time": "2023-06-22T08:15:49.030Z"
   },
   {
    "duration": 245,
    "start_time": "2023-06-22T08:15:49.288Z"
   },
   {
    "duration": 248,
    "start_time": "2023-06-22T08:15:49.536Z"
   },
   {
    "duration": 40,
    "start_time": "2023-06-22T08:15:49.786Z"
   },
   {
    "duration": 232,
    "start_time": "2023-06-22T08:15:49.828Z"
   },
   {
    "duration": 168,
    "start_time": "2023-06-22T08:15:50.063Z"
   },
   {
    "duration": 153,
    "start_time": "2023-06-22T08:15:50.233Z"
   },
   {
    "duration": 129,
    "start_time": "2023-06-22T08:15:50.389Z"
   },
   {
    "duration": 134,
    "start_time": "2023-06-22T08:15:50.521Z"
   },
   {
    "duration": 272,
    "start_time": "2023-06-22T08:15:50.658Z"
   },
   {
    "duration": 98,
    "start_time": "2023-06-22T08:21:19.915Z"
   },
   {
    "duration": 10,
    "start_time": "2023-06-22T08:24:01.800Z"
   },
   {
    "duration": 1164,
    "start_time": "2023-06-22T08:24:08.599Z"
   },
   {
    "duration": 24,
    "start_time": "2023-06-22T08:24:09.765Z"
   },
   {
    "duration": 19,
    "start_time": "2023-06-22T08:24:09.791Z"
   },
   {
    "duration": 40,
    "start_time": "2023-06-22T08:24:09.811Z"
   },
   {
    "duration": 32,
    "start_time": "2023-06-22T08:24:09.853Z"
   },
   {
    "duration": 12,
    "start_time": "2023-06-22T08:24:09.887Z"
   },
   {
    "duration": 26,
    "start_time": "2023-06-22T08:24:09.900Z"
   },
   {
    "duration": 17,
    "start_time": "2023-06-22T08:24:09.928Z"
   },
   {
    "duration": 165,
    "start_time": "2023-06-22T08:24:09.947Z"
   },
   {
    "duration": 138,
    "start_time": "2023-06-22T08:24:10.114Z"
   },
   {
    "duration": 185,
    "start_time": "2023-06-22T08:24:10.253Z"
   },
   {
    "duration": 230,
    "start_time": "2023-06-22T08:24:10.440Z"
   },
   {
    "duration": 231,
    "start_time": "2023-06-22T08:24:10.672Z"
   },
   {
    "duration": 30,
    "start_time": "2023-06-22T08:24:10.906Z"
   },
   {
    "duration": 13,
    "start_time": "2023-06-22T08:24:10.951Z"
   },
   {
    "duration": 205,
    "start_time": "2023-06-22T08:24:10.967Z"
   },
   {
    "duration": 197,
    "start_time": "2023-06-22T08:24:11.173Z"
   },
   {
    "duration": 198,
    "start_time": "2023-06-22T08:24:11.372Z"
   },
   {
    "duration": 204,
    "start_time": "2023-06-22T08:24:11.572Z"
   },
   {
    "duration": 33,
    "start_time": "2023-06-22T08:24:11.778Z"
   },
   {
    "duration": 18,
    "start_time": "2023-06-22T08:24:11.813Z"
   },
   {
    "duration": 33,
    "start_time": "2023-06-22T08:24:11.833Z"
   },
   {
    "duration": 6,
    "start_time": "2023-06-22T08:24:11.867Z"
   },
   {
    "duration": 201,
    "start_time": "2023-06-22T08:24:11.874Z"
   },
   {
    "duration": 1,
    "start_time": "2023-06-22T08:24:12.076Z"
   },
   {
    "duration": 0,
    "start_time": "2023-06-22T08:24:12.078Z"
   },
   {
    "duration": 5,
    "start_time": "2023-06-22T08:25:00.339Z"
   },
   {
    "duration": 12,
    "start_time": "2023-06-22T08:31:46.345Z"
   },
   {
    "duration": 10,
    "start_time": "2023-06-22T08:55:20.222Z"
   },
   {
    "duration": 163,
    "start_time": "2023-06-22T08:55:47.549Z"
   },
   {
    "duration": 144,
    "start_time": "2023-06-22T08:55:54.443Z"
   },
   {
    "duration": 266,
    "start_time": "2023-06-22T08:56:16.512Z"
   },
   {
    "duration": 986,
    "start_time": "2023-06-22T08:56:29.007Z"
   },
   {
    "duration": 11,
    "start_time": "2023-06-22T08:58:20.309Z"
   },
   {
    "duration": 926,
    "start_time": "2023-06-22T08:58:40.312Z"
   },
   {
    "duration": 195,
    "start_time": "2023-06-22T08:58:50.664Z"
   },
   {
    "duration": 915,
    "start_time": "2023-06-22T08:59:11.457Z"
   },
   {
    "duration": 1667,
    "start_time": "2023-06-22T09:01:16.277Z"
   },
   {
    "duration": 1981,
    "start_time": "2023-06-22T09:02:35.212Z"
   },
   {
    "duration": 2044,
    "start_time": "2023-06-22T09:02:51.577Z"
   },
   {
    "duration": 116,
    "start_time": "2023-06-22T09:03:34.805Z"
   },
   {
    "duration": 2070,
    "start_time": "2023-06-22T09:03:38.805Z"
   },
   {
    "duration": 2057,
    "start_time": "2023-06-22T09:03:59.308Z"
   },
   {
    "duration": 1816,
    "start_time": "2023-06-22T09:04:52.870Z"
   },
   {
    "duration": 1999,
    "start_time": "2023-06-22T09:05:25.801Z"
   },
   {
    "duration": 1905,
    "start_time": "2023-06-22T09:06:23.935Z"
   },
   {
    "duration": 1925,
    "start_time": "2023-06-22T09:06:44.320Z"
   },
   {
    "duration": 1708,
    "start_time": "2023-06-22T09:07:04.714Z"
   },
   {
    "duration": 1825,
    "start_time": "2023-06-22T09:07:57.448Z"
   },
   {
    "duration": 1720,
    "start_time": "2023-06-22T09:09:46.152Z"
   },
   {
    "duration": 1863,
    "start_time": "2023-06-22T09:09:56.768Z"
   },
   {
    "duration": 127,
    "start_time": "2023-06-22T09:10:27.505Z"
   },
   {
    "duration": 403,
    "start_time": "2023-06-22T09:10:54.315Z"
   },
   {
    "duration": 1666,
    "start_time": "2023-06-22T09:11:00.117Z"
   },
   {
    "duration": 1684,
    "start_time": "2023-06-22T09:11:43.626Z"
   },
   {
    "duration": 61,
    "start_time": "2023-06-22T09:13:46.443Z"
   },
   {
    "duration": 77,
    "start_time": "2023-06-22T09:14:06.937Z"
   },
   {
    "duration": 58,
    "start_time": "2023-06-22T09:14:11.631Z"
   },
   {
    "duration": 69,
    "start_time": "2023-06-22T09:14:17.037Z"
   },
   {
    "duration": 1748,
    "start_time": "2023-06-22T09:14:32.004Z"
   },
   {
    "duration": 10,
    "start_time": "2023-06-22T09:19:41.531Z"
   },
   {
    "duration": 321,
    "start_time": "2023-06-22T09:35:47.364Z"
   },
   {
    "duration": 1986,
    "start_time": "2023-06-22T09:35:56.924Z"
   },
   {
    "duration": 2784,
    "start_time": "2023-06-22T09:36:12.128Z"
   },
   {
    "duration": 10,
    "start_time": "2023-06-22T09:38:11.836Z"
   },
   {
    "duration": 5,
    "start_time": "2023-06-22T09:38:22.016Z"
   },
   {
    "duration": 13,
    "start_time": "2023-06-22T09:39:09.857Z"
   },
   {
    "duration": 6,
    "start_time": "2023-06-22T09:41:40.961Z"
   },
   {
    "duration": 7,
    "start_time": "2023-06-22T09:43:37.315Z"
   },
   {
    "duration": 7,
    "start_time": "2023-06-22T09:43:47.912Z"
   },
   {
    "duration": 6,
    "start_time": "2023-06-22T09:43:55.112Z"
   },
   {
    "duration": 5,
    "start_time": "2023-06-22T09:44:26.701Z"
   },
   {
    "duration": 6,
    "start_time": "2023-06-22T09:44:31.002Z"
   },
   {
    "duration": 6,
    "start_time": "2023-06-22T09:44:49.804Z"
   },
   {
    "duration": 5,
    "start_time": "2023-06-22T09:45:27.338Z"
   },
   {
    "duration": 6,
    "start_time": "2023-06-22T09:45:32.909Z"
   },
   {
    "duration": 5,
    "start_time": "2023-06-22T09:45:56.125Z"
   },
   {
    "duration": 5,
    "start_time": "2023-06-22T09:49:42.003Z"
   },
   {
    "duration": 5,
    "start_time": "2023-06-22T09:49:58.308Z"
   },
   {
    "duration": 5,
    "start_time": "2023-06-22T09:56:50.904Z"
   },
   {
    "duration": 6,
    "start_time": "2023-06-22T09:59:53.724Z"
   },
   {
    "duration": 5,
    "start_time": "2023-06-22T10:00:12.912Z"
   },
   {
    "duration": 5,
    "start_time": "2023-06-22T10:00:34.225Z"
   },
   {
    "duration": 5,
    "start_time": "2023-06-22T10:01:28.128Z"
   },
   {
    "duration": 5,
    "start_time": "2023-06-22T10:01:36.224Z"
   },
   {
    "duration": 6,
    "start_time": "2023-06-22T10:01:42.966Z"
   },
   {
    "duration": 5,
    "start_time": "2023-06-22T10:01:47.922Z"
   },
   {
    "duration": 6,
    "start_time": "2023-06-22T10:01:53.489Z"
   },
   {
    "duration": 7,
    "start_time": "2023-06-22T10:01:58.617Z"
   },
   {
    "duration": 8,
    "start_time": "2023-06-22T10:02:26.345Z"
   },
   {
    "duration": 5,
    "start_time": "2023-06-22T10:02:33.731Z"
   },
   {
    "duration": 5,
    "start_time": "2023-06-22T10:02:40.423Z"
   },
   {
    "duration": 6,
    "start_time": "2023-06-22T10:02:47.112Z"
   },
   {
    "duration": 5,
    "start_time": "2023-06-22T10:03:06.127Z"
   },
   {
    "duration": 5,
    "start_time": "2023-06-22T10:03:51.667Z"
   },
   {
    "duration": 5,
    "start_time": "2023-06-22T10:05:57.600Z"
   },
   {
    "duration": 129,
    "start_time": "2023-06-22T10:13:20.135Z"
   },
   {
    "duration": 2437,
    "start_time": "2023-06-22T10:16:02.128Z"
   },
   {
    "duration": 10,
    "start_time": "2023-06-22T10:18:08.968Z"
   },
   {
    "duration": 1293,
    "start_time": "2023-06-22T10:18:27.767Z"
   },
   {
    "duration": 25,
    "start_time": "2023-06-22T10:18:29.070Z"
   },
   {
    "duration": 20,
    "start_time": "2023-06-22T10:18:29.096Z"
   },
   {
    "duration": 7,
    "start_time": "2023-06-22T10:18:29.118Z"
   },
   {
    "duration": 35,
    "start_time": "2023-06-22T10:18:29.127Z"
   },
   {
    "duration": 10,
    "start_time": "2023-06-22T10:18:29.163Z"
   },
   {
    "duration": 10,
    "start_time": "2023-06-22T10:18:29.174Z"
   },
   {
    "duration": 13,
    "start_time": "2023-06-22T10:18:29.185Z"
   },
   {
    "duration": 218,
    "start_time": "2023-06-22T10:18:29.200Z"
   },
   {
    "duration": 147,
    "start_time": "2023-06-22T10:18:29.421Z"
   },
   {
    "duration": 203,
    "start_time": "2023-06-22T10:18:29.571Z"
   },
   {
    "duration": 232,
    "start_time": "2023-06-22T10:18:29.776Z"
   },
   {
    "duration": 246,
    "start_time": "2023-06-22T10:18:30.010Z"
   },
   {
    "duration": 37,
    "start_time": "2023-06-22T10:18:30.257Z"
   },
   {
    "duration": 13,
    "start_time": "2023-06-22T10:18:30.296Z"
   },
   {
    "duration": 213,
    "start_time": "2023-06-22T10:18:30.311Z"
   },
   {
    "duration": 210,
    "start_time": "2023-06-22T10:18:30.526Z"
   },
   {
    "duration": 231,
    "start_time": "2023-06-22T10:18:30.738Z"
   },
   {
    "duration": 233,
    "start_time": "2023-06-22T10:18:30.971Z"
   },
   {
    "duration": 49,
    "start_time": "2023-06-22T10:18:31.206Z"
   },
   {
    "duration": 28,
    "start_time": "2023-06-22T10:18:31.256Z"
   },
   {
    "duration": 13,
    "start_time": "2023-06-22T10:18:31.286Z"
   },
   {
    "duration": 48,
    "start_time": "2023-06-22T10:18:31.301Z"
   },
   {
    "duration": 121,
    "start_time": "2023-06-22T10:18:31.351Z"
   },
   {
    "duration": 77,
    "start_time": "2023-06-22T10:18:31.474Z"
   },
   {
    "duration": 15,
    "start_time": "2023-06-22T10:18:31.555Z"
   },
   {
    "duration": 29,
    "start_time": "2023-06-22T10:18:31.572Z"
   },
   {
    "duration": 194,
    "start_time": "2023-06-22T10:18:31.605Z"
   },
   {
    "duration": 2092,
    "start_time": "2023-06-22T10:18:31.800Z"
   },
   {
    "duration": 143,
    "start_time": "2023-06-22T10:20:45.044Z"
   },
   {
    "duration": 118,
    "start_time": "2023-06-22T10:21:27.117Z"
   },
   {
    "duration": 205,
    "start_time": "2023-06-22T10:24:04.347Z"
   },
   {
    "duration": 119,
    "start_time": "2023-06-22T10:28:43.116Z"
   },
   {
    "duration": 9,
    "start_time": "2023-06-22T10:29:06.751Z"
   },
   {
    "duration": 2190,
    "start_time": "2023-06-22T10:31:13.237Z"
   },
   {
    "duration": 9,
    "start_time": "2023-06-22T10:32:11.551Z"
   },
   {
    "duration": 8,
    "start_time": "2023-06-22T10:32:43.112Z"
   },
   {
    "duration": 1797,
    "start_time": "2023-06-22T10:33:04.907Z"
   },
   {
    "duration": 1761,
    "start_time": "2023-06-22T10:33:16.628Z"
   },
   {
    "duration": 1998,
    "start_time": "2023-06-22T10:33:54.938Z"
   },
   {
    "duration": 1914,
    "start_time": "2023-06-22T13:10:03.845Z"
   },
   {
    "duration": 32,
    "start_time": "2023-06-22T13:10:05.762Z"
   },
   {
    "duration": 28,
    "start_time": "2023-06-22T13:10:05.796Z"
   },
   {
    "duration": 36,
    "start_time": "2023-06-22T13:10:05.826Z"
   },
   {
    "duration": 42,
    "start_time": "2023-06-22T13:10:05.865Z"
   },
   {
    "duration": 10,
    "start_time": "2023-06-22T13:10:05.909Z"
   },
   {
    "duration": 28,
    "start_time": "2023-06-22T13:10:05.922Z"
   },
   {
    "duration": 18,
    "start_time": "2023-06-22T13:10:05.953Z"
   },
   {
    "duration": 198,
    "start_time": "2023-06-22T13:10:05.973Z"
   },
   {
    "duration": 153,
    "start_time": "2023-06-22T13:10:06.175Z"
   },
   {
    "duration": 237,
    "start_time": "2023-06-22T13:10:06.330Z"
   },
   {
    "duration": 243,
    "start_time": "2023-06-22T13:10:06.569Z"
   },
   {
    "duration": 258,
    "start_time": "2023-06-22T13:10:06.814Z"
   },
   {
    "duration": 40,
    "start_time": "2023-06-22T13:10:07.074Z"
   },
   {
    "duration": 16,
    "start_time": "2023-06-22T13:10:07.116Z"
   },
   {
    "duration": 218,
    "start_time": "2023-06-22T13:10:07.157Z"
   },
   {
    "duration": 233,
    "start_time": "2023-06-22T13:10:07.378Z"
   },
   {
    "duration": 206,
    "start_time": "2023-06-22T13:10:07.613Z"
   },
   {
    "duration": 213,
    "start_time": "2023-06-22T13:10:07.821Z"
   },
   {
    "duration": 48,
    "start_time": "2023-06-22T13:10:08.036Z"
   },
   {
    "duration": 21,
    "start_time": "2023-06-22T13:10:08.086Z"
   },
   {
    "duration": 7,
    "start_time": "2023-06-22T13:10:08.109Z"
   },
   {
    "duration": 40,
    "start_time": "2023-06-22T13:10:08.117Z"
   },
   {
    "duration": 106,
    "start_time": "2023-06-22T13:10:08.159Z"
   },
   {
    "duration": 95,
    "start_time": "2023-06-22T13:10:08.267Z"
   },
   {
    "duration": 8,
    "start_time": "2023-06-22T13:10:08.364Z"
   },
   {
    "duration": 2183,
    "start_time": "2023-06-22T13:10:08.374Z"
   },
   {
    "duration": 22,
    "start_time": "2023-06-22T13:14:30.515Z"
   },
   {
    "duration": 31,
    "start_time": "2023-06-22T13:18:02.932Z"
   },
   {
    "duration": 6,
    "start_time": "2023-06-22T13:19:45.907Z"
   },
   {
    "duration": 2146,
    "start_time": "2023-06-22T13:40:16.311Z"
   },
   {
    "duration": 1316,
    "start_time": "2023-06-22T13:42:22.572Z"
   },
   {
    "duration": 26,
    "start_time": "2023-06-22T13:42:23.890Z"
   },
   {
    "duration": 67,
    "start_time": "2023-06-22T13:42:23.919Z"
   },
   {
    "duration": 9,
    "start_time": "2023-06-22T13:42:23.990Z"
   },
   {
    "duration": 72,
    "start_time": "2023-06-22T13:42:24.002Z"
   },
   {
    "duration": 12,
    "start_time": "2023-06-22T13:42:24.076Z"
   },
   {
    "duration": 11,
    "start_time": "2023-06-22T13:42:24.090Z"
   },
   {
    "duration": 14,
    "start_time": "2023-06-22T13:42:24.103Z"
   },
   {
    "duration": 213,
    "start_time": "2023-06-22T13:42:24.119Z"
   },
   {
    "duration": 146,
    "start_time": "2023-06-22T13:42:24.335Z"
   },
   {
    "duration": 206,
    "start_time": "2023-06-22T13:42:24.483Z"
   },
   {
    "duration": 257,
    "start_time": "2023-06-22T13:42:24.691Z"
   },
   {
    "duration": 285,
    "start_time": "2023-06-22T13:42:24.950Z"
   },
   {
    "duration": 58,
    "start_time": "2023-06-22T13:42:25.237Z"
   },
   {
    "duration": 13,
    "start_time": "2023-06-22T13:42:25.298Z"
   },
   {
    "duration": 221,
    "start_time": "2023-06-22T13:42:25.313Z"
   },
   {
    "duration": 212,
    "start_time": "2023-06-22T13:42:25.536Z"
   },
   {
    "duration": 221,
    "start_time": "2023-06-22T13:42:25.750Z"
   },
   {
    "duration": 235,
    "start_time": "2023-06-22T13:42:25.973Z"
   },
   {
    "duration": 48,
    "start_time": "2023-06-22T13:42:26.210Z"
   },
   {
    "duration": 31,
    "start_time": "2023-06-22T13:42:26.262Z"
   },
   {
    "duration": 8,
    "start_time": "2023-06-22T13:42:26.296Z"
   },
   {
    "duration": 22,
    "start_time": "2023-06-22T13:42:26.306Z"
   },
   {
    "duration": 131,
    "start_time": "2023-06-22T13:42:26.330Z"
   },
   {
    "duration": 66,
    "start_time": "2023-06-22T13:42:26.468Z"
   },
   {
    "duration": 5,
    "start_time": "2023-06-22T13:42:26.536Z"
   },
   {
    "duration": 2494,
    "start_time": "2023-06-22T13:42:26.542Z"
   },
   {
    "duration": 2287,
    "start_time": "2023-06-22T13:42:29.040Z"
   },
   {
    "duration": 97,
    "start_time": "2023-06-23T08:51:49.722Z"
   },
   {
    "duration": 97,
    "start_time": "2023-06-23T08:52:21.918Z"
   },
   {
    "duration": 51,
    "start_time": "2023-06-23T09:26:52.517Z"
   },
   {
    "duration": 1434,
    "start_time": "2023-06-23T09:27:00.026Z"
   },
   {
    "duration": 286,
    "start_time": "2023-06-23T09:27:01.463Z"
   },
   {
    "duration": 28,
    "start_time": "2023-06-23T09:27:01.751Z"
   },
   {
    "duration": 152,
    "start_time": "2023-06-23T09:27:01.781Z"
   },
   {
    "duration": 114,
    "start_time": "2023-06-23T09:27:01.934Z"
   },
   {
    "duration": 326,
    "start_time": "2023-06-23T09:27:02.050Z"
   },
   {
    "duration": 92,
    "start_time": "2023-06-23T09:27:02.378Z"
   },
   {
    "duration": 69,
    "start_time": "2023-06-23T09:27:02.472Z"
   },
   {
    "duration": 56,
    "start_time": "2023-06-23T09:27:02.542Z"
   },
   {
    "duration": 293,
    "start_time": "2023-06-23T09:27:02.601Z"
   },
   {
    "duration": 141,
    "start_time": "2023-06-23T09:27:02.896Z"
   },
   {
    "duration": 219,
    "start_time": "2023-06-23T09:27:03.039Z"
   },
   {
    "duration": 234,
    "start_time": "2023-06-23T09:27:03.260Z"
   },
   {
    "duration": 239,
    "start_time": "2023-06-23T09:27:03.496Z"
   },
   {
    "duration": 44,
    "start_time": "2023-06-23T09:27:03.737Z"
   },
   {
    "duration": 13,
    "start_time": "2023-06-23T09:27:03.783Z"
   },
   {
    "duration": 260,
    "start_time": "2023-06-23T09:27:03.798Z"
   },
   {
    "duration": 223,
    "start_time": "2023-06-23T09:27:04.066Z"
   },
   {
    "duration": 215,
    "start_time": "2023-06-23T09:27:04.291Z"
   },
   {
    "duration": 228,
    "start_time": "2023-06-23T09:27:04.508Z"
   },
   {
    "duration": 49,
    "start_time": "2023-06-23T09:27:04.738Z"
   },
   {
    "duration": 20,
    "start_time": "2023-06-23T09:27:04.789Z"
   },
   {
    "duration": 6,
    "start_time": "2023-06-23T09:27:04.811Z"
   },
   {
    "duration": 32,
    "start_time": "2023-06-23T09:27:04.819Z"
   },
   {
    "duration": 127,
    "start_time": "2023-06-23T09:27:04.854Z"
   },
   {
    "duration": 62,
    "start_time": "2023-06-23T09:27:04.983Z"
   },
   {
    "duration": 22,
    "start_time": "2023-06-23T09:27:05.047Z"
   },
   {
    "duration": 2068,
    "start_time": "2023-06-23T09:27:05.073Z"
   },
   {
    "duration": 2037,
    "start_time": "2023-06-23T09:27:07.143Z"
   },
   {
    "duration": 114,
    "start_time": "2023-06-23T09:29:41.716Z"
   },
   {
    "duration": 22,
    "start_time": "2023-06-23T09:30:04.022Z"
   },
   {
    "duration": 20,
    "start_time": "2023-06-23T09:30:19.364Z"
   },
   {
    "duration": 1203,
    "start_time": "2023-06-23T09:30:55.370Z"
   },
   {
    "duration": 70,
    "start_time": "2023-06-23T09:30:56.576Z"
   },
   {
    "duration": 24,
    "start_time": "2023-06-23T09:30:56.648Z"
   },
   {
    "duration": 31,
    "start_time": "2023-06-23T09:30:56.674Z"
   },
   {
    "duration": 8,
    "start_time": "2023-06-23T09:30:56.706Z"
   },
   {
    "duration": 28,
    "start_time": "2023-06-23T09:30:56.716Z"
   },
   {
    "duration": 13,
    "start_time": "2023-06-23T09:30:56.746Z"
   },
   {
    "duration": 9,
    "start_time": "2023-06-23T09:30:56.767Z"
   },
   {
    "duration": 28,
    "start_time": "2023-06-23T09:30:56.778Z"
   },
   {
    "duration": 20920,
    "start_time": "2023-06-23T09:30:56.809Z"
   },
   {
    "duration": 136,
    "start_time": "2023-06-23T09:31:17.731Z"
   },
   {
    "duration": 186,
    "start_time": "2023-06-23T09:31:17.869Z"
   },
   {
    "duration": 225,
    "start_time": "2023-06-23T09:31:18.057Z"
   },
   {
    "duration": 245,
    "start_time": "2023-06-23T09:31:18.284Z"
   },
   {
    "duration": 45,
    "start_time": "2023-06-23T09:31:18.531Z"
   },
   {
    "duration": 14,
    "start_time": "2023-06-23T09:31:18.578Z"
   },
   {
    "duration": 207,
    "start_time": "2023-06-23T09:31:18.594Z"
   },
   {
    "duration": 245,
    "start_time": "2023-06-23T09:31:18.804Z"
   },
   {
    "duration": 241,
    "start_time": "2023-06-23T09:31:19.050Z"
   },
   {
    "duration": 224,
    "start_time": "2023-06-23T09:31:19.293Z"
   },
   {
    "duration": 49,
    "start_time": "2023-06-23T09:31:19.519Z"
   },
   {
    "duration": 22,
    "start_time": "2023-06-23T09:31:19.570Z"
   },
   {
    "duration": 6,
    "start_time": "2023-06-23T09:31:19.593Z"
   },
   {
    "duration": 33,
    "start_time": "2023-06-23T09:31:19.601Z"
   },
   {
    "duration": 15,
    "start_time": "2023-06-23T09:31:19.636Z"
   },
   {
    "duration": 64,
    "start_time": "2023-06-23T09:31:19.653Z"
   },
   {
    "duration": 6,
    "start_time": "2023-06-23T09:31:19.719Z"
   },
   {
    "duration": 2260,
    "start_time": "2023-06-23T09:31:19.728Z"
   },
   {
    "duration": 1928,
    "start_time": "2023-06-23T09:31:21.990Z"
   },
   {
    "duration": 21273,
    "start_time": "2023-06-23T09:31:57.754Z"
   },
   {
    "duration": 576,
    "start_time": "2023-06-23T09:33:02.757Z"
   },
   {
    "duration": 169,
    "start_time": "2023-06-23T09:33:15.617Z"
   },
   {
    "duration": 156,
    "start_time": "2023-06-23T09:34:42.417Z"
   },
   {
    "duration": 158,
    "start_time": "2023-06-23T09:35:46.234Z"
   },
   {
    "duration": 169,
    "start_time": "2023-06-23T09:36:17.544Z"
   },
   {
    "duration": 124,
    "start_time": "2023-06-23T09:39:50.267Z"
   },
   {
    "duration": 188,
    "start_time": "2023-06-23T09:40:00.932Z"
   },
   {
    "duration": 31,
    "start_time": "2023-06-23T09:40:28.749Z"
   },
   {
    "duration": 188,
    "start_time": "2023-06-23T09:40:52.121Z"
   },
   {
    "duration": 195,
    "start_time": "2023-06-23T09:41:18.159Z"
   },
   {
    "duration": 205,
    "start_time": "2023-06-23T09:41:35.009Z"
   },
   {
    "duration": 202,
    "start_time": "2023-06-23T09:43:08.413Z"
   },
   {
    "duration": 185,
    "start_time": "2023-06-23T09:43:26.455Z"
   },
   {
    "duration": 313,
    "start_time": "2023-06-23T09:44:00.041Z"
   },
   {
    "duration": 195,
    "start_time": "2023-06-23T09:44:32.525Z"
   },
   {
    "duration": 209,
    "start_time": "2023-06-23T09:44:40.964Z"
   },
   {
    "duration": 210,
    "start_time": "2023-06-23T09:45:23.036Z"
   },
   {
    "duration": 203,
    "start_time": "2023-06-23T09:45:27.045Z"
   },
   {
    "duration": 142,
    "start_time": "2023-06-23T09:48:17.540Z"
   },
   {
    "duration": 92,
    "start_time": "2023-06-23T09:49:14.504Z"
   },
   {
    "duration": 87,
    "start_time": "2023-06-23T09:50:41.301Z"
   },
   {
    "duration": 83,
    "start_time": "2023-06-23T09:50:57.360Z"
   },
   {
    "duration": 83,
    "start_time": "2023-06-23T09:51:05.969Z"
   },
   {
    "duration": 86,
    "start_time": "2023-06-23T09:54:29.619Z"
   },
   {
    "duration": 117,
    "start_time": "2023-06-23T09:56:24.026Z"
   },
   {
    "duration": 89,
    "start_time": "2023-06-23T09:56:47.658Z"
   },
   {
    "duration": 192,
    "start_time": "2023-06-23T09:57:09.129Z"
   },
   {
    "duration": 89,
    "start_time": "2023-06-23T09:57:34.641Z"
   },
   {
    "duration": 101,
    "start_time": "2023-06-23T09:57:48.913Z"
   },
   {
    "duration": 93,
    "start_time": "2023-06-23T09:58:08.010Z"
   },
   {
    "duration": 90,
    "start_time": "2023-06-23T09:58:52.530Z"
   },
   {
    "duration": 93,
    "start_time": "2023-06-23T09:59:05.538Z"
   },
   {
    "duration": 84,
    "start_time": "2023-06-23T09:59:22.075Z"
   },
   {
    "duration": 86,
    "start_time": "2023-06-23T09:59:40.140Z"
   },
   {
    "duration": 106,
    "start_time": "2023-06-23T10:00:55.406Z"
   },
   {
    "duration": 110,
    "start_time": "2023-06-23T10:01:09.755Z"
   },
   {
    "duration": 109,
    "start_time": "2023-06-23T10:02:29.512Z"
   },
   {
    "duration": 412,
    "start_time": "2023-06-23T10:06:14.153Z"
   },
   {
    "duration": 111,
    "start_time": "2023-06-23T10:06:30.131Z"
   },
   {
    "duration": 225,
    "start_time": "2023-06-23T10:11:10.142Z"
   },
   {
    "duration": 247,
    "start_time": "2023-06-23T10:11:50.863Z"
   },
   {
    "duration": 188,
    "start_time": "2023-06-23T10:12:13.239Z"
   },
   {
    "duration": 443,
    "start_time": "2023-06-23T10:12:33.250Z"
   },
   {
    "duration": 339,
    "start_time": "2023-06-23T10:20:19.861Z"
   },
   {
    "duration": 321,
    "start_time": "2023-06-23T10:21:49.116Z"
   },
   {
    "duration": 342,
    "start_time": "2023-06-23T10:24:20.066Z"
   },
   {
    "duration": 402,
    "start_time": "2023-06-23T10:30:23.750Z"
   },
   {
    "duration": 237,
    "start_time": "2023-06-23T10:40:54.408Z"
   },
   {
    "duration": 176,
    "start_time": "2023-06-23T10:41:10.832Z"
   },
   {
    "duration": 425,
    "start_time": "2023-06-23T10:41:19.331Z"
   },
   {
    "duration": 288,
    "start_time": "2023-06-23T10:41:54.702Z"
   },
   {
    "duration": 359,
    "start_time": "2023-06-23T10:42:06.808Z"
   },
   {
    "duration": 441,
    "start_time": "2023-06-23T10:45:21.226Z"
   },
   {
    "duration": 451,
    "start_time": "2023-06-23T10:46:21.706Z"
   },
   {
    "duration": 701,
    "start_time": "2023-06-23T10:46:42.438Z"
   },
   {
    "duration": 461,
    "start_time": "2023-06-23T10:46:56.477Z"
   },
   {
    "duration": 464,
    "start_time": "2023-06-23T10:47:35.256Z"
   },
   {
    "duration": 630,
    "start_time": "2023-06-23T10:48:00.610Z"
   },
   {
    "duration": 484,
    "start_time": "2023-06-23T10:48:16.854Z"
   },
   {
    "duration": 558,
    "start_time": "2023-06-23T10:48:43.609Z"
   },
   {
    "duration": 439,
    "start_time": "2023-06-23T10:49:10.053Z"
   },
   {
    "duration": 607,
    "start_time": "2023-06-23T10:49:36.938Z"
   },
   {
    "duration": 442,
    "start_time": "2023-06-23T10:50:11.370Z"
   },
   {
    "duration": 517,
    "start_time": "2023-06-23T10:50:24.313Z"
   },
   {
    "duration": 488,
    "start_time": "2023-06-23T10:50:37.012Z"
   },
   {
    "duration": 633,
    "start_time": "2023-06-23T10:51:04.614Z"
   },
   {
    "duration": 515,
    "start_time": "2023-06-23T10:51:20.562Z"
   },
   {
    "duration": 490,
    "start_time": "2023-06-23T10:51:33.424Z"
   },
   {
    "duration": 620,
    "start_time": "2023-06-23T10:52:08.505Z"
   },
   {
    "duration": 471,
    "start_time": "2023-06-23T10:52:21.361Z"
   },
   {
    "duration": 506,
    "start_time": "2023-06-23T10:52:38.323Z"
   },
   {
    "duration": 445,
    "start_time": "2023-06-23T10:53:10.304Z"
   },
   {
    "duration": 732,
    "start_time": "2023-06-23T10:53:22.132Z"
   },
   {
    "duration": 492,
    "start_time": "2023-06-23T10:53:34.469Z"
   },
   {
    "duration": 476,
    "start_time": "2023-06-23T10:54:37.667Z"
   },
   {
    "duration": 477,
    "start_time": "2023-06-23T10:54:54.834Z"
   },
   {
    "duration": 696,
    "start_time": "2023-06-23T10:55:28.784Z"
   },
   {
    "duration": 626,
    "start_time": "2023-06-23T10:56:56.817Z"
   },
   {
    "duration": 596,
    "start_time": "2023-06-23T11:00:32.064Z"
   },
   {
    "duration": 710,
    "start_time": "2023-06-23T11:01:39.374Z"
   },
   {
    "duration": 374,
    "start_time": "2023-06-23T11:01:54.368Z"
   },
   {
    "duration": 535,
    "start_time": "2023-06-23T11:09:41.150Z"
   },
   {
    "duration": 395,
    "start_time": "2023-06-23T11:11:25.823Z"
   },
   {
    "duration": 392,
    "start_time": "2023-06-23T11:11:59.855Z"
   },
   {
    "duration": 542,
    "start_time": "2023-06-23T11:13:17.666Z"
   },
   {
    "duration": 333,
    "start_time": "2023-06-23T11:13:24.446Z"
   },
   {
    "duration": 590,
    "start_time": "2023-06-23T11:13:34.506Z"
   },
   {
    "duration": 419,
    "start_time": "2023-06-23T11:26:07.249Z"
   },
   {
    "duration": 36,
    "start_time": "2023-06-23T11:29:26.618Z"
   },
   {
    "duration": 23,
    "start_time": "2023-06-23T11:29:56.248Z"
   },
   {
    "duration": 1125,
    "start_time": "2023-06-23T11:30:07.302Z"
   },
   {
    "duration": 69,
    "start_time": "2023-06-23T11:30:08.429Z"
   },
   {
    "duration": 25,
    "start_time": "2023-06-23T11:30:08.500Z"
   },
   {
    "duration": 22,
    "start_time": "2023-06-23T11:30:08.528Z"
   },
   {
    "duration": 21,
    "start_time": "2023-06-23T11:30:08.552Z"
   },
   {
    "duration": 21,
    "start_time": "2023-06-23T11:30:08.575Z"
   },
   {
    "duration": 99,
    "start_time": "2023-06-23T11:30:08.598Z"
   },
   {
    "duration": 24,
    "start_time": "2023-06-23T11:30:08.698Z"
   },
   {
    "duration": 35,
    "start_time": "2023-06-23T11:30:08.724Z"
   },
   {
    "duration": 274,
    "start_time": "2023-06-23T11:30:08.762Z"
   },
   {
    "duration": 110,
    "start_time": "2023-06-23T11:30:09.038Z"
   },
   {
    "duration": 209,
    "start_time": "2023-06-23T11:30:09.150Z"
   },
   {
    "duration": 351,
    "start_time": "2023-06-23T11:30:09.361Z"
   },
   {
    "duration": 369,
    "start_time": "2023-06-23T11:30:09.714Z"
   },
   {
    "duration": 32,
    "start_time": "2023-06-23T11:30:10.085Z"
   },
   {
    "duration": 13,
    "start_time": "2023-06-23T11:30:10.119Z"
   },
   {
    "duration": 659,
    "start_time": "2023-06-23T11:30:10.134Z"
   },
   {
    "duration": 432,
    "start_time": "2023-06-23T11:30:10.795Z"
   },
   {
    "duration": 46,
    "start_time": "2023-06-23T11:30:11.229Z"
   },
   {
    "duration": 24,
    "start_time": "2023-06-23T11:30:11.277Z"
   },
   {
    "duration": 118,
    "start_time": "2023-06-23T11:30:11.303Z"
   },
   {
    "duration": 0,
    "start_time": "2023-06-23T11:30:11.424Z"
   },
   {
    "duration": 0,
    "start_time": "2023-06-23T11:30:11.425Z"
   },
   {
    "duration": 0,
    "start_time": "2023-06-23T11:30:11.426Z"
   },
   {
    "duration": 0,
    "start_time": "2023-06-23T11:30:11.427Z"
   },
   {
    "duration": 0,
    "start_time": "2023-06-23T11:30:11.428Z"
   },
   {
    "duration": 0,
    "start_time": "2023-06-23T11:30:11.430Z"
   },
   {
    "duration": 23,
    "start_time": "2023-06-23T11:38:59.546Z"
   },
   {
    "duration": 11,
    "start_time": "2023-06-23T11:40:35.518Z"
   },
   {
    "duration": 17,
    "start_time": "2023-06-23T11:41:11.934Z"
   },
   {
    "duration": 31,
    "start_time": "2023-06-23T11:41:33.267Z"
   },
   {
    "duration": 27,
    "start_time": "2023-06-23T11:45:47.374Z"
   },
   {
    "duration": 22,
    "start_time": "2023-06-23T11:59:54.070Z"
   },
   {
    "duration": 369,
    "start_time": "2023-06-23T12:31:43.730Z"
   },
   {
    "duration": 1217,
    "start_time": "2023-06-23T12:32:22.730Z"
   },
   {
    "duration": 75,
    "start_time": "2023-06-23T12:32:23.951Z"
   },
   {
    "duration": 31,
    "start_time": "2023-06-23T12:32:24.030Z"
   },
   {
    "duration": 27,
    "start_time": "2023-06-23T12:32:24.063Z"
   },
   {
    "duration": 26,
    "start_time": "2023-06-23T12:32:24.093Z"
   },
   {
    "duration": 34,
    "start_time": "2023-06-23T12:32:24.121Z"
   },
   {
    "duration": 18,
    "start_time": "2023-06-23T12:32:24.158Z"
   },
   {
    "duration": 37,
    "start_time": "2023-06-23T12:32:24.178Z"
   },
   {
    "duration": 11,
    "start_time": "2023-06-23T12:32:24.218Z"
   },
   {
    "duration": 254,
    "start_time": "2023-06-23T12:32:24.232Z"
   },
   {
    "duration": 114,
    "start_time": "2023-06-23T12:32:24.488Z"
   },
   {
    "duration": 243,
    "start_time": "2023-06-23T12:32:24.604Z"
   },
   {
    "duration": 419,
    "start_time": "2023-06-23T12:32:24.849Z"
   },
   {
    "duration": 382,
    "start_time": "2023-06-23T12:32:25.270Z"
   },
   {
    "duration": 39,
    "start_time": "2023-06-23T12:32:25.654Z"
   },
   {
    "duration": 13,
    "start_time": "2023-06-23T12:32:25.695Z"
   },
   {
    "duration": 653,
    "start_time": "2023-06-23T12:32:25.710Z"
   },
   {
    "duration": 395,
    "start_time": "2023-06-23T12:32:26.366Z"
   },
   {
    "duration": 445,
    "start_time": "2023-06-23T12:32:26.762Z"
   },
   {
    "duration": 0,
    "start_time": "2023-06-23T12:32:27.209Z"
   },
   {
    "duration": 0,
    "start_time": "2023-06-23T12:32:27.210Z"
   },
   {
    "duration": 0,
    "start_time": "2023-06-23T12:32:27.211Z"
   },
   {
    "duration": 0,
    "start_time": "2023-06-23T12:32:27.212Z"
   },
   {
    "duration": 0,
    "start_time": "2023-06-23T12:32:27.213Z"
   },
   {
    "duration": 0,
    "start_time": "2023-06-23T12:32:27.214Z"
   },
   {
    "duration": 0,
    "start_time": "2023-06-23T12:32:27.215Z"
   },
   {
    "duration": 0,
    "start_time": "2023-06-23T12:32:27.216Z"
   },
   {
    "duration": 51,
    "start_time": "2023-06-23T12:33:03.923Z"
   },
   {
    "duration": 39,
    "start_time": "2023-06-23T12:33:47.363Z"
   },
   {
    "duration": 1293,
    "start_time": "2023-06-23T12:35:05.839Z"
   },
   {
    "duration": 1190,
    "start_time": "2023-06-23T12:35:49.233Z"
   },
   {
    "duration": 69,
    "start_time": "2023-06-23T12:35:50.425Z"
   },
   {
    "duration": 24,
    "start_time": "2023-06-23T12:35:50.496Z"
   },
   {
    "duration": 24,
    "start_time": "2023-06-23T12:35:50.522Z"
   },
   {
    "duration": 22,
    "start_time": "2023-06-23T12:35:50.548Z"
   },
   {
    "duration": 38,
    "start_time": "2023-06-23T12:35:50.574Z"
   },
   {
    "duration": 15,
    "start_time": "2023-06-23T12:35:50.614Z"
   },
   {
    "duration": 18,
    "start_time": "2023-06-23T12:35:50.631Z"
   },
   {
    "duration": 22,
    "start_time": "2023-06-23T12:35:50.651Z"
   },
   {
    "duration": 227,
    "start_time": "2023-06-23T12:35:50.675Z"
   },
   {
    "duration": 112,
    "start_time": "2023-06-23T12:35:50.903Z"
   },
   {
    "duration": 196,
    "start_time": "2023-06-23T12:35:51.017Z"
   },
   {
    "duration": 333,
    "start_time": "2023-06-23T12:35:51.215Z"
   },
   {
    "duration": 355,
    "start_time": "2023-06-23T12:35:51.552Z"
   },
   {
    "duration": 33,
    "start_time": "2023-06-23T12:35:51.909Z"
   },
   {
    "duration": 31,
    "start_time": "2023-06-23T12:35:51.944Z"
   },
   {
    "duration": 649,
    "start_time": "2023-06-23T12:35:51.978Z"
   },
   {
    "duration": 439,
    "start_time": "2023-06-23T12:35:52.630Z"
   },
   {
    "duration": 49,
    "start_time": "2023-06-23T12:35:53.071Z"
   },
   {
    "duration": 23,
    "start_time": "2023-06-23T12:35:53.122Z"
   },
   {
    "duration": 49,
    "start_time": "2023-06-23T12:35:53.146Z"
   },
   {
    "duration": 18,
    "start_time": "2023-06-23T12:35:53.197Z"
   },
   {
    "duration": 29,
    "start_time": "2023-06-23T12:35:53.216Z"
   },
   {
    "duration": 78,
    "start_time": "2023-06-23T12:35:53.246Z"
   },
   {
    "duration": 5,
    "start_time": "2023-06-23T12:35:53.326Z"
   },
   {
    "duration": 2135,
    "start_time": "2023-06-23T12:35:53.333Z"
   },
   {
    "duration": 1918,
    "start_time": "2023-06-23T12:35:55.469Z"
   },
   {
    "duration": 17,
    "start_time": "2023-06-23T12:45:11.737Z"
   },
   {
    "duration": 18,
    "start_time": "2023-06-23T12:46:42.188Z"
   },
   {
    "duration": 14,
    "start_time": "2023-06-23T12:46:52.172Z"
   },
   {
    "duration": 2026,
    "start_time": "2023-06-23T13:00:25.652Z"
   },
   {
    "duration": 5,
    "start_time": "2023-06-23T13:03:03.210Z"
   },
   {
    "duration": 40,
    "start_time": "2023-06-23T13:06:01.253Z"
   },
   {
    "duration": 1148,
    "start_time": "2023-06-23T14:02:33.093Z"
   },
   {
    "duration": 82,
    "start_time": "2023-06-23T14:02:34.243Z"
   },
   {
    "duration": 20,
    "start_time": "2023-06-23T14:02:34.327Z"
   },
   {
    "duration": 16,
    "start_time": "2023-06-23T14:02:34.349Z"
   },
   {
    "duration": 18,
    "start_time": "2023-06-23T14:02:34.367Z"
   },
   {
    "duration": 16,
    "start_time": "2023-06-23T14:02:34.387Z"
   },
   {
    "duration": 11,
    "start_time": "2023-06-23T14:02:34.405Z"
   },
   {
    "duration": 12,
    "start_time": "2023-06-23T14:02:34.418Z"
   },
   {
    "duration": 22,
    "start_time": "2023-06-23T14:02:34.432Z"
   },
   {
    "duration": 198,
    "start_time": "2023-06-23T14:02:34.456Z"
   },
   {
    "duration": 104,
    "start_time": "2023-06-23T14:02:34.656Z"
   },
   {
    "duration": 159,
    "start_time": "2023-06-23T14:02:34.761Z"
   },
   {
    "duration": 313,
    "start_time": "2023-06-23T14:02:34.921Z"
   },
   {
    "duration": 292,
    "start_time": "2023-06-23T14:02:35.236Z"
   },
   {
    "duration": 28,
    "start_time": "2023-06-23T14:02:35.529Z"
   },
   {
    "duration": 25,
    "start_time": "2023-06-23T14:02:35.558Z"
   },
   {
    "duration": 565,
    "start_time": "2023-06-23T14:02:35.585Z"
   },
   {
    "duration": 332,
    "start_time": "2023-06-23T14:02:36.151Z"
   },
   {
    "duration": 33,
    "start_time": "2023-06-23T14:02:36.484Z"
   },
   {
    "duration": 85,
    "start_time": "2023-06-23T14:02:36.518Z"
   },
   {
    "duration": 26,
    "start_time": "2023-06-23T14:02:36.604Z"
   },
   {
    "duration": 13,
    "start_time": "2023-06-23T14:02:36.632Z"
   },
   {
    "duration": 12,
    "start_time": "2023-06-23T14:02:36.647Z"
   },
   {
    "duration": 82,
    "start_time": "2023-06-23T14:02:36.660Z"
   },
   {
    "duration": 4,
    "start_time": "2023-06-23T14:02:36.743Z"
   },
   {
    "duration": 1950,
    "start_time": "2023-06-23T14:02:36.749Z"
   },
   {
    "duration": 1717,
    "start_time": "2023-06-23T14:02:38.701Z"
   },
   {
    "duration": 7,
    "start_time": "2023-06-23T14:08:44.781Z"
   },
   {
    "duration": 1111,
    "start_time": "2023-06-23T14:09:31.181Z"
   },
   {
    "duration": 68,
    "start_time": "2023-06-23T14:09:32.294Z"
   },
   {
    "duration": 33,
    "start_time": "2023-06-23T14:09:32.364Z"
   },
   {
    "duration": 43,
    "start_time": "2023-06-23T14:09:32.399Z"
   },
   {
    "duration": 6,
    "start_time": "2023-06-23T14:09:32.444Z"
   },
   {
    "duration": 32,
    "start_time": "2023-06-23T14:09:32.452Z"
   },
   {
    "duration": 8,
    "start_time": "2023-06-23T14:09:32.486Z"
   },
   {
    "duration": 22,
    "start_time": "2023-06-23T14:09:32.495Z"
   },
   {
    "duration": 13,
    "start_time": "2023-06-23T14:09:32.519Z"
   },
   {
    "duration": 192,
    "start_time": "2023-06-23T14:09:32.533Z"
   },
   {
    "duration": 103,
    "start_time": "2023-06-23T14:09:32.727Z"
   },
   {
    "duration": 182,
    "start_time": "2023-06-23T14:09:32.832Z"
   },
   {
    "duration": 312,
    "start_time": "2023-06-23T14:09:33.016Z"
   },
   {
    "duration": 311,
    "start_time": "2023-06-23T14:09:33.331Z"
   },
   {
    "duration": 40,
    "start_time": "2023-06-23T14:09:33.644Z"
   },
   {
    "duration": 12,
    "start_time": "2023-06-23T14:09:33.686Z"
   },
   {
    "duration": 635,
    "start_time": "2023-06-23T14:09:33.700Z"
   },
   {
    "duration": 345,
    "start_time": "2023-06-23T14:09:34.337Z"
   },
   {
    "duration": 32,
    "start_time": "2023-06-23T14:09:34.684Z"
   },
   {
    "duration": 18,
    "start_time": "2023-06-23T14:09:34.717Z"
   },
   {
    "duration": 13,
    "start_time": "2023-06-23T14:09:34.737Z"
   },
   {
    "duration": 36,
    "start_time": "2023-06-23T14:09:34.752Z"
   },
   {
    "duration": 13,
    "start_time": "2023-06-23T14:09:34.789Z"
   },
   {
    "duration": 64,
    "start_time": "2023-06-23T14:09:34.804Z"
   },
   {
    "duration": 5,
    "start_time": "2023-06-23T14:09:34.872Z"
   },
   {
    "duration": 1777,
    "start_time": "2023-06-23T14:09:34.883Z"
   },
   {
    "duration": 1675,
    "start_time": "2023-06-23T14:09:36.662Z"
   },
   {
    "duration": 1077,
    "start_time": "2023-06-23T14:20:09.102Z"
   },
   {
    "duration": 65,
    "start_time": "2023-06-23T14:20:10.181Z"
   },
   {
    "duration": 22,
    "start_time": "2023-06-23T14:20:10.247Z"
   },
   {
    "duration": 18,
    "start_time": "2023-06-23T14:20:10.270Z"
   },
   {
    "duration": 8,
    "start_time": "2023-06-23T14:20:10.291Z"
   },
   {
    "duration": 17,
    "start_time": "2023-06-23T14:20:10.301Z"
   },
   {
    "duration": 7,
    "start_time": "2023-06-23T14:20:10.319Z"
   },
   {
    "duration": 6,
    "start_time": "2023-06-23T14:20:10.328Z"
   },
   {
    "duration": 43,
    "start_time": "2023-06-23T14:20:10.335Z"
   },
   {
    "duration": 210,
    "start_time": "2023-06-23T14:20:10.381Z"
   },
   {
    "duration": 88,
    "start_time": "2023-06-23T14:20:10.593Z"
   },
   {
    "duration": 163,
    "start_time": "2023-06-23T14:20:10.682Z"
   },
   {
    "duration": 317,
    "start_time": "2023-06-23T14:20:10.846Z"
   },
   {
    "duration": 282,
    "start_time": "2023-06-23T14:20:11.171Z"
   },
   {
    "duration": 36,
    "start_time": "2023-06-23T14:20:11.455Z"
   },
   {
    "duration": 11,
    "start_time": "2023-06-23T14:20:11.493Z"
   },
   {
    "duration": 546,
    "start_time": "2023-06-23T14:20:11.506Z"
   },
   {
    "duration": 334,
    "start_time": "2023-06-23T14:20:12.053Z"
   },
   {
    "duration": 33,
    "start_time": "2023-06-23T14:20:12.388Z"
   },
   {
    "duration": 18,
    "start_time": "2023-06-23T14:20:12.423Z"
   },
   {
    "duration": 40,
    "start_time": "2023-06-23T14:20:12.442Z"
   },
   {
    "duration": 14,
    "start_time": "2023-06-23T14:20:12.484Z"
   },
   {
    "duration": 12,
    "start_time": "2023-06-23T14:20:12.500Z"
   },
   {
    "duration": 71,
    "start_time": "2023-06-23T14:20:12.514Z"
   },
   {
    "duration": 4,
    "start_time": "2023-06-23T14:20:12.587Z"
   },
   {
    "duration": 1866,
    "start_time": "2023-06-23T14:20:12.593Z"
   },
   {
    "duration": 1743,
    "start_time": "2023-06-23T14:20:14.461Z"
   },
   {
    "duration": 52,
    "start_time": "2023-06-23T17:03:02.029Z"
   },
   {
    "duration": 1334,
    "start_time": "2023-06-23T17:03:18.791Z"
   },
   {
    "duration": 314,
    "start_time": "2023-06-23T17:03:20.127Z"
   },
   {
    "duration": 24,
    "start_time": "2023-06-23T17:03:20.443Z"
   },
   {
    "duration": 33,
    "start_time": "2023-06-23T17:03:20.470Z"
   },
   {
    "duration": 7,
    "start_time": "2023-06-23T17:03:20.505Z"
   },
   {
    "duration": 30,
    "start_time": "2023-06-23T17:03:20.514Z"
   },
   {
    "duration": 8,
    "start_time": "2023-06-23T17:03:20.546Z"
   },
   {
    "duration": 16,
    "start_time": "2023-06-23T17:03:20.555Z"
   },
   {
    "duration": 16,
    "start_time": "2023-06-23T17:03:20.572Z"
   },
   {
    "duration": 219,
    "start_time": "2023-06-23T17:03:20.590Z"
   },
   {
    "duration": 115,
    "start_time": "2023-06-23T17:03:20.811Z"
   },
   {
    "duration": 194,
    "start_time": "2023-06-23T17:03:20.929Z"
   },
   {
    "duration": 329,
    "start_time": "2023-06-23T17:03:21.125Z"
   },
   {
    "duration": 104,
    "start_time": "2023-06-23T17:03:21.456Z"
   },
   {
    "duration": 0,
    "start_time": "2023-06-23T17:03:21.567Z"
   },
   {
    "duration": 0,
    "start_time": "2023-06-23T17:03:21.569Z"
   },
   {
    "duration": 0,
    "start_time": "2023-06-23T17:03:21.570Z"
   },
   {
    "duration": 0,
    "start_time": "2023-06-23T17:03:21.572Z"
   },
   {
    "duration": 0,
    "start_time": "2023-06-23T17:03:21.572Z"
   },
   {
    "duration": 0,
    "start_time": "2023-06-23T17:03:21.573Z"
   },
   {
    "duration": 0,
    "start_time": "2023-06-23T17:03:21.574Z"
   },
   {
    "duration": 0,
    "start_time": "2023-06-23T17:03:21.576Z"
   },
   {
    "duration": 0,
    "start_time": "2023-06-23T17:03:21.577Z"
   },
   {
    "duration": 0,
    "start_time": "2023-06-23T17:03:21.578Z"
   },
   {
    "duration": 0,
    "start_time": "2023-06-23T17:03:21.579Z"
   },
   {
    "duration": 0,
    "start_time": "2023-06-23T17:03:21.580Z"
   },
   {
    "duration": 0,
    "start_time": "2023-06-23T17:03:21.581Z"
   },
   {
    "duration": 0,
    "start_time": "2023-06-23T17:03:21.582Z"
   },
   {
    "duration": 18,
    "start_time": "2023-06-23T17:04:22.292Z"
   },
   {
    "duration": 17,
    "start_time": "2023-06-23T17:04:37.792Z"
   },
   {
    "duration": 25,
    "start_time": "2023-06-23T17:04:50.493Z"
   },
   {
    "duration": 16,
    "start_time": "2023-06-23T17:05:28.171Z"
   },
   {
    "duration": 19,
    "start_time": "2023-06-23T17:11:33.409Z"
   },
   {
    "duration": 25,
    "start_time": "2023-06-23T17:13:08.932Z"
   },
   {
    "duration": 327,
    "start_time": "2023-06-23T17:16:36.063Z"
   },
   {
    "duration": 11,
    "start_time": "2023-06-23T17:23:48.243Z"
   },
   {
    "duration": 21,
    "start_time": "2023-06-23T17:24:20.811Z"
   },
   {
    "duration": 17,
    "start_time": "2023-06-23T17:24:34.294Z"
   },
   {
    "duration": 31,
    "start_time": "2023-06-23T17:28:27.320Z"
   },
   {
    "duration": 1250,
    "start_time": "2023-06-23T17:28:52.637Z"
   },
   {
    "duration": 78,
    "start_time": "2023-06-23T17:28:53.901Z"
   },
   {
    "duration": 34,
    "start_time": "2023-06-23T17:28:53.981Z"
   },
   {
    "duration": 31,
    "start_time": "2023-06-23T17:28:54.017Z"
   },
   {
    "duration": 10,
    "start_time": "2023-06-23T17:28:54.069Z"
   },
   {
    "duration": 55,
    "start_time": "2023-06-23T17:28:54.082Z"
   },
   {
    "duration": 9,
    "start_time": "2023-06-23T17:28:54.140Z"
   },
   {
    "duration": 23,
    "start_time": "2023-06-23T17:28:54.152Z"
   },
   {
    "duration": 17,
    "start_time": "2023-06-23T17:28:54.177Z"
   },
   {
    "duration": 32,
    "start_time": "2023-06-23T17:28:54.197Z"
   },
   {
    "duration": 280,
    "start_time": "2023-06-23T17:28:54.231Z"
   },
   {
    "duration": 136,
    "start_time": "2023-06-23T17:28:54.515Z"
   },
   {
    "duration": 187,
    "start_time": "2023-06-23T17:28:54.653Z"
   },
   {
    "duration": 378,
    "start_time": "2023-06-23T17:28:54.844Z"
   },
   {
    "duration": 392,
    "start_time": "2023-06-23T17:28:55.224Z"
   },
   {
    "duration": 55,
    "start_time": "2023-06-23T17:28:55.619Z"
   },
   {
    "duration": 122,
    "start_time": "2023-06-23T17:28:55.677Z"
   },
   {
    "duration": 775,
    "start_time": "2023-06-23T17:28:55.801Z"
   },
   {
    "duration": 394,
    "start_time": "2023-06-23T17:28:56.578Z"
   },
   {
    "duration": 48,
    "start_time": "2023-06-23T17:28:56.975Z"
   },
   {
    "duration": 44,
    "start_time": "2023-06-23T17:28:57.026Z"
   },
   {
    "duration": 18,
    "start_time": "2023-06-23T17:28:57.072Z"
   },
   {
    "duration": 18,
    "start_time": "2023-06-23T17:28:57.092Z"
   },
   {
    "duration": 32,
    "start_time": "2023-06-23T17:28:57.112Z"
   },
   {
    "duration": 64,
    "start_time": "2023-06-23T17:28:57.167Z"
   },
   {
    "duration": 6,
    "start_time": "2023-06-23T17:28:57.234Z"
   },
   {
    "duration": 2181,
    "start_time": "2023-06-23T17:28:57.242Z"
   },
   {
    "duration": 1903,
    "start_time": "2023-06-23T17:28:59.426Z"
   },
   {
    "duration": 18,
    "start_time": "2023-06-23T18:05:47.659Z"
   },
   {
    "duration": 12,
    "start_time": "2023-06-23T18:11:09.002Z"
   },
   {
    "duration": 150,
    "start_time": "2023-06-23T18:12:25.102Z"
   },
   {
    "duration": 13,
    "start_time": "2023-06-23T18:12:49.417Z"
   },
   {
    "duration": 15,
    "start_time": "2023-06-23T18:16:02.841Z"
   },
   {
    "duration": 1253,
    "start_time": "2023-06-24T12:22:21.989Z"
   },
   {
    "duration": 66,
    "start_time": "2023-06-24T12:22:23.245Z"
   },
   {
    "duration": 34,
    "start_time": "2023-06-24T12:22:23.313Z"
   },
   {
    "duration": 36,
    "start_time": "2023-06-24T12:22:23.349Z"
   },
   {
    "duration": 9,
    "start_time": "2023-06-24T12:22:23.387Z"
   },
   {
    "duration": 52,
    "start_time": "2023-06-24T12:22:23.397Z"
   },
   {
    "duration": 9,
    "start_time": "2023-06-24T12:22:23.451Z"
   },
   {
    "duration": 41,
    "start_time": "2023-06-24T12:22:23.462Z"
   },
   {
    "duration": 44,
    "start_time": "2023-06-24T12:22:23.505Z"
   },
   {
    "duration": 39,
    "start_time": "2023-06-24T12:22:23.552Z"
   },
   {
    "duration": 267,
    "start_time": "2023-06-24T12:22:23.593Z"
   },
   {
    "duration": 134,
    "start_time": "2023-06-24T12:22:23.862Z"
   },
   {
    "duration": 188,
    "start_time": "2023-06-24T12:22:23.998Z"
   },
   {
    "duration": 365,
    "start_time": "2023-06-24T12:22:24.187Z"
   },
   {
    "duration": 334,
    "start_time": "2023-06-24T12:22:24.554Z"
   },
   {
    "duration": 36,
    "start_time": "2023-06-24T12:22:24.890Z"
   },
   {
    "duration": 66,
    "start_time": "2023-06-24T12:22:24.928Z"
   },
   {
    "duration": 691,
    "start_time": "2023-06-24T12:22:24.995Z"
   },
   {
    "duration": 402,
    "start_time": "2023-06-24T12:22:25.687Z"
   },
   {
    "duration": 40,
    "start_time": "2023-06-24T12:22:26.091Z"
   },
   {
    "duration": 24,
    "start_time": "2023-06-24T12:22:26.133Z"
   },
   {
    "duration": 17,
    "start_time": "2023-06-24T12:22:26.159Z"
   },
   {
    "duration": 10,
    "start_time": "2023-06-24T12:22:26.178Z"
   },
   {
    "duration": 43,
    "start_time": "2023-06-24T12:22:26.190Z"
   },
   {
    "duration": 61,
    "start_time": "2023-06-24T12:22:26.234Z"
   },
   {
    "duration": 16,
    "start_time": "2023-06-24T12:22:26.297Z"
   },
   {
    "duration": 2132,
    "start_time": "2023-06-24T12:22:26.315Z"
   },
   {
    "duration": 2122,
    "start_time": "2023-06-24T12:22:28.451Z"
   }
  ],
  "kernelspec": {
   "display_name": "Python 3 (ipykernel)",
   "language": "python",
   "name": "python3"
  },
  "language_info": {
   "codemirror_mode": {
    "name": "ipython",
    "version": 3
   },
   "file_extension": ".py",
   "mimetype": "text/x-python",
   "name": "python",
   "nbconvert_exporter": "python",
   "pygments_lexer": "ipython3",
   "version": "3.10.9"
  },
  "toc": {
   "base_numbering": 1,
   "nav_menu": {},
   "number_sections": true,
   "sideBar": true,
   "skip_h1_title": true,
   "title_cell": "Table of Contents",
   "title_sidebar": "Contents",
   "toc_cell": false,
   "toc_position": {},
   "toc_section_display": true,
   "toc_window_display": false
  }
 },
 "nbformat": 4,
 "nbformat_minor": 5
}
